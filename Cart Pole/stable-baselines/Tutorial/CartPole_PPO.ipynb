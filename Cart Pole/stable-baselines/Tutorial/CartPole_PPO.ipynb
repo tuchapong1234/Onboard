{
 "cells": [
  {
   "cell_type": "markdown",
   "metadata": {},
   "source": [
    "# Swing-Up Cart-Pole with PPO (Proximal Policy Optimization)"
   ]
  },
  {
   "cell_type": "code",
   "execution_count": 2,
   "metadata": {},
   "outputs": [],
   "source": [
    "import os\n",
    "\n",
    "import gymnasium as gym\n",
    "import numpy as np\n",
    "import matplotlib.pyplot as plt\n",
    "\n",
    "from stable_baselines3 import TD3\n",
    "from stable_baselines3 import DQN, A2C\n",
    "\n",
    "from stable_baselines3 import PPO\n",
    "from stable_baselines3.common.vec_env import DummyVecEnv, SubprocVecEnv, VecMonitor\n",
    "from stable_baselines3.common.env_util import make_vec_env\n",
    "from stable_baselines3.common.utils import set_random_seed\n",
    "\n",
    "from stable_baselines3.common import results_plotter\n",
    "from stable_baselines3.common.monitor import Monitor\n",
    "\n",
    "from stable_baselines3.common.results_plotter import load_results, ts2xy, plot_results\n",
    "from stable_baselines3.common.noise import NormalActionNoise\n",
    "from stable_baselines3.common.callbacks import BaseCallback, EvalCallback\n",
    "\n",
    "from collections import defaultdict"
   ]
  },
  {
   "cell_type": "markdown",
   "metadata": {},
   "source": [
    "Training Call back to tell\n",
    "\n",
    "Number of timesteps / Episodes\n",
    "\n",
    "Best Reward / Last Reward per episode / Mean Reward last 10 episode / Delta mean Reward"
   ]
  },
  {
   "cell_type": "code",
   "execution_count": 2,
   "metadata": {},
   "outputs": [],
   "source": [
    "class SaveOnBestTrainingRewardCallback(BaseCallback):\n",
    "    \"\"\"\n",
    "    Callback for saving a model (the check is done every ``check_freq`` steps)\n",
    "    based on the training reward (in practice, we recommend using ``EvalCallback``).\n",
    "\n",
    "    :param check_freq:\n",
    "    :param log_dir: Path to the folder where the model will be saved.\n",
    "      It must contains the file created by the ``Monitor`` wrapper.\n",
    "    :param verbose: Verbosity level: 0 for no output, 1 for info messages, 2 for debug messages\n",
    "    \"\"\"\n",
    "    def __init__(self, check_freq: int, log_dir: str, verbose: int = 1, reward_function: str = None, file_name: str = None):\n",
    "        super().__init__(verbose)\n",
    "        self.check_freq = check_freq\n",
    "        self.log_dir = log_dir\n",
    "        self.save_path = os.path.join(log_dir, \"Best Models\", reward_function, file_name)\n",
    "        self.best_reward = -np.inf\n",
    "        self.prev_mean_reward = 0.0\n",
    "\n",
    "    def _init_callback(self) -> None:\n",
    "        # Create folder if needed\n",
    "        if self.save_path is not None:\n",
    "            os.makedirs(self.save_path, exist_ok=True)\n",
    "\n",
    "    def _on_step(self) -> bool:\n",
    "        if self.n_calls % self.check_freq == 0:\n",
    "\n",
    "          # Retrieve training reward\n",
    "          x, y = ts2xy(load_results(self.log_dir), \"episodes\")\n",
    "          if len(x) > 0:\n",
    "              # Mean training reward over the last 10 episodes\n",
    "              last_ep = x[-1]\n",
    "              last_reward = y[-1] \n",
    "              mean_reward = np.mean(y[-10:])\n",
    "              delta_mearn_reward = mean_reward - self.prev_mean_reward\n",
    "              self.prev_mean_reward = mean_reward\n",
    "              if self.verbose >= 1:\n",
    "                print(f\"Num timesteps: {self.num_timesteps} - Ep: {last_ep}\")\n",
    "                print(f\"Best reward: {self.best_reward:.2f} - Last reward per episode: {last_reward:.2f} - Mean reward last 10 episode: {mean_reward:.2f} - Delta mean: {delta_mearn_reward:.2f}\")\n",
    "\n",
    "              # New best model, you could save the agent here\n",
    "              if last_reward > self.best_reward:\n",
    "                  self.best_reward = last_reward\n",
    "                  # Example for saving best model\n",
    "                  if self.verbose >= 1:\n",
    "                    print(f\"Saving new best model to {self.save_path}\")\n",
    "                  self.model.save(self.save_path)\n",
    "\n",
    "        return True"
   ]
  },
  {
   "cell_type": "markdown",
   "metadata": {},
   "source": [
    "## Training Phase"
   ]
  },
  {
   "cell_type": "code",
   "execution_count": 3,
   "metadata": {},
   "outputs": [
    {
     "data": {
      "application/vnd.jupyter.widget-view+json": {
       "model_id": "d1a3b166e8c14fe5b70d12cdb5c08b0b",
       "version_major": 2,
       "version_minor": 0
      },
      "text/plain": [
       "Output()"
      ]
     },
     "metadata": {},
     "output_type": "display_data"
    },
    {
     "data": {
      "text/html": [
       "<pre style=\"white-space:pre;overflow-x:auto;line-height:normal;font-family:Menlo,'DejaVu Sans Mono',consolas,'Courier New',monospace\">Num timesteps: 3000 - Ep: 7\n",
       "</pre>\n"
      ],
      "text/plain": [
       "Num timesteps: 3000 - Ep: 7\n"
      ]
     },
     "metadata": {},
     "output_type": "display_data"
    },
    {
     "data": {
      "text/html": [
       "<pre style=\"white-space:pre;overflow-x:auto;line-height:normal;font-family:Menlo,'DejaVu Sans Mono',consolas,'Courier New',monospace\">Best reward: -inf - Last reward per episode: -462.00 - Mean reward last 10 episode: -297.75 - Delta mean: -297.75\n",
       "</pre>\n"
      ],
      "text/plain": [
       "Best reward: -inf - Last reward per episode: -462.00 - Mean reward last 10 episode: -297.75 - Delta mean: -297.75\n"
      ]
     },
     "metadata": {},
     "output_type": "display_data"
    },
    {
     "data": {
      "text/html": [
       "<pre style=\"white-space:pre;overflow-x:auto;line-height:normal;font-family:Menlo,'DejaVu Sans Mono',consolas,'Courier New',monospace\">Saving new best model to Training\\Save Models\\PPO\\Best Models\\Sparse\\PPO_ip_3_500000\n",
       "</pre>\n"
      ],
      "text/plain": [
       "Saving new best model to Training\\Save Models\\PPO\\Best Models\\Sparse\\PPO_ip_3_500000\n"
      ]
     },
     "metadata": {},
     "output_type": "display_data"
    },
    {
     "data": {
      "text/html": [
       "<pre style=\"white-space:pre;overflow-x:auto;line-height:normal;font-family:Menlo,'DejaVu Sans Mono',consolas,'Courier New',monospace\">Num timesteps: 6000 - Ep: 19\n",
       "</pre>\n"
      ],
      "text/plain": [
       "Num timesteps: 6000 - Ep: 19\n"
      ]
     },
     "metadata": {},
     "output_type": "display_data"
    },
    {
     "data": {
      "text/html": [
       "<pre style=\"white-space:pre;overflow-x:auto;line-height:normal;font-family:Menlo,'DejaVu Sans Mono',consolas,'Courier New',monospace\">Best reward: -462.00 - Last reward per episode: -80.00 - Mean reward last 10 episode: -238.70 - Delta mean: 59.05\n",
       "</pre>\n"
      ],
      "text/plain": [
       "Best reward: -462.00 - Last reward per episode: -80.00 - Mean reward last 10 episode: -238.70 - Delta mean: 59.05\n"
      ]
     },
     "metadata": {},
     "output_type": "display_data"
    },
    {
     "data": {
      "text/html": [
       "<pre style=\"white-space:pre;overflow-x:auto;line-height:normal;font-family:Menlo,'DejaVu Sans Mono',consolas,'Courier New',monospace\">Saving new best model to Training\\Save Models\\PPO\\Best Models\\Sparse\\PPO_ip_3_500000\n",
       "</pre>\n"
      ],
      "text/plain": [
       "Saving new best model to Training\\Save Models\\PPO\\Best Models\\Sparse\\PPO_ip_3_500000\n"
      ]
     },
     "metadata": {},
     "output_type": "display_data"
    },
    {
     "data": {
      "text/html": [
       "<pre style=\"white-space:pre;overflow-x:auto;line-height:normal;font-family:Menlo,'DejaVu Sans Mono',consolas,'Courier New',monospace\">Num timesteps: 9000 - Ep: 36\n",
       "</pre>\n"
      ],
      "text/plain": [
       "Num timesteps: 9000 - Ep: 36\n"
      ]
     },
     "metadata": {},
     "output_type": "display_data"
    },
    {
     "data": {
      "text/html": [
       "<pre style=\"white-space:pre;overflow-x:auto;line-height:normal;font-family:Menlo,'DejaVu Sans Mono',consolas,'Courier New',monospace\">Best reward: -80.00 - Last reward per episode: -83.00 - Mean reward last 10 episode: -155.90 - Delta mean: 82.80\n",
       "</pre>\n"
      ],
      "text/plain": [
       "Best reward: -80.00 - Last reward per episode: -83.00 - Mean reward last 10 episode: -155.90 - Delta mean: 82.80\n"
      ]
     },
     "metadata": {},
     "output_type": "display_data"
    },
    {
     "data": {
      "text/html": [
       "<pre style=\"white-space:pre;overflow-x:auto;line-height:normal;font-family:Menlo,'DejaVu Sans Mono',consolas,'Courier New',monospace\">Num timesteps: 12000 - Ep: 54\n",
       "</pre>\n"
      ],
      "text/plain": [
       "Num timesteps: 12000 - Ep: 54\n"
      ]
     },
     "metadata": {},
     "output_type": "display_data"
    },
    {
     "data": {
      "text/html": [
       "<pre style=\"white-space:pre;overflow-x:auto;line-height:normal;font-family:Menlo,'DejaVu Sans Mono',consolas,'Courier New',monospace\">Best reward: -80.00 - Last reward per episode: -82.00 - Mean reward last 10 episode: -177.80 - Delta mean: -21.90\n",
       "</pre>\n"
      ],
      "text/plain": [
       "Best reward: -80.00 - Last reward per episode: -82.00 - Mean reward last 10 episode: -177.80 - Delta mean: -21.90\n"
      ]
     },
     "metadata": {},
     "output_type": "display_data"
    },
    {
     "data": {
      "text/html": [
       "<pre style=\"white-space:pre;overflow-x:auto;line-height:normal;font-family:Menlo,'DejaVu Sans Mono',consolas,'Courier New',monospace\">Num timesteps: 15000 - Ep: 73\n",
       "</pre>\n"
      ],
      "text/plain": [
       "Num timesteps: 15000 - Ep: 73\n"
      ]
     },
     "metadata": {},
     "output_type": "display_data"
    },
    {
     "data": {
      "text/html": [
       "<pre style=\"white-space:pre;overflow-x:auto;line-height:normal;font-family:Menlo,'DejaVu Sans Mono',consolas,'Courier New',monospace\">Best reward: -80.00 - Last reward per episode: -123.00 - Mean reward last 10 episode: -124.40 - Delta mean: 53.40\n",
       "</pre>\n"
      ],
      "text/plain": [
       "Best reward: -80.00 - Last reward per episode: -123.00 - Mean reward last 10 episode: -124.40 - Delta mean: 53.40\n"
      ]
     },
     "metadata": {},
     "output_type": "display_data"
    },
    {
     "data": {
      "text/html": [
       "<pre style=\"white-space:pre;overflow-x:auto;line-height:normal;font-family:Menlo,'DejaVu Sans Mono',consolas,'Courier New',monospace\">Num timesteps: 18000 - Ep: 98\n",
       "</pre>\n"
      ],
      "text/plain": [
       "Num timesteps: 18000 - Ep: 98\n"
      ]
     },
     "metadata": {},
     "output_type": "display_data"
    },
    {
     "data": {
      "text/html": [
       "<pre style=\"white-space:pre;overflow-x:auto;line-height:normal;font-family:Menlo,'DejaVu Sans Mono',consolas,'Courier New',monospace\">Best reward: -80.00 - Last reward per episode: -122.00 - Mean reward last 10 episode: -101.70 - Delta mean: 22.70\n",
       "</pre>\n"
      ],
      "text/plain": [
       "Best reward: -80.00 - Last reward per episode: -122.00 - Mean reward last 10 episode: -101.70 - Delta mean: 22.70\n"
      ]
     },
     "metadata": {},
     "output_type": "display_data"
    },
    {
     "data": {
      "text/html": [
       "<pre style=\"white-space:pre;overflow-x:auto;line-height:normal;font-family:Menlo,'DejaVu Sans Mono',consolas,'Courier New',monospace\">Num timesteps: 21000 - Ep: 131\n",
       "</pre>\n"
      ],
      "text/plain": [
       "Num timesteps: 21000 - Ep: 131\n"
      ]
     },
     "metadata": {},
     "output_type": "display_data"
    },
    {
     "data": {
      "text/html": [
       "<pre style=\"white-space:pre;overflow-x:auto;line-height:normal;font-family:Menlo,'DejaVu Sans Mono',consolas,'Courier New',monospace\">Best reward: -80.00 - Last reward per episode: -85.00 - Mean reward last 10 episode: -91.20 - Delta mean: 10.50\n",
       "</pre>\n"
      ],
      "text/plain": [
       "Best reward: -80.00 - Last reward per episode: -85.00 - Mean reward last 10 episode: -91.20 - Delta mean: 10.50\n"
      ]
     },
     "metadata": {},
     "output_type": "display_data"
    },
    {
     "data": {
      "text/html": [
       "<pre style=\"white-space:pre;overflow-x:auto;line-height:normal;font-family:Menlo,'DejaVu Sans Mono',consolas,'Courier New',monospace\">Num timesteps: 24000 - Ep: 163\n",
       "</pre>\n"
      ],
      "text/plain": [
       "Num timesteps: 24000 - Ep: 163\n"
      ]
     },
     "metadata": {},
     "output_type": "display_data"
    },
    {
     "data": {
      "text/html": [
       "<pre style=\"white-space:pre;overflow-x:auto;line-height:normal;font-family:Menlo,'DejaVu Sans Mono',consolas,'Courier New',monospace\">Best reward: -80.00 - Last reward per episode: -95.00 - Mean reward last 10 episode: -88.20 - Delta mean: 3.00\n",
       "</pre>\n"
      ],
      "text/plain": [
       "Best reward: -80.00 - Last reward per episode: -95.00 - Mean reward last 10 episode: -88.20 - Delta mean: 3.00\n"
      ]
     },
     "metadata": {},
     "output_type": "display_data"
    },
    {
     "data": {
      "text/html": [
       "<pre style=\"white-space:pre;overflow-x:auto;line-height:normal;font-family:Menlo,'DejaVu Sans Mono',consolas,'Courier New',monospace\">Num timesteps: 27000 - Ep: 204\n",
       "</pre>\n"
      ],
      "text/plain": [
       "Num timesteps: 27000 - Ep: 204\n"
      ]
     },
     "metadata": {},
     "output_type": "display_data"
    },
    {
     "data": {
      "text/html": [
       "<pre style=\"white-space:pre;overflow-x:auto;line-height:normal;font-family:Menlo,'DejaVu Sans Mono',consolas,'Courier New',monospace\">Best reward: -80.00 - Last reward per episode: -61.00 - Mean reward last 10 episode: -61.50 - Delta mean: 26.70\n",
       "</pre>\n"
      ],
      "text/plain": [
       "Best reward: -80.00 - Last reward per episode: -61.00 - Mean reward last 10 episode: -61.50 - Delta mean: 26.70\n"
      ]
     },
     "metadata": {},
     "output_type": "display_data"
    },
    {
     "data": {
      "text/html": [
       "<pre style=\"white-space:pre;overflow-x:auto;line-height:normal;font-family:Menlo,'DejaVu Sans Mono',consolas,'Courier New',monospace\">Saving new best model to Training\\Save Models\\PPO\\Best Models\\Sparse\\PPO_ip_3_500000\n",
       "</pre>\n"
      ],
      "text/plain": [
       "Saving new best model to Training\\Save Models\\PPO\\Best Models\\Sparse\\PPO_ip_3_500000\n"
      ]
     },
     "metadata": {},
     "output_type": "display_data"
    },
    {
     "data": {
      "text/html": [
       "<pre style=\"white-space:pre;overflow-x:auto;line-height:normal;font-family:Menlo,'DejaVu Sans Mono',consolas,'Courier New',monospace\">Num timesteps: 30000 - Ep: 245\n",
       "</pre>\n"
      ],
      "text/plain": [
       "Num timesteps: 30000 - Ep: 245\n"
      ]
     },
     "metadata": {},
     "output_type": "display_data"
    },
    {
     "data": {
      "text/html": [
       "<pre style=\"white-space:pre;overflow-x:auto;line-height:normal;font-family:Menlo,'DejaVu Sans Mono',consolas,'Courier New',monospace\">Best reward: -61.00 - Last reward per episode: -84.00 - Mean reward last 10 episode: -74.20 - Delta mean: -12.70\n",
       "</pre>\n"
      ],
      "text/plain": [
       "Best reward: -61.00 - Last reward per episode: -84.00 - Mean reward last 10 episode: -74.20 - Delta mean: -12.70\n"
      ]
     },
     "metadata": {},
     "output_type": "display_data"
    },
    {
     "data": {
      "text/html": [
       "<pre style=\"white-space:pre;overflow-x:auto;line-height:normal;font-family:Menlo,'DejaVu Sans Mono',consolas,'Courier New',monospace\">Num timesteps: 33000 - Ep: 292\n",
       "</pre>\n"
      ],
      "text/plain": [
       "Num timesteps: 33000 - Ep: 292\n"
      ]
     },
     "metadata": {},
     "output_type": "display_data"
    },
    {
     "data": {
      "text/html": [
       "<pre style=\"white-space:pre;overflow-x:auto;line-height:normal;font-family:Menlo,'DejaVu Sans Mono',consolas,'Courier New',monospace\">Best reward: -61.00 - Last reward per episode: -50.00 - Mean reward last 10 episode: -59.40 - Delta mean: 14.80\n",
       "</pre>\n"
      ],
      "text/plain": [
       "Best reward: -61.00 - Last reward per episode: -50.00 - Mean reward last 10 episode: -59.40 - Delta mean: 14.80\n"
      ]
     },
     "metadata": {},
     "output_type": "display_data"
    },
    {
     "data": {
      "text/html": [
       "<pre style=\"white-space:pre;overflow-x:auto;line-height:normal;font-family:Menlo,'DejaVu Sans Mono',consolas,'Courier New',monospace\">Saving new best model to Training\\Save Models\\PPO\\Best Models\\Sparse\\PPO_ip_3_500000\n",
       "</pre>\n"
      ],
      "text/plain": [
       "Saving new best model to Training\\Save Models\\PPO\\Best Models\\Sparse\\PPO_ip_3_500000\n"
      ]
     },
     "metadata": {},
     "output_type": "display_data"
    },
    {
     "data": {
      "text/html": [
       "<pre style=\"white-space:pre;overflow-x:auto;line-height:normal;font-family:Menlo,'DejaVu Sans Mono',consolas,'Courier New',monospace\">Num timesteps: 36000 - Ep: 344\n",
       "</pre>\n"
      ],
      "text/plain": [
       "Num timesteps: 36000 - Ep: 344\n"
      ]
     },
     "metadata": {},
     "output_type": "display_data"
    },
    {
     "data": {
      "text/html": [
       "<pre style=\"white-space:pre;overflow-x:auto;line-height:normal;font-family:Menlo,'DejaVu Sans Mono',consolas,'Courier New',monospace\">Best reward: -50.00 - Last reward per episode: -49.00 - Mean reward last 10 episode: -58.70 - Delta mean: 0.70\n",
       "</pre>\n"
      ],
      "text/plain": [
       "Best reward: -50.00 - Last reward per episode: -49.00 - Mean reward last 10 episode: -58.70 - Delta mean: 0.70\n"
      ]
     },
     "metadata": {},
     "output_type": "display_data"
    },
    {
     "data": {
      "text/html": [
       "<pre style=\"white-space:pre;overflow-x:auto;line-height:normal;font-family:Menlo,'DejaVu Sans Mono',consolas,'Courier New',monospace\">Saving new best model to Training\\Save Models\\PPO\\Best Models\\Sparse\\PPO_ip_3_500000\n",
       "</pre>\n"
      ],
      "text/plain": [
       "Saving new best model to Training\\Save Models\\PPO\\Best Models\\Sparse\\PPO_ip_3_500000\n"
      ]
     },
     "metadata": {},
     "output_type": "display_data"
    },
    {
     "data": {
      "text/html": [
       "<pre style=\"white-space:pre;overflow-x:auto;line-height:normal;font-family:Menlo,'DejaVu Sans Mono',consolas,'Courier New',monospace\">Num timesteps: 39000 - Ep: 399\n",
       "</pre>\n"
      ],
      "text/plain": [
       "Num timesteps: 39000 - Ep: 399\n"
      ]
     },
     "metadata": {},
     "output_type": "display_data"
    },
    {
     "data": {
      "text/html": [
       "<pre style=\"white-space:pre;overflow-x:auto;line-height:normal;font-family:Menlo,'DejaVu Sans Mono',consolas,'Courier New',monospace\">Best reward: -49.00 - Last reward per episode: -54.00 - Mean reward last 10 episode: -48.20 - Delta mean: 10.50\n",
       "</pre>\n"
      ],
      "text/plain": [
       "Best reward: -49.00 - Last reward per episode: -54.00 - Mean reward last 10 episode: -48.20 - Delta mean: 10.50\n"
      ]
     },
     "metadata": {},
     "output_type": "display_data"
    },
    {
     "data": {
      "text/html": [
       "<pre style=\"white-space:pre;overflow-x:auto;line-height:normal;font-family:Menlo,'DejaVu Sans Mono',consolas,'Courier New',monospace\">Num timesteps: 42000 - Ep: 455\n",
       "</pre>\n"
      ],
      "text/plain": [
       "Num timesteps: 42000 - Ep: 455\n"
      ]
     },
     "metadata": {},
     "output_type": "display_data"
    },
    {
     "data": {
      "text/html": [
       "<pre style=\"white-space:pre;overflow-x:auto;line-height:normal;font-family:Menlo,'DejaVu Sans Mono',consolas,'Courier New',monospace\">Best reward: -49.00 - Last reward per episode: -52.00 - Mean reward last 10 episode: -48.80 - Delta mean: -0.60\n",
       "</pre>\n"
      ],
      "text/plain": [
       "Best reward: -49.00 - Last reward per episode: -52.00 - Mean reward last 10 episode: -48.80 - Delta mean: -0.60\n"
      ]
     },
     "metadata": {},
     "output_type": "display_data"
    },
    {
     "data": {
      "text/html": [
       "<pre style=\"white-space:pre;overflow-x:auto;line-height:normal;font-family:Menlo,'DejaVu Sans Mono',consolas,'Courier New',monospace\">Num timesteps: 45000 - Ep: 516\n",
       "</pre>\n"
      ],
      "text/plain": [
       "Num timesteps: 45000 - Ep: 516\n"
      ]
     },
     "metadata": {},
     "output_type": "display_data"
    },
    {
     "data": {
      "text/html": [
       "<pre style=\"white-space:pre;overflow-x:auto;line-height:normal;font-family:Menlo,'DejaVu Sans Mono',consolas,'Courier New',monospace\">Best reward: -49.00 - Last reward per episode: -46.00 - Mean reward last 10 episode: -47.60 - Delta mean: 1.20\n",
       "</pre>\n"
      ],
      "text/plain": [
       "Best reward: -49.00 - Last reward per episode: -46.00 - Mean reward last 10 episode: -47.60 - Delta mean: 1.20\n"
      ]
     },
     "metadata": {},
     "output_type": "display_data"
    },
    {
     "data": {
      "text/html": [
       "<pre style=\"white-space:pre;overflow-x:auto;line-height:normal;font-family:Menlo,'DejaVu Sans Mono',consolas,'Courier New',monospace\">Saving new best model to Training\\Save Models\\PPO\\Best Models\\Sparse\\PPO_ip_3_500000\n",
       "</pre>\n"
      ],
      "text/plain": [
       "Saving new best model to Training\\Save Models\\PPO\\Best Models\\Sparse\\PPO_ip_3_500000\n"
      ]
     },
     "metadata": {},
     "output_type": "display_data"
    },
    {
     "data": {
      "text/html": [
       "<pre style=\"white-space:pre;overflow-x:auto;line-height:normal;font-family:Menlo,'DejaVu Sans Mono',consolas,'Courier New',monospace\">Num timesteps: 48000 - Ep: 579\n",
       "</pre>\n"
      ],
      "text/plain": [
       "Num timesteps: 48000 - Ep: 579\n"
      ]
     },
     "metadata": {},
     "output_type": "display_data"
    },
    {
     "data": {
      "text/html": [
       "<pre style=\"white-space:pre;overflow-x:auto;line-height:normal;font-family:Menlo,'DejaVu Sans Mono',consolas,'Courier New',monospace\">Best reward: -46.00 - Last reward per episode: -44.00 - Mean reward last 10 episode: -43.80 - Delta mean: 3.80\n",
       "</pre>\n"
      ],
      "text/plain": [
       "Best reward: -46.00 - Last reward per episode: -44.00 - Mean reward last 10 episode: -43.80 - Delta mean: 3.80\n"
      ]
     },
     "metadata": {},
     "output_type": "display_data"
    },
    {
     "data": {
      "text/html": [
       "<pre style=\"white-space:pre;overflow-x:auto;line-height:normal;font-family:Menlo,'DejaVu Sans Mono',consolas,'Courier New',monospace\">Saving new best model to Training\\Save Models\\PPO\\Best Models\\Sparse\\PPO_ip_3_500000\n",
       "</pre>\n"
      ],
      "text/plain": [
       "Saving new best model to Training\\Save Models\\PPO\\Best Models\\Sparse\\PPO_ip_3_500000\n"
      ]
     },
     "metadata": {},
     "output_type": "display_data"
    },
    {
     "data": {
      "text/html": [
       "<pre style=\"white-space:pre;overflow-x:auto;line-height:normal;font-family:Menlo,'DejaVu Sans Mono',consolas,'Courier New',monospace\">Num timesteps: 51000 - Ep: 646\n",
       "</pre>\n"
      ],
      "text/plain": [
       "Num timesteps: 51000 - Ep: 646\n"
      ]
     },
     "metadata": {},
     "output_type": "display_data"
    },
    {
     "data": {
      "text/html": [
       "<pre style=\"white-space:pre;overflow-x:auto;line-height:normal;font-family:Menlo,'DejaVu Sans Mono',consolas,'Courier New',monospace\">Best reward: -44.00 - Last reward per episode: -45.00 - Mean reward last 10 episode: -42.90 - Delta mean: 0.90\n",
       "</pre>\n"
      ],
      "text/plain": [
       "Best reward: -44.00 - Last reward per episode: -45.00 - Mean reward last 10 episode: -42.90 - Delta mean: 0.90\n"
      ]
     },
     "metadata": {},
     "output_type": "display_data"
    },
    {
     "data": {
      "text/html": [
       "<pre style=\"white-space:pre;overflow-x:auto;line-height:normal;font-family:Menlo,'DejaVu Sans Mono',consolas,'Courier New',monospace\">Num timesteps: 54000 - Ep: 714\n",
       "</pre>\n"
      ],
      "text/plain": [
       "Num timesteps: 54000 - Ep: 714\n"
      ]
     },
     "metadata": {},
     "output_type": "display_data"
    },
    {
     "data": {
      "text/html": [
       "<pre style=\"white-space:pre;overflow-x:auto;line-height:normal;font-family:Menlo,'DejaVu Sans Mono',consolas,'Courier New',monospace\">Best reward: -44.00 - Last reward per episode: -39.00 - Mean reward last 10 episode: -43.30 - Delta mean: -0.40\n",
       "</pre>\n"
      ],
      "text/plain": [
       "Best reward: -44.00 - Last reward per episode: -39.00 - Mean reward last 10 episode: -43.30 - Delta mean: -0.40\n"
      ]
     },
     "metadata": {},
     "output_type": "display_data"
    },
    {
     "data": {
      "text/html": [
       "<pre style=\"white-space:pre;overflow-x:auto;line-height:normal;font-family:Menlo,'DejaVu Sans Mono',consolas,'Courier New',monospace\">Saving new best model to Training\\Save Models\\PPO\\Best Models\\Sparse\\PPO_ip_3_500000\n",
       "</pre>\n"
      ],
      "text/plain": [
       "Saving new best model to Training\\Save Models\\PPO\\Best Models\\Sparse\\PPO_ip_3_500000\n"
      ]
     },
     "metadata": {},
     "output_type": "display_data"
    },
    {
     "data": {
      "text/html": [
       "<pre style=\"white-space:pre;overflow-x:auto;line-height:normal;font-family:Menlo,'DejaVu Sans Mono',consolas,'Courier New',monospace\">Num timesteps: 57000 - Ep: 783\n",
       "</pre>\n"
      ],
      "text/plain": [
       "Num timesteps: 57000 - Ep: 783\n"
      ]
     },
     "metadata": {},
     "output_type": "display_data"
    },
    {
     "data": {
      "text/html": [
       "<pre style=\"white-space:pre;overflow-x:auto;line-height:normal;font-family:Menlo,'DejaVu Sans Mono',consolas,'Courier New',monospace\">Best reward: -39.00 - Last reward per episode: -40.00 - Mean reward last 10 episode: -40.00 - Delta mean: 3.30\n",
       "</pre>\n"
      ],
      "text/plain": [
       "Best reward: -39.00 - Last reward per episode: -40.00 - Mean reward last 10 episode: -40.00 - Delta mean: 3.30\n"
      ]
     },
     "metadata": {},
     "output_type": "display_data"
    },
    {
     "data": {
      "text/html": [
       "<pre style=\"white-space:pre;overflow-x:auto;line-height:normal;font-family:Menlo,'DejaVu Sans Mono',consolas,'Courier New',monospace\">Num timesteps: 60000 - Ep: 854\n",
       "</pre>\n"
      ],
      "text/plain": [
       "Num timesteps: 60000 - Ep: 854\n"
      ]
     },
     "metadata": {},
     "output_type": "display_data"
    },
    {
     "data": {
      "text/html": [
       "<pre style=\"white-space:pre;overflow-x:auto;line-height:normal;font-family:Menlo,'DejaVu Sans Mono',consolas,'Courier New',monospace\">Best reward: -39.00 - Last reward per episode: -37.00 - Mean reward last 10 episode: -40.10 - Delta mean: -0.10\n",
       "</pre>\n"
      ],
      "text/plain": [
       "Best reward: -39.00 - Last reward per episode: -37.00 - Mean reward last 10 episode: -40.10 - Delta mean: -0.10\n"
      ]
     },
     "metadata": {},
     "output_type": "display_data"
    },
    {
     "data": {
      "text/html": [
       "<pre style=\"white-space:pre;overflow-x:auto;line-height:normal;font-family:Menlo,'DejaVu Sans Mono',consolas,'Courier New',monospace\">Saving new best model to Training\\Save Models\\PPO\\Best Models\\Sparse\\PPO_ip_3_500000\n",
       "</pre>\n"
      ],
      "text/plain": [
       "Saving new best model to Training\\Save Models\\PPO\\Best Models\\Sparse\\PPO_ip_3_500000\n"
      ]
     },
     "metadata": {},
     "output_type": "display_data"
    },
    {
     "data": {
      "text/html": [
       "<pre style=\"white-space:pre;overflow-x:auto;line-height:normal;font-family:Menlo,'DejaVu Sans Mono',consolas,'Courier New',monospace\">Num timesteps: 63000 - Ep: 928\n",
       "</pre>\n"
      ],
      "text/plain": [
       "Num timesteps: 63000 - Ep: 928\n"
      ]
     },
     "metadata": {},
     "output_type": "display_data"
    },
    {
     "data": {
      "text/html": [
       "<pre style=\"white-space:pre;overflow-x:auto;line-height:normal;font-family:Menlo,'DejaVu Sans Mono',consolas,'Courier New',monospace\">Best reward: -37.00 - Last reward per episode: -37.00 - Mean reward last 10 episode: -37.80 - Delta mean: 2.30\n",
       "</pre>\n"
      ],
      "text/plain": [
       "Best reward: -37.00 - Last reward per episode: -37.00 - Mean reward last 10 episode: -37.80 - Delta mean: 2.30\n"
      ]
     },
     "metadata": {},
     "output_type": "display_data"
    },
    {
     "data": {
      "text/html": [
       "<pre style=\"white-space:pre;overflow-x:auto;line-height:normal;font-family:Menlo,'DejaVu Sans Mono',consolas,'Courier New',monospace\">Num timesteps: 66000 - Ep: 1002\n",
       "</pre>\n"
      ],
      "text/plain": [
       "Num timesteps: 66000 - Ep: 1002\n"
      ]
     },
     "metadata": {},
     "output_type": "display_data"
    },
    {
     "data": {
      "text/html": [
       "<pre style=\"white-space:pre;overflow-x:auto;line-height:normal;font-family:Menlo,'DejaVu Sans Mono',consolas,'Courier New',monospace\">Best reward: -37.00 - Last reward per episode: -38.00 - Mean reward last 10 episode: -38.00 - Delta mean: -0.20\n",
       "</pre>\n"
      ],
      "text/plain": [
       "Best reward: -37.00 - Last reward per episode: -38.00 - Mean reward last 10 episode: -38.00 - Delta mean: -0.20\n"
      ]
     },
     "metadata": {},
     "output_type": "display_data"
    },
    {
     "data": {
      "text/html": [
       "<pre style=\"white-space:pre;overflow-x:auto;line-height:normal;font-family:Menlo,'DejaVu Sans Mono',consolas,'Courier New',monospace\">Num timesteps: 69000 - Ep: 1078\n",
       "</pre>\n"
      ],
      "text/plain": [
       "Num timesteps: 69000 - Ep: 1078\n"
      ]
     },
     "metadata": {},
     "output_type": "display_data"
    },
    {
     "data": {
      "text/html": [
       "<pre style=\"white-space:pre;overflow-x:auto;line-height:normal;font-family:Menlo,'DejaVu Sans Mono',consolas,'Courier New',monospace\">Best reward: -37.00 - Last reward per episode: -38.00 - Mean reward last 10 episode: -36.70 - Delta mean: 1.30\n",
       "</pre>\n"
      ],
      "text/plain": [
       "Best reward: -37.00 - Last reward per episode: -38.00 - Mean reward last 10 episode: -36.70 - Delta mean: 1.30\n"
      ]
     },
     "metadata": {},
     "output_type": "display_data"
    },
    {
     "data": {
      "text/html": [
       "<pre style=\"white-space:pre;overflow-x:auto;line-height:normal;font-family:Menlo,'DejaVu Sans Mono',consolas,'Courier New',monospace\">Num timesteps: 72000 - Ep: 1154\n",
       "</pre>\n"
      ],
      "text/plain": [
       "Num timesteps: 72000 - Ep: 1154\n"
      ]
     },
     "metadata": {},
     "output_type": "display_data"
    },
    {
     "data": {
      "text/html": [
       "<pre style=\"white-space:pre;overflow-x:auto;line-height:normal;font-family:Menlo,'DejaVu Sans Mono',consolas,'Courier New',monospace\">Best reward: -37.00 - Last reward per episode: -37.00 - Mean reward last 10 episode: -37.10 - Delta mean: -0.40\n",
       "</pre>\n"
      ],
      "text/plain": [
       "Best reward: -37.00 - Last reward per episode: -37.00 - Mean reward last 10 episode: -37.10 - Delta mean: -0.40\n"
      ]
     },
     "metadata": {},
     "output_type": "display_data"
    },
    {
     "data": {
      "text/html": [
       "<pre style=\"white-space:pre;overflow-x:auto;line-height:normal;font-family:Menlo,'DejaVu Sans Mono',consolas,'Courier New',monospace\">Num timesteps: 75000 - Ep: 1232\n",
       "</pre>\n"
      ],
      "text/plain": [
       "Num timesteps: 75000 - Ep: 1232\n"
      ]
     },
     "metadata": {},
     "output_type": "display_data"
    },
    {
     "data": {
      "text/html": [
       "<pre style=\"white-space:pre;overflow-x:auto;line-height:normal;font-family:Menlo,'DejaVu Sans Mono',consolas,'Courier New',monospace\">Best reward: -37.00 - Last reward per episode: -38.00 - Mean reward last 10 episode: -34.80 - Delta mean: 2.30\n",
       "</pre>\n"
      ],
      "text/plain": [
       "Best reward: -37.00 - Last reward per episode: -38.00 - Mean reward last 10 episode: -34.80 - Delta mean: 2.30\n"
      ]
     },
     "metadata": {},
     "output_type": "display_data"
    },
    {
     "data": {
      "text/html": [
       "<pre style=\"white-space:pre;overflow-x:auto;line-height:normal;font-family:Menlo,'DejaVu Sans Mono',consolas,'Courier New',monospace\">Num timesteps: 78000 - Ep: 1310\n",
       "</pre>\n"
      ],
      "text/plain": [
       "Num timesteps: 78000 - Ep: 1310\n"
      ]
     },
     "metadata": {},
     "output_type": "display_data"
    },
    {
     "data": {
      "text/html": [
       "<pre style=\"white-space:pre;overflow-x:auto;line-height:normal;font-family:Menlo,'DejaVu Sans Mono',consolas,'Courier New',monospace\">Best reward: -37.00 - Last reward per episode: -31.00 - Mean reward last 10 episode: -34.20 - Delta mean: 0.60\n",
       "</pre>\n"
      ],
      "text/plain": [
       "Best reward: -37.00 - Last reward per episode: -31.00 - Mean reward last 10 episode: -34.20 - Delta mean: 0.60\n"
      ]
     },
     "metadata": {},
     "output_type": "display_data"
    },
    {
     "data": {
      "text/html": [
       "<pre style=\"white-space:pre;overflow-x:auto;line-height:normal;font-family:Menlo,'DejaVu Sans Mono',consolas,'Courier New',monospace\">Saving new best model to Training\\Save Models\\PPO\\Best Models\\Sparse\\PPO_ip_3_500000\n",
       "</pre>\n"
      ],
      "text/plain": [
       "Saving new best model to Training\\Save Models\\PPO\\Best Models\\Sparse\\PPO_ip_3_500000\n"
      ]
     },
     "metadata": {},
     "output_type": "display_data"
    },
    {
     "data": {
      "text/html": [
       "<pre style=\"white-space:pre;overflow-x:auto;line-height:normal;font-family:Menlo,'DejaVu Sans Mono',consolas,'Courier New',monospace\">Num timesteps: 81000 - Ep: 1388\n",
       "</pre>\n"
      ],
      "text/plain": [
       "Num timesteps: 81000 - Ep: 1388\n"
      ]
     },
     "metadata": {},
     "output_type": "display_data"
    },
    {
     "data": {
      "text/html": [
       "<pre style=\"white-space:pre;overflow-x:auto;line-height:normal;font-family:Menlo,'DejaVu Sans Mono',consolas,'Courier New',monospace\">Best reward: -31.00 - Last reward per episode: -36.00 - Mean reward last 10 episode: -35.70 - Delta mean: -1.50\n",
       "</pre>\n"
      ],
      "text/plain": [
       "Best reward: -31.00 - Last reward per episode: -36.00 - Mean reward last 10 episode: -35.70 - Delta mean: -1.50\n"
      ]
     },
     "metadata": {},
     "output_type": "display_data"
    },
    {
     "data": {
      "text/html": [
       "<pre style=\"white-space:pre;overflow-x:auto;line-height:normal;font-family:Menlo,'DejaVu Sans Mono',consolas,'Courier New',monospace\">Num timesteps: 84000 - Ep: 1467\n",
       "</pre>\n"
      ],
      "text/plain": [
       "Num timesteps: 84000 - Ep: 1467\n"
      ]
     },
     "metadata": {},
     "output_type": "display_data"
    },
    {
     "data": {
      "text/html": [
       "<pre style=\"white-space:pre;overflow-x:auto;line-height:normal;font-family:Menlo,'DejaVu Sans Mono',consolas,'Courier New',monospace\">Best reward: -31.00 - Last reward per episode: -30.00 - Mean reward last 10 episode: -33.80 - Delta mean: 1.90\n",
       "</pre>\n"
      ],
      "text/plain": [
       "Best reward: -31.00 - Last reward per episode: -30.00 - Mean reward last 10 episode: -33.80 - Delta mean: 1.90\n"
      ]
     },
     "metadata": {},
     "output_type": "display_data"
    },
    {
     "data": {
      "text/html": [
       "<pre style=\"white-space:pre;overflow-x:auto;line-height:normal;font-family:Menlo,'DejaVu Sans Mono',consolas,'Courier New',monospace\">Saving new best model to Training\\Save Models\\PPO\\Best Models\\Sparse\\PPO_ip_3_500000\n",
       "</pre>\n"
      ],
      "text/plain": [
       "Saving new best model to Training\\Save Models\\PPO\\Best Models\\Sparse\\PPO_ip_3_500000\n"
      ]
     },
     "metadata": {},
     "output_type": "display_data"
    },
    {
     "data": {
      "text/html": [
       "<pre style=\"white-space:pre;overflow-x:auto;line-height:normal;font-family:Menlo,'DejaVu Sans Mono',consolas,'Courier New',monospace\">Num timesteps: 87000 - Ep: 1547\n",
       "</pre>\n"
      ],
      "text/plain": [
       "Num timesteps: 87000 - Ep: 1547\n"
      ]
     },
     "metadata": {},
     "output_type": "display_data"
    },
    {
     "data": {
      "text/html": [
       "<pre style=\"white-space:pre;overflow-x:auto;line-height:normal;font-family:Menlo,'DejaVu Sans Mono',consolas,'Courier New',monospace\">Best reward: -30.00 - Last reward per episode: -27.00 - Mean reward last 10 episode: -31.50 - Delta mean: 2.30\n",
       "</pre>\n"
      ],
      "text/plain": [
       "Best reward: -30.00 - Last reward per episode: -27.00 - Mean reward last 10 episode: -31.50 - Delta mean: 2.30\n"
      ]
     },
     "metadata": {},
     "output_type": "display_data"
    },
    {
     "data": {
      "text/html": [
       "<pre style=\"white-space:pre;overflow-x:auto;line-height:normal;font-family:Menlo,'DejaVu Sans Mono',consolas,'Courier New',monospace\">Saving new best model to Training\\Save Models\\PPO\\Best Models\\Sparse\\PPO_ip_3_500000\n",
       "</pre>\n"
      ],
      "text/plain": [
       "Saving new best model to Training\\Save Models\\PPO\\Best Models\\Sparse\\PPO_ip_3_500000\n"
      ]
     },
     "metadata": {},
     "output_type": "display_data"
    },
    {
     "data": {
      "text/html": [
       "<pre style=\"white-space:pre;overflow-x:auto;line-height:normal;font-family:Menlo,'DejaVu Sans Mono',consolas,'Courier New',monospace\">Num timesteps: 90000 - Ep: 1625\n",
       "</pre>\n"
      ],
      "text/plain": [
       "Num timesteps: 90000 - Ep: 1625\n"
      ]
     },
     "metadata": {},
     "output_type": "display_data"
    },
    {
     "data": {
      "text/html": [
       "<pre style=\"white-space:pre;overflow-x:auto;line-height:normal;font-family:Menlo,'DejaVu Sans Mono',consolas,'Courier New',monospace\">Best reward: -27.00 - Last reward per episode: -29.00 - Mean reward last 10 episode: -31.10 - Delta mean: 0.40\n",
       "</pre>\n"
      ],
      "text/plain": [
       "Best reward: -27.00 - Last reward per episode: -29.00 - Mean reward last 10 episode: -31.10 - Delta mean: 0.40\n"
      ]
     },
     "metadata": {},
     "output_type": "display_data"
    },
    {
     "data": {
      "text/html": [
       "<pre style=\"white-space:pre;overflow-x:auto;line-height:normal;font-family:Menlo,'DejaVu Sans Mono',consolas,'Courier New',monospace\">Num timesteps: 93000 - Ep: 1706\n",
       "</pre>\n"
      ],
      "text/plain": [
       "Num timesteps: 93000 - Ep: 1706\n"
      ]
     },
     "metadata": {},
     "output_type": "display_data"
    },
    {
     "data": {
      "text/html": [
       "<pre style=\"white-space:pre;overflow-x:auto;line-height:normal;font-family:Menlo,'DejaVu Sans Mono',consolas,'Courier New',monospace\">Best reward: -27.00 - Last reward per episode: -29.00 - Mean reward last 10 episode: -30.30 - Delta mean: 0.80\n",
       "</pre>\n"
      ],
      "text/plain": [
       "Best reward: -27.00 - Last reward per episode: -29.00 - Mean reward last 10 episode: -30.30 - Delta mean: 0.80\n"
      ]
     },
     "metadata": {},
     "output_type": "display_data"
    },
    {
     "data": {
      "text/html": [
       "<pre style=\"white-space:pre;overflow-x:auto;line-height:normal;font-family:Menlo,'DejaVu Sans Mono',consolas,'Courier New',monospace\">Num timesteps: 96000 - Ep: 1784\n",
       "</pre>\n"
      ],
      "text/plain": [
       "Num timesteps: 96000 - Ep: 1784\n"
      ]
     },
     "metadata": {},
     "output_type": "display_data"
    },
    {
     "data": {
      "text/html": [
       "<pre style=\"white-space:pre;overflow-x:auto;line-height:normal;font-family:Menlo,'DejaVu Sans Mono',consolas,'Courier New',monospace\">Best reward: -27.00 - Last reward per episode: -28.00 - Mean reward last 10 episode: -30.50 - Delta mean: -0.20\n",
       "</pre>\n"
      ],
      "text/plain": [
       "Best reward: -27.00 - Last reward per episode: -28.00 - Mean reward last 10 episode: -30.50 - Delta mean: -0.20\n"
      ]
     },
     "metadata": {},
     "output_type": "display_data"
    },
    {
     "data": {
      "text/html": [
       "<pre style=\"white-space:pre;overflow-x:auto;line-height:normal;font-family:Menlo,'DejaVu Sans Mono',consolas,'Courier New',monospace\">Num timesteps: 99000 - Ep: 1865\n",
       "</pre>\n"
      ],
      "text/plain": [
       "Num timesteps: 99000 - Ep: 1865\n"
      ]
     },
     "metadata": {},
     "output_type": "display_data"
    },
    {
     "data": {
      "text/html": [
       "<pre style=\"white-space:pre;overflow-x:auto;line-height:normal;font-family:Menlo,'DejaVu Sans Mono',consolas,'Courier New',monospace\">Best reward: -27.00 - Last reward per episode: -29.00 - Mean reward last 10 episode: -28.30 - Delta mean: 2.20\n",
       "</pre>\n"
      ],
      "text/plain": [
       "Best reward: -27.00 - Last reward per episode: -29.00 - Mean reward last 10 episode: -28.30 - Delta mean: 2.20\n"
      ]
     },
     "metadata": {},
     "output_type": "display_data"
    },
    {
     "data": {
      "text/html": [
       "<pre style=\"white-space:pre;overflow-x:auto;line-height:normal;font-family:Menlo,'DejaVu Sans Mono',consolas,'Courier New',monospace\">Num timesteps: 102000 - Ep: 1946\n",
       "</pre>\n"
      ],
      "text/plain": [
       "Num timesteps: 102000 - Ep: 1946\n"
      ]
     },
     "metadata": {},
     "output_type": "display_data"
    },
    {
     "data": {
      "text/html": [
       "<pre style=\"white-space:pre;overflow-x:auto;line-height:normal;font-family:Menlo,'DejaVu Sans Mono',consolas,'Courier New',monospace\">Best reward: -27.00 - Last reward per episode: -28.00 - Mean reward last 10 episode: -31.80 - Delta mean: -3.50\n",
       "</pre>\n"
      ],
      "text/plain": [
       "Best reward: -27.00 - Last reward per episode: -28.00 - Mean reward last 10 episode: -31.80 - Delta mean: -3.50\n"
      ]
     },
     "metadata": {},
     "output_type": "display_data"
    },
    {
     "data": {
      "text/html": [
       "<pre style=\"white-space:pre;overflow-x:auto;line-height:normal;font-family:Menlo,'DejaVu Sans Mono',consolas,'Courier New',monospace\">Num timesteps: 105000 - Ep: 2026\n",
       "</pre>\n"
      ],
      "text/plain": [
       "Num timesteps: 105000 - Ep: 2026\n"
      ]
     },
     "metadata": {},
     "output_type": "display_data"
    },
    {
     "data": {
      "text/html": [
       "<pre style=\"white-space:pre;overflow-x:auto;line-height:normal;font-family:Menlo,'DejaVu Sans Mono',consolas,'Courier New',monospace\">Best reward: -27.00 - Last reward per episode: -27.00 - Mean reward last 10 episode: -28.90 - Delta mean: 2.90\n",
       "</pre>\n"
      ],
      "text/plain": [
       "Best reward: -27.00 - Last reward per episode: -27.00 - Mean reward last 10 episode: -28.90 - Delta mean: 2.90\n"
      ]
     },
     "metadata": {},
     "output_type": "display_data"
    },
    {
     "data": {
      "text/html": [
       "<pre style=\"white-space:pre;overflow-x:auto;line-height:normal;font-family:Menlo,'DejaVu Sans Mono',consolas,'Courier New',monospace\">Num timesteps: 108000 - Ep: 2106\n",
       "</pre>\n"
      ],
      "text/plain": [
       "Num timesteps: 108000 - Ep: 2106\n"
      ]
     },
     "metadata": {},
     "output_type": "display_data"
    },
    {
     "data": {
      "text/html": [
       "<pre style=\"white-space:pre;overflow-x:auto;line-height:normal;font-family:Menlo,'DejaVu Sans Mono',consolas,'Courier New',monospace\">Best reward: -27.00 - Last reward per episode: -27.00 - Mean reward last 10 episode: -29.40 - Delta mean: -0.50\n",
       "</pre>\n"
      ],
      "text/plain": [
       "Best reward: -27.00 - Last reward per episode: -27.00 - Mean reward last 10 episode: -29.40 - Delta mean: -0.50\n"
      ]
     },
     "metadata": {},
     "output_type": "display_data"
    },
    {
     "data": {
      "text/html": [
       "<pre style=\"white-space:pre;overflow-x:auto;line-height:normal;font-family:Menlo,'DejaVu Sans Mono',consolas,'Courier New',monospace\">Num timesteps: 111000 - Ep: 2187\n",
       "</pre>\n"
      ],
      "text/plain": [
       "Num timesteps: 111000 - Ep: 2187\n"
      ]
     },
     "metadata": {},
     "output_type": "display_data"
    },
    {
     "data": {
      "text/html": [
       "<pre style=\"white-space:pre;overflow-x:auto;line-height:normal;font-family:Menlo,'DejaVu Sans Mono',consolas,'Courier New',monospace\">Best reward: -27.00 - Last reward per episode: -27.00 - Mean reward last 10 episode: -27.70 - Delta mean: 1.70\n",
       "</pre>\n"
      ],
      "text/plain": [
       "Best reward: -27.00 - Last reward per episode: -27.00 - Mean reward last 10 episode: -27.70 - Delta mean: 1.70\n"
      ]
     },
     "metadata": {},
     "output_type": "display_data"
    },
    {
     "data": {
      "text/html": [
       "<pre style=\"white-space:pre;overflow-x:auto;line-height:normal;font-family:Menlo,'DejaVu Sans Mono',consolas,'Courier New',monospace\">Num timesteps: 114000 - Ep: 2268\n",
       "</pre>\n"
      ],
      "text/plain": [
       "Num timesteps: 114000 - Ep: 2268\n"
      ]
     },
     "metadata": {},
     "output_type": "display_data"
    },
    {
     "data": {
      "text/html": [
       "<pre style=\"white-space:pre;overflow-x:auto;line-height:normal;font-family:Menlo,'DejaVu Sans Mono',consolas,'Courier New',monospace\">Best reward: -27.00 - Last reward per episode: -27.00 - Mean reward last 10 episode: -27.60 - Delta mean: 0.10\n",
       "</pre>\n"
      ],
      "text/plain": [
       "Best reward: -27.00 - Last reward per episode: -27.00 - Mean reward last 10 episode: -27.60 - Delta mean: 0.10\n"
      ]
     },
     "metadata": {},
     "output_type": "display_data"
    },
    {
     "data": {
      "text/html": [
       "<pre style=\"white-space:pre;overflow-x:auto;line-height:normal;font-family:Menlo,'DejaVu Sans Mono',consolas,'Courier New',monospace\">Num timesteps: 117000 - Ep: 2349\n",
       "</pre>\n"
      ],
      "text/plain": [
       "Num timesteps: 117000 - Ep: 2349\n"
      ]
     },
     "metadata": {},
     "output_type": "display_data"
    },
    {
     "data": {
      "text/html": [
       "<pre style=\"white-space:pre;overflow-x:auto;line-height:normal;font-family:Menlo,'DejaVu Sans Mono',consolas,'Courier New',monospace\">Best reward: -27.00 - Last reward per episode: -27.00 - Mean reward last 10 episode: -27.60 - Delta mean: 0.00\n",
       "</pre>\n"
      ],
      "text/plain": [
       "Best reward: -27.00 - Last reward per episode: -27.00 - Mean reward last 10 episode: -27.60 - Delta mean: 0.00\n"
      ]
     },
     "metadata": {},
     "output_type": "display_data"
    },
    {
     "data": {
      "text/html": [
       "<pre style=\"white-space:pre;overflow-x:auto;line-height:normal;font-family:Menlo,'DejaVu Sans Mono',consolas,'Courier New',monospace\">Num timesteps: 120000 - Ep: 2430\n",
       "</pre>\n"
      ],
      "text/plain": [
       "Num timesteps: 120000 - Ep: 2430\n"
      ]
     },
     "metadata": {},
     "output_type": "display_data"
    },
    {
     "data": {
      "text/html": [
       "<pre style=\"white-space:pre;overflow-x:auto;line-height:normal;font-family:Menlo,'DejaVu Sans Mono',consolas,'Courier New',monospace\">Best reward: -27.00 - Last reward per episode: -27.00 - Mean reward last 10 episode: -27.20 - Delta mean: 0.40\n",
       "</pre>\n"
      ],
      "text/plain": [
       "Best reward: -27.00 - Last reward per episode: -27.00 - Mean reward last 10 episode: -27.20 - Delta mean: 0.40\n"
      ]
     },
     "metadata": {},
     "output_type": "display_data"
    },
    {
     "data": {
      "text/html": [
       "<pre style=\"white-space:pre;overflow-x:auto;line-height:normal;font-family:Menlo,'DejaVu Sans Mono',consolas,'Courier New',monospace\">Num timesteps: 123000 - Ep: 2511\n",
       "</pre>\n"
      ],
      "text/plain": [
       "Num timesteps: 123000 - Ep: 2511\n"
      ]
     },
     "metadata": {},
     "output_type": "display_data"
    },
    {
     "data": {
      "text/html": [
       "<pre style=\"white-space:pre;overflow-x:auto;line-height:normal;font-family:Menlo,'DejaVu Sans Mono',consolas,'Courier New',monospace\">Best reward: -27.00 - Last reward per episode: -27.00 - Mean reward last 10 episode: -27.80 - Delta mean: -0.60\n",
       "</pre>\n"
      ],
      "text/plain": [
       "Best reward: -27.00 - Last reward per episode: -27.00 - Mean reward last 10 episode: -27.80 - Delta mean: -0.60\n"
      ]
     },
     "metadata": {},
     "output_type": "display_data"
    },
    {
     "data": {
      "text/html": [
       "<pre style=\"white-space:pre;overflow-x:auto;line-height:normal;font-family:Menlo,'DejaVu Sans Mono',consolas,'Courier New',monospace\">Num timesteps: 126000 - Ep: 2592\n",
       "</pre>\n"
      ],
      "text/plain": [
       "Num timesteps: 126000 - Ep: 2592\n"
      ]
     },
     "metadata": {},
     "output_type": "display_data"
    },
    {
     "data": {
      "text/html": [
       "<pre style=\"white-space:pre;overflow-x:auto;line-height:normal;font-family:Menlo,'DejaVu Sans Mono',consolas,'Courier New',monospace\">Best reward: -27.00 - Last reward per episode: -27.00 - Mean reward last 10 episode: -28.20 - Delta mean: -0.40\n",
       "</pre>\n"
      ],
      "text/plain": [
       "Best reward: -27.00 - Last reward per episode: -27.00 - Mean reward last 10 episode: -28.20 - Delta mean: -0.40\n"
      ]
     },
     "metadata": {},
     "output_type": "display_data"
    },
    {
     "data": {
      "text/html": [
       "<pre style=\"white-space:pre;overflow-x:auto;line-height:normal;font-family:Menlo,'DejaVu Sans Mono',consolas,'Courier New',monospace\">Num timesteps: 129000 - Ep: 2673\n",
       "</pre>\n"
      ],
      "text/plain": [
       "Num timesteps: 129000 - Ep: 2673\n"
      ]
     },
     "metadata": {},
     "output_type": "display_data"
    },
    {
     "data": {
      "text/html": [
       "<pre style=\"white-space:pre;overflow-x:auto;line-height:normal;font-family:Menlo,'DejaVu Sans Mono',consolas,'Courier New',monospace\">Best reward: -27.00 - Last reward per episode: -27.00 - Mean reward last 10 episode: -27.80 - Delta mean: 0.40\n",
       "</pre>\n"
      ],
      "text/plain": [
       "Best reward: -27.00 - Last reward per episode: -27.00 - Mean reward last 10 episode: -27.80 - Delta mean: 0.40\n"
      ]
     },
     "metadata": {},
     "output_type": "display_data"
    },
    {
     "data": {
      "text/html": [
       "<pre style=\"white-space:pre;overflow-x:auto;line-height:normal;font-family:Menlo,'DejaVu Sans Mono',consolas,'Courier New',monospace\">Num timesteps: 132000 - Ep: 2754\n",
       "</pre>\n"
      ],
      "text/plain": [
       "Num timesteps: 132000 - Ep: 2754\n"
      ]
     },
     "metadata": {},
     "output_type": "display_data"
    },
    {
     "data": {
      "text/html": [
       "<pre style=\"white-space:pre;overflow-x:auto;line-height:normal;font-family:Menlo,'DejaVu Sans Mono',consolas,'Courier New',monospace\">Best reward: -27.00 - Last reward per episode: -27.00 - Mean reward last 10 episode: -27.40 - Delta mean: 0.40\n",
       "</pre>\n"
      ],
      "text/plain": [
       "Best reward: -27.00 - Last reward per episode: -27.00 - Mean reward last 10 episode: -27.40 - Delta mean: 0.40\n"
      ]
     },
     "metadata": {},
     "output_type": "display_data"
    },
    {
     "data": {
      "text/html": [
       "<pre style=\"white-space:pre;overflow-x:auto;line-height:normal;font-family:Menlo,'DejaVu Sans Mono',consolas,'Courier New',monospace\">Num timesteps: 135000 - Ep: 2835\n",
       "</pre>\n"
      ],
      "text/plain": [
       "Num timesteps: 135000 - Ep: 2835\n"
      ]
     },
     "metadata": {},
     "output_type": "display_data"
    },
    {
     "data": {
      "text/html": [
       "<pre style=\"white-space:pre;overflow-x:auto;line-height:normal;font-family:Menlo,'DejaVu Sans Mono',consolas,'Courier New',monospace\">Best reward: -27.00 - Last reward per episode: -27.00 - Mean reward last 10 episode: -27.60 - Delta mean: -0.20\n",
       "</pre>\n"
      ],
      "text/plain": [
       "Best reward: -27.00 - Last reward per episode: -27.00 - Mean reward last 10 episode: -27.60 - Delta mean: -0.20\n"
      ]
     },
     "metadata": {},
     "output_type": "display_data"
    },
    {
     "data": {
      "text/html": [
       "<pre style=\"white-space:pre;overflow-x:auto;line-height:normal;font-family:Menlo,'DejaVu Sans Mono',consolas,'Courier New',monospace\">Num timesteps: 138000 - Ep: 2917\n",
       "</pre>\n"
      ],
      "text/plain": [
       "Num timesteps: 138000 - Ep: 2917\n"
      ]
     },
     "metadata": {},
     "output_type": "display_data"
    },
    {
     "data": {
      "text/html": [
       "<pre style=\"white-space:pre;overflow-x:auto;line-height:normal;font-family:Menlo,'DejaVu Sans Mono',consolas,'Courier New',monospace\">Best reward: -27.00 - Last reward per episode: -27.00 - Mean reward last 10 episode: -27.60 - Delta mean: 0.00\n",
       "</pre>\n"
      ],
      "text/plain": [
       "Best reward: -27.00 - Last reward per episode: -27.00 - Mean reward last 10 episode: -27.60 - Delta mean: 0.00\n"
      ]
     },
     "metadata": {},
     "output_type": "display_data"
    },
    {
     "data": {
      "text/html": [
       "<pre style=\"white-space:pre;overflow-x:auto;line-height:normal;font-family:Menlo,'DejaVu Sans Mono',consolas,'Courier New',monospace\">Num timesteps: 141000 - Ep: 2998\n",
       "</pre>\n"
      ],
      "text/plain": [
       "Num timesteps: 141000 - Ep: 2998\n"
      ]
     },
     "metadata": {},
     "output_type": "display_data"
    },
    {
     "data": {
      "text/html": [
       "<pre style=\"white-space:pre;overflow-x:auto;line-height:normal;font-family:Menlo,'DejaVu Sans Mono',consolas,'Courier New',monospace\">Best reward: -27.00 - Last reward per episode: -27.00 - Mean reward last 10 episode: -27.40 - Delta mean: 0.20\n",
       "</pre>\n"
      ],
      "text/plain": [
       "Best reward: -27.00 - Last reward per episode: -27.00 - Mean reward last 10 episode: -27.40 - Delta mean: 0.20\n"
      ]
     },
     "metadata": {},
     "output_type": "display_data"
    },
    {
     "data": {
      "text/html": [
       "<pre style=\"white-space:pre;overflow-x:auto;line-height:normal;font-family:Menlo,'DejaVu Sans Mono',consolas,'Courier New',monospace\">Num timesteps: 144000 - Ep: 3079\n",
       "</pre>\n"
      ],
      "text/plain": [
       "Num timesteps: 144000 - Ep: 3079\n"
      ]
     },
     "metadata": {},
     "output_type": "display_data"
    },
    {
     "data": {
      "text/html": [
       "<pre style=\"white-space:pre;overflow-x:auto;line-height:normal;font-family:Menlo,'DejaVu Sans Mono',consolas,'Courier New',monospace\">Best reward: -27.00 - Last reward per episode: -27.00 - Mean reward last 10 episode: -27.20 - Delta mean: 0.20\n",
       "</pre>\n"
      ],
      "text/plain": [
       "Best reward: -27.00 - Last reward per episode: -27.00 - Mean reward last 10 episode: -27.20 - Delta mean: 0.20\n"
      ]
     },
     "metadata": {},
     "output_type": "display_data"
    },
    {
     "data": {
      "text/html": [
       "<pre style=\"white-space:pre;overflow-x:auto;line-height:normal;font-family:Menlo,'DejaVu Sans Mono',consolas,'Courier New',monospace\">Num timesteps: 147000 - Ep: 3160\n",
       "</pre>\n"
      ],
      "text/plain": [
       "Num timesteps: 147000 - Ep: 3160\n"
      ]
     },
     "metadata": {},
     "output_type": "display_data"
    },
    {
     "data": {
      "text/html": [
       "<pre style=\"white-space:pre;overflow-x:auto;line-height:normal;font-family:Menlo,'DejaVu Sans Mono',consolas,'Courier New',monospace\">Best reward: -27.00 - Last reward per episode: -27.00 - Mean reward last 10 episode: -27.40 - Delta mean: -0.20\n",
       "</pre>\n"
      ],
      "text/plain": [
       "Best reward: -27.00 - Last reward per episode: -27.00 - Mean reward last 10 episode: -27.40 - Delta mean: -0.20\n"
      ]
     },
     "metadata": {},
     "output_type": "display_data"
    },
    {
     "data": {
      "text/html": [
       "<pre style=\"white-space:pre;overflow-x:auto;line-height:normal;font-family:Menlo,'DejaVu Sans Mono',consolas,'Courier New',monospace\">Num timesteps: 150000 - Ep: 3241\n",
       "</pre>\n"
      ],
      "text/plain": [
       "Num timesteps: 150000 - Ep: 3241\n"
      ]
     },
     "metadata": {},
     "output_type": "display_data"
    },
    {
     "data": {
      "text/html": [
       "<pre style=\"white-space:pre;overflow-x:auto;line-height:normal;font-family:Menlo,'DejaVu Sans Mono',consolas,'Courier New',monospace\">Best reward: -27.00 - Last reward per episode: -27.00 - Mean reward last 10 episode: -27.00 - Delta mean: 0.40\n",
       "</pre>\n"
      ],
      "text/plain": [
       "Best reward: -27.00 - Last reward per episode: -27.00 - Mean reward last 10 episode: -27.00 - Delta mean: 0.40\n"
      ]
     },
     "metadata": {},
     "output_type": "display_data"
    },
    {
     "data": {
      "text/html": [
       "<pre style=\"white-space:pre;overflow-x:auto;line-height:normal;font-family:Menlo,'DejaVu Sans Mono',consolas,'Courier New',monospace\">Num timesteps: 153000 - Ep: 3322\n",
       "</pre>\n"
      ],
      "text/plain": [
       "Num timesteps: 153000 - Ep: 3322\n"
      ]
     },
     "metadata": {},
     "output_type": "display_data"
    },
    {
     "data": {
      "text/html": [
       "<pre style=\"white-space:pre;overflow-x:auto;line-height:normal;font-family:Menlo,'DejaVu Sans Mono',consolas,'Courier New',monospace\">Best reward: -27.00 - Last reward per episode: -27.00 - Mean reward last 10 episode: -27.20 - Delta mean: -0.20\n",
       "</pre>\n"
      ],
      "text/plain": [
       "Best reward: -27.00 - Last reward per episode: -27.00 - Mean reward last 10 episode: -27.20 - Delta mean: -0.20\n"
      ]
     },
     "metadata": {},
     "output_type": "display_data"
    },
    {
     "data": {
      "text/html": [
       "<pre style=\"white-space:pre;overflow-x:auto;line-height:normal;font-family:Menlo,'DejaVu Sans Mono',consolas,'Courier New',monospace\">Num timesteps: 156000 - Ep: 3403\n",
       "</pre>\n"
      ],
      "text/plain": [
       "Num timesteps: 156000 - Ep: 3403\n"
      ]
     },
     "metadata": {},
     "output_type": "display_data"
    },
    {
     "data": {
      "text/html": [
       "<pre style=\"white-space:pre;overflow-x:auto;line-height:normal;font-family:Menlo,'DejaVu Sans Mono',consolas,'Courier New',monospace\">Best reward: -27.00 - Last reward per episode: -27.00 - Mean reward last 10 episode: -27.00 - Delta mean: 0.20\n",
       "</pre>\n"
      ],
      "text/plain": [
       "Best reward: -27.00 - Last reward per episode: -27.00 - Mean reward last 10 episode: -27.00 - Delta mean: 0.20\n"
      ]
     },
     "metadata": {},
     "output_type": "display_data"
    },
    {
     "data": {
      "text/html": [
       "<pre style=\"white-space:pre;overflow-x:auto;line-height:normal;font-family:Menlo,'DejaVu Sans Mono',consolas,'Courier New',monospace\">Num timesteps: 159000 - Ep: 3485\n",
       "</pre>\n"
      ],
      "text/plain": [
       "Num timesteps: 159000 - Ep: 3485\n"
      ]
     },
     "metadata": {},
     "output_type": "display_data"
    },
    {
     "data": {
      "text/html": [
       "<pre style=\"white-space:pre;overflow-x:auto;line-height:normal;font-family:Menlo,'DejaVu Sans Mono',consolas,'Courier New',monospace\">Best reward: -27.00 - Last reward per episode: -27.00 - Mean reward last 10 episode: -27.40 - Delta mean: -0.40\n",
       "</pre>\n"
      ],
      "text/plain": [
       "Best reward: -27.00 - Last reward per episode: -27.00 - Mean reward last 10 episode: -27.40 - Delta mean: -0.40\n"
      ]
     },
     "metadata": {},
     "output_type": "display_data"
    },
    {
     "data": {
      "text/html": [
       "<pre style=\"white-space:pre;overflow-x:auto;line-height:normal;font-family:Menlo,'DejaVu Sans Mono',consolas,'Courier New',monospace\">Num timesteps: 162000 - Ep: 3566\n",
       "</pre>\n"
      ],
      "text/plain": [
       "Num timesteps: 162000 - Ep: 3566\n"
      ]
     },
     "metadata": {},
     "output_type": "display_data"
    },
    {
     "data": {
      "text/html": [
       "<pre style=\"white-space:pre;overflow-x:auto;line-height:normal;font-family:Menlo,'DejaVu Sans Mono',consolas,'Courier New',monospace\">Best reward: -27.00 - Last reward per episode: -27.00 - Mean reward last 10 episode: -27.40 - Delta mean: 0.00\n",
       "</pre>\n"
      ],
      "text/plain": [
       "Best reward: -27.00 - Last reward per episode: -27.00 - Mean reward last 10 episode: -27.40 - Delta mean: 0.00\n"
      ]
     },
     "metadata": {},
     "output_type": "display_data"
    },
    {
     "data": {
      "text/html": [
       "<pre style=\"white-space:pre;overflow-x:auto;line-height:normal;font-family:Menlo,'DejaVu Sans Mono',consolas,'Courier New',monospace\">Num timesteps: 165000 - Ep: 3647\n",
       "</pre>\n"
      ],
      "text/plain": [
       "Num timesteps: 165000 - Ep: 3647\n"
      ]
     },
     "metadata": {},
     "output_type": "display_data"
    },
    {
     "data": {
      "text/html": [
       "<pre style=\"white-space:pre;overflow-x:auto;line-height:normal;font-family:Menlo,'DejaVu Sans Mono',consolas,'Courier New',monospace\">Best reward: -27.00 - Last reward per episode: -27.00 - Mean reward last 10 episode: -27.00 - Delta mean: 0.40\n",
       "</pre>\n"
      ],
      "text/plain": [
       "Best reward: -27.00 - Last reward per episode: -27.00 - Mean reward last 10 episode: -27.00 - Delta mean: 0.40\n"
      ]
     },
     "metadata": {},
     "output_type": "display_data"
    },
    {
     "data": {
      "text/html": [
       "<pre style=\"white-space:pre;overflow-x:auto;line-height:normal;font-family:Menlo,'DejaVu Sans Mono',consolas,'Courier New',monospace\">Num timesteps: 168000 - Ep: 3728\n",
       "</pre>\n"
      ],
      "text/plain": [
       "Num timesteps: 168000 - Ep: 3728\n"
      ]
     },
     "metadata": {},
     "output_type": "display_data"
    },
    {
     "data": {
      "text/html": [
       "<pre style=\"white-space:pre;overflow-x:auto;line-height:normal;font-family:Menlo,'DejaVu Sans Mono',consolas,'Courier New',monospace\">Best reward: -27.00 - Last reward per episode: -27.00 - Mean reward last 10 episode: -27.40 - Delta mean: -0.40\n",
       "</pre>\n"
      ],
      "text/plain": [
       "Best reward: -27.00 - Last reward per episode: -27.00 - Mean reward last 10 episode: -27.40 - Delta mean: -0.40\n"
      ]
     },
     "metadata": {},
     "output_type": "display_data"
    },
    {
     "data": {
      "text/html": [
       "<pre style=\"white-space:pre;overflow-x:auto;line-height:normal;font-family:Menlo,'DejaVu Sans Mono',consolas,'Courier New',monospace\">Num timesteps: 171000 - Ep: 3809\n",
       "</pre>\n"
      ],
      "text/plain": [
       "Num timesteps: 171000 - Ep: 3809\n"
      ]
     },
     "metadata": {},
     "output_type": "display_data"
    },
    {
     "data": {
      "text/html": [
       "<pre style=\"white-space:pre;overflow-x:auto;line-height:normal;font-family:Menlo,'DejaVu Sans Mono',consolas,'Courier New',monospace\">Best reward: -27.00 - Last reward per episode: -27.00 - Mean reward last 10 episode: -27.20 - Delta mean: 0.20\n",
       "</pre>\n"
      ],
      "text/plain": [
       "Best reward: -27.00 - Last reward per episode: -27.00 - Mean reward last 10 episode: -27.20 - Delta mean: 0.20\n"
      ]
     },
     "metadata": {},
     "output_type": "display_data"
    },
    {
     "data": {
      "text/html": [
       "<pre style=\"white-space:pre;overflow-x:auto;line-height:normal;font-family:Menlo,'DejaVu Sans Mono',consolas,'Courier New',monospace\">Num timesteps: 174000 - Ep: 3890\n",
       "</pre>\n"
      ],
      "text/plain": [
       "Num timesteps: 174000 - Ep: 3890\n"
      ]
     },
     "metadata": {},
     "output_type": "display_data"
    },
    {
     "data": {
      "text/html": [
       "<pre style=\"white-space:pre;overflow-x:auto;line-height:normal;font-family:Menlo,'DejaVu Sans Mono',consolas,'Courier New',monospace\">Best reward: -27.00 - Last reward per episode: -27.00 - Mean reward last 10 episode: -27.00 - Delta mean: 0.20\n",
       "</pre>\n"
      ],
      "text/plain": [
       "Best reward: -27.00 - Last reward per episode: -27.00 - Mean reward last 10 episode: -27.00 - Delta mean: 0.20\n"
      ]
     },
     "metadata": {},
     "output_type": "display_data"
    },
    {
     "data": {
      "text/html": [
       "<pre style=\"white-space:pre;overflow-x:auto;line-height:normal;font-family:Menlo,'DejaVu Sans Mono',consolas,'Courier New',monospace\">Num timesteps: 177000 - Ep: 3971\n",
       "</pre>\n"
      ],
      "text/plain": [
       "Num timesteps: 177000 - Ep: 3971\n"
      ]
     },
     "metadata": {},
     "output_type": "display_data"
    },
    {
     "data": {
      "text/html": [
       "<pre style=\"white-space:pre;overflow-x:auto;line-height:normal;font-family:Menlo,'DejaVu Sans Mono',consolas,'Courier New',monospace\">Best reward: -27.00 - Last reward per episode: -27.00 - Mean reward last 10 episode: -27.00 - Delta mean: 0.00\n",
       "</pre>\n"
      ],
      "text/plain": [
       "Best reward: -27.00 - Last reward per episode: -27.00 - Mean reward last 10 episode: -27.00 - Delta mean: 0.00\n"
      ]
     },
     "metadata": {},
     "output_type": "display_data"
    },
    {
     "data": {
      "text/html": [
       "<pre style=\"white-space:pre;overflow-x:auto;line-height:normal;font-family:Menlo,'DejaVu Sans Mono',consolas,'Courier New',monospace\">Num timesteps: 180000 - Ep: 4052\n",
       "</pre>\n"
      ],
      "text/plain": [
       "Num timesteps: 180000 - Ep: 4052\n"
      ]
     },
     "metadata": {},
     "output_type": "display_data"
    },
    {
     "data": {
      "text/html": [
       "<pre style=\"white-space:pre;overflow-x:auto;line-height:normal;font-family:Menlo,'DejaVu Sans Mono',consolas,'Courier New',monospace\">Best reward: -27.00 - Last reward per episode: -27.00 - Mean reward last 10 episode: -27.20 - Delta mean: -0.20\n",
       "</pre>\n"
      ],
      "text/plain": [
       "Best reward: -27.00 - Last reward per episode: -27.00 - Mean reward last 10 episode: -27.20 - Delta mean: -0.20\n"
      ]
     },
     "metadata": {},
     "output_type": "display_data"
    },
    {
     "data": {
      "text/html": [
       "<pre style=\"white-space:pre;overflow-x:auto;line-height:normal;font-family:Menlo,'DejaVu Sans Mono',consolas,'Courier New',monospace\">Num timesteps: 183000 - Ep: 4133\n",
       "</pre>\n"
      ],
      "text/plain": [
       "Num timesteps: 183000 - Ep: 4133\n"
      ]
     },
     "metadata": {},
     "output_type": "display_data"
    },
    {
     "data": {
      "text/html": [
       "<pre style=\"white-space:pre;overflow-x:auto;line-height:normal;font-family:Menlo,'DejaVu Sans Mono',consolas,'Courier New',monospace\">Best reward: -27.00 - Last reward per episode: -27.00 - Mean reward last 10 episode: -27.00 - Delta mean: 0.20\n",
       "</pre>\n"
      ],
      "text/plain": [
       "Best reward: -27.00 - Last reward per episode: -27.00 - Mean reward last 10 episode: -27.00 - Delta mean: 0.20\n"
      ]
     },
     "metadata": {},
     "output_type": "display_data"
    },
    {
     "data": {
      "text/html": [
       "<pre style=\"white-space:pre;overflow-x:auto;line-height:normal;font-family:Menlo,'DejaVu Sans Mono',consolas,'Courier New',monospace\">Num timesteps: 186000 - Ep: 4214\n",
       "</pre>\n"
      ],
      "text/plain": [
       "Num timesteps: 186000 - Ep: 4214\n"
      ]
     },
     "metadata": {},
     "output_type": "display_data"
    },
    {
     "data": {
      "text/html": [
       "<pre style=\"white-space:pre;overflow-x:auto;line-height:normal;font-family:Menlo,'DejaVu Sans Mono',consolas,'Courier New',monospace\">Best reward: -27.00 - Last reward per episode: -27.00 - Mean reward last 10 episode: -27.00 - Delta mean: 0.00\n",
       "</pre>\n"
      ],
      "text/plain": [
       "Best reward: -27.00 - Last reward per episode: -27.00 - Mean reward last 10 episode: -27.00 - Delta mean: 0.00\n"
      ]
     },
     "metadata": {},
     "output_type": "display_data"
    },
    {
     "data": {
      "text/html": [
       "<pre style=\"white-space:pre;overflow-x:auto;line-height:normal;font-family:Menlo,'DejaVu Sans Mono',consolas,'Courier New',monospace\">Num timesteps: 189000 - Ep: 4295\n",
       "</pre>\n"
      ],
      "text/plain": [
       "Num timesteps: 189000 - Ep: 4295\n"
      ]
     },
     "metadata": {},
     "output_type": "display_data"
    },
    {
     "data": {
      "text/html": [
       "<pre style=\"white-space:pre;overflow-x:auto;line-height:normal;font-family:Menlo,'DejaVu Sans Mono',consolas,'Courier New',monospace\">Best reward: -27.00 - Last reward per episode: -27.00 - Mean reward last 10 episode: -27.00 - Delta mean: 0.00\n",
       "</pre>\n"
      ],
      "text/plain": [
       "Best reward: -27.00 - Last reward per episode: -27.00 - Mean reward last 10 episode: -27.00 - Delta mean: 0.00\n"
      ]
     },
     "metadata": {},
     "output_type": "display_data"
    },
    {
     "data": {
      "text/html": [
       "<pre style=\"white-space:pre;overflow-x:auto;line-height:normal;font-family:Menlo,'DejaVu Sans Mono',consolas,'Courier New',monospace\">Num timesteps: 192000 - Ep: 4376\n",
       "</pre>\n"
      ],
      "text/plain": [
       "Num timesteps: 192000 - Ep: 4376\n"
      ]
     },
     "metadata": {},
     "output_type": "display_data"
    },
    {
     "data": {
      "text/html": [
       "<pre style=\"white-space:pre;overflow-x:auto;line-height:normal;font-family:Menlo,'DejaVu Sans Mono',consolas,'Courier New',monospace\">Best reward: -27.00 - Last reward per episode: -27.00 - Mean reward last 10 episode: -27.00 - Delta mean: 0.00\n",
       "</pre>\n"
      ],
      "text/plain": [
       "Best reward: -27.00 - Last reward per episode: -27.00 - Mean reward last 10 episode: -27.00 - Delta mean: 0.00\n"
      ]
     },
     "metadata": {},
     "output_type": "display_data"
    },
    {
     "data": {
      "text/html": [
       "<pre style=\"white-space:pre;overflow-x:auto;line-height:normal;font-family:Menlo,'DejaVu Sans Mono',consolas,'Courier New',monospace\">Num timesteps: 195000 - Ep: 4457\n",
       "</pre>\n"
      ],
      "text/plain": [
       "Num timesteps: 195000 - Ep: 4457\n"
      ]
     },
     "metadata": {},
     "output_type": "display_data"
    },
    {
     "data": {
      "text/html": [
       "<pre style=\"white-space:pre;overflow-x:auto;line-height:normal;font-family:Menlo,'DejaVu Sans Mono',consolas,'Courier New',monospace\">Best reward: -27.00 - Last reward per episode: -27.00 - Mean reward last 10 episode: -27.00 - Delta mean: 0.00\n",
       "</pre>\n"
      ],
      "text/plain": [
       "Best reward: -27.00 - Last reward per episode: -27.00 - Mean reward last 10 episode: -27.00 - Delta mean: 0.00\n"
      ]
     },
     "metadata": {},
     "output_type": "display_data"
    },
    {
     "data": {
      "text/html": [
       "<pre style=\"white-space:pre;overflow-x:auto;line-height:normal;font-family:Menlo,'DejaVu Sans Mono',consolas,'Courier New',monospace\">Num timesteps: 198000 - Ep: 4538\n",
       "</pre>\n"
      ],
      "text/plain": [
       "Num timesteps: 198000 - Ep: 4538\n"
      ]
     },
     "metadata": {},
     "output_type": "display_data"
    },
    {
     "data": {
      "text/html": [
       "<pre style=\"white-space:pre;overflow-x:auto;line-height:normal;font-family:Menlo,'DejaVu Sans Mono',consolas,'Courier New',monospace\">Best reward: -27.00 - Last reward per episode: -27.00 - Mean reward last 10 episode: -27.00 - Delta mean: 0.00\n",
       "</pre>\n"
      ],
      "text/plain": [
       "Best reward: -27.00 - Last reward per episode: -27.00 - Mean reward last 10 episode: -27.00 - Delta mean: 0.00\n"
      ]
     },
     "metadata": {},
     "output_type": "display_data"
    },
    {
     "data": {
      "text/html": [
       "<pre style=\"white-space:pre;overflow-x:auto;line-height:normal;font-family:Menlo,'DejaVu Sans Mono',consolas,'Courier New',monospace\">Num timesteps: 201000 - Ep: 4619\n",
       "</pre>\n"
      ],
      "text/plain": [
       "Num timesteps: 201000 - Ep: 4619\n"
      ]
     },
     "metadata": {},
     "output_type": "display_data"
    },
    {
     "data": {
      "text/html": [
       "<pre style=\"white-space:pre;overflow-x:auto;line-height:normal;font-family:Menlo,'DejaVu Sans Mono',consolas,'Courier New',monospace\">Best reward: -27.00 - Last reward per episode: -27.00 - Mean reward last 10 episode: -27.00 - Delta mean: 0.00\n",
       "</pre>\n"
      ],
      "text/plain": [
       "Best reward: -27.00 - Last reward per episode: -27.00 - Mean reward last 10 episode: -27.00 - Delta mean: 0.00\n"
      ]
     },
     "metadata": {},
     "output_type": "display_data"
    },
    {
     "data": {
      "text/html": [
       "<pre style=\"white-space:pre;overflow-x:auto;line-height:normal;font-family:Menlo,'DejaVu Sans Mono',consolas,'Courier New',monospace\">Num timesteps: 204000 - Ep: 4700\n",
       "</pre>\n"
      ],
      "text/plain": [
       "Num timesteps: 204000 - Ep: 4700\n"
      ]
     },
     "metadata": {},
     "output_type": "display_data"
    },
    {
     "data": {
      "text/html": [
       "<pre style=\"white-space:pre;overflow-x:auto;line-height:normal;font-family:Menlo,'DejaVu Sans Mono',consolas,'Courier New',monospace\">Best reward: -27.00 - Last reward per episode: -27.00 - Mean reward last 10 episode: -27.00 - Delta mean: 0.00\n",
       "</pre>\n"
      ],
      "text/plain": [
       "Best reward: -27.00 - Last reward per episode: -27.00 - Mean reward last 10 episode: -27.00 - Delta mean: 0.00\n"
      ]
     },
     "metadata": {},
     "output_type": "display_data"
    },
    {
     "data": {
      "text/html": [
       "<pre style=\"white-space:pre;overflow-x:auto;line-height:normal;font-family:Menlo,'DejaVu Sans Mono',consolas,'Courier New',monospace\">Num timesteps: 207000 - Ep: 4781\n",
       "</pre>\n"
      ],
      "text/plain": [
       "Num timesteps: 207000 - Ep: 4781\n"
      ]
     },
     "metadata": {},
     "output_type": "display_data"
    },
    {
     "data": {
      "text/html": [
       "<pre style=\"white-space:pre;overflow-x:auto;line-height:normal;font-family:Menlo,'DejaVu Sans Mono',consolas,'Courier New',monospace\">Best reward: -27.00 - Last reward per episode: -27.00 - Mean reward last 10 episode: -27.20 - Delta mean: -0.20\n",
       "</pre>\n"
      ],
      "text/plain": [
       "Best reward: -27.00 - Last reward per episode: -27.00 - Mean reward last 10 episode: -27.20 - Delta mean: -0.20\n"
      ]
     },
     "metadata": {},
     "output_type": "display_data"
    },
    {
     "data": {
      "text/html": [
       "<pre style=\"white-space:pre;overflow-x:auto;line-height:normal;font-family:Menlo,'DejaVu Sans Mono',consolas,'Courier New',monospace\">Num timesteps: 210000 - Ep: 4863\n",
       "</pre>\n"
      ],
      "text/plain": [
       "Num timesteps: 210000 - Ep: 4863\n"
      ]
     },
     "metadata": {},
     "output_type": "display_data"
    },
    {
     "data": {
      "text/html": [
       "<pre style=\"white-space:pre;overflow-x:auto;line-height:normal;font-family:Menlo,'DejaVu Sans Mono',consolas,'Courier New',monospace\">Best reward: -27.00 - Last reward per episode: -27.00 - Mean reward last 10 episode: -27.00 - Delta mean: 0.20\n",
       "</pre>\n"
      ],
      "text/plain": [
       "Best reward: -27.00 - Last reward per episode: -27.00 - Mean reward last 10 episode: -27.00 - Delta mean: 0.20\n"
      ]
     },
     "metadata": {},
     "output_type": "display_data"
    },
    {
     "data": {
      "text/html": [
       "<pre style=\"white-space:pre;overflow-x:auto;line-height:normal;font-family:Menlo,'DejaVu Sans Mono',consolas,'Courier New',monospace\">Num timesteps: 213000 - Ep: 4944\n",
       "</pre>\n"
      ],
      "text/plain": [
       "Num timesteps: 213000 - Ep: 4944\n"
      ]
     },
     "metadata": {},
     "output_type": "display_data"
    },
    {
     "data": {
      "text/html": [
       "<pre style=\"white-space:pre;overflow-x:auto;line-height:normal;font-family:Menlo,'DejaVu Sans Mono',consolas,'Courier New',monospace\">Best reward: -27.00 - Last reward per episode: -27.00 - Mean reward last 10 episode: -27.00 - Delta mean: 0.00\n",
       "</pre>\n"
      ],
      "text/plain": [
       "Best reward: -27.00 - Last reward per episode: -27.00 - Mean reward last 10 episode: -27.00 - Delta mean: 0.00\n"
      ]
     },
     "metadata": {},
     "output_type": "display_data"
    },
    {
     "data": {
      "text/html": [
       "<pre style=\"white-space:pre;overflow-x:auto;line-height:normal;font-family:Menlo,'DejaVu Sans Mono',consolas,'Courier New',monospace\">Num timesteps: 216000 - Ep: 5025\n",
       "</pre>\n"
      ],
      "text/plain": [
       "Num timesteps: 216000 - Ep: 5025\n"
      ]
     },
     "metadata": {},
     "output_type": "display_data"
    },
    {
     "data": {
      "text/html": [
       "<pre style=\"white-space:pre;overflow-x:auto;line-height:normal;font-family:Menlo,'DejaVu Sans Mono',consolas,'Courier New',monospace\">Best reward: -27.00 - Last reward per episode: -27.00 - Mean reward last 10 episode: -27.00 - Delta mean: 0.00\n",
       "</pre>\n"
      ],
      "text/plain": [
       "Best reward: -27.00 - Last reward per episode: -27.00 - Mean reward last 10 episode: -27.00 - Delta mean: 0.00\n"
      ]
     },
     "metadata": {},
     "output_type": "display_data"
    },
    {
     "data": {
      "text/html": [
       "<pre style=\"white-space:pre;overflow-x:auto;line-height:normal;font-family:Menlo,'DejaVu Sans Mono',consolas,'Courier New',monospace\">Num timesteps: 219000 - Ep: 5106\n",
       "</pre>\n"
      ],
      "text/plain": [
       "Num timesteps: 219000 - Ep: 5106\n"
      ]
     },
     "metadata": {},
     "output_type": "display_data"
    },
    {
     "data": {
      "text/html": [
       "<pre style=\"white-space:pre;overflow-x:auto;line-height:normal;font-family:Menlo,'DejaVu Sans Mono',consolas,'Courier New',monospace\">Best reward: -27.00 - Last reward per episode: -27.00 - Mean reward last 10 episode: -27.00 - Delta mean: 0.00\n",
       "</pre>\n"
      ],
      "text/plain": [
       "Best reward: -27.00 - Last reward per episode: -27.00 - Mean reward last 10 episode: -27.00 - Delta mean: 0.00\n"
      ]
     },
     "metadata": {},
     "output_type": "display_data"
    },
    {
     "data": {
      "text/html": [
       "<pre style=\"white-space:pre;overflow-x:auto;line-height:normal;font-family:Menlo,'DejaVu Sans Mono',consolas,'Courier New',monospace\">Num timesteps: 222000 - Ep: 5187\n",
       "</pre>\n"
      ],
      "text/plain": [
       "Num timesteps: 222000 - Ep: 5187\n"
      ]
     },
     "metadata": {},
     "output_type": "display_data"
    },
    {
     "data": {
      "text/html": [
       "<pre style=\"white-space:pre;overflow-x:auto;line-height:normal;font-family:Menlo,'DejaVu Sans Mono',consolas,'Courier New',monospace\">Best reward: -27.00 - Last reward per episode: -27.00 - Mean reward last 10 episode: -27.00 - Delta mean: 0.00\n",
       "</pre>\n"
      ],
      "text/plain": [
       "Best reward: -27.00 - Last reward per episode: -27.00 - Mean reward last 10 episode: -27.00 - Delta mean: 0.00\n"
      ]
     },
     "metadata": {},
     "output_type": "display_data"
    },
    {
     "data": {
      "text/html": [
       "<pre style=\"white-space:pre;overflow-x:auto;line-height:normal;font-family:Menlo,'DejaVu Sans Mono',consolas,'Courier New',monospace\">Num timesteps: 225000 - Ep: 5268\n",
       "</pre>\n"
      ],
      "text/plain": [
       "Num timesteps: 225000 - Ep: 5268\n"
      ]
     },
     "metadata": {},
     "output_type": "display_data"
    },
    {
     "data": {
      "text/html": [
       "<pre style=\"white-space:pre;overflow-x:auto;line-height:normal;font-family:Menlo,'DejaVu Sans Mono',consolas,'Courier New',monospace\">Best reward: -27.00 - Last reward per episode: -27.00 - Mean reward last 10 episode: -27.00 - Delta mean: 0.00\n",
       "</pre>\n"
      ],
      "text/plain": [
       "Best reward: -27.00 - Last reward per episode: -27.00 - Mean reward last 10 episode: -27.00 - Delta mean: 0.00\n"
      ]
     },
     "metadata": {},
     "output_type": "display_data"
    },
    {
     "data": {
      "text/html": [
       "<pre style=\"white-space:pre;overflow-x:auto;line-height:normal;font-family:Menlo,'DejaVu Sans Mono',consolas,'Courier New',monospace\">Num timesteps: 228000 - Ep: 5349\n",
       "</pre>\n"
      ],
      "text/plain": [
       "Num timesteps: 228000 - Ep: 5349\n"
      ]
     },
     "metadata": {},
     "output_type": "display_data"
    },
    {
     "data": {
      "text/html": [
       "<pre style=\"white-space:pre;overflow-x:auto;line-height:normal;font-family:Menlo,'DejaVu Sans Mono',consolas,'Courier New',monospace\">Best reward: -27.00 - Last reward per episode: -27.00 - Mean reward last 10 episode: -27.20 - Delta mean: -0.20\n",
       "</pre>\n"
      ],
      "text/plain": [
       "Best reward: -27.00 - Last reward per episode: -27.00 - Mean reward last 10 episode: -27.20 - Delta mean: -0.20\n"
      ]
     },
     "metadata": {},
     "output_type": "display_data"
    },
    {
     "data": {
      "text/html": [
       "<pre style=\"white-space:pre;overflow-x:auto;line-height:normal;font-family:Menlo,'DejaVu Sans Mono',consolas,'Courier New',monospace\">Num timesteps: 231000 - Ep: 5430\n",
       "</pre>\n"
      ],
      "text/plain": [
       "Num timesteps: 231000 - Ep: 5430\n"
      ]
     },
     "metadata": {},
     "output_type": "display_data"
    },
    {
     "data": {
      "text/html": [
       "<pre style=\"white-space:pre;overflow-x:auto;line-height:normal;font-family:Menlo,'DejaVu Sans Mono',consolas,'Courier New',monospace\">Best reward: -27.00 - Last reward per episode: -27.00 - Mean reward last 10 episode: -27.00 - Delta mean: 0.20\n",
       "</pre>\n"
      ],
      "text/plain": [
       "Best reward: -27.00 - Last reward per episode: -27.00 - Mean reward last 10 episode: -27.00 - Delta mean: 0.20\n"
      ]
     },
     "metadata": {},
     "output_type": "display_data"
    },
    {
     "data": {
      "text/html": [
       "<pre style=\"white-space:pre;overflow-x:auto;line-height:normal;font-family:Menlo,'DejaVu Sans Mono',consolas,'Courier New',monospace\">Num timesteps: 234000 - Ep: 5511\n",
       "</pre>\n"
      ],
      "text/plain": [
       "Num timesteps: 234000 - Ep: 5511\n"
      ]
     },
     "metadata": {},
     "output_type": "display_data"
    },
    {
     "data": {
      "text/html": [
       "<pre style=\"white-space:pre;overflow-x:auto;line-height:normal;font-family:Menlo,'DejaVu Sans Mono',consolas,'Courier New',monospace\">Best reward: -27.00 - Last reward per episode: -27.00 - Mean reward last 10 episode: -27.00 - Delta mean: 0.00\n",
       "</pre>\n"
      ],
      "text/plain": [
       "Best reward: -27.00 - Last reward per episode: -27.00 - Mean reward last 10 episode: -27.00 - Delta mean: 0.00\n"
      ]
     },
     "metadata": {},
     "output_type": "display_data"
    },
    {
     "data": {
      "text/html": [
       "<pre style=\"white-space:pre;overflow-x:auto;line-height:normal;font-family:Menlo,'DejaVu Sans Mono',consolas,'Courier New',monospace\">Num timesteps: 237000 - Ep: 5592\n",
       "</pre>\n"
      ],
      "text/plain": [
       "Num timesteps: 237000 - Ep: 5592\n"
      ]
     },
     "metadata": {},
     "output_type": "display_data"
    },
    {
     "data": {
      "text/html": [
       "<pre style=\"white-space:pre;overflow-x:auto;line-height:normal;font-family:Menlo,'DejaVu Sans Mono',consolas,'Courier New',monospace\">Best reward: -27.00 - Last reward per episode: -27.00 - Mean reward last 10 episode: -27.00 - Delta mean: 0.00\n",
       "</pre>\n"
      ],
      "text/plain": [
       "Best reward: -27.00 - Last reward per episode: -27.00 - Mean reward last 10 episode: -27.00 - Delta mean: 0.00\n"
      ]
     },
     "metadata": {},
     "output_type": "display_data"
    },
    {
     "data": {
      "text/html": [
       "<pre style=\"white-space:pre;overflow-x:auto;line-height:normal;font-family:Menlo,'DejaVu Sans Mono',consolas,'Courier New',monospace\">Num timesteps: 240000 - Ep: 5673\n",
       "</pre>\n"
      ],
      "text/plain": [
       "Num timesteps: 240000 - Ep: 5673\n"
      ]
     },
     "metadata": {},
     "output_type": "display_data"
    },
    {
     "data": {
      "text/html": [
       "<pre style=\"white-space:pre;overflow-x:auto;line-height:normal;font-family:Menlo,'DejaVu Sans Mono',consolas,'Courier New',monospace\">Best reward: -27.00 - Last reward per episode: -27.00 - Mean reward last 10 episode: -27.00 - Delta mean: 0.00\n",
       "</pre>\n"
      ],
      "text/plain": [
       "Best reward: -27.00 - Last reward per episode: -27.00 - Mean reward last 10 episode: -27.00 - Delta mean: 0.00\n"
      ]
     },
     "metadata": {},
     "output_type": "display_data"
    },
    {
     "data": {
      "text/html": [
       "<pre style=\"white-space:pre;overflow-x:auto;line-height:normal;font-family:Menlo,'DejaVu Sans Mono',consolas,'Courier New',monospace\">Num timesteps: 243000 - Ep: 5754\n",
       "</pre>\n"
      ],
      "text/plain": [
       "Num timesteps: 243000 - Ep: 5754\n"
      ]
     },
     "metadata": {},
     "output_type": "display_data"
    },
    {
     "data": {
      "text/html": [
       "<pre style=\"white-space:pre;overflow-x:auto;line-height:normal;font-family:Menlo,'DejaVu Sans Mono',consolas,'Courier New',monospace\">Best reward: -27.00 - Last reward per episode: -27.00 - Mean reward last 10 episode: -27.00 - Delta mean: 0.00\n",
       "</pre>\n"
      ],
      "text/plain": [
       "Best reward: -27.00 - Last reward per episode: -27.00 - Mean reward last 10 episode: -27.00 - Delta mean: 0.00\n"
      ]
     },
     "metadata": {},
     "output_type": "display_data"
    },
    {
     "data": {
      "text/html": [
       "<pre style=\"white-space:pre;overflow-x:auto;line-height:normal;font-family:Menlo,'DejaVu Sans Mono',consolas,'Courier New',monospace\">Num timesteps: 246000 - Ep: 5835\n",
       "</pre>\n"
      ],
      "text/plain": [
       "Num timesteps: 246000 - Ep: 5835\n"
      ]
     },
     "metadata": {},
     "output_type": "display_data"
    },
    {
     "data": {
      "text/html": [
       "<pre style=\"white-space:pre;overflow-x:auto;line-height:normal;font-family:Menlo,'DejaVu Sans Mono',consolas,'Courier New',monospace\">Best reward: -27.00 - Last reward per episode: -27.00 - Mean reward last 10 episode: -27.20 - Delta mean: -0.20\n",
       "</pre>\n"
      ],
      "text/plain": [
       "Best reward: -27.00 - Last reward per episode: -27.00 - Mean reward last 10 episode: -27.20 - Delta mean: -0.20\n"
      ]
     },
     "metadata": {},
     "output_type": "display_data"
    },
    {
     "data": {
      "text/html": [
       "<pre style=\"white-space:pre;overflow-x:auto;line-height:normal;font-family:Menlo,'DejaVu Sans Mono',consolas,'Courier New',monospace\">Num timesteps: 249000 - Ep: 5917\n",
       "</pre>\n"
      ],
      "text/plain": [
       "Num timesteps: 249000 - Ep: 5917\n"
      ]
     },
     "metadata": {},
     "output_type": "display_data"
    },
    {
     "data": {
      "text/html": [
       "<pre style=\"white-space:pre;overflow-x:auto;line-height:normal;font-family:Menlo,'DejaVu Sans Mono',consolas,'Courier New',monospace\">Best reward: -27.00 - Last reward per episode: -27.00 - Mean reward last 10 episode: -27.00 - Delta mean: 0.20\n",
       "</pre>\n"
      ],
      "text/plain": [
       "Best reward: -27.00 - Last reward per episode: -27.00 - Mean reward last 10 episode: -27.00 - Delta mean: 0.20\n"
      ]
     },
     "metadata": {},
     "output_type": "display_data"
    },
    {
     "data": {
      "text/html": [
       "<pre style=\"white-space:pre;overflow-x:auto;line-height:normal;font-family:Menlo,'DejaVu Sans Mono',consolas,'Courier New',monospace\">Num timesteps: 252000 - Ep: 5998\n",
       "</pre>\n"
      ],
      "text/plain": [
       "Num timesteps: 252000 - Ep: 5998\n"
      ]
     },
     "metadata": {},
     "output_type": "display_data"
    },
    {
     "data": {
      "text/html": [
       "<pre style=\"white-space:pre;overflow-x:auto;line-height:normal;font-family:Menlo,'DejaVu Sans Mono',consolas,'Courier New',monospace\">Best reward: -27.00 - Last reward per episode: -27.00 - Mean reward last 10 episode: -27.20 - Delta mean: -0.20\n",
       "</pre>\n"
      ],
      "text/plain": [
       "Best reward: -27.00 - Last reward per episode: -27.00 - Mean reward last 10 episode: -27.20 - Delta mean: -0.20\n"
      ]
     },
     "metadata": {},
     "output_type": "display_data"
    },
    {
     "data": {
      "text/html": [
       "<pre style=\"white-space:pre;overflow-x:auto;line-height:normal;font-family:Menlo,'DejaVu Sans Mono',consolas,'Courier New',monospace\">Num timesteps: 255000 - Ep: 6079\n",
       "</pre>\n"
      ],
      "text/plain": [
       "Num timesteps: 255000 - Ep: 6079\n"
      ]
     },
     "metadata": {},
     "output_type": "display_data"
    },
    {
     "data": {
      "text/html": [
       "<pre style=\"white-space:pre;overflow-x:auto;line-height:normal;font-family:Menlo,'DejaVu Sans Mono',consolas,'Courier New',monospace\">Best reward: -27.00 - Last reward per episode: -27.00 - Mean reward last 10 episode: -27.20 - Delta mean: 0.00\n",
       "</pre>\n"
      ],
      "text/plain": [
       "Best reward: -27.00 - Last reward per episode: -27.00 - Mean reward last 10 episode: -27.20 - Delta mean: 0.00\n"
      ]
     },
     "metadata": {},
     "output_type": "display_data"
    },
    {
     "data": {
      "text/html": [
       "<pre style=\"white-space:pre;overflow-x:auto;line-height:normal;font-family:Menlo,'DejaVu Sans Mono',consolas,'Courier New',monospace\">Num timesteps: 258000 - Ep: 6160\n",
       "</pre>\n"
      ],
      "text/plain": [
       "Num timesteps: 258000 - Ep: 6160\n"
      ]
     },
     "metadata": {},
     "output_type": "display_data"
    },
    {
     "data": {
      "text/html": [
       "<pre style=\"white-space:pre;overflow-x:auto;line-height:normal;font-family:Menlo,'DejaVu Sans Mono',consolas,'Courier New',monospace\">Best reward: -27.00 - Last reward per episode: -27.00 - Mean reward last 10 episode: -27.00 - Delta mean: 0.20\n",
       "</pre>\n"
      ],
      "text/plain": [
       "Best reward: -27.00 - Last reward per episode: -27.00 - Mean reward last 10 episode: -27.00 - Delta mean: 0.20\n"
      ]
     },
     "metadata": {},
     "output_type": "display_data"
    },
    {
     "data": {
      "text/html": [
       "<pre style=\"white-space:pre;overflow-x:auto;line-height:normal;font-family:Menlo,'DejaVu Sans Mono',consolas,'Courier New',monospace\">Num timesteps: 261000 - Ep: 6241\n",
       "</pre>\n"
      ],
      "text/plain": [
       "Num timesteps: 261000 - Ep: 6241\n"
      ]
     },
     "metadata": {},
     "output_type": "display_data"
    },
    {
     "data": {
      "text/html": [
       "<pre style=\"white-space:pre;overflow-x:auto;line-height:normal;font-family:Menlo,'DejaVu Sans Mono',consolas,'Courier New',monospace\">Best reward: -27.00 - Last reward per episode: -27.00 - Mean reward last 10 episode: -27.00 - Delta mean: 0.00\n",
       "</pre>\n"
      ],
      "text/plain": [
       "Best reward: -27.00 - Last reward per episode: -27.00 - Mean reward last 10 episode: -27.00 - Delta mean: 0.00\n"
      ]
     },
     "metadata": {},
     "output_type": "display_data"
    },
    {
     "data": {
      "text/html": [
       "<pre style=\"white-space:pre;overflow-x:auto;line-height:normal;font-family:Menlo,'DejaVu Sans Mono',consolas,'Courier New',monospace\">Num timesteps: 264000 - Ep: 6322\n",
       "</pre>\n"
      ],
      "text/plain": [
       "Num timesteps: 264000 - Ep: 6322\n"
      ]
     },
     "metadata": {},
     "output_type": "display_data"
    },
    {
     "data": {
      "text/html": [
       "<pre style=\"white-space:pre;overflow-x:auto;line-height:normal;font-family:Menlo,'DejaVu Sans Mono',consolas,'Courier New',monospace\">Best reward: -27.00 - Last reward per episode: -27.00 - Mean reward last 10 episode: -27.00 - Delta mean: 0.00\n",
       "</pre>\n"
      ],
      "text/plain": [
       "Best reward: -27.00 - Last reward per episode: -27.00 - Mean reward last 10 episode: -27.00 - Delta mean: 0.00\n"
      ]
     },
     "metadata": {},
     "output_type": "display_data"
    },
    {
     "data": {
      "text/html": [
       "<pre style=\"white-space:pre;overflow-x:auto;line-height:normal;font-family:Menlo,'DejaVu Sans Mono',consolas,'Courier New',monospace\">Num timesteps: 267000 - Ep: 6403\n",
       "</pre>\n"
      ],
      "text/plain": [
       "Num timesteps: 267000 - Ep: 6403\n"
      ]
     },
     "metadata": {},
     "output_type": "display_data"
    },
    {
     "data": {
      "text/html": [
       "<pre style=\"white-space:pre;overflow-x:auto;line-height:normal;font-family:Menlo,'DejaVu Sans Mono',consolas,'Courier New',monospace\">Best reward: -27.00 - Last reward per episode: -27.00 - Mean reward last 10 episode: -27.00 - Delta mean: 0.00\n",
       "</pre>\n"
      ],
      "text/plain": [
       "Best reward: -27.00 - Last reward per episode: -27.00 - Mean reward last 10 episode: -27.00 - Delta mean: 0.00\n"
      ]
     },
     "metadata": {},
     "output_type": "display_data"
    },
    {
     "data": {
      "text/html": [
       "<pre style=\"white-space:pre;overflow-x:auto;line-height:normal;font-family:Menlo,'DejaVu Sans Mono',consolas,'Courier New',monospace\">Num timesteps: 270000 - Ep: 6485\n",
       "</pre>\n"
      ],
      "text/plain": [
       "Num timesteps: 270000 - Ep: 6485\n"
      ]
     },
     "metadata": {},
     "output_type": "display_data"
    },
    {
     "data": {
      "text/html": [
       "<pre style=\"white-space:pre;overflow-x:auto;line-height:normal;font-family:Menlo,'DejaVu Sans Mono',consolas,'Courier New',monospace\">Best reward: -27.00 - Last reward per episode: -27.00 - Mean reward last 10 episode: -27.00 - Delta mean: 0.00\n",
       "</pre>\n"
      ],
      "text/plain": [
       "Best reward: -27.00 - Last reward per episode: -27.00 - Mean reward last 10 episode: -27.00 - Delta mean: 0.00\n"
      ]
     },
     "metadata": {},
     "output_type": "display_data"
    },
    {
     "data": {
      "text/html": [
       "<pre style=\"white-space:pre;overflow-x:auto;line-height:normal;font-family:Menlo,'DejaVu Sans Mono',consolas,'Courier New',monospace\">Num timesteps: 273000 - Ep: 6566\n",
       "</pre>\n"
      ],
      "text/plain": [
       "Num timesteps: 273000 - Ep: 6566\n"
      ]
     },
     "metadata": {},
     "output_type": "display_data"
    },
    {
     "data": {
      "text/html": [
       "<pre style=\"white-space:pre;overflow-x:auto;line-height:normal;font-family:Menlo,'DejaVu Sans Mono',consolas,'Courier New',monospace\">Best reward: -27.00 - Last reward per episode: -27.00 - Mean reward last 10 episode: -27.00 - Delta mean: 0.00\n",
       "</pre>\n"
      ],
      "text/plain": [
       "Best reward: -27.00 - Last reward per episode: -27.00 - Mean reward last 10 episode: -27.00 - Delta mean: 0.00\n"
      ]
     },
     "metadata": {},
     "output_type": "display_data"
    },
    {
     "data": {
      "text/html": [
       "<pre style=\"white-space:pre;overflow-x:auto;line-height:normal;font-family:Menlo,'DejaVu Sans Mono',consolas,'Courier New',monospace\">Num timesteps: 276000 - Ep: 6647\n",
       "</pre>\n"
      ],
      "text/plain": [
       "Num timesteps: 276000 - Ep: 6647\n"
      ]
     },
     "metadata": {},
     "output_type": "display_data"
    },
    {
     "data": {
      "text/html": [
       "<pre style=\"white-space:pre;overflow-x:auto;line-height:normal;font-family:Menlo,'DejaVu Sans Mono',consolas,'Courier New',monospace\">Best reward: -27.00 - Last reward per episode: -27.00 - Mean reward last 10 episode: -27.00 - Delta mean: 0.00\n",
       "</pre>\n"
      ],
      "text/plain": [
       "Best reward: -27.00 - Last reward per episode: -27.00 - Mean reward last 10 episode: -27.00 - Delta mean: 0.00\n"
      ]
     },
     "metadata": {},
     "output_type": "display_data"
    },
    {
     "data": {
      "text/html": [
       "<pre style=\"white-space:pre;overflow-x:auto;line-height:normal;font-family:Menlo,'DejaVu Sans Mono',consolas,'Courier New',monospace\">Num timesteps: 279000 - Ep: 6728\n",
       "</pre>\n"
      ],
      "text/plain": [
       "Num timesteps: 279000 - Ep: 6728\n"
      ]
     },
     "metadata": {},
     "output_type": "display_data"
    },
    {
     "data": {
      "text/html": [
       "<pre style=\"white-space:pre;overflow-x:auto;line-height:normal;font-family:Menlo,'DejaVu Sans Mono',consolas,'Courier New',monospace\">Best reward: -27.00 - Last reward per episode: -27.00 - Mean reward last 10 episode: -27.00 - Delta mean: 0.00\n",
       "</pre>\n"
      ],
      "text/plain": [
       "Best reward: -27.00 - Last reward per episode: -27.00 - Mean reward last 10 episode: -27.00 - Delta mean: 0.00\n"
      ]
     },
     "metadata": {},
     "output_type": "display_data"
    },
    {
     "data": {
      "text/html": [
       "<pre style=\"white-space:pre;overflow-x:auto;line-height:normal;font-family:Menlo,'DejaVu Sans Mono',consolas,'Courier New',monospace\">Num timesteps: 282000 - Ep: 6809\n",
       "</pre>\n"
      ],
      "text/plain": [
       "Num timesteps: 282000 - Ep: 6809\n"
      ]
     },
     "metadata": {},
     "output_type": "display_data"
    },
    {
     "data": {
      "text/html": [
       "<pre style=\"white-space:pre;overflow-x:auto;line-height:normal;font-family:Menlo,'DejaVu Sans Mono',consolas,'Courier New',monospace\">Best reward: -27.00 - Last reward per episode: -27.00 - Mean reward last 10 episode: -27.20 - Delta mean: -0.20\n",
       "</pre>\n"
      ],
      "text/plain": [
       "Best reward: -27.00 - Last reward per episode: -27.00 - Mean reward last 10 episode: -27.20 - Delta mean: -0.20\n"
      ]
     },
     "metadata": {},
     "output_type": "display_data"
    },
    {
     "data": {
      "text/html": [
       "<pre style=\"white-space:pre;overflow-x:auto;line-height:normal;font-family:Menlo,'DejaVu Sans Mono',consolas,'Courier New',monospace\">Num timesteps: 285000 - Ep: 6890\n",
       "</pre>\n"
      ],
      "text/plain": [
       "Num timesteps: 285000 - Ep: 6890\n"
      ]
     },
     "metadata": {},
     "output_type": "display_data"
    },
    {
     "data": {
      "text/html": [
       "<pre style=\"white-space:pre;overflow-x:auto;line-height:normal;font-family:Menlo,'DejaVu Sans Mono',consolas,'Courier New',monospace\">Best reward: -27.00 - Last reward per episode: -27.00 - Mean reward last 10 episode: -27.00 - Delta mean: 0.20\n",
       "</pre>\n"
      ],
      "text/plain": [
       "Best reward: -27.00 - Last reward per episode: -27.00 - Mean reward last 10 episode: -27.00 - Delta mean: 0.20\n"
      ]
     },
     "metadata": {},
     "output_type": "display_data"
    },
    {
     "data": {
      "text/html": [
       "<pre style=\"white-space:pre;overflow-x:auto;line-height:normal;font-family:Menlo,'DejaVu Sans Mono',consolas,'Courier New',monospace\">Num timesteps: 288000 - Ep: 6971\n",
       "</pre>\n"
      ],
      "text/plain": [
       "Num timesteps: 288000 - Ep: 6971\n"
      ]
     },
     "metadata": {},
     "output_type": "display_data"
    },
    {
     "data": {
      "text/html": [
       "<pre style=\"white-space:pre;overflow-x:auto;line-height:normal;font-family:Menlo,'DejaVu Sans Mono',consolas,'Courier New',monospace\">Best reward: -27.00 - Last reward per episode: -27.00 - Mean reward last 10 episode: -27.00 - Delta mean: 0.00\n",
       "</pre>\n"
      ],
      "text/plain": [
       "Best reward: -27.00 - Last reward per episode: -27.00 - Mean reward last 10 episode: -27.00 - Delta mean: 0.00\n"
      ]
     },
     "metadata": {},
     "output_type": "display_data"
    },
    {
     "data": {
      "text/html": [
       "<pre style=\"white-space:pre;overflow-x:auto;line-height:normal;font-family:Menlo,'DejaVu Sans Mono',consolas,'Courier New',monospace\">Num timesteps: 291000 - Ep: 7052\n",
       "</pre>\n"
      ],
      "text/plain": [
       "Num timesteps: 291000 - Ep: 7052\n"
      ]
     },
     "metadata": {},
     "output_type": "display_data"
    },
    {
     "data": {
      "text/html": [
       "<pre style=\"white-space:pre;overflow-x:auto;line-height:normal;font-family:Menlo,'DejaVu Sans Mono',consolas,'Courier New',monospace\">Best reward: -27.00 - Last reward per episode: -27.00 - Mean reward last 10 episode: -27.00 - Delta mean: 0.00\n",
       "</pre>\n"
      ],
      "text/plain": [
       "Best reward: -27.00 - Last reward per episode: -27.00 - Mean reward last 10 episode: -27.00 - Delta mean: 0.00\n"
      ]
     },
     "metadata": {},
     "output_type": "display_data"
    },
    {
     "data": {
      "text/html": [
       "<pre style=\"white-space:pre;overflow-x:auto;line-height:normal;font-family:Menlo,'DejaVu Sans Mono',consolas,'Courier New',monospace\">Num timesteps: 294000 - Ep: 7133\n",
       "</pre>\n"
      ],
      "text/plain": [
       "Num timesteps: 294000 - Ep: 7133\n"
      ]
     },
     "metadata": {},
     "output_type": "display_data"
    },
    {
     "data": {
      "text/html": [
       "<pre style=\"white-space:pre;overflow-x:auto;line-height:normal;font-family:Menlo,'DejaVu Sans Mono',consolas,'Courier New',monospace\">Best reward: -27.00 - Last reward per episode: -27.00 - Mean reward last 10 episode: -27.00 - Delta mean: 0.00\n",
       "</pre>\n"
      ],
      "text/plain": [
       "Best reward: -27.00 - Last reward per episode: -27.00 - Mean reward last 10 episode: -27.00 - Delta mean: 0.00\n"
      ]
     },
     "metadata": {},
     "output_type": "display_data"
    },
    {
     "data": {
      "text/html": [
       "<pre style=\"white-space:pre;overflow-x:auto;line-height:normal;font-family:Menlo,'DejaVu Sans Mono',consolas,'Courier New',monospace\">Num timesteps: 297000 - Ep: 7214\n",
       "</pre>\n"
      ],
      "text/plain": [
       "Num timesteps: 297000 - Ep: 7214\n"
      ]
     },
     "metadata": {},
     "output_type": "display_data"
    },
    {
     "data": {
      "text/html": [
       "<pre style=\"white-space:pre;overflow-x:auto;line-height:normal;font-family:Menlo,'DejaVu Sans Mono',consolas,'Courier New',monospace\">Best reward: -27.00 - Last reward per episode: -27.00 - Mean reward last 10 episode: -27.00 - Delta mean: 0.00\n",
       "</pre>\n"
      ],
      "text/plain": [
       "Best reward: -27.00 - Last reward per episode: -27.00 - Mean reward last 10 episode: -27.00 - Delta mean: 0.00\n"
      ]
     },
     "metadata": {},
     "output_type": "display_data"
    },
    {
     "data": {
      "text/html": [
       "<pre style=\"white-space:pre;overflow-x:auto;line-height:normal;font-family:Menlo,'DejaVu Sans Mono',consolas,'Courier New',monospace\">Num timesteps: 300000 - Ep: 7295\n",
       "</pre>\n"
      ],
      "text/plain": [
       "Num timesteps: 300000 - Ep: 7295\n"
      ]
     },
     "metadata": {},
     "output_type": "display_data"
    },
    {
     "data": {
      "text/html": [
       "<pre style=\"white-space:pre;overflow-x:auto;line-height:normal;font-family:Menlo,'DejaVu Sans Mono',consolas,'Courier New',monospace\">Best reward: -27.00 - Last reward per episode: -27.00 - Mean reward last 10 episode: -27.00 - Delta mean: 0.00\n",
       "</pre>\n"
      ],
      "text/plain": [
       "Best reward: -27.00 - Last reward per episode: -27.00 - Mean reward last 10 episode: -27.00 - Delta mean: 0.00\n"
      ]
     },
     "metadata": {},
     "output_type": "display_data"
    },
    {
     "data": {
      "text/html": [
       "<pre style=\"white-space:pre;overflow-x:auto;line-height:normal;font-family:Menlo,'DejaVu Sans Mono',consolas,'Courier New',monospace\">Num timesteps: 303000 - Ep: 7376\n",
       "</pre>\n"
      ],
      "text/plain": [
       "Num timesteps: 303000 - Ep: 7376\n"
      ]
     },
     "metadata": {},
     "output_type": "display_data"
    },
    {
     "data": {
      "text/html": [
       "<pre style=\"white-space:pre;overflow-x:auto;line-height:normal;font-family:Menlo,'DejaVu Sans Mono',consolas,'Courier New',monospace\">Best reward: -27.00 - Last reward per episode: -27.00 - Mean reward last 10 episode: -27.00 - Delta mean: 0.00\n",
       "</pre>\n"
      ],
      "text/plain": [
       "Best reward: -27.00 - Last reward per episode: -27.00 - Mean reward last 10 episode: -27.00 - Delta mean: 0.00\n"
      ]
     },
     "metadata": {},
     "output_type": "display_data"
    },
    {
     "data": {
      "text/html": [
       "<pre style=\"white-space:pre;overflow-x:auto;line-height:normal;font-family:Menlo,'DejaVu Sans Mono',consolas,'Courier New',monospace\">Num timesteps: 306000 - Ep: 7457\n",
       "</pre>\n"
      ],
      "text/plain": [
       "Num timesteps: 306000 - Ep: 7457\n"
      ]
     },
     "metadata": {},
     "output_type": "display_data"
    },
    {
     "data": {
      "text/html": [
       "<pre style=\"white-space:pre;overflow-x:auto;line-height:normal;font-family:Menlo,'DejaVu Sans Mono',consolas,'Courier New',monospace\">Best reward: -27.00 - Last reward per episode: -27.00 - Mean reward last 10 episode: -27.00 - Delta mean: 0.00\n",
       "</pre>\n"
      ],
      "text/plain": [
       "Best reward: -27.00 - Last reward per episode: -27.00 - Mean reward last 10 episode: -27.00 - Delta mean: 0.00\n"
      ]
     },
     "metadata": {},
     "output_type": "display_data"
    },
    {
     "data": {
      "text/html": [
       "<pre style=\"white-space:pre;overflow-x:auto;line-height:normal;font-family:Menlo,'DejaVu Sans Mono',consolas,'Courier New',monospace\">Num timesteps: 309000 - Ep: 7538\n",
       "</pre>\n"
      ],
      "text/plain": [
       "Num timesteps: 309000 - Ep: 7538\n"
      ]
     },
     "metadata": {},
     "output_type": "display_data"
    },
    {
     "data": {
      "text/html": [
       "<pre style=\"white-space:pre;overflow-x:auto;line-height:normal;font-family:Menlo,'DejaVu Sans Mono',consolas,'Courier New',monospace\">Best reward: -27.00 - Last reward per episode: -27.00 - Mean reward last 10 episode: -27.20 - Delta mean: -0.20\n",
       "</pre>\n"
      ],
      "text/plain": [
       "Best reward: -27.00 - Last reward per episode: -27.00 - Mean reward last 10 episode: -27.20 - Delta mean: -0.20\n"
      ]
     },
     "metadata": {},
     "output_type": "display_data"
    },
    {
     "data": {
      "text/html": [
       "<pre style=\"white-space:pre;overflow-x:auto;line-height:normal;font-family:Menlo,'DejaVu Sans Mono',consolas,'Courier New',monospace\">Num timesteps: 312000 - Ep: 7619\n",
       "</pre>\n"
      ],
      "text/plain": [
       "Num timesteps: 312000 - Ep: 7619\n"
      ]
     },
     "metadata": {},
     "output_type": "display_data"
    },
    {
     "data": {
      "text/html": [
       "<pre style=\"white-space:pre;overflow-x:auto;line-height:normal;font-family:Menlo,'DejaVu Sans Mono',consolas,'Courier New',monospace\">Best reward: -27.00 - Last reward per episode: -27.00 - Mean reward last 10 episode: -27.00 - Delta mean: 0.20\n",
       "</pre>\n"
      ],
      "text/plain": [
       "Best reward: -27.00 - Last reward per episode: -27.00 - Mean reward last 10 episode: -27.00 - Delta mean: 0.20\n"
      ]
     },
     "metadata": {},
     "output_type": "display_data"
    },
    {
     "data": {
      "text/html": [
       "<pre style=\"white-space:pre;overflow-x:auto;line-height:normal;font-family:Menlo,'DejaVu Sans Mono',consolas,'Courier New',monospace\">Num timesteps: 315000 - Ep: 7700\n",
       "</pre>\n"
      ],
      "text/plain": [
       "Num timesteps: 315000 - Ep: 7700\n"
      ]
     },
     "metadata": {},
     "output_type": "display_data"
    },
    {
     "data": {
      "text/html": [
       "<pre style=\"white-space:pre;overflow-x:auto;line-height:normal;font-family:Menlo,'DejaVu Sans Mono',consolas,'Courier New',monospace\">Best reward: -27.00 - Last reward per episode: -27.00 - Mean reward last 10 episode: -27.00 - Delta mean: 0.00\n",
       "</pre>\n"
      ],
      "text/plain": [
       "Best reward: -27.00 - Last reward per episode: -27.00 - Mean reward last 10 episode: -27.00 - Delta mean: 0.00\n"
      ]
     },
     "metadata": {},
     "output_type": "display_data"
    },
    {
     "data": {
      "text/html": [
       "<pre style=\"white-space:pre;overflow-x:auto;line-height:normal;font-family:Menlo,'DejaVu Sans Mono',consolas,'Courier New',monospace\">Num timesteps: 318000 - Ep: 7781\n",
       "</pre>\n"
      ],
      "text/plain": [
       "Num timesteps: 318000 - Ep: 7781\n"
      ]
     },
     "metadata": {},
     "output_type": "display_data"
    },
    {
     "data": {
      "text/html": [
       "<pre style=\"white-space:pre;overflow-x:auto;line-height:normal;font-family:Menlo,'DejaVu Sans Mono',consolas,'Courier New',monospace\">Best reward: -27.00 - Last reward per episode: -27.00 - Mean reward last 10 episode: -27.00 - Delta mean: 0.00\n",
       "</pre>\n"
      ],
      "text/plain": [
       "Best reward: -27.00 - Last reward per episode: -27.00 - Mean reward last 10 episode: -27.00 - Delta mean: 0.00\n"
      ]
     },
     "metadata": {},
     "output_type": "display_data"
    },
    {
     "data": {
      "text/html": [
       "<pre style=\"white-space:pre;overflow-x:auto;line-height:normal;font-family:Menlo,'DejaVu Sans Mono',consolas,'Courier New',monospace\">Num timesteps: 321000 - Ep: 7863\n",
       "</pre>\n"
      ],
      "text/plain": [
       "Num timesteps: 321000 - Ep: 7863\n"
      ]
     },
     "metadata": {},
     "output_type": "display_data"
    },
    {
     "data": {
      "text/html": [
       "<pre style=\"white-space:pre;overflow-x:auto;line-height:normal;font-family:Menlo,'DejaVu Sans Mono',consolas,'Courier New',monospace\">Best reward: -27.00 - Last reward per episode: -27.00 - Mean reward last 10 episode: -27.00 - Delta mean: 0.00\n",
       "</pre>\n"
      ],
      "text/plain": [
       "Best reward: -27.00 - Last reward per episode: -27.00 - Mean reward last 10 episode: -27.00 - Delta mean: 0.00\n"
      ]
     },
     "metadata": {},
     "output_type": "display_data"
    },
    {
     "data": {
      "text/html": [
       "<pre style=\"white-space:pre;overflow-x:auto;line-height:normal;font-family:Menlo,'DejaVu Sans Mono',consolas,'Courier New',monospace\">Num timesteps: 324000 - Ep: 7944\n",
       "</pre>\n"
      ],
      "text/plain": [
       "Num timesteps: 324000 - Ep: 7944\n"
      ]
     },
     "metadata": {},
     "output_type": "display_data"
    },
    {
     "data": {
      "text/html": [
       "<pre style=\"white-space:pre;overflow-x:auto;line-height:normal;font-family:Menlo,'DejaVu Sans Mono',consolas,'Courier New',monospace\">Best reward: -27.00 - Last reward per episode: -27.00 - Mean reward last 10 episode: -27.00 - Delta mean: 0.00\n",
       "</pre>\n"
      ],
      "text/plain": [
       "Best reward: -27.00 - Last reward per episode: -27.00 - Mean reward last 10 episode: -27.00 - Delta mean: 0.00\n"
      ]
     },
     "metadata": {},
     "output_type": "display_data"
    },
    {
     "data": {
      "text/html": [
       "<pre style=\"white-space:pre;overflow-x:auto;line-height:normal;font-family:Menlo,'DejaVu Sans Mono',consolas,'Courier New',monospace\">Num timesteps: 327000 - Ep: 8025\n",
       "</pre>\n"
      ],
      "text/plain": [
       "Num timesteps: 327000 - Ep: 8025\n"
      ]
     },
     "metadata": {},
     "output_type": "display_data"
    },
    {
     "data": {
      "text/html": [
       "<pre style=\"white-space:pre;overflow-x:auto;line-height:normal;font-family:Menlo,'DejaVu Sans Mono',consolas,'Courier New',monospace\">Best reward: -27.00 - Last reward per episode: -27.00 - Mean reward last 10 episode: -27.00 - Delta mean: 0.00\n",
       "</pre>\n"
      ],
      "text/plain": [
       "Best reward: -27.00 - Last reward per episode: -27.00 - Mean reward last 10 episode: -27.00 - Delta mean: 0.00\n"
      ]
     },
     "metadata": {},
     "output_type": "display_data"
    },
    {
     "data": {
      "text/html": [
       "<pre style=\"white-space:pre;overflow-x:auto;line-height:normal;font-family:Menlo,'DejaVu Sans Mono',consolas,'Courier New',monospace\">Num timesteps: 330000 - Ep: 8106\n",
       "</pre>\n"
      ],
      "text/plain": [
       "Num timesteps: 330000 - Ep: 8106\n"
      ]
     },
     "metadata": {},
     "output_type": "display_data"
    },
    {
     "data": {
      "text/html": [
       "<pre style=\"white-space:pre;overflow-x:auto;line-height:normal;font-family:Menlo,'DejaVu Sans Mono',consolas,'Courier New',monospace\">Best reward: -27.00 - Last reward per episode: -27.00 - Mean reward last 10 episode: -27.00 - Delta mean: 0.00\n",
       "</pre>\n"
      ],
      "text/plain": [
       "Best reward: -27.00 - Last reward per episode: -27.00 - Mean reward last 10 episode: -27.00 - Delta mean: 0.00\n"
      ]
     },
     "metadata": {},
     "output_type": "display_data"
    },
    {
     "data": {
      "text/html": [
       "<pre style=\"white-space:pre;overflow-x:auto;line-height:normal;font-family:Menlo,'DejaVu Sans Mono',consolas,'Courier New',monospace\">Num timesteps: 333000 - Ep: 8187\n",
       "</pre>\n"
      ],
      "text/plain": [
       "Num timesteps: 333000 - Ep: 8187\n"
      ]
     },
     "metadata": {},
     "output_type": "display_data"
    },
    {
     "data": {
      "text/html": [
       "<pre style=\"white-space:pre;overflow-x:auto;line-height:normal;font-family:Menlo,'DejaVu Sans Mono',consolas,'Courier New',monospace\">Best reward: -27.00 - Last reward per episode: -27.00 - Mean reward last 10 episode: -27.00 - Delta mean: 0.00\n",
       "</pre>\n"
      ],
      "text/plain": [
       "Best reward: -27.00 - Last reward per episode: -27.00 - Mean reward last 10 episode: -27.00 - Delta mean: 0.00\n"
      ]
     },
     "metadata": {},
     "output_type": "display_data"
    },
    {
     "data": {
      "text/html": [
       "<pre style=\"white-space:pre;overflow-x:auto;line-height:normal;font-family:Menlo,'DejaVu Sans Mono',consolas,'Courier New',monospace\">Num timesteps: 336000 - Ep: 8268\n",
       "</pre>\n"
      ],
      "text/plain": [
       "Num timesteps: 336000 - Ep: 8268\n"
      ]
     },
     "metadata": {},
     "output_type": "display_data"
    },
    {
     "data": {
      "text/html": [
       "<pre style=\"white-space:pre;overflow-x:auto;line-height:normal;font-family:Menlo,'DejaVu Sans Mono',consolas,'Courier New',monospace\">Best reward: -27.00 - Last reward per episode: -27.00 - Mean reward last 10 episode: -27.00 - Delta mean: 0.00\n",
       "</pre>\n"
      ],
      "text/plain": [
       "Best reward: -27.00 - Last reward per episode: -27.00 - Mean reward last 10 episode: -27.00 - Delta mean: 0.00\n"
      ]
     },
     "metadata": {},
     "output_type": "display_data"
    },
    {
     "data": {
      "text/html": [
       "<pre style=\"white-space:pre;overflow-x:auto;line-height:normal;font-family:Menlo,'DejaVu Sans Mono',consolas,'Courier New',monospace\">Num timesteps: 339000 - Ep: 8349\n",
       "</pre>\n"
      ],
      "text/plain": [
       "Num timesteps: 339000 - Ep: 8349\n"
      ]
     },
     "metadata": {},
     "output_type": "display_data"
    },
    {
     "data": {
      "text/html": [
       "<pre style=\"white-space:pre;overflow-x:auto;line-height:normal;font-family:Menlo,'DejaVu Sans Mono',consolas,'Courier New',monospace\">Best reward: -27.00 - Last reward per episode: -27.00 - Mean reward last 10 episode: -27.00 - Delta mean: 0.00\n",
       "</pre>\n"
      ],
      "text/plain": [
       "Best reward: -27.00 - Last reward per episode: -27.00 - Mean reward last 10 episode: -27.00 - Delta mean: 0.00\n"
      ]
     },
     "metadata": {},
     "output_type": "display_data"
    },
    {
     "data": {
      "text/html": [
       "<pre style=\"white-space:pre;overflow-x:auto;line-height:normal;font-family:Menlo,'DejaVu Sans Mono',consolas,'Courier New',monospace\">Num timesteps: 342000 - Ep: 8430\n",
       "</pre>\n"
      ],
      "text/plain": [
       "Num timesteps: 342000 - Ep: 8430\n"
      ]
     },
     "metadata": {},
     "output_type": "display_data"
    },
    {
     "data": {
      "text/html": [
       "<pre style=\"white-space:pre;overflow-x:auto;line-height:normal;font-family:Menlo,'DejaVu Sans Mono',consolas,'Courier New',monospace\">Best reward: -27.00 - Last reward per episode: -27.00 - Mean reward last 10 episode: -27.00 - Delta mean: 0.00\n",
       "</pre>\n"
      ],
      "text/plain": [
       "Best reward: -27.00 - Last reward per episode: -27.00 - Mean reward last 10 episode: -27.00 - Delta mean: 0.00\n"
      ]
     },
     "metadata": {},
     "output_type": "display_data"
    },
    {
     "data": {
      "text/html": [
       "<pre style=\"white-space:pre;overflow-x:auto;line-height:normal;font-family:Menlo,'DejaVu Sans Mono',consolas,'Courier New',monospace\">Num timesteps: 345000 - Ep: 8511\n",
       "</pre>\n"
      ],
      "text/plain": [
       "Num timesteps: 345000 - Ep: 8511\n"
      ]
     },
     "metadata": {},
     "output_type": "display_data"
    },
    {
     "data": {
      "text/html": [
       "<pre style=\"white-space:pre;overflow-x:auto;line-height:normal;font-family:Menlo,'DejaVu Sans Mono',consolas,'Courier New',monospace\">Best reward: -27.00 - Last reward per episode: -27.00 - Mean reward last 10 episode: -27.00 - Delta mean: 0.00\n",
       "</pre>\n"
      ],
      "text/plain": [
       "Best reward: -27.00 - Last reward per episode: -27.00 - Mean reward last 10 episode: -27.00 - Delta mean: 0.00\n"
      ]
     },
     "metadata": {},
     "output_type": "display_data"
    },
    {
     "data": {
      "text/html": [
       "<pre style=\"white-space:pre;overflow-x:auto;line-height:normal;font-family:Menlo,'DejaVu Sans Mono',consolas,'Courier New',monospace\">Num timesteps: 348000 - Ep: 8592\n",
       "</pre>\n"
      ],
      "text/plain": [
       "Num timesteps: 348000 - Ep: 8592\n"
      ]
     },
     "metadata": {},
     "output_type": "display_data"
    },
    {
     "data": {
      "text/html": [
       "<pre style=\"white-space:pre;overflow-x:auto;line-height:normal;font-family:Menlo,'DejaVu Sans Mono',consolas,'Courier New',monospace\">Best reward: -27.00 - Last reward per episode: -27.00 - Mean reward last 10 episode: -27.00 - Delta mean: 0.00\n",
       "</pre>\n"
      ],
      "text/plain": [
       "Best reward: -27.00 - Last reward per episode: -27.00 - Mean reward last 10 episode: -27.00 - Delta mean: 0.00\n"
      ]
     },
     "metadata": {},
     "output_type": "display_data"
    },
    {
     "data": {
      "text/html": [
       "<pre style=\"white-space:pre;overflow-x:auto;line-height:normal;font-family:Menlo,'DejaVu Sans Mono',consolas,'Courier New',monospace\">Num timesteps: 351000 - Ep: 8673\n",
       "</pre>\n"
      ],
      "text/plain": [
       "Num timesteps: 351000 - Ep: 8673\n"
      ]
     },
     "metadata": {},
     "output_type": "display_data"
    },
    {
     "data": {
      "text/html": [
       "<pre style=\"white-space:pre;overflow-x:auto;line-height:normal;font-family:Menlo,'DejaVu Sans Mono',consolas,'Courier New',monospace\">Best reward: -27.00 - Last reward per episode: -27.00 - Mean reward last 10 episode: -27.00 - Delta mean: 0.00\n",
       "</pre>\n"
      ],
      "text/plain": [
       "Best reward: -27.00 - Last reward per episode: -27.00 - Mean reward last 10 episode: -27.00 - Delta mean: 0.00\n"
      ]
     },
     "metadata": {},
     "output_type": "display_data"
    },
    {
     "data": {
      "text/html": [
       "<pre style=\"white-space:pre;overflow-x:auto;line-height:normal;font-family:Menlo,'DejaVu Sans Mono',consolas,'Courier New',monospace\">Num timesteps: 354000 - Ep: 8754\n",
       "</pre>\n"
      ],
      "text/plain": [
       "Num timesteps: 354000 - Ep: 8754\n"
      ]
     },
     "metadata": {},
     "output_type": "display_data"
    },
    {
     "data": {
      "text/html": [
       "<pre style=\"white-space:pre;overflow-x:auto;line-height:normal;font-family:Menlo,'DejaVu Sans Mono',consolas,'Courier New',monospace\">Best reward: -27.00 - Last reward per episode: -27.00 - Mean reward last 10 episode: -27.00 - Delta mean: 0.00\n",
       "</pre>\n"
      ],
      "text/plain": [
       "Best reward: -27.00 - Last reward per episode: -27.00 - Mean reward last 10 episode: -27.00 - Delta mean: 0.00\n"
      ]
     },
     "metadata": {},
     "output_type": "display_data"
    },
    {
     "data": {
      "text/html": [
       "<pre style=\"white-space:pre;overflow-x:auto;line-height:normal;font-family:Menlo,'DejaVu Sans Mono',consolas,'Courier New',monospace\">Num timesteps: 357000 - Ep: 8835\n",
       "</pre>\n"
      ],
      "text/plain": [
       "Num timesteps: 357000 - Ep: 8835\n"
      ]
     },
     "metadata": {},
     "output_type": "display_data"
    },
    {
     "data": {
      "text/html": [
       "<pre style=\"white-space:pre;overflow-x:auto;line-height:normal;font-family:Menlo,'DejaVu Sans Mono',consolas,'Courier New',monospace\">Best reward: -27.00 - Last reward per episode: -27.00 - Mean reward last 10 episode: -27.00 - Delta mean: 0.00\n",
       "</pre>\n"
      ],
      "text/plain": [
       "Best reward: -27.00 - Last reward per episode: -27.00 - Mean reward last 10 episode: -27.00 - Delta mean: 0.00\n"
      ]
     },
     "metadata": {},
     "output_type": "display_data"
    },
    {
     "data": {
      "text/html": [
       "<pre style=\"white-space:pre;overflow-x:auto;line-height:normal;font-family:Menlo,'DejaVu Sans Mono',consolas,'Courier New',monospace\">Num timesteps: 360000 - Ep: 8917\n",
       "</pre>\n"
      ],
      "text/plain": [
       "Num timesteps: 360000 - Ep: 8917\n"
      ]
     },
     "metadata": {},
     "output_type": "display_data"
    },
    {
     "data": {
      "text/html": [
       "<pre style=\"white-space:pre;overflow-x:auto;line-height:normal;font-family:Menlo,'DejaVu Sans Mono',consolas,'Courier New',monospace\">Best reward: -27.00 - Last reward per episode: -27.00 - Mean reward last 10 episode: -27.00 - Delta mean: 0.00\n",
       "</pre>\n"
      ],
      "text/plain": [
       "Best reward: -27.00 - Last reward per episode: -27.00 - Mean reward last 10 episode: -27.00 - Delta mean: 0.00\n"
      ]
     },
     "metadata": {},
     "output_type": "display_data"
    },
    {
     "data": {
      "text/html": [
       "<pre style=\"white-space:pre;overflow-x:auto;line-height:normal;font-family:Menlo,'DejaVu Sans Mono',consolas,'Courier New',monospace\">Num timesteps: 363000 - Ep: 8998\n",
       "</pre>\n"
      ],
      "text/plain": [
       "Num timesteps: 363000 - Ep: 8998\n"
      ]
     },
     "metadata": {},
     "output_type": "display_data"
    },
    {
     "data": {
      "text/html": [
       "<pre style=\"white-space:pre;overflow-x:auto;line-height:normal;font-family:Menlo,'DejaVu Sans Mono',consolas,'Courier New',monospace\">Best reward: -27.00 - Last reward per episode: -27.00 - Mean reward last 10 episode: -27.00 - Delta mean: 0.00\n",
       "</pre>\n"
      ],
      "text/plain": [
       "Best reward: -27.00 - Last reward per episode: -27.00 - Mean reward last 10 episode: -27.00 - Delta mean: 0.00\n"
      ]
     },
     "metadata": {},
     "output_type": "display_data"
    },
    {
     "data": {
      "text/html": [
       "<pre style=\"white-space:pre;overflow-x:auto;line-height:normal;font-family:Menlo,'DejaVu Sans Mono',consolas,'Courier New',monospace\">Num timesteps: 366000 - Ep: 9079\n",
       "</pre>\n"
      ],
      "text/plain": [
       "Num timesteps: 366000 - Ep: 9079\n"
      ]
     },
     "metadata": {},
     "output_type": "display_data"
    },
    {
     "data": {
      "text/html": [
       "<pre style=\"white-space:pre;overflow-x:auto;line-height:normal;font-family:Menlo,'DejaVu Sans Mono',consolas,'Courier New',monospace\">Best reward: -27.00 - Last reward per episode: -27.00 - Mean reward last 10 episode: -27.00 - Delta mean: 0.00\n",
       "</pre>\n"
      ],
      "text/plain": [
       "Best reward: -27.00 - Last reward per episode: -27.00 - Mean reward last 10 episode: -27.00 - Delta mean: 0.00\n"
      ]
     },
     "metadata": {},
     "output_type": "display_data"
    },
    {
     "data": {
      "text/html": [
       "<pre style=\"white-space:pre;overflow-x:auto;line-height:normal;font-family:Menlo,'DejaVu Sans Mono',consolas,'Courier New',monospace\">Num timesteps: 369000 - Ep: 9160\n",
       "</pre>\n"
      ],
      "text/plain": [
       "Num timesteps: 369000 - Ep: 9160\n"
      ]
     },
     "metadata": {},
     "output_type": "display_data"
    },
    {
     "data": {
      "text/html": [
       "<pre style=\"white-space:pre;overflow-x:auto;line-height:normal;font-family:Menlo,'DejaVu Sans Mono',consolas,'Courier New',monospace\">Best reward: -27.00 - Last reward per episode: -27.00 - Mean reward last 10 episode: -27.00 - Delta mean: 0.00\n",
       "</pre>\n"
      ],
      "text/plain": [
       "Best reward: -27.00 - Last reward per episode: -27.00 - Mean reward last 10 episode: -27.00 - Delta mean: 0.00\n"
      ]
     },
     "metadata": {},
     "output_type": "display_data"
    },
    {
     "data": {
      "text/html": [
       "<pre style=\"white-space:pre;overflow-x:auto;line-height:normal;font-family:Menlo,'DejaVu Sans Mono',consolas,'Courier New',monospace\">Num timesteps: 372000 - Ep: 9241\n",
       "</pre>\n"
      ],
      "text/plain": [
       "Num timesteps: 372000 - Ep: 9241\n"
      ]
     },
     "metadata": {},
     "output_type": "display_data"
    },
    {
     "data": {
      "text/html": [
       "<pre style=\"white-space:pre;overflow-x:auto;line-height:normal;font-family:Menlo,'DejaVu Sans Mono',consolas,'Courier New',monospace\">Best reward: -27.00 - Last reward per episode: -27.00 - Mean reward last 10 episode: -27.00 - Delta mean: 0.00\n",
       "</pre>\n"
      ],
      "text/plain": [
       "Best reward: -27.00 - Last reward per episode: -27.00 - Mean reward last 10 episode: -27.00 - Delta mean: 0.00\n"
      ]
     },
     "metadata": {},
     "output_type": "display_data"
    },
    {
     "data": {
      "text/html": [
       "<pre style=\"white-space:pre;overflow-x:auto;line-height:normal;font-family:Menlo,'DejaVu Sans Mono',consolas,'Courier New',monospace\">Num timesteps: 375000 - Ep: 9322\n",
       "</pre>\n"
      ],
      "text/plain": [
       "Num timesteps: 375000 - Ep: 9322\n"
      ]
     },
     "metadata": {},
     "output_type": "display_data"
    },
    {
     "data": {
      "text/html": [
       "<pre style=\"white-space:pre;overflow-x:auto;line-height:normal;font-family:Menlo,'DejaVu Sans Mono',consolas,'Courier New',monospace\">Best reward: -27.00 - Last reward per episode: -27.00 - Mean reward last 10 episode: -27.00 - Delta mean: 0.00\n",
       "</pre>\n"
      ],
      "text/plain": [
       "Best reward: -27.00 - Last reward per episode: -27.00 - Mean reward last 10 episode: -27.00 - Delta mean: 0.00\n"
      ]
     },
     "metadata": {},
     "output_type": "display_data"
    },
    {
     "data": {
      "text/html": [
       "<pre style=\"white-space:pre;overflow-x:auto;line-height:normal;font-family:Menlo,'DejaVu Sans Mono',consolas,'Courier New',monospace\">Num timesteps: 378000 - Ep: 9403\n",
       "</pre>\n"
      ],
      "text/plain": [
       "Num timesteps: 378000 - Ep: 9403\n"
      ]
     },
     "metadata": {},
     "output_type": "display_data"
    },
    {
     "data": {
      "text/html": [
       "<pre style=\"white-space:pre;overflow-x:auto;line-height:normal;font-family:Menlo,'DejaVu Sans Mono',consolas,'Courier New',monospace\">Best reward: -27.00 - Last reward per episode: -27.00 - Mean reward last 10 episode: -27.00 - Delta mean: 0.00\n",
       "</pre>\n"
      ],
      "text/plain": [
       "Best reward: -27.00 - Last reward per episode: -27.00 - Mean reward last 10 episode: -27.00 - Delta mean: 0.00\n"
      ]
     },
     "metadata": {},
     "output_type": "display_data"
    },
    {
     "data": {
      "text/html": [
       "<pre style=\"white-space:pre;overflow-x:auto;line-height:normal;font-family:Menlo,'DejaVu Sans Mono',consolas,'Courier New',monospace\">Num timesteps: 381000 - Ep: 9485\n",
       "</pre>\n"
      ],
      "text/plain": [
       "Num timesteps: 381000 - Ep: 9485\n"
      ]
     },
     "metadata": {},
     "output_type": "display_data"
    },
    {
     "data": {
      "text/html": [
       "<pre style=\"white-space:pre;overflow-x:auto;line-height:normal;font-family:Menlo,'DejaVu Sans Mono',consolas,'Courier New',monospace\">Best reward: -27.00 - Last reward per episode: -27.00 - Mean reward last 10 episode: -27.00 - Delta mean: 0.00\n",
       "</pre>\n"
      ],
      "text/plain": [
       "Best reward: -27.00 - Last reward per episode: -27.00 - Mean reward last 10 episode: -27.00 - Delta mean: 0.00\n"
      ]
     },
     "metadata": {},
     "output_type": "display_data"
    },
    {
     "data": {
      "text/html": [
       "<pre style=\"white-space:pre;overflow-x:auto;line-height:normal;font-family:Menlo,'DejaVu Sans Mono',consolas,'Courier New',monospace\">Num timesteps: 384000 - Ep: 9566\n",
       "</pre>\n"
      ],
      "text/plain": [
       "Num timesteps: 384000 - Ep: 9566\n"
      ]
     },
     "metadata": {},
     "output_type": "display_data"
    },
    {
     "data": {
      "text/html": [
       "<pre style=\"white-space:pre;overflow-x:auto;line-height:normal;font-family:Menlo,'DejaVu Sans Mono',consolas,'Courier New',monospace\">Best reward: -27.00 - Last reward per episode: -27.00 - Mean reward last 10 episode: -27.00 - Delta mean: 0.00\n",
       "</pre>\n"
      ],
      "text/plain": [
       "Best reward: -27.00 - Last reward per episode: -27.00 - Mean reward last 10 episode: -27.00 - Delta mean: 0.00\n"
      ]
     },
     "metadata": {},
     "output_type": "display_data"
    },
    {
     "data": {
      "text/html": [
       "<pre style=\"white-space:pre;overflow-x:auto;line-height:normal;font-family:Menlo,'DejaVu Sans Mono',consolas,'Courier New',monospace\">Num timesteps: 387000 - Ep: 9647\n",
       "</pre>\n"
      ],
      "text/plain": [
       "Num timesteps: 387000 - Ep: 9647\n"
      ]
     },
     "metadata": {},
     "output_type": "display_data"
    },
    {
     "data": {
      "text/html": [
       "<pre style=\"white-space:pre;overflow-x:auto;line-height:normal;font-family:Menlo,'DejaVu Sans Mono',consolas,'Courier New',monospace\">Best reward: -27.00 - Last reward per episode: -27.00 - Mean reward last 10 episode: -27.00 - Delta mean: 0.00\n",
       "</pre>\n"
      ],
      "text/plain": [
       "Best reward: -27.00 - Last reward per episode: -27.00 - Mean reward last 10 episode: -27.00 - Delta mean: 0.00\n"
      ]
     },
     "metadata": {},
     "output_type": "display_data"
    },
    {
     "data": {
      "text/html": [
       "<pre style=\"white-space:pre;overflow-x:auto;line-height:normal;font-family:Menlo,'DejaVu Sans Mono',consolas,'Courier New',monospace\">Num timesteps: 390000 - Ep: 9728\n",
       "</pre>\n"
      ],
      "text/plain": [
       "Num timesteps: 390000 - Ep: 9728\n"
      ]
     },
     "metadata": {},
     "output_type": "display_data"
    },
    {
     "data": {
      "text/html": [
       "<pre style=\"white-space:pre;overflow-x:auto;line-height:normal;font-family:Menlo,'DejaVu Sans Mono',consolas,'Courier New',monospace\">Best reward: -27.00 - Last reward per episode: -27.00 - Mean reward last 10 episode: -27.00 - Delta mean: 0.00\n",
       "</pre>\n"
      ],
      "text/plain": [
       "Best reward: -27.00 - Last reward per episode: -27.00 - Mean reward last 10 episode: -27.00 - Delta mean: 0.00\n"
      ]
     },
     "metadata": {},
     "output_type": "display_data"
    },
    {
     "data": {
      "text/html": [
       "<pre style=\"white-space:pre;overflow-x:auto;line-height:normal;font-family:Menlo,'DejaVu Sans Mono',consolas,'Courier New',monospace\">Num timesteps: 393000 - Ep: 9809\n",
       "</pre>\n"
      ],
      "text/plain": [
       "Num timesteps: 393000 - Ep: 9809\n"
      ]
     },
     "metadata": {},
     "output_type": "display_data"
    },
    {
     "data": {
      "text/html": [
       "<pre style=\"white-space:pre;overflow-x:auto;line-height:normal;font-family:Menlo,'DejaVu Sans Mono',consolas,'Courier New',monospace\">Best reward: -27.00 - Last reward per episode: -27.00 - Mean reward last 10 episode: -27.00 - Delta mean: 0.00\n",
       "</pre>\n"
      ],
      "text/plain": [
       "Best reward: -27.00 - Last reward per episode: -27.00 - Mean reward last 10 episode: -27.00 - Delta mean: 0.00\n"
      ]
     },
     "metadata": {},
     "output_type": "display_data"
    },
    {
     "data": {
      "text/html": [
       "<pre style=\"white-space:pre;overflow-x:auto;line-height:normal;font-family:Menlo,'DejaVu Sans Mono',consolas,'Courier New',monospace\">Num timesteps: 396000 - Ep: 9890\n",
       "</pre>\n"
      ],
      "text/plain": [
       "Num timesteps: 396000 - Ep: 9890\n"
      ]
     },
     "metadata": {},
     "output_type": "display_data"
    },
    {
     "data": {
      "text/html": [
       "<pre style=\"white-space:pre;overflow-x:auto;line-height:normal;font-family:Menlo,'DejaVu Sans Mono',consolas,'Courier New',monospace\">Best reward: -27.00 - Last reward per episode: -27.00 - Mean reward last 10 episode: -27.00 - Delta mean: 0.00\n",
       "</pre>\n"
      ],
      "text/plain": [
       "Best reward: -27.00 - Last reward per episode: -27.00 - Mean reward last 10 episode: -27.00 - Delta mean: 0.00\n"
      ]
     },
     "metadata": {},
     "output_type": "display_data"
    },
    {
     "data": {
      "text/html": [
       "<pre style=\"white-space:pre;overflow-x:auto;line-height:normal;font-family:Menlo,'DejaVu Sans Mono',consolas,'Courier New',monospace\">Num timesteps: 399000 - Ep: 9971\n",
       "</pre>\n"
      ],
      "text/plain": [
       "Num timesteps: 399000 - Ep: 9971\n"
      ]
     },
     "metadata": {},
     "output_type": "display_data"
    },
    {
     "data": {
      "text/html": [
       "<pre style=\"white-space:pre;overflow-x:auto;line-height:normal;font-family:Menlo,'DejaVu Sans Mono',consolas,'Courier New',monospace\">Best reward: -27.00 - Last reward per episode: -27.00 - Mean reward last 10 episode: -27.00 - Delta mean: 0.00\n",
       "</pre>\n"
      ],
      "text/plain": [
       "Best reward: -27.00 - Last reward per episode: -27.00 - Mean reward last 10 episode: -27.00 - Delta mean: 0.00\n"
      ]
     },
     "metadata": {},
     "output_type": "display_data"
    },
    {
     "data": {
      "text/html": [
       "<pre style=\"white-space:pre;overflow-x:auto;line-height:normal;font-family:Menlo,'DejaVu Sans Mono',consolas,'Courier New',monospace\">Num timesteps: 402000 - Ep: 10052\n",
       "</pre>\n"
      ],
      "text/plain": [
       "Num timesteps: 402000 - Ep: 10052\n"
      ]
     },
     "metadata": {},
     "output_type": "display_data"
    },
    {
     "data": {
      "text/html": [
       "<pre style=\"white-space:pre;overflow-x:auto;line-height:normal;font-family:Menlo,'DejaVu Sans Mono',consolas,'Courier New',monospace\">Best reward: -27.00 - Last reward per episode: -27.00 - Mean reward last 10 episode: -27.00 - Delta mean: 0.00\n",
       "</pre>\n"
      ],
      "text/plain": [
       "Best reward: -27.00 - Last reward per episode: -27.00 - Mean reward last 10 episode: -27.00 - Delta mean: 0.00\n"
      ]
     },
     "metadata": {},
     "output_type": "display_data"
    },
    {
     "data": {
      "text/html": [
       "<pre style=\"white-space:pre;overflow-x:auto;line-height:normal;font-family:Menlo,'DejaVu Sans Mono',consolas,'Courier New',monospace\">Num timesteps: 405000 - Ep: 10133\n",
       "</pre>\n"
      ],
      "text/plain": [
       "Num timesteps: 405000 - Ep: 10133\n"
      ]
     },
     "metadata": {},
     "output_type": "display_data"
    },
    {
     "data": {
      "text/html": [
       "<pre style=\"white-space:pre;overflow-x:auto;line-height:normal;font-family:Menlo,'DejaVu Sans Mono',consolas,'Courier New',monospace\">Best reward: -27.00 - Last reward per episode: -27.00 - Mean reward last 10 episode: -27.00 - Delta mean: 0.00\n",
       "</pre>\n"
      ],
      "text/plain": [
       "Best reward: -27.00 - Last reward per episode: -27.00 - Mean reward last 10 episode: -27.00 - Delta mean: 0.00\n"
      ]
     },
     "metadata": {},
     "output_type": "display_data"
    },
    {
     "data": {
      "text/html": [
       "<pre style=\"white-space:pre;overflow-x:auto;line-height:normal;font-family:Menlo,'DejaVu Sans Mono',consolas,'Courier New',monospace\">Num timesteps: 408000 - Ep: 10214\n",
       "</pre>\n"
      ],
      "text/plain": [
       "Num timesteps: 408000 - Ep: 10214\n"
      ]
     },
     "metadata": {},
     "output_type": "display_data"
    },
    {
     "data": {
      "text/html": [
       "<pre style=\"white-space:pre;overflow-x:auto;line-height:normal;font-family:Menlo,'DejaVu Sans Mono',consolas,'Courier New',monospace\">Best reward: -27.00 - Last reward per episode: -27.00 - Mean reward last 10 episode: -27.00 - Delta mean: 0.00\n",
       "</pre>\n"
      ],
      "text/plain": [
       "Best reward: -27.00 - Last reward per episode: -27.00 - Mean reward last 10 episode: -27.00 - Delta mean: 0.00\n"
      ]
     },
     "metadata": {},
     "output_type": "display_data"
    },
    {
     "data": {
      "text/html": [
       "<pre style=\"white-space:pre;overflow-x:auto;line-height:normal;font-family:Menlo,'DejaVu Sans Mono',consolas,'Courier New',monospace\">Num timesteps: 411000 - Ep: 10295\n",
       "</pre>\n"
      ],
      "text/plain": [
       "Num timesteps: 411000 - Ep: 10295\n"
      ]
     },
     "metadata": {},
     "output_type": "display_data"
    },
    {
     "data": {
      "text/html": [
       "<pre style=\"white-space:pre;overflow-x:auto;line-height:normal;font-family:Menlo,'DejaVu Sans Mono',consolas,'Courier New',monospace\">Best reward: -27.00 - Last reward per episode: -27.00 - Mean reward last 10 episode: -27.00 - Delta mean: 0.00\n",
       "</pre>\n"
      ],
      "text/plain": [
       "Best reward: -27.00 - Last reward per episode: -27.00 - Mean reward last 10 episode: -27.00 - Delta mean: 0.00\n"
      ]
     },
     "metadata": {},
     "output_type": "display_data"
    },
    {
     "data": {
      "text/html": [
       "<pre style=\"white-space:pre;overflow-x:auto;line-height:normal;font-family:Menlo,'DejaVu Sans Mono',consolas,'Courier New',monospace\">Num timesteps: 414000 - Ep: 10376\n",
       "</pre>\n"
      ],
      "text/plain": [
       "Num timesteps: 414000 - Ep: 10376\n"
      ]
     },
     "metadata": {},
     "output_type": "display_data"
    },
    {
     "data": {
      "text/html": [
       "<pre style=\"white-space:pre;overflow-x:auto;line-height:normal;font-family:Menlo,'DejaVu Sans Mono',consolas,'Courier New',monospace\">Best reward: -27.00 - Last reward per episode: -27.00 - Mean reward last 10 episode: -27.00 - Delta mean: 0.00\n",
       "</pre>\n"
      ],
      "text/plain": [
       "Best reward: -27.00 - Last reward per episode: -27.00 - Mean reward last 10 episode: -27.00 - Delta mean: 0.00\n"
      ]
     },
     "metadata": {},
     "output_type": "display_data"
    },
    {
     "data": {
      "text/html": [
       "<pre style=\"white-space:pre;overflow-x:auto;line-height:normal;font-family:Menlo,'DejaVu Sans Mono',consolas,'Courier New',monospace\">Num timesteps: 417000 - Ep: 10457\n",
       "</pre>\n"
      ],
      "text/plain": [
       "Num timesteps: 417000 - Ep: 10457\n"
      ]
     },
     "metadata": {},
     "output_type": "display_data"
    },
    {
     "data": {
      "text/html": [
       "<pre style=\"white-space:pre;overflow-x:auto;line-height:normal;font-family:Menlo,'DejaVu Sans Mono',consolas,'Courier New',monospace\">Best reward: -27.00 - Last reward per episode: -27.00 - Mean reward last 10 episode: -27.00 - Delta mean: 0.00\n",
       "</pre>\n"
      ],
      "text/plain": [
       "Best reward: -27.00 - Last reward per episode: -27.00 - Mean reward last 10 episode: -27.00 - Delta mean: 0.00\n"
      ]
     },
     "metadata": {},
     "output_type": "display_data"
    },
    {
     "data": {
      "text/html": [
       "<pre style=\"white-space:pre;overflow-x:auto;line-height:normal;font-family:Menlo,'DejaVu Sans Mono',consolas,'Courier New',monospace\">Num timesteps: 420000 - Ep: 10538\n",
       "</pre>\n"
      ],
      "text/plain": [
       "Num timesteps: 420000 - Ep: 10538\n"
      ]
     },
     "metadata": {},
     "output_type": "display_data"
    },
    {
     "data": {
      "text/html": [
       "<pre style=\"white-space:pre;overflow-x:auto;line-height:normal;font-family:Menlo,'DejaVu Sans Mono',consolas,'Courier New',monospace\">Best reward: -27.00 - Last reward per episode: -27.00 - Mean reward last 10 episode: -27.00 - Delta mean: 0.00\n",
       "</pre>\n"
      ],
      "text/plain": [
       "Best reward: -27.00 - Last reward per episode: -27.00 - Mean reward last 10 episode: -27.00 - Delta mean: 0.00\n"
      ]
     },
     "metadata": {},
     "output_type": "display_data"
    },
    {
     "data": {
      "text/html": [
       "<pre style=\"white-space:pre;overflow-x:auto;line-height:normal;font-family:Menlo,'DejaVu Sans Mono',consolas,'Courier New',monospace\">Num timesteps: 423000 - Ep: 10619\n",
       "</pre>\n"
      ],
      "text/plain": [
       "Num timesteps: 423000 - Ep: 10619\n"
      ]
     },
     "metadata": {},
     "output_type": "display_data"
    },
    {
     "data": {
      "text/html": [
       "<pre style=\"white-space:pre;overflow-x:auto;line-height:normal;font-family:Menlo,'DejaVu Sans Mono',consolas,'Courier New',monospace\">Best reward: -27.00 - Last reward per episode: -27.00 - Mean reward last 10 episode: -27.00 - Delta mean: 0.00\n",
       "</pre>\n"
      ],
      "text/plain": [
       "Best reward: -27.00 - Last reward per episode: -27.00 - Mean reward last 10 episode: -27.00 - Delta mean: 0.00\n"
      ]
     },
     "metadata": {},
     "output_type": "display_data"
    },
    {
     "data": {
      "text/html": [
       "<pre style=\"white-space:pre;overflow-x:auto;line-height:normal;font-family:Menlo,'DejaVu Sans Mono',consolas,'Courier New',monospace\">Num timesteps: 426000 - Ep: 10700\n",
       "</pre>\n"
      ],
      "text/plain": [
       "Num timesteps: 426000 - Ep: 10700\n"
      ]
     },
     "metadata": {},
     "output_type": "display_data"
    },
    {
     "data": {
      "text/html": [
       "<pre style=\"white-space:pre;overflow-x:auto;line-height:normal;font-family:Menlo,'DejaVu Sans Mono',consolas,'Courier New',monospace\">Best reward: -27.00 - Last reward per episode: -27.00 - Mean reward last 10 episode: -27.00 - Delta mean: 0.00\n",
       "</pre>\n"
      ],
      "text/plain": [
       "Best reward: -27.00 - Last reward per episode: -27.00 - Mean reward last 10 episode: -27.00 - Delta mean: 0.00\n"
      ]
     },
     "metadata": {},
     "output_type": "display_data"
    },
    {
     "data": {
      "text/html": [
       "<pre style=\"white-space:pre;overflow-x:auto;line-height:normal;font-family:Menlo,'DejaVu Sans Mono',consolas,'Courier New',monospace\">Num timesteps: 429000 - Ep: 10781\n",
       "</pre>\n"
      ],
      "text/plain": [
       "Num timesteps: 429000 - Ep: 10781\n"
      ]
     },
     "metadata": {},
     "output_type": "display_data"
    },
    {
     "data": {
      "text/html": [
       "<pre style=\"white-space:pre;overflow-x:auto;line-height:normal;font-family:Menlo,'DejaVu Sans Mono',consolas,'Courier New',monospace\">Best reward: -27.00 - Last reward per episode: -27.00 - Mean reward last 10 episode: -27.00 - Delta mean: 0.00\n",
       "</pre>\n"
      ],
      "text/plain": [
       "Best reward: -27.00 - Last reward per episode: -27.00 - Mean reward last 10 episode: -27.00 - Delta mean: 0.00\n"
      ]
     },
     "metadata": {},
     "output_type": "display_data"
    },
    {
     "data": {
      "text/html": [
       "<pre style=\"white-space:pre;overflow-x:auto;line-height:normal;font-family:Menlo,'DejaVu Sans Mono',consolas,'Courier New',monospace\">Num timesteps: 432000 - Ep: 10863\n",
       "</pre>\n"
      ],
      "text/plain": [
       "Num timesteps: 432000 - Ep: 10863\n"
      ]
     },
     "metadata": {},
     "output_type": "display_data"
    },
    {
     "data": {
      "text/html": [
       "<pre style=\"white-space:pre;overflow-x:auto;line-height:normal;font-family:Menlo,'DejaVu Sans Mono',consolas,'Courier New',monospace\">Best reward: -27.00 - Last reward per episode: -27.00 - Mean reward last 10 episode: -27.00 - Delta mean: 0.00\n",
       "</pre>\n"
      ],
      "text/plain": [
       "Best reward: -27.00 - Last reward per episode: -27.00 - Mean reward last 10 episode: -27.00 - Delta mean: 0.00\n"
      ]
     },
     "metadata": {},
     "output_type": "display_data"
    },
    {
     "data": {
      "text/html": [
       "<pre style=\"white-space:pre;overflow-x:auto;line-height:normal;font-family:Menlo,'DejaVu Sans Mono',consolas,'Courier New',monospace\">Num timesteps: 435000 - Ep: 10944\n",
       "</pre>\n"
      ],
      "text/plain": [
       "Num timesteps: 435000 - Ep: 10944\n"
      ]
     },
     "metadata": {},
     "output_type": "display_data"
    },
    {
     "data": {
      "text/html": [
       "<pre style=\"white-space:pre;overflow-x:auto;line-height:normal;font-family:Menlo,'DejaVu Sans Mono',consolas,'Courier New',monospace\">Best reward: -27.00 - Last reward per episode: -27.00 - Mean reward last 10 episode: -27.00 - Delta mean: 0.00\n",
       "</pre>\n"
      ],
      "text/plain": [
       "Best reward: -27.00 - Last reward per episode: -27.00 - Mean reward last 10 episode: -27.00 - Delta mean: 0.00\n"
      ]
     },
     "metadata": {},
     "output_type": "display_data"
    },
    {
     "data": {
      "text/html": [
       "<pre style=\"white-space:pre;overflow-x:auto;line-height:normal;font-family:Menlo,'DejaVu Sans Mono',consolas,'Courier New',monospace\">Num timesteps: 438000 - Ep: 11025\n",
       "</pre>\n"
      ],
      "text/plain": [
       "Num timesteps: 438000 - Ep: 11025\n"
      ]
     },
     "metadata": {},
     "output_type": "display_data"
    },
    {
     "data": {
      "text/html": [
       "<pre style=\"white-space:pre;overflow-x:auto;line-height:normal;font-family:Menlo,'DejaVu Sans Mono',consolas,'Courier New',monospace\">Best reward: -27.00 - Last reward per episode: -27.00 - Mean reward last 10 episode: -27.00 - Delta mean: 0.00\n",
       "</pre>\n"
      ],
      "text/plain": [
       "Best reward: -27.00 - Last reward per episode: -27.00 - Mean reward last 10 episode: -27.00 - Delta mean: 0.00\n"
      ]
     },
     "metadata": {},
     "output_type": "display_data"
    },
    {
     "data": {
      "text/html": [
       "<pre style=\"white-space:pre;overflow-x:auto;line-height:normal;font-family:Menlo,'DejaVu Sans Mono',consolas,'Courier New',monospace\">Num timesteps: 441000 - Ep: 11106\n",
       "</pre>\n"
      ],
      "text/plain": [
       "Num timesteps: 441000 - Ep: 11106\n"
      ]
     },
     "metadata": {},
     "output_type": "display_data"
    },
    {
     "data": {
      "text/html": [
       "<pre style=\"white-space:pre;overflow-x:auto;line-height:normal;font-family:Menlo,'DejaVu Sans Mono',consolas,'Courier New',monospace\">Best reward: -27.00 - Last reward per episode: -27.00 - Mean reward last 10 episode: -27.00 - Delta mean: 0.00\n",
       "</pre>\n"
      ],
      "text/plain": [
       "Best reward: -27.00 - Last reward per episode: -27.00 - Mean reward last 10 episode: -27.00 - Delta mean: 0.00\n"
      ]
     },
     "metadata": {},
     "output_type": "display_data"
    },
    {
     "data": {
      "text/html": [
       "<pre style=\"white-space:pre;overflow-x:auto;line-height:normal;font-family:Menlo,'DejaVu Sans Mono',consolas,'Courier New',monospace\">Num timesteps: 444000 - Ep: 11187\n",
       "</pre>\n"
      ],
      "text/plain": [
       "Num timesteps: 444000 - Ep: 11187\n"
      ]
     },
     "metadata": {},
     "output_type": "display_data"
    },
    {
     "data": {
      "text/html": [
       "<pre style=\"white-space:pre;overflow-x:auto;line-height:normal;font-family:Menlo,'DejaVu Sans Mono',consolas,'Courier New',monospace\">Best reward: -27.00 - Last reward per episode: -27.00 - Mean reward last 10 episode: -27.00 - Delta mean: 0.00\n",
       "</pre>\n"
      ],
      "text/plain": [
       "Best reward: -27.00 - Last reward per episode: -27.00 - Mean reward last 10 episode: -27.00 - Delta mean: 0.00\n"
      ]
     },
     "metadata": {},
     "output_type": "display_data"
    },
    {
     "data": {
      "text/html": [
       "<pre style=\"white-space:pre;overflow-x:auto;line-height:normal;font-family:Menlo,'DejaVu Sans Mono',consolas,'Courier New',monospace\">Num timesteps: 447000 - Ep: 11268\n",
       "</pre>\n"
      ],
      "text/plain": [
       "Num timesteps: 447000 - Ep: 11268\n"
      ]
     },
     "metadata": {},
     "output_type": "display_data"
    },
    {
     "data": {
      "text/html": [
       "<pre style=\"white-space:pre;overflow-x:auto;line-height:normal;font-family:Menlo,'DejaVu Sans Mono',consolas,'Courier New',monospace\">Best reward: -27.00 - Last reward per episode: -27.00 - Mean reward last 10 episode: -27.00 - Delta mean: 0.00\n",
       "</pre>\n"
      ],
      "text/plain": [
       "Best reward: -27.00 - Last reward per episode: -27.00 - Mean reward last 10 episode: -27.00 - Delta mean: 0.00\n"
      ]
     },
     "metadata": {},
     "output_type": "display_data"
    },
    {
     "data": {
      "text/html": [
       "<pre style=\"white-space:pre;overflow-x:auto;line-height:normal;font-family:Menlo,'DejaVu Sans Mono',consolas,'Courier New',monospace\">Num timesteps: 450000 - Ep: 11349\n",
       "</pre>\n"
      ],
      "text/plain": [
       "Num timesteps: 450000 - Ep: 11349\n"
      ]
     },
     "metadata": {},
     "output_type": "display_data"
    },
    {
     "data": {
      "text/html": [
       "<pre style=\"white-space:pre;overflow-x:auto;line-height:normal;font-family:Menlo,'DejaVu Sans Mono',consolas,'Courier New',monospace\">Best reward: -27.00 - Last reward per episode: -27.00 - Mean reward last 10 episode: -27.00 - Delta mean: 0.00\n",
       "</pre>\n"
      ],
      "text/plain": [
       "Best reward: -27.00 - Last reward per episode: -27.00 - Mean reward last 10 episode: -27.00 - Delta mean: 0.00\n"
      ]
     },
     "metadata": {},
     "output_type": "display_data"
    },
    {
     "data": {
      "text/html": [
       "<pre style=\"white-space:pre;overflow-x:auto;line-height:normal;font-family:Menlo,'DejaVu Sans Mono',consolas,'Courier New',monospace\">Num timesteps: 453000 - Ep: 11430\n",
       "</pre>\n"
      ],
      "text/plain": [
       "Num timesteps: 453000 - Ep: 11430\n"
      ]
     },
     "metadata": {},
     "output_type": "display_data"
    },
    {
     "data": {
      "text/html": [
       "<pre style=\"white-space:pre;overflow-x:auto;line-height:normal;font-family:Menlo,'DejaVu Sans Mono',consolas,'Courier New',monospace\">Best reward: -27.00 - Last reward per episode: -27.00 - Mean reward last 10 episode: -27.00 - Delta mean: 0.00\n",
       "</pre>\n"
      ],
      "text/plain": [
       "Best reward: -27.00 - Last reward per episode: -27.00 - Mean reward last 10 episode: -27.00 - Delta mean: 0.00\n"
      ]
     },
     "metadata": {},
     "output_type": "display_data"
    },
    {
     "data": {
      "text/html": [
       "<pre style=\"white-space:pre;overflow-x:auto;line-height:normal;font-family:Menlo,'DejaVu Sans Mono',consolas,'Courier New',monospace\">Num timesteps: 456000 - Ep: 11511\n",
       "</pre>\n"
      ],
      "text/plain": [
       "Num timesteps: 456000 - Ep: 11511\n"
      ]
     },
     "metadata": {},
     "output_type": "display_data"
    },
    {
     "data": {
      "text/html": [
       "<pre style=\"white-space:pre;overflow-x:auto;line-height:normal;font-family:Menlo,'DejaVu Sans Mono',consolas,'Courier New',monospace\">Best reward: -27.00 - Last reward per episode: -27.00 - Mean reward last 10 episode: -27.00 - Delta mean: 0.00\n",
       "</pre>\n"
      ],
      "text/plain": [
       "Best reward: -27.00 - Last reward per episode: -27.00 - Mean reward last 10 episode: -27.00 - Delta mean: 0.00\n"
      ]
     },
     "metadata": {},
     "output_type": "display_data"
    },
    {
     "data": {
      "text/html": [
       "<pre style=\"white-space:pre;overflow-x:auto;line-height:normal;font-family:Menlo,'DejaVu Sans Mono',consolas,'Courier New',monospace\">Num timesteps: 459000 - Ep: 11592\n",
       "</pre>\n"
      ],
      "text/plain": [
       "Num timesteps: 459000 - Ep: 11592\n"
      ]
     },
     "metadata": {},
     "output_type": "display_data"
    },
    {
     "data": {
      "text/html": [
       "<pre style=\"white-space:pre;overflow-x:auto;line-height:normal;font-family:Menlo,'DejaVu Sans Mono',consolas,'Courier New',monospace\">Best reward: -27.00 - Last reward per episode: -27.00 - Mean reward last 10 episode: -27.00 - Delta mean: 0.00\n",
       "</pre>\n"
      ],
      "text/plain": [
       "Best reward: -27.00 - Last reward per episode: -27.00 - Mean reward last 10 episode: -27.00 - Delta mean: 0.00\n"
      ]
     },
     "metadata": {},
     "output_type": "display_data"
    },
    {
     "data": {
      "text/html": [
       "<pre style=\"white-space:pre;overflow-x:auto;line-height:normal;font-family:Menlo,'DejaVu Sans Mono',consolas,'Courier New',monospace\">Num timesteps: 462000 - Ep: 11673\n",
       "</pre>\n"
      ],
      "text/plain": [
       "Num timesteps: 462000 - Ep: 11673\n"
      ]
     },
     "metadata": {},
     "output_type": "display_data"
    },
    {
     "data": {
      "text/html": [
       "<pre style=\"white-space:pre;overflow-x:auto;line-height:normal;font-family:Menlo,'DejaVu Sans Mono',consolas,'Courier New',monospace\">Best reward: -27.00 - Last reward per episode: -27.00 - Mean reward last 10 episode: -27.00 - Delta mean: 0.00\n",
       "</pre>\n"
      ],
      "text/plain": [
       "Best reward: -27.00 - Last reward per episode: -27.00 - Mean reward last 10 episode: -27.00 - Delta mean: 0.00\n"
      ]
     },
     "metadata": {},
     "output_type": "display_data"
    },
    {
     "data": {
      "text/html": [
       "<pre style=\"white-space:pre;overflow-x:auto;line-height:normal;font-family:Menlo,'DejaVu Sans Mono',consolas,'Courier New',monospace\">Num timesteps: 465000 - Ep: 11754\n",
       "</pre>\n"
      ],
      "text/plain": [
       "Num timesteps: 465000 - Ep: 11754\n"
      ]
     },
     "metadata": {},
     "output_type": "display_data"
    },
    {
     "data": {
      "text/html": [
       "<pre style=\"white-space:pre;overflow-x:auto;line-height:normal;font-family:Menlo,'DejaVu Sans Mono',consolas,'Courier New',monospace\">Best reward: -27.00 - Last reward per episode: -27.00 - Mean reward last 10 episode: -27.00 - Delta mean: 0.00\n",
       "</pre>\n"
      ],
      "text/plain": [
       "Best reward: -27.00 - Last reward per episode: -27.00 - Mean reward last 10 episode: -27.00 - Delta mean: 0.00\n"
      ]
     },
     "metadata": {},
     "output_type": "display_data"
    },
    {
     "data": {
      "text/html": [
       "<pre style=\"white-space:pre;overflow-x:auto;line-height:normal;font-family:Menlo,'DejaVu Sans Mono',consolas,'Courier New',monospace\">Num timesteps: 468000 - Ep: 11835\n",
       "</pre>\n"
      ],
      "text/plain": [
       "Num timesteps: 468000 - Ep: 11835\n"
      ]
     },
     "metadata": {},
     "output_type": "display_data"
    },
    {
     "data": {
      "text/html": [
       "<pre style=\"white-space:pre;overflow-x:auto;line-height:normal;font-family:Menlo,'DejaVu Sans Mono',consolas,'Courier New',monospace\">Best reward: -27.00 - Last reward per episode: -27.00 - Mean reward last 10 episode: -27.00 - Delta mean: 0.00\n",
       "</pre>\n"
      ],
      "text/plain": [
       "Best reward: -27.00 - Last reward per episode: -27.00 - Mean reward last 10 episode: -27.00 - Delta mean: 0.00\n"
      ]
     },
     "metadata": {},
     "output_type": "display_data"
    },
    {
     "data": {
      "text/html": [
       "<pre style=\"white-space:pre;overflow-x:auto;line-height:normal;font-family:Menlo,'DejaVu Sans Mono',consolas,'Courier New',monospace\">Num timesteps: 471000 - Ep: 11917\n",
       "</pre>\n"
      ],
      "text/plain": [
       "Num timesteps: 471000 - Ep: 11917\n"
      ]
     },
     "metadata": {},
     "output_type": "display_data"
    },
    {
     "data": {
      "text/html": [
       "<pre style=\"white-space:pre;overflow-x:auto;line-height:normal;font-family:Menlo,'DejaVu Sans Mono',consolas,'Courier New',monospace\">Best reward: -27.00 - Last reward per episode: -27.00 - Mean reward last 10 episode: -27.00 - Delta mean: 0.00\n",
       "</pre>\n"
      ],
      "text/plain": [
       "Best reward: -27.00 - Last reward per episode: -27.00 - Mean reward last 10 episode: -27.00 - Delta mean: 0.00\n"
      ]
     },
     "metadata": {},
     "output_type": "display_data"
    },
    {
     "data": {
      "text/html": [
       "<pre style=\"white-space:pre;overflow-x:auto;line-height:normal;font-family:Menlo,'DejaVu Sans Mono',consolas,'Courier New',monospace\">Num timesteps: 474000 - Ep: 11998\n",
       "</pre>\n"
      ],
      "text/plain": [
       "Num timesteps: 474000 - Ep: 11998\n"
      ]
     },
     "metadata": {},
     "output_type": "display_data"
    },
    {
     "data": {
      "text/html": [
       "<pre style=\"white-space:pre;overflow-x:auto;line-height:normal;font-family:Menlo,'DejaVu Sans Mono',consolas,'Courier New',monospace\">Best reward: -27.00 - Last reward per episode: -27.00 - Mean reward last 10 episode: -27.00 - Delta mean: 0.00\n",
       "</pre>\n"
      ],
      "text/plain": [
       "Best reward: -27.00 - Last reward per episode: -27.00 - Mean reward last 10 episode: -27.00 - Delta mean: 0.00\n"
      ]
     },
     "metadata": {},
     "output_type": "display_data"
    },
    {
     "data": {
      "text/html": [
       "<pre style=\"white-space:pre;overflow-x:auto;line-height:normal;font-family:Menlo,'DejaVu Sans Mono',consolas,'Courier New',monospace\">Num timesteps: 477000 - Ep: 12079\n",
       "</pre>\n"
      ],
      "text/plain": [
       "Num timesteps: 477000 - Ep: 12079\n"
      ]
     },
     "metadata": {},
     "output_type": "display_data"
    },
    {
     "data": {
      "text/html": [
       "<pre style=\"white-space:pre;overflow-x:auto;line-height:normal;font-family:Menlo,'DejaVu Sans Mono',consolas,'Courier New',monospace\">Best reward: -27.00 - Last reward per episode: -27.00 - Mean reward last 10 episode: -27.00 - Delta mean: 0.00\n",
       "</pre>\n"
      ],
      "text/plain": [
       "Best reward: -27.00 - Last reward per episode: -27.00 - Mean reward last 10 episode: -27.00 - Delta mean: 0.00\n"
      ]
     },
     "metadata": {},
     "output_type": "display_data"
    },
    {
     "data": {
      "text/html": [
       "<pre style=\"white-space:pre;overflow-x:auto;line-height:normal;font-family:Menlo,'DejaVu Sans Mono',consolas,'Courier New',monospace\">Num timesteps: 480000 - Ep: 12160\n",
       "</pre>\n"
      ],
      "text/plain": [
       "Num timesteps: 480000 - Ep: 12160\n"
      ]
     },
     "metadata": {},
     "output_type": "display_data"
    },
    {
     "data": {
      "text/html": [
       "<pre style=\"white-space:pre;overflow-x:auto;line-height:normal;font-family:Menlo,'DejaVu Sans Mono',consolas,'Courier New',monospace\">Best reward: -27.00 - Last reward per episode: -27.00 - Mean reward last 10 episode: -27.00 - Delta mean: 0.00\n",
       "</pre>\n"
      ],
      "text/plain": [
       "Best reward: -27.00 - Last reward per episode: -27.00 - Mean reward last 10 episode: -27.00 - Delta mean: 0.00\n"
      ]
     },
     "metadata": {},
     "output_type": "display_data"
    },
    {
     "data": {
      "text/html": [
       "<pre style=\"white-space:pre;overflow-x:auto;line-height:normal;font-family:Menlo,'DejaVu Sans Mono',consolas,'Courier New',monospace\">Num timesteps: 483000 - Ep: 12241\n",
       "</pre>\n"
      ],
      "text/plain": [
       "Num timesteps: 483000 - Ep: 12241\n"
      ]
     },
     "metadata": {},
     "output_type": "display_data"
    },
    {
     "data": {
      "text/html": [
       "<pre style=\"white-space:pre;overflow-x:auto;line-height:normal;font-family:Menlo,'DejaVu Sans Mono',consolas,'Courier New',monospace\">Best reward: -27.00 - Last reward per episode: -27.00 - Mean reward last 10 episode: -27.00 - Delta mean: 0.00\n",
       "</pre>\n"
      ],
      "text/plain": [
       "Best reward: -27.00 - Last reward per episode: -27.00 - Mean reward last 10 episode: -27.00 - Delta mean: 0.00\n"
      ]
     },
     "metadata": {},
     "output_type": "display_data"
    },
    {
     "data": {
      "text/html": [
       "<pre style=\"white-space:pre;overflow-x:auto;line-height:normal;font-family:Menlo,'DejaVu Sans Mono',consolas,'Courier New',monospace\">Num timesteps: 486000 - Ep: 12322\n",
       "</pre>\n"
      ],
      "text/plain": [
       "Num timesteps: 486000 - Ep: 12322\n"
      ]
     },
     "metadata": {},
     "output_type": "display_data"
    },
    {
     "data": {
      "text/html": [
       "<pre style=\"white-space:pre;overflow-x:auto;line-height:normal;font-family:Menlo,'DejaVu Sans Mono',consolas,'Courier New',monospace\">Best reward: -27.00 - Last reward per episode: -27.00 - Mean reward last 10 episode: -27.00 - Delta mean: 0.00\n",
       "</pre>\n"
      ],
      "text/plain": [
       "Best reward: -27.00 - Last reward per episode: -27.00 - Mean reward last 10 episode: -27.00 - Delta mean: 0.00\n"
      ]
     },
     "metadata": {},
     "output_type": "display_data"
    },
    {
     "data": {
      "text/html": [
       "<pre style=\"white-space:pre;overflow-x:auto;line-height:normal;font-family:Menlo,'DejaVu Sans Mono',consolas,'Courier New',monospace\">Num timesteps: 489000 - Ep: 12403\n",
       "</pre>\n"
      ],
      "text/plain": [
       "Num timesteps: 489000 - Ep: 12403\n"
      ]
     },
     "metadata": {},
     "output_type": "display_data"
    },
    {
     "data": {
      "text/html": [
       "<pre style=\"white-space:pre;overflow-x:auto;line-height:normal;font-family:Menlo,'DejaVu Sans Mono',consolas,'Courier New',monospace\">Best reward: -27.00 - Last reward per episode: -27.00 - Mean reward last 10 episode: -27.00 - Delta mean: 0.00\n",
       "</pre>\n"
      ],
      "text/plain": [
       "Best reward: -27.00 - Last reward per episode: -27.00 - Mean reward last 10 episode: -27.00 - Delta mean: 0.00\n"
      ]
     },
     "metadata": {},
     "output_type": "display_data"
    },
    {
     "data": {
      "text/html": [
       "<pre style=\"white-space:pre;overflow-x:auto;line-height:normal;font-family:Menlo,'DejaVu Sans Mono',consolas,'Courier New',monospace\">Num timesteps: 492000 - Ep: 12485\n",
       "</pre>\n"
      ],
      "text/plain": [
       "Num timesteps: 492000 - Ep: 12485\n"
      ]
     },
     "metadata": {},
     "output_type": "display_data"
    },
    {
     "data": {
      "text/html": [
       "<pre style=\"white-space:pre;overflow-x:auto;line-height:normal;font-family:Menlo,'DejaVu Sans Mono',consolas,'Courier New',monospace\">Best reward: -27.00 - Last reward per episode: -27.00 - Mean reward last 10 episode: -27.00 - Delta mean: 0.00\n",
       "</pre>\n"
      ],
      "text/plain": [
       "Best reward: -27.00 - Last reward per episode: -27.00 - Mean reward last 10 episode: -27.00 - Delta mean: 0.00\n"
      ]
     },
     "metadata": {},
     "output_type": "display_data"
    },
    {
     "data": {
      "text/html": [
       "<pre style=\"white-space:pre;overflow-x:auto;line-height:normal;font-family:Menlo,'DejaVu Sans Mono',consolas,'Courier New',monospace\">Num timesteps: 495000 - Ep: 12566\n",
       "</pre>\n"
      ],
      "text/plain": [
       "Num timesteps: 495000 - Ep: 12566\n"
      ]
     },
     "metadata": {},
     "output_type": "display_data"
    },
    {
     "data": {
      "text/html": [
       "<pre style=\"white-space:pre;overflow-x:auto;line-height:normal;font-family:Menlo,'DejaVu Sans Mono',consolas,'Courier New',monospace\">Best reward: -27.00 - Last reward per episode: -27.00 - Mean reward last 10 episode: -27.00 - Delta mean: 0.00\n",
       "</pre>\n"
      ],
      "text/plain": [
       "Best reward: -27.00 - Last reward per episode: -27.00 - Mean reward last 10 episode: -27.00 - Delta mean: 0.00\n"
      ]
     },
     "metadata": {},
     "output_type": "display_data"
    },
    {
     "data": {
      "text/html": [
       "<pre style=\"white-space:pre;overflow-x:auto;line-height:normal;font-family:Menlo,'DejaVu Sans Mono',consolas,'Courier New',monospace\">Num timesteps: 498000 - Ep: 12647\n",
       "</pre>\n"
      ],
      "text/plain": [
       "Num timesteps: 498000 - Ep: 12647\n"
      ]
     },
     "metadata": {},
     "output_type": "display_data"
    },
    {
     "data": {
      "text/html": [
       "<pre style=\"white-space:pre;overflow-x:auto;line-height:normal;font-family:Menlo,'DejaVu Sans Mono',consolas,'Courier New',monospace\">Best reward: -27.00 - Last reward per episode: -27.00 - Mean reward last 10 episode: -27.00 - Delta mean: 0.00\n",
       "</pre>\n"
      ],
      "text/plain": [
       "Best reward: -27.00 - Last reward per episode: -27.00 - Mean reward last 10 episode: -27.00 - Delta mean: 0.00\n"
      ]
     },
     "metadata": {},
     "output_type": "display_data"
    },
    {
     "data": {
      "text/html": [
       "<pre style=\"white-space:pre;overflow-x:auto;line-height:normal;font-family:Menlo,'DejaVu Sans Mono',consolas,'Courier New',monospace\">Num timesteps: 501000 - Ep: 12728\n",
       "</pre>\n"
      ],
      "text/plain": [
       "Num timesteps: 501000 - Ep: 12728\n"
      ]
     },
     "metadata": {},
     "output_type": "display_data"
    },
    {
     "data": {
      "text/html": [
       "<pre style=\"white-space:pre;overflow-x:auto;line-height:normal;font-family:Menlo,'DejaVu Sans Mono',consolas,'Courier New',monospace\">Best reward: -27.00 - Last reward per episode: -27.00 - Mean reward last 10 episode: -27.00 - Delta mean: 0.00\n",
       "</pre>\n"
      ],
      "text/plain": [
       "Best reward: -27.00 - Last reward per episode: -27.00 - Mean reward last 10 episode: -27.00 - Delta mean: 0.00\n"
      ]
     },
     "metadata": {},
     "output_type": "display_data"
    },
    {
     "data": {
      "text/html": [
       "<pre style=\"white-space:pre;overflow-x:auto;line-height:normal;font-family:Menlo,'DejaVu Sans Mono',consolas,'Courier New',monospace\"></pre>\n"
      ],
      "text/plain": []
     },
     "metadata": {},
     "output_type": "display_data"
    },
    {
     "data": {
      "text/html": [
       "<pre style=\"white-space:pre;overflow-x:auto;line-height:normal;font-family:Menlo,'DejaVu Sans Mono',consolas,'Courier New',monospace\">\n",
       "</pre>\n"
      ],
      "text/plain": [
       "\n"
      ]
     },
     "metadata": {},
     "output_type": "display_data"
    }
   ],
   "source": [
    "def make_env(env_id: str, rank: int, seed: int = 0, render_mode = None, action_type = \"Box\", observation_type = \"Continous\", reward_function = \"Absolute\", task = \"InvertedCartPole\"):\n",
    "    \"\"\"\n",
    "    Utility function for multiprocessed env.\n",
    "\n",
    "    :param env_id: the environment ID\n",
    "    :param num_env: the number of environments you wish to have in subprocesses\n",
    "    :param seed: the inital seed for RNG\n",
    "    :param rank: index of the subprocess\n",
    "    \"\"\"\n",
    "    def _init():\n",
    "        env = gym.make(env_id, render_mode=render_mode, action_type = action_type, observation_type = observation_type, reward_function = reward_function, task = task) #gym.make(env_id, render_mode=\"human\")\n",
    "        env.reset(seed=seed + rank)\n",
    "        return env\n",
    "    set_random_seed(seed)\n",
    "    return _init\n",
    "\n",
    "if __name__ == \"__main__\":\n",
    "    # log_dir = \"tmpa/\"\n",
    "    # os.makedirs(log_dir, exist_ok=True)\n",
    "\n",
    "    env_id = \"CartPole-v1\"\n",
    "    num_cpu = 3  # Number of processes to use\n",
    "    total_timesteps=500_000 #\n",
    "    Algorithm_name = 'PPO'\n",
    "    reward_function = \"Sparse\"\n",
    "\n",
    "    log_dir = os.path.join('Training', 'Save Models', Algorithm_name)\n",
    "    os.makedirs(log_dir, exist_ok=True)\n",
    "\n",
    "    # Create the vectorized environment\n",
    "    vec_env = SubprocVecEnv([make_env(env_id, i, reward_function=reward_function) for i in range(num_cpu)])\n",
    "    vec_env = VecMonitor(vec_env, log_dir)\n",
    "    # env = gym.make(env_id)\n",
    "    # print(vec_env)\n",
    "\n",
    "    # Stable Baselines provides you with make_vec_env() helper\n",
    "    # which does exactly the previous steps for you.\n",
    "    # You can choose between `DummyVecEnv` (usually faster) and `SubprocVecEnv`\n",
    "    env = make_vec_env(env_id, n_envs=num_cpu, seed=0, vec_env_cls=SubprocVecEnv)\n",
    "    callback = SaveOnBestTrainingRewardCallback(check_freq=1000, log_dir=log_dir, reward_function=reward_function, file_name='{}_ip_{}_{}'.format(Algorithm_name, num_cpu, total_timesteps))\n",
    "\n",
    "\n",
    "    model = PPO(\"MlpPolicy\", vec_env, verbose=0)\n",
    "    model.learn(total_timesteps=total_timesteps, progress_bar=True, callback=callback) #250000 callback=callback"
   ]
  },
  {
   "cell_type": "markdown",
   "metadata": {},
   "source": [
    "### Graph: Display Episode Rewards for PPO algorithm / Reward Function"
   ]
  },
  {
   "cell_type": "code",
   "execution_count": 4,
   "metadata": {},
   "outputs": [
    {
     "data": {
      "image/png": "[encoded data removed]",
      "text/plain": [
       "<Figure size 800x200 with 1 Axes>"
      ]
     },
     "metadata": {},
     "output_type": "display_data"
    },
    {
     "data": {
      "image/png": "[encoded data removed]",
      "text/plain": [
       "<Figure size 800x200 with 1 Axes>"
      ]
     },
     "metadata": {},
     "output_type": "display_data"
    }
   ],
   "source": [
    "plot_results([log_dir], total_timesteps, results_plotter.X_TIMESTEPS, \"Inverted-CartPole: {}, {}\".format(Algorithm_name, reward_function))\n",
    "plt.show()\n",
    "plot_results([log_dir], total_timesteps, results_plotter.X_EPISODES, \"Inverted-CartPole: {}, {}\".format(Algorithm_name, reward_function))\n",
    "plt.show()"
   ]
  },
  {
   "cell_type": "markdown",
   "metadata": {},
   "source": [
    "Save model"
   ]
  },
  {
   "cell_type": "code",
   "execution_count": 5,
   "metadata": {},
   "outputs": [
    {
     "name": "stdout",
     "output_type": "stream",
     "text": [
      "The loaded_model has <stable_baselines3.ppo.ppo.PPO object at 0x00000277DA8D9A30> transitions in its buffer\n"
     ]
    }
   ],
   "source": [
    "# the saved model does not contain the replay buffer\n",
    "PPO_Path = os.path.join('Training', 'Save Models','PPO', 'Best Models', 'Absolute', 'PPO_ip_3_400000.zip')\n",
    "loaded_model = PPO.load(PPO_Path)\n",
    "print(f\"The loaded_model has {loaded_model} transitions in its buffer\")"
   ]
  },
  {
   "cell_type": "markdown",
   "metadata": {},
   "source": [
    "## Testing Phase"
   ]
  },
  {
   "cell_type": "code",
   "execution_count": null,
   "metadata": {},
   "outputs": [],
   "source": [
    "environment_name = 'CartPole-v1'\n",
    "env = gym.make(environment_name, render_mode=\"human\", action_type = \"Box\", observation_type = \"Continous\", reward_function = \"Absolute\", task = \"InvertedCartPole\")\n",
    "obs_ls = []\n",
    "episodes = 100\n",
    "\n",
    "pole_pos_np_min = defaultdict(lambda: 0)\n",
    "pole_pos_np_max = defaultdict(lambda: 0)\n",
    "avg_error_pole_pos_dict = defaultdict(lambda: 0)\n",
    "\n",
    "cart_pos_np_min = defaultdict(lambda: 0)\n",
    "cart_pos_np_max = defaultdict(lambda: 0)\n",
    "avg_error_cart_pos_dict = defaultdict(lambda: 0)\n",
    "\n",
    "pole_vel_np_min = defaultdict(lambda: 0)\n",
    "pole_vel_np_max = defaultdict(lambda: 0)\n",
    "avg_error_pole_vel_dict = defaultdict(lambda: 0)\n",
    "\n",
    "cart_vel_np_min = defaultdict(lambda: 0)\n",
    "cart_vel_np_max = defaultdict(lambda: 0)\n",
    "avg_error_cart_vel_dict = defaultdict(lambda: 0)\n",
    "\n",
    "N_pos_dict = defaultdict(lambda: 0)\n",
    "N_vel_dict = defaultdict(lambda: 0)\n",
    "\n",
    "for episodes in range(1, episodes+1):\n",
    "    obs, _ = env.reset()\n",
    "    done = False\n",
    "    score = 0\n",
    "    time_step = 0\n",
    "\n",
    "    while not done:\n",
    "        env.render()\n",
    "        action = loaded_model.predict(obs)\n",
    "        obs, reward, done, truncated, info = env.step(action[0])\n",
    "        score += reward\n",
    "        obs_ls.append(obs[2])\n",
    "\n",
    "        time_step += 1\n",
    "\n",
    "        cart_pos = obs[0]\n",
    "        cart_vel = obs[1]\n",
    "        pole_pos = obs[2]\n",
    "        pole_vel = obs[3]\n",
    "\n",
    "        if cart_pos >= cart_pos_np_max[time_step - 1]:\n",
    "            cart_pos_np_max[time_step - 1] = cart_pos\n",
    "        if cart_pos <= cart_pos_np_min[time_step - 1]:\n",
    "            cart_pos_np_min[time_step - 1] = cart_pos\n",
    "\n",
    "        if pole_pos >= pole_pos_np_max[time_step - 1]:\n",
    "            pole_pos_np_max[time_step - 1] = pole_pos\n",
    "        if pole_pos <= pole_pos_np_min[time_step - 1]:\n",
    "            pole_pos_np_min[time_step - 1] = pole_pos\n",
    "\n",
    "        N_pos_dict[time_step - 1] += 1\n",
    "        avg_error_cart_pos_dict[time_step - 1] = avg_error_cart_pos_dict[time_step - 1] + (cart_pos - avg_error_cart_pos_dict[time_step - 1]) / N_pos_dict[time_step - 1]\n",
    "        avg_error_pole_pos_dict[time_step - 1] = avg_error_pole_pos_dict[time_step - 1] + (pole_pos - avg_error_pole_pos_dict[time_step - 1]) / N_pos_dict[time_step - 1]\n",
    "\n",
    "        if cart_vel >= cart_vel_np_max[time_step - 1]:\n",
    "            cart_vel_np_max[time_step - 1] = cart_vel\n",
    "        if cart_vel <= cart_vel_np_min[time_step - 1]:\n",
    "            cart_vel_np_min[time_step - 1] = cart_vel\n",
    "\n",
    "        if pole_vel >= pole_vel_np_max[time_step - 1]:\n",
    "            pole_vel_np_max[time_step - 1] = pole_vel\n",
    "        if pole_vel <= pole_vel_np_min[time_step - 1]:\n",
    "            pole_vel_np_min[time_step - 1] = pole_vel\n",
    "\n",
    "        N_vel_dict[time_step - 1] += 1\n",
    "        avg_error_cart_vel_dict[time_step - 1] = avg_error_cart_vel_dict[time_step - 1] + (cart_vel - avg_error_cart_vel_dict[time_step - 1]) / N_vel_dict[time_step - 1]\n",
    "        avg_error_pole_vel_dict[time_step - 1] = avg_error_pole_vel_dict[time_step - 1] + (pole_vel - avg_error_pole_vel_dict[time_step - 1]) / N_vel_dict[time_step - 1]\n",
    "        \n",
    "    # print('Episode:{} Score:{}'.format(episodes, score))\n",
    "env.close()"
   ]
  },
  {
   "cell_type": "markdown",
   "metadata": {},
   "source": [
    "### Graph: Avg.Pole Position and Velocity vs Time steps [Testing] "
   ]
  },
  {
   "cell_type": "code",
   "execution_count": 27,
   "metadata": {},
   "outputs": [
    {
     "name": "stdout",
     "output_type": "stream",
     "text": [
      "stabilized_index_pos:  116\n",
      "Minimum value in stabilized region: -0.0514992\n",
      "Maximum value in stabilized region: 0.04487639\n"
     ]
    },
    {
     "data": {
      "image/png": "[encoded data removed]",
      "text/plain": [
       "<Figure size 640x480 with 1 Axes>"
      ]
     },
     "metadata": {},
     "output_type": "display_data"
    }
   ],
   "source": [
    "# Replace 0s in pole_pos_np_min and pole_pos_np_max with values from avg_error_pole_pos_dict\n",
    "for i in range(len(pole_pos_np_min)):\n",
    "    if pole_pos_np_min[i] == 0:\n",
    "        pole_pos_np_min[i] = avg_error_pole_pos_dict[i]\n",
    "    if pole_pos_np_max[i] == 0:\n",
    "        pole_pos_np_max[i] = avg_error_pole_pos_dict[i]\n",
    "\n",
    "# Replace 0s in pole_vel_np_min and pole_vel_np_max with values from avg_error_pole_vel_dict\n",
    "for i in range(len(pole_vel_np_min)):\n",
    "    if pole_vel_np_min[i] == 0:\n",
    "        pole_vel_np_min[i] = avg_error_pole_vel_dict[i]\n",
    "    if pole_vel_np_max[i] == 0:\n",
    "        pole_vel_np_max[i] = avg_error_pole_vel_dict[i]\n",
    "\n",
    "# Plotting pole position\n",
    "fig, ax = plt.subplots()\n",
    "\n",
    "\n",
    "# Plotting pole velocity\n",
    "y_vel_min = [array for array in pole_vel_np_min.values()]\n",
    "y_vel_max = [array for array in pole_vel_np_max.values()]\n",
    "y_vel_avg = [array for array in avg_error_pole_vel_dict.values()]\n",
    "\n",
    "x = np.linspace(1, len(y_vel_avg), len(y_vel_avg))\n",
    "\n",
    "# Plot min-max range for pole velocity\n",
    "ax.fill_between(x, y_vel_min, y_vel_max, alpha=.4, linewidth=0, label='Pole Vel Min-Max Range')\n",
    "\n",
    "# Plot average error for pole velocity\n",
    "ax.plot(x, y_vel_avg, linewidth=2, label='Pole Vel Avg')\n",
    "\n",
    "y_pos_min = [array for array in pole_pos_np_min.values()]\n",
    "y_pos_max = [array for array in pole_pos_np_max.values()]\n",
    "y_pos_avg = [array for array in avg_error_pole_pos_dict.values()]\n",
    "\n",
    "# Plot min-max range for pole position\n",
    "ax.fill_between(x, y_pos_min, y_pos_max, alpha=.4, linewidth=0, label='Pole Pos Min-Max Range')\n",
    "\n",
    "# Plot average error for pole position\n",
    "ax.plot(x, y_pos_avg, linewidth=2, label='Pole Pos Avg')\n",
    "\n",
    "# Find the index where y_avg is near 0 (stabilized) for pole position\n",
    "stabilized_index_pos = np.where(np.abs(y_pos_avg) < 0.008)[0]\n",
    "print(\"stabilized_index_pos: \", stabilized_index_pos[0])\n",
    "\n",
    "# Plot dashed line for stabilized region and change its color to red\n",
    "if len(stabilized_index_pos) > 0:\n",
    "    start_stable = stabilized_index_pos[0]\n",
    "    end_stable = stabilized_index_pos[-1]\n",
    "    stabilized_y_min = min(y_pos_min[start_stable:end_stable+1])\n",
    "    stabilized_y_max = max(y_pos_max[start_stable:end_stable+1])\n",
    "    print(\"Minimum value in stabilized region:\", stabilized_y_min)\n",
    "    print(\"Maximum value in stabilized region:\", stabilized_y_max)\n",
    "\n",
    "    start_stable = stabilized_index_pos[0]\n",
    "    end_stable = stabilized_index_pos[-1]\n",
    "    ax.plot(x[start_stable:end_stable+1], y_pos_avg[start_stable:end_stable+1], 'r--', linewidth=2, label='Stabilized Region')\n",
    "\n",
    "    # Plot markers for stabilized time steps\n",
    "    ax.plot(x[start_stable], y_pos_avg[start_stable], 'ro', markersize=6, label='Stabilized Time Steps')\n",
    "\n",
    "\n",
    "# Set grid\n",
    "ax.grid(True)\n",
    "\n",
    "# Add title and labels\n",
    "ax.set_title('Avg. Pole Position and Velocity vs. Time steps [Testing]')\n",
    "ax.set_xlabel('Time steps')\n",
    "ax.set_ylabel('Avg. Pole Position / Velocity')\n",
    "\n",
    "# Add legend\n",
    "ax.legend()\n",
    "\n",
    "plt.show()"
   ]
  },
  {
   "cell_type": "markdown",
   "metadata": {},
   "source": [
    "### Graph: Avg.Cart Position and Velocity vs Time steps [Testing] "
   ]
  },
  {
   "cell_type": "code",
   "execution_count": 28,
   "metadata": {},
   "outputs": [
    {
     "name": "stdout",
     "output_type": "stream",
     "text": [
      "stabilized_index_cart:  116\n",
      "Minimum value in stabilized region: -0.16163129\n",
      "Maximum value in stabilized region: 0.32954288\n"
     ]
    },
    {
     "data": {
      "image/png": "[encoded data removed]",
      "text/plain": [
       "<Figure size 640x480 with 1 Axes>"
      ]
     },
     "metadata": {},
     "output_type": "display_data"
    }
   ],
   "source": [
    "# Replace 0s in pole_pos_np_min and pole_pos_np_max with values from avg_error_pole_pos_dict\n",
    "for i in range(len(cart_pos_np_min)):\n",
    "    if cart_pos_np_min[i] == 0:\n",
    "        cart_pos_np_min[i] = avg_error_cart_pos_dict[i]\n",
    "    if pole_pos_np_max[i] == 0:\n",
    "        cart_pos_np_max[i] = avg_error_cart_pos_dict[i]\n",
    "\n",
    "# Replace 0s in pole_vel_np_min and pole_vel_np_max with values from avg_error_pole_vel_dict\n",
    "for i in range(len(cart_vel_np_min)):\n",
    "    if cart_vel_np_min[i] == 0:\n",
    "        cart_vel_np_min[i] = avg_error_cart_vel_dict[i]\n",
    "    if cart_vel_np_max[i] == 0:\n",
    "        cart_vel_np_max[i] = avg_error_cart_vel_dict[i]\n",
    "\n",
    "# Plotting pole position\n",
    "fig, ax = plt.subplots()\n",
    "\n",
    "\n",
    "# Plotting pole velocity\n",
    "y_vel_min = [array for array in cart_vel_np_min.values()]\n",
    "y_vel_max = [array for array in cart_vel_np_max.values()]\n",
    "y_vel_avg = [array for array in avg_error_cart_vel_dict.values()]\n",
    "\n",
    "x = np.linspace(1, len(y_vel_avg), len(y_vel_avg))\n",
    "\n",
    "# Plot min-max range for pole velocity\n",
    "ax.fill_between(x, y_vel_min, y_vel_max, alpha=.4, linewidth=0, label='Cart Vel Min-Max Range')\n",
    "\n",
    "# Plot average error for pole velocity\n",
    "ax.plot(x, y_vel_avg, linewidth=2, label='Cart Vel Avg')\n",
    "\n",
    "y_pos_min = [array for array in cart_pos_np_min.values()]\n",
    "y_pos_max = [array for array in cart_pos_np_max.values()]\n",
    "y_pos_avg = [array for array in avg_error_cart_pos_dict.values()]\n",
    "\n",
    "# Plot min-max range for pole position\n",
    "ax.fill_between(x, y_pos_min, y_pos_max, alpha=.4, linewidth=0, label='Cart Pos Min-Max Range')\n",
    "\n",
    "# Plot average error for pole position\n",
    "ax.plot(x, y_pos_avg, linewidth=2, label='Cart Pos Avg')\n",
    "\n",
    "# Find the index where y_avg is near 0 (stabilized) for pole position\n",
    "stabilized_index_pos = np.where(np.abs(y_pos_avg) < 0.008)[0]\n",
    "print(\"stabilized_index_cart: \", start_stable)\n",
    "\n",
    "# Plot dashed line for stabilized region and change its color to red\n",
    "if len(stabilized_index_pos) > 0:\n",
    "    # start_stable = stabilized_index_pos[0]\n",
    "    # end_stable = stabilized_index_pos[-1]\n",
    "    stabilized_y_min = min(y_pos_min[start_stable:end_stable+1])\n",
    "    stabilized_y_max = max(y_pos_max[start_stable:end_stable+1])\n",
    "    print(\"Minimum value in stabilized region:\", stabilized_y_min)\n",
    "    print(\"Maximum value in stabilized region:\", stabilized_y_max)\n",
    "\n",
    "    ax.plot(x[start_stable:end_stable+1], y_pos_avg[start_stable:end_stable+1], 'r--', linewidth=2, label='Stabilized Region')\n",
    "\n",
    "    # Plot markers for stabilized time steps\n",
    "    ax.plot(x[start_stable], y_pos_avg[start_stable], 'ro', markersize=6, label='Stabilized Time Steps')\n",
    "\n",
    "\n",
    "# Set grid\n",
    "ax.grid(True)\n",
    "\n",
    "# Add title and labels\n",
    "ax.set_title('Avg. Cart Position and Velocity vs. Time steps [Testing]')\n",
    "ax.set_xlabel('Time steps')\n",
    "ax.set_ylabel('Avg. Cart Position / Velocity')\n",
    "\n",
    "# Add legend\n",
    "ax.legend()\n",
    "\n",
    "plt.show()"
   ]
  }
 ],
 "metadata": {
  "kernelspec": {
   "display_name": "Python 3",
   "language": "python",
   "name": "python3"
  },
  "language_info": {
   "codemirror_mode": {
    "name": "ipython",
    "version": 3
   },
   "file_extension": ".py",
   "mimetype": "text/x-python",
   "name": "python",
   "nbconvert_exporter": "python",
   "pygments_lexer": "ipython3",
   "version": "3.8.15"
  }
 },
 "nbformat": 4,
 "nbformat_minor": 2
}
