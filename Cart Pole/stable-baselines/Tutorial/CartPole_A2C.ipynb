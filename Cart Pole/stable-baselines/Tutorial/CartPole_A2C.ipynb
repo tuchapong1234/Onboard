{
 "cells": [
  {
   "cell_type": "markdown",
   "metadata": {},
   "source": [
    "# Swing-Up Cart-Pole with A2C (Asynchronous Advantage Actor Critic)"
   ]
  },
  {
   "cell_type": "code",
   "execution_count": 1,
   "metadata": {},
   "outputs": [],
   "source": [
    "import os\n",
    "\n",
    "import gymnasium as gym\n",
    "import numpy as np\n",
    "import matplotlib.pyplot as plt\n",
    "\n",
    "from stable_baselines3 import TD3\n",
    "from stable_baselines3 import DQN\n",
    "\n",
    "from stable_baselines3 import A2C\n",
    "from stable_baselines3.common.vec_env import DummyVecEnv, SubprocVecEnv, VecMonitor\n",
    "from stable_baselines3.common.env_util import make_vec_env\n",
    "from stable_baselines3.common.utils import set_random_seed\n",
    "\n",
    "from stable_baselines3.common import results_plotter\n",
    "from stable_baselines3.common.monitor import Monitor\n",
    "\n",
    "from stable_baselines3.common.results_plotter import load_results, ts2xy, plot_results\n",
    "from stable_baselines3.common.noise import NormalActionNoise\n",
    "from stable_baselines3.common.callbacks import BaseCallback, EvalCallback\n",
    "\n",
    "from collections import defaultdict"
   ]
  },
  {
   "cell_type": "markdown",
   "metadata": {},
   "source": [
    "Training Call back to tell\n",
    "\n",
    "Number of timesteps / Episodes\n",
    "\n",
    "Best Reward / Last Reward per episode / Mean Reward last 10 episode / Delta mean Reward"
   ]
  },
  {
   "cell_type": "code",
   "execution_count": 2,
   "metadata": {},
   "outputs": [],
   "source": [
    "class SaveOnBestTrainingRewardCallback(BaseCallback):\n",
    "    \"\"\"\n",
    "    Callback for saving a model (the check is done every ``check_freq`` steps)\n",
    "    based on the training reward (in practice, we recommend using ``EvalCallback``).\n",
    "\n",
    "    :param check_freq:\n",
    "    :param log_dir: Path to the folder where the model will be saved.\n",
    "      It must contains the file created by the ``Monitor`` wrapper.\n",
    "    :param verbose: Verbosity level: 0 for no output, 1 for info messages, 2 for debug messages\n",
    "    \"\"\"\n",
    "    def __init__(self, check_freq: int, log_dir: str, verbose: int = 1, reward_function: str = None, file_name: str = None):\n",
    "        super().__init__(verbose)\n",
    "        self.check_freq = check_freq\n",
    "        self.log_dir = log_dir\n",
    "        self.save_path = os.path.join(log_dir, \"Best Models\", reward_function, file_name)\n",
    "        self.best_reward = -np.inf\n",
    "        self.prev_mean_reward = 0.0\n",
    "\n",
    "    def _init_callback(self) -> None:\n",
    "        # Create folder if needed\n",
    "        if self.save_path is not None:\n",
    "            os.makedirs(self.save_path, exist_ok=True)\n",
    "\n",
    "    def _on_step(self) -> bool:\n",
    "        if self.n_calls % self.check_freq == 0:\n",
    "\n",
    "          # Retrieve training reward\n",
    "          x, y = ts2xy(load_results(self.log_dir), \"episodes\")\n",
    "          if len(x) > 0:\n",
    "              # Mean training reward over the last 10 episodes\n",
    "              last_ep = x[-1]\n",
    "              last_reward = y[-1] \n",
    "              mean_reward = np.mean(y[-10:])\n",
    "              delta_mearn_reward = mean_reward - self.prev_mean_reward\n",
    "              self.prev_mean_reward = mean_reward\n",
    "              if self.verbose >= 1:\n",
    "                print(f\"Num timesteps: {self.num_timesteps} - Ep: {last_ep}\")\n",
    "                print(f\"Best reward: {self.best_reward:.2f} - Last reward per episode: {last_reward:.2f} - Mean reward last 10 episode: {mean_reward:.2f} - Delta mean: {delta_mearn_reward:.2f}\")\n",
    "\n",
    "              # New best model, you could save the agent here\n",
    "              if last_reward > self.best_reward:\n",
    "                  self.best_reward = last_reward\n",
    "                  # Example for saving best model\n",
    "                  if self.verbose >= 1:\n",
    "                    print(f\"Saving new best model to {self.save_path}\")\n",
    "                  self.model.save(self.save_path)\n",
    "\n",
    "        return True"
   ]
  },
  {
   "cell_type": "markdown",
   "metadata": {},
   "source": [
    "## Training Phase"
   ]
  },
  {
   "cell_type": "code",
   "execution_count": 3,
   "metadata": {},
   "outputs": [
    {
     "data": {
      "application/vnd.jupyter.widget-view+json": {
       "model_id": "7f7ab5b3920642b384f3d61b711020e3",
       "version_major": 2,
       "version_minor": 0
      },
      "text/plain": [
       "Output()"
      ]
     },
     "metadata": {},
     "output_type": "display_data"
    },
    {
     "data": {
      "text/html": [
       "<pre style=\"white-space:pre;overflow-x:auto;line-height:normal;font-family:Menlo,'DejaVu Sans Mono',consolas,'Courier New',monospace\">Num timesteps: 3000 - Ep: 9\n",
       "</pre>\n"
      ],
      "text/plain": [
       "Num timesteps: 3000 - Ep: 9\n"
      ]
     },
     "metadata": {},
     "output_type": "display_data"
    },
    {
     "data": {
      "text/html": [
       "<pre style=\"white-space:pre;overflow-x:auto;line-height:normal;font-family:Menlo,'DejaVu Sans Mono',consolas,'Courier New',monospace\">Best reward: -inf - Last reward per episode: -241.00 - Mean reward last 10 episode: -230.40 - Delta mean: -230.40\n",
       "</pre>\n"
      ],
      "text/plain": [
       "Best reward: -inf - Last reward per episode: -241.00 - Mean reward last 10 episode: -230.40 - Delta mean: -230.40\n"
      ]
     },
     "metadata": {},
     "output_type": "display_data"
    },
    {
     "data": {
      "text/html": [
       "<pre style=\"white-space:pre;overflow-x:auto;line-height:normal;font-family:Menlo,'DejaVu Sans Mono',consolas,'Courier New',monospace\">Saving new best model to Training\\Save Models\\A2C\\Best Models\\Sparse\\A2C_ip_3_500000\n",
       "</pre>\n"
      ],
      "text/plain": [
       "Saving new best model to Training\\Save Models\\A2C\\Best Models\\Sparse\\A2C_ip_3_500000\n"
      ]
     },
     "metadata": {},
     "output_type": "display_data"
    },
    {
     "data": {
      "text/html": [
       "<pre style=\"white-space:pre;overflow-x:auto;line-height:normal;font-family:Menlo,'DejaVu Sans Mono',consolas,'Courier New',monospace\">Num timesteps: 6000 - Ep: 24\n",
       "</pre>\n"
      ],
      "text/plain": [
       "Num timesteps: 6000 - Ep: 24\n"
      ]
     },
     "metadata": {},
     "output_type": "display_data"
    },
    {
     "data": {
      "text/html": [
       "<pre style=\"white-space:pre;overflow-x:auto;line-height:normal;font-family:Menlo,'DejaVu Sans Mono',consolas,'Courier New',monospace\">Best reward: -241.00 - Last reward per episode: -172.00 - Mean reward last 10 episode: -220.80 - Delta mean: 9.60\n",
       "</pre>\n"
      ],
      "text/plain": [
       "Best reward: -241.00 - Last reward per episode: -172.00 - Mean reward last 10 episode: -220.80 - Delta mean: 9.60\n"
      ]
     },
     "metadata": {},
     "output_type": "display_data"
    },
    {
     "data": {
      "text/html": [
       "<pre style=\"white-space:pre;overflow-x:auto;line-height:normal;font-family:Menlo,'DejaVu Sans Mono',consolas,'Courier New',monospace\">Saving new best model to Training\\Save Models\\A2C\\Best Models\\Sparse\\A2C_ip_3_500000\n",
       "</pre>\n"
      ],
      "text/plain": [
       "Saving new best model to Training\\Save Models\\A2C\\Best Models\\Sparse\\A2C_ip_3_500000\n"
      ]
     },
     "metadata": {},
     "output_type": "display_data"
    },
    {
     "data": {
      "text/html": [
       "<pre style=\"white-space:pre;overflow-x:auto;line-height:normal;font-family:Menlo,'DejaVu Sans Mono',consolas,'Courier New',monospace\">Num timesteps: 9000 - Ep: 33\n",
       "</pre>\n"
      ],
      "text/plain": [
       "Num timesteps: 9000 - Ep: 33\n"
      ]
     },
     "metadata": {},
     "output_type": "display_data"
    },
    {
     "data": {
      "text/html": [
       "<pre style=\"white-space:pre;overflow-x:auto;line-height:normal;font-family:Menlo,'DejaVu Sans Mono',consolas,'Courier New',monospace\">Best reward: -172.00 - Last reward per episode: -203.00 - Mean reward last 10 episode: -235.30 - Delta mean: -14.50\n",
       "</pre>\n"
      ],
      "text/plain": [
       "Best reward: -172.00 - Last reward per episode: -203.00 - Mean reward last 10 episode: -235.30 - Delta mean: -14.50\n"
      ]
     },
     "metadata": {},
     "output_type": "display_data"
    },
    {
     "data": {
      "text/html": [
       "<pre style=\"white-space:pre;overflow-x:auto;line-height:normal;font-family:Menlo,'DejaVu Sans Mono',consolas,'Courier New',monospace\">Num timesteps: 12000 - Ep: 42\n",
       "</pre>\n"
      ],
      "text/plain": [
       "Num timesteps: 12000 - Ep: 42\n"
      ]
     },
     "metadata": {},
     "output_type": "display_data"
    },
    {
     "data": {
      "text/html": [
       "<pre style=\"white-space:pre;overflow-x:auto;line-height:normal;font-family:Menlo,'DejaVu Sans Mono',consolas,'Courier New',monospace\">Best reward: -172.00 - Last reward per episode: -198.00 - Mean reward last 10 episode: -351.80 - Delta mean: \n",
       "-116.50\n",
       "</pre>\n"
      ],
      "text/plain": [
       "Best reward: -172.00 - Last reward per episode: -198.00 - Mean reward last 10 episode: -351.80 - Delta mean: \n",
       "-116.50\n"
      ]
     },
     "metadata": {},
     "output_type": "display_data"
    },
    {
     "data": {
      "text/html": [
       "<pre style=\"white-space:pre;overflow-x:auto;line-height:normal;font-family:Menlo,'DejaVu Sans Mono',consolas,'Courier New',monospace\">Num timesteps: 15000 - Ep: 54\n",
       "</pre>\n"
      ],
      "text/plain": [
       "Num timesteps: 15000 - Ep: 54\n"
      ]
     },
     "metadata": {},
     "output_type": "display_data"
    },
    {
     "data": {
      "text/html": [
       "<pre style=\"white-space:pre;overflow-x:auto;line-height:normal;font-family:Menlo,'DejaVu Sans Mono',consolas,'Courier New',monospace\">Best reward: -172.00 - Last reward per episode: -236.00 - Mean reward last 10 episode: -245.20 - Delta mean: 106.60\n",
       "</pre>\n"
      ],
      "text/plain": [
       "Best reward: -172.00 - Last reward per episode: -236.00 - Mean reward last 10 episode: -245.20 - Delta mean: 106.60\n"
      ]
     },
     "metadata": {},
     "output_type": "display_data"
    },
    {
     "data": {
      "text/html": [
       "<pre style=\"white-space:pre;overflow-x:auto;line-height:normal;font-family:Menlo,'DejaVu Sans Mono',consolas,'Courier New',monospace\">Num timesteps: 18000 - Ep: 61\n",
       "</pre>\n"
      ],
      "text/plain": [
       "Num timesteps: 18000 - Ep: 61\n"
      ]
     },
     "metadata": {},
     "output_type": "display_data"
    },
    {
     "data": {
      "text/html": [
       "<pre style=\"white-space:pre;overflow-x:auto;line-height:normal;font-family:Menlo,'DejaVu Sans Mono',consolas,'Courier New',monospace\">Best reward: -172.00 - Last reward per episode: -500.00 - Mean reward last 10 episode: -372.90 - Delta mean: \n",
       "-127.70\n",
       "</pre>\n"
      ],
      "text/plain": [
       "Best reward: -172.00 - Last reward per episode: -500.00 - Mean reward last 10 episode: -372.90 - Delta mean: \n",
       "-127.70\n"
      ]
     },
     "metadata": {},
     "output_type": "display_data"
    },
    {
     "data": {
      "text/html": [
       "<pre style=\"white-space:pre;overflow-x:auto;line-height:normal;font-family:Menlo,'DejaVu Sans Mono',consolas,'Courier New',monospace\">Num timesteps: 21000 - Ep: 67\n",
       "</pre>\n"
      ],
      "text/plain": [
       "Num timesteps: 21000 - Ep: 67\n"
      ]
     },
     "metadata": {},
     "output_type": "display_data"
    },
    {
     "data": {
      "text/html": [
       "<pre style=\"white-space:pre;overflow-x:auto;line-height:normal;font-family:Menlo,'DejaVu Sans Mono',consolas,'Courier New',monospace\">Best reward: -172.00 - Last reward per episode: -500.00 - Mean reward last 10 episode: -476.90 - Delta mean: \n",
       "-104.00\n",
       "</pre>\n"
      ],
      "text/plain": [
       "Best reward: -172.00 - Last reward per episode: -500.00 - Mean reward last 10 episode: -476.90 - Delta mean: \n",
       "-104.00\n"
      ]
     },
     "metadata": {},
     "output_type": "display_data"
    },
    {
     "data": {
      "text/html": [
       "<pre style=\"white-space:pre;overflow-x:auto;line-height:normal;font-family:Menlo,'DejaVu Sans Mono',consolas,'Courier New',monospace\">Num timesteps: 24000 - Ep: 73\n",
       "</pre>\n"
      ],
      "text/plain": [
       "Num timesteps: 24000 - Ep: 73\n"
      ]
     },
     "metadata": {},
     "output_type": "display_data"
    },
    {
     "data": {
      "text/html": [
       "<pre style=\"white-space:pre;overflow-x:auto;line-height:normal;font-family:Menlo,'DejaVu Sans Mono',consolas,'Courier New',monospace\">Best reward: -172.00 - Last reward per episode: -500.00 - Mean reward last 10 episode: -500.00 - Delta mean: -23.10\n",
       "</pre>\n"
      ],
      "text/plain": [
       "Best reward: -172.00 - Last reward per episode: -500.00 - Mean reward last 10 episode: -500.00 - Delta mean: -23.10\n"
      ]
     },
     "metadata": {},
     "output_type": "display_data"
    },
    {
     "data": {
      "text/html": [
       "<pre style=\"white-space:pre;overflow-x:auto;line-height:normal;font-family:Menlo,'DejaVu Sans Mono',consolas,'Courier New',monospace\">Num timesteps: 27000 - Ep: 79\n",
       "</pre>\n"
      ],
      "text/plain": [
       "Num timesteps: 27000 - Ep: 79\n"
      ]
     },
     "metadata": {},
     "output_type": "display_data"
    },
    {
     "data": {
      "text/html": [
       "<pre style=\"white-space:pre;overflow-x:auto;line-height:normal;font-family:Menlo,'DejaVu Sans Mono',consolas,'Courier New',monospace\">Best reward: -172.00 - Last reward per episode: -500.00 - Mean reward last 10 episode: -500.00 - Delta mean: 0.00\n",
       "</pre>\n"
      ],
      "text/plain": [
       "Best reward: -172.00 - Last reward per episode: -500.00 - Mean reward last 10 episode: -500.00 - Delta mean: 0.00\n"
      ]
     },
     "metadata": {},
     "output_type": "display_data"
    },
    {
     "data": {
      "text/html": [
       "<pre style=\"white-space:pre;overflow-x:auto;line-height:normal;font-family:Menlo,'DejaVu Sans Mono',consolas,'Courier New',monospace\">Num timesteps: 30000 - Ep: 85\n",
       "</pre>\n"
      ],
      "text/plain": [
       "Num timesteps: 30000 - Ep: 85\n"
      ]
     },
     "metadata": {},
     "output_type": "display_data"
    },
    {
     "data": {
      "text/html": [
       "<pre style=\"white-space:pre;overflow-x:auto;line-height:normal;font-family:Menlo,'DejaVu Sans Mono',consolas,'Courier New',monospace\">Best reward: -172.00 - Last reward per episode: -500.00 - Mean reward last 10 episode: -480.60 - Delta mean: 19.40\n",
       "</pre>\n"
      ],
      "text/plain": [
       "Best reward: -172.00 - Last reward per episode: -500.00 - Mean reward last 10 episode: -480.60 - Delta mean: 19.40\n"
      ]
     },
     "metadata": {},
     "output_type": "display_data"
    },
    {
     "data": {
      "text/html": [
       "<pre style=\"white-space:pre;overflow-x:auto;line-height:normal;font-family:Menlo,'DejaVu Sans Mono',consolas,'Courier New',monospace\">Num timesteps: 33000 - Ep: 91\n",
       "</pre>\n"
      ],
      "text/plain": [
       "Num timesteps: 33000 - Ep: 91\n"
      ]
     },
     "metadata": {},
     "output_type": "display_data"
    },
    {
     "data": {
      "text/html": [
       "<pre style=\"white-space:pre;overflow-x:auto;line-height:normal;font-family:Menlo,'DejaVu Sans Mono',consolas,'Courier New',monospace\">Best reward: -172.00 - Last reward per episode: -500.00 - Mean reward last 10 episode: -481.70 - Delta mean: -1.10\n",
       "</pre>\n"
      ],
      "text/plain": [
       "Best reward: -172.00 - Last reward per episode: -500.00 - Mean reward last 10 episode: -481.70 - Delta mean: -1.10\n"
      ]
     },
     "metadata": {},
     "output_type": "display_data"
    },
    {
     "data": {
      "text/html": [
       "<pre style=\"white-space:pre;overflow-x:auto;line-height:normal;font-family:Menlo,'DejaVu Sans Mono',consolas,'Courier New',monospace\">Num timesteps: 36000 - Ep: 97\n",
       "</pre>\n"
      ],
      "text/plain": [
       "Num timesteps: 36000 - Ep: 97\n"
      ]
     },
     "metadata": {},
     "output_type": "display_data"
    },
    {
     "data": {
      "text/html": [
       "<pre style=\"white-space:pre;overflow-x:auto;line-height:normal;font-family:Menlo,'DejaVu Sans Mono',consolas,'Courier New',monospace\">Best reward: -172.00 - Last reward per episode: -500.00 - Mean reward last 10 episode: -500.00 - Delta mean: -18.30\n",
       "</pre>\n"
      ],
      "text/plain": [
       "Best reward: -172.00 - Last reward per episode: -500.00 - Mean reward last 10 episode: -500.00 - Delta mean: -18.30\n"
      ]
     },
     "metadata": {},
     "output_type": "display_data"
    },
    {
     "data": {
      "text/html": [
       "<pre style=\"white-space:pre;overflow-x:auto;line-height:normal;font-family:Menlo,'DejaVu Sans Mono',consolas,'Courier New',monospace\">Num timesteps: 39000 - Ep: 103\n",
       "</pre>\n"
      ],
      "text/plain": [
       "Num timesteps: 39000 - Ep: 103\n"
      ]
     },
     "metadata": {},
     "output_type": "display_data"
    },
    {
     "data": {
      "text/html": [
       "<pre style=\"white-space:pre;overflow-x:auto;line-height:normal;font-family:Menlo,'DejaVu Sans Mono',consolas,'Courier New',monospace\">Best reward: -172.00 - Last reward per episode: -500.00 - Mean reward last 10 episode: -500.00 - Delta mean: 0.00\n",
       "</pre>\n"
      ],
      "text/plain": [
       "Best reward: -172.00 - Last reward per episode: -500.00 - Mean reward last 10 episode: -500.00 - Delta mean: 0.00\n"
      ]
     },
     "metadata": {},
     "output_type": "display_data"
    },
    {
     "data": {
      "text/html": [
       "<pre style=\"white-space:pre;overflow-x:auto;line-height:normal;font-family:Menlo,'DejaVu Sans Mono',consolas,'Courier New',monospace\">Num timesteps: 42000 - Ep: 109\n",
       "</pre>\n"
      ],
      "text/plain": [
       "Num timesteps: 42000 - Ep: 109\n"
      ]
     },
     "metadata": {},
     "output_type": "display_data"
    },
    {
     "data": {
      "text/html": [
       "<pre style=\"white-space:pre;overflow-x:auto;line-height:normal;font-family:Menlo,'DejaVu Sans Mono',consolas,'Courier New',monospace\">Best reward: -172.00 - Last reward per episode: -500.00 - Mean reward last 10 episode: -500.00 - Delta mean: 0.00\n",
       "</pre>\n"
      ],
      "text/plain": [
       "Best reward: -172.00 - Last reward per episode: -500.00 - Mean reward last 10 episode: -500.00 - Delta mean: 0.00\n"
      ]
     },
     "metadata": {},
     "output_type": "display_data"
    },
    {
     "data": {
      "text/html": [
       "<pre style=\"white-space:pre;overflow-x:auto;line-height:normal;font-family:Menlo,'DejaVu Sans Mono',consolas,'Courier New',monospace\">Num timesteps: 45000 - Ep: 115\n",
       "</pre>\n"
      ],
      "text/plain": [
       "Num timesteps: 45000 - Ep: 115\n"
      ]
     },
     "metadata": {},
     "output_type": "display_data"
    },
    {
     "data": {
      "text/html": [
       "<pre style=\"white-space:pre;overflow-x:auto;line-height:normal;font-family:Menlo,'DejaVu Sans Mono',consolas,'Courier New',monospace\">Best reward: -172.00 - Last reward per episode: -500.00 - Mean reward last 10 episode: -500.00 - Delta mean: 0.00\n",
       "</pre>\n"
      ],
      "text/plain": [
       "Best reward: -172.00 - Last reward per episode: -500.00 - Mean reward last 10 episode: -500.00 - Delta mean: 0.00\n"
      ]
     },
     "metadata": {},
     "output_type": "display_data"
    },
    {
     "data": {
      "text/html": [
       "<pre style=\"white-space:pre;overflow-x:auto;line-height:normal;font-family:Menlo,'DejaVu Sans Mono',consolas,'Courier New',monospace\">Num timesteps: 48000 - Ep: 121\n",
       "</pre>\n"
      ],
      "text/plain": [
       "Num timesteps: 48000 - Ep: 121\n"
      ]
     },
     "metadata": {},
     "output_type": "display_data"
    },
    {
     "data": {
      "text/html": [
       "<pre style=\"white-space:pre;overflow-x:auto;line-height:normal;font-family:Menlo,'DejaVu Sans Mono',consolas,'Courier New',monospace\">Best reward: -172.00 - Last reward per episode: -500.00 - Mean reward last 10 episode: -500.00 - Delta mean: 0.00\n",
       "</pre>\n"
      ],
      "text/plain": [
       "Best reward: -172.00 - Last reward per episode: -500.00 - Mean reward last 10 episode: -500.00 - Delta mean: 0.00\n"
      ]
     },
     "metadata": {},
     "output_type": "display_data"
    },
    {
     "data": {
      "text/html": [
       "<pre style=\"white-space:pre;overflow-x:auto;line-height:normal;font-family:Menlo,'DejaVu Sans Mono',consolas,'Courier New',monospace\">Num timesteps: 51000 - Ep: 127\n",
       "</pre>\n"
      ],
      "text/plain": [
       "Num timesteps: 51000 - Ep: 127\n"
      ]
     },
     "metadata": {},
     "output_type": "display_data"
    },
    {
     "data": {
      "text/html": [
       "<pre style=\"white-space:pre;overflow-x:auto;line-height:normal;font-family:Menlo,'DejaVu Sans Mono',consolas,'Courier New',monospace\">Best reward: -172.00 - Last reward per episode: -500.00 - Mean reward last 10 episode: -486.80 - Delta mean: 13.20\n",
       "</pre>\n"
      ],
      "text/plain": [
       "Best reward: -172.00 - Last reward per episode: -500.00 - Mean reward last 10 episode: -486.80 - Delta mean: 13.20\n"
      ]
     },
     "metadata": {},
     "output_type": "display_data"
    },
    {
     "data": {
      "text/html": [
       "<pre style=\"white-space:pre;overflow-x:auto;line-height:normal;font-family:Menlo,'DejaVu Sans Mono',consolas,'Courier New',monospace\">Num timesteps: 54000 - Ep: 133\n",
       "</pre>\n"
      ],
      "text/plain": [
       "Num timesteps: 54000 - Ep: 133\n"
      ]
     },
     "metadata": {},
     "output_type": "display_data"
    },
    {
     "data": {
      "text/html": [
       "<pre style=\"white-space:pre;overflow-x:auto;line-height:normal;font-family:Menlo,'DejaVu Sans Mono',consolas,'Courier New',monospace\">Best reward: -172.00 - Last reward per episode: -500.00 - Mean reward last 10 episode: -486.80 - Delta mean: 0.00\n",
       "</pre>\n"
      ],
      "text/plain": [
       "Best reward: -172.00 - Last reward per episode: -500.00 - Mean reward last 10 episode: -486.80 - Delta mean: 0.00\n"
      ]
     },
     "metadata": {},
     "output_type": "display_data"
    },
    {
     "data": {
      "text/html": [
       "<pre style=\"white-space:pre;overflow-x:auto;line-height:normal;font-family:Menlo,'DejaVu Sans Mono',consolas,'Courier New',monospace\">Num timesteps: 57000 - Ep: 139\n",
       "</pre>\n"
      ],
      "text/plain": [
       "Num timesteps: 57000 - Ep: 139\n"
      ]
     },
     "metadata": {},
     "output_type": "display_data"
    },
    {
     "data": {
      "text/html": [
       "<pre style=\"white-space:pre;overflow-x:auto;line-height:normal;font-family:Menlo,'DejaVu Sans Mono',consolas,'Courier New',monospace\">Best reward: -172.00 - Last reward per episode: -500.00 - Mean reward last 10 episode: -500.00 - Delta mean: -13.20\n",
       "</pre>\n"
      ],
      "text/plain": [
       "Best reward: -172.00 - Last reward per episode: -500.00 - Mean reward last 10 episode: -500.00 - Delta mean: -13.20\n"
      ]
     },
     "metadata": {},
     "output_type": "display_data"
    },
    {
     "data": {
      "text/html": [
       "<pre style=\"white-space:pre;overflow-x:auto;line-height:normal;font-family:Menlo,'DejaVu Sans Mono',consolas,'Courier New',monospace\">Num timesteps: 60000 - Ep: 145\n",
       "</pre>\n"
      ],
      "text/plain": [
       "Num timesteps: 60000 - Ep: 145\n"
      ]
     },
     "metadata": {},
     "output_type": "display_data"
    },
    {
     "data": {
      "text/html": [
       "<pre style=\"white-space:pre;overflow-x:auto;line-height:normal;font-family:Menlo,'DejaVu Sans Mono',consolas,'Courier New',monospace\">Best reward: -172.00 - Last reward per episode: -500.00 - Mean reward last 10 episode: -500.00 - Delta mean: 0.00\n",
       "</pre>\n"
      ],
      "text/plain": [
       "Best reward: -172.00 - Last reward per episode: -500.00 - Mean reward last 10 episode: -500.00 - Delta mean: 0.00\n"
      ]
     },
     "metadata": {},
     "output_type": "display_data"
    },
    {
     "data": {
      "text/html": [
       "<pre style=\"white-space:pre;overflow-x:auto;line-height:normal;font-family:Menlo,'DejaVu Sans Mono',consolas,'Courier New',monospace\">Num timesteps: 63000 - Ep: 151\n",
       "</pre>\n"
      ],
      "text/plain": [
       "Num timesteps: 63000 - Ep: 151\n"
      ]
     },
     "metadata": {},
     "output_type": "display_data"
    },
    {
     "data": {
      "text/html": [
       "<pre style=\"white-space:pre;overflow-x:auto;line-height:normal;font-family:Menlo,'DejaVu Sans Mono',consolas,'Courier New',monospace\">Best reward: -172.00 - Last reward per episode: -500.00 - Mean reward last 10 episode: -500.00 - Delta mean: 0.00\n",
       "</pre>\n"
      ],
      "text/plain": [
       "Best reward: -172.00 - Last reward per episode: -500.00 - Mean reward last 10 episode: -500.00 - Delta mean: 0.00\n"
      ]
     },
     "metadata": {},
     "output_type": "display_data"
    },
    {
     "data": {
      "text/html": [
       "<pre style=\"white-space:pre;overflow-x:auto;line-height:normal;font-family:Menlo,'DejaVu Sans Mono',consolas,'Courier New',monospace\">Num timesteps: 66000 - Ep: 157\n",
       "</pre>\n"
      ],
      "text/plain": [
       "Num timesteps: 66000 - Ep: 157\n"
      ]
     },
     "metadata": {},
     "output_type": "display_data"
    },
    {
     "data": {
      "text/html": [
       "<pre style=\"white-space:pre;overflow-x:auto;line-height:normal;font-family:Menlo,'DejaVu Sans Mono',consolas,'Courier New',monospace\">Best reward: -172.00 - Last reward per episode: -500.00 - Mean reward last 10 episode: -466.50 - Delta mean: 33.50\n",
       "</pre>\n"
      ],
      "text/plain": [
       "Best reward: -172.00 - Last reward per episode: -500.00 - Mean reward last 10 episode: -466.50 - Delta mean: 33.50\n"
      ]
     },
     "metadata": {},
     "output_type": "display_data"
    },
    {
     "data": {
      "text/html": [
       "<pre style=\"white-space:pre;overflow-x:auto;line-height:normal;font-family:Menlo,'DejaVu Sans Mono',consolas,'Courier New',monospace\">Num timesteps: 69000 - Ep: 164\n",
       "</pre>\n"
      ],
      "text/plain": [
       "Num timesteps: 69000 - Ep: 164\n"
      ]
     },
     "metadata": {},
     "output_type": "display_data"
    },
    {
     "data": {
      "text/html": [
       "<pre style=\"white-space:pre;overflow-x:auto;line-height:normal;font-family:Menlo,'DejaVu Sans Mono',consolas,'Courier New',monospace\">Best reward: -172.00 - Last reward per episode: -248.00 - Mean reward last 10 episode: -474.80 - Delta mean: -8.30\n",
       "</pre>\n"
      ],
      "text/plain": [
       "Best reward: -172.00 - Last reward per episode: -248.00 - Mean reward last 10 episode: -474.80 - Delta mean: -8.30\n"
      ]
     },
     "metadata": {},
     "output_type": "display_data"
    },
    {
     "data": {
      "text/html": [
       "<pre style=\"white-space:pre;overflow-x:auto;line-height:normal;font-family:Menlo,'DejaVu Sans Mono',consolas,'Courier New',monospace\">Num timesteps: 72000 - Ep: 170\n",
       "</pre>\n"
      ],
      "text/plain": [
       "Num timesteps: 72000 - Ep: 170\n"
      ]
     },
     "metadata": {},
     "output_type": "display_data"
    },
    {
     "data": {
      "text/html": [
       "<pre style=\"white-space:pre;overflow-x:auto;line-height:normal;font-family:Menlo,'DejaVu Sans Mono',consolas,'Courier New',monospace\">Best reward: -172.00 - Last reward per episode: -500.00 - Mean reward last 10 episode: -474.80 - Delta mean: 0.00\n",
       "</pre>\n"
      ],
      "text/plain": [
       "Best reward: -172.00 - Last reward per episode: -500.00 - Mean reward last 10 episode: -474.80 - Delta mean: 0.00\n"
      ]
     },
     "metadata": {},
     "output_type": "display_data"
    },
    {
     "data": {
      "text/html": [
       "<pre style=\"white-space:pre;overflow-x:auto;line-height:normal;font-family:Menlo,'DejaVu Sans Mono',consolas,'Courier New',monospace\">Num timesteps: 75000 - Ep: 176\n",
       "</pre>\n"
      ],
      "text/plain": [
       "Num timesteps: 75000 - Ep: 176\n"
      ]
     },
     "metadata": {},
     "output_type": "display_data"
    },
    {
     "data": {
      "text/html": [
       "<pre style=\"white-space:pre;overflow-x:auto;line-height:normal;font-family:Menlo,'DejaVu Sans Mono',consolas,'Courier New',monospace\">Best reward: -172.00 - Last reward per episode: -500.00 - Mean reward last 10 episode: -500.00 - Delta mean: -25.20\n",
       "</pre>\n"
      ],
      "text/plain": [
       "Best reward: -172.00 - Last reward per episode: -500.00 - Mean reward last 10 episode: -500.00 - Delta mean: -25.20\n"
      ]
     },
     "metadata": {},
     "output_type": "display_data"
    },
    {
     "data": {
      "text/html": [
       "<pre style=\"white-space:pre;overflow-x:auto;line-height:normal;font-family:Menlo,'DejaVu Sans Mono',consolas,'Courier New',monospace\">Num timesteps: 78000 - Ep: 226\n",
       "</pre>\n"
      ],
      "text/plain": [
       "Num timesteps: 78000 - Ep: 226\n"
      ]
     },
     "metadata": {},
     "output_type": "display_data"
    },
    {
     "data": {
      "text/html": [
       "<pre style=\"white-space:pre;overflow-x:auto;line-height:normal;font-family:Menlo,'DejaVu Sans Mono',consolas,'Courier New',monospace\">Best reward: -172.00 - Last reward per episode: -37.00 - Mean reward last 10 episode: -38.60 - Delta mean: 461.40\n",
       "</pre>\n"
      ],
      "text/plain": [
       "Best reward: -172.00 - Last reward per episode: -37.00 - Mean reward last 10 episode: -38.60 - Delta mean: 461.40\n"
      ]
     },
     "metadata": {},
     "output_type": "display_data"
    },
    {
     "data": {
      "text/html": [
       "<pre style=\"white-space:pre;overflow-x:auto;line-height:normal;font-family:Menlo,'DejaVu Sans Mono',consolas,'Courier New',monospace\">Saving new best model to Training\\Save Models\\A2C\\Best Models\\Sparse\\A2C_ip_3_500000\n",
       "</pre>\n"
      ],
      "text/plain": [
       "Saving new best model to Training\\Save Models\\A2C\\Best Models\\Sparse\\A2C_ip_3_500000\n"
      ]
     },
     "metadata": {},
     "output_type": "display_data"
    },
    {
     "data": {
      "text/html": [
       "<pre style=\"white-space:pre;overflow-x:auto;line-height:normal;font-family:Menlo,'DejaVu Sans Mono',consolas,'Courier New',monospace\">Num timesteps: 81000 - Ep: 304\n",
       "</pre>\n"
      ],
      "text/plain": [
       "Num timesteps: 81000 - Ep: 304\n"
      ]
     },
     "metadata": {},
     "output_type": "display_data"
    },
    {
     "data": {
      "text/html": [
       "<pre style=\"white-space:pre;overflow-x:auto;line-height:normal;font-family:Menlo,'DejaVu Sans Mono',consolas,'Courier New',monospace\">Best reward: -37.00 - Last reward per episode: -31.00 - Mean reward last 10 episode: -34.50 - Delta mean: 4.10\n",
       "</pre>\n"
      ],
      "text/plain": [
       "Best reward: -37.00 - Last reward per episode: -31.00 - Mean reward last 10 episode: -34.50 - Delta mean: 4.10\n"
      ]
     },
     "metadata": {},
     "output_type": "display_data"
    },
    {
     "data": {
      "text/html": [
       "<pre style=\"white-space:pre;overflow-x:auto;line-height:normal;font-family:Menlo,'DejaVu Sans Mono',consolas,'Courier New',monospace\">Saving new best model to Training\\Save Models\\A2C\\Best Models\\Sparse\\A2C_ip_3_500000\n",
       "</pre>\n"
      ],
      "text/plain": [
       "Saving new best model to Training\\Save Models\\A2C\\Best Models\\Sparse\\A2C_ip_3_500000\n"
      ]
     },
     "metadata": {},
     "output_type": "display_data"
    },
    {
     "data": {
      "text/html": [
       "<pre style=\"white-space:pre;overflow-x:auto;line-height:normal;font-family:Menlo,'DejaVu Sans Mono',consolas,'Courier New',monospace\">Num timesteps: 84000 - Ep: 385\n",
       "</pre>\n"
      ],
      "text/plain": [
       "Num timesteps: 84000 - Ep: 385\n"
      ]
     },
     "metadata": {},
     "output_type": "display_data"
    },
    {
     "data": {
      "text/html": [
       "<pre style=\"white-space:pre;overflow-x:auto;line-height:normal;font-family:Menlo,'DejaVu Sans Mono',consolas,'Courier New',monospace\">Best reward: -31.00 - Last reward per episode: -27.00 - Mean reward last 10 episode: -28.40 - Delta mean: 6.10\n",
       "</pre>\n"
      ],
      "text/plain": [
       "Best reward: -31.00 - Last reward per episode: -27.00 - Mean reward last 10 episode: -28.40 - Delta mean: 6.10\n"
      ]
     },
     "metadata": {},
     "output_type": "display_data"
    },
    {
     "data": {
      "text/html": [
       "<pre style=\"white-space:pre;overflow-x:auto;line-height:normal;font-family:Menlo,'DejaVu Sans Mono',consolas,'Courier New',monospace\">Saving new best model to Training\\Save Models\\A2C\\Best Models\\Sparse\\A2C_ip_3_500000\n",
       "</pre>\n"
      ],
      "text/plain": [
       "Saving new best model to Training\\Save Models\\A2C\\Best Models\\Sparse\\A2C_ip_3_500000\n"
      ]
     },
     "metadata": {},
     "output_type": "display_data"
    },
    {
     "data": {
      "text/html": [
       "<pre style=\"white-space:pre;overflow-x:auto;line-height:normal;font-family:Menlo,'DejaVu Sans Mono',consolas,'Courier New',monospace\">Num timesteps: 87000 - Ep: 466\n",
       "</pre>\n"
      ],
      "text/plain": [
       "Num timesteps: 87000 - Ep: 466\n"
      ]
     },
     "metadata": {},
     "output_type": "display_data"
    },
    {
     "data": {
      "text/html": [
       "<pre style=\"white-space:pre;overflow-x:auto;line-height:normal;font-family:Menlo,'DejaVu Sans Mono',consolas,'Courier New',monospace\">Best reward: -27.00 - Last reward per episode: -27.00 - Mean reward last 10 episode: -27.00 - Delta mean: 1.40\n",
       "</pre>\n"
      ],
      "text/plain": [
       "Best reward: -27.00 - Last reward per episode: -27.00 - Mean reward last 10 episode: -27.00 - Delta mean: 1.40\n"
      ]
     },
     "metadata": {},
     "output_type": "display_data"
    },
    {
     "data": {
      "text/html": [
       "<pre style=\"white-space:pre;overflow-x:auto;line-height:normal;font-family:Menlo,'DejaVu Sans Mono',consolas,'Courier New',monospace\">Num timesteps: 90000 - Ep: 547\n",
       "</pre>\n"
      ],
      "text/plain": [
       "Num timesteps: 90000 - Ep: 547\n"
      ]
     },
     "metadata": {},
     "output_type": "display_data"
    },
    {
     "data": {
      "text/html": [
       "<pre style=\"white-space:pre;overflow-x:auto;line-height:normal;font-family:Menlo,'DejaVu Sans Mono',consolas,'Courier New',monospace\">Best reward: -27.00 - Last reward per episode: -27.00 - Mean reward last 10 episode: -27.00 - Delta mean: 0.00\n",
       "</pre>\n"
      ],
      "text/plain": [
       "Best reward: -27.00 - Last reward per episode: -27.00 - Mean reward last 10 episode: -27.00 - Delta mean: 0.00\n"
      ]
     },
     "metadata": {},
     "output_type": "display_data"
    },
    {
     "data": {
      "text/html": [
       "<pre style=\"white-space:pre;overflow-x:auto;line-height:normal;font-family:Menlo,'DejaVu Sans Mono',consolas,'Courier New',monospace\">Num timesteps: 93000 - Ep: 628\n",
       "</pre>\n"
      ],
      "text/plain": [
       "Num timesteps: 93000 - Ep: 628\n"
      ]
     },
     "metadata": {},
     "output_type": "display_data"
    },
    {
     "data": {
      "text/html": [
       "<pre style=\"white-space:pre;overflow-x:auto;line-height:normal;font-family:Menlo,'DejaVu Sans Mono',consolas,'Courier New',monospace\">Best reward: -27.00 - Last reward per episode: -27.00 - Mean reward last 10 episode: -27.00 - Delta mean: 0.00\n",
       "</pre>\n"
      ],
      "text/plain": [
       "Best reward: -27.00 - Last reward per episode: -27.00 - Mean reward last 10 episode: -27.00 - Delta mean: 0.00\n"
      ]
     },
     "metadata": {},
     "output_type": "display_data"
    },
    {
     "data": {
      "text/html": [
       "<pre style=\"white-space:pre;overflow-x:auto;line-height:normal;font-family:Menlo,'DejaVu Sans Mono',consolas,'Courier New',monospace\">Num timesteps: 96000 - Ep: 709\n",
       "</pre>\n"
      ],
      "text/plain": [
       "Num timesteps: 96000 - Ep: 709\n"
      ]
     },
     "metadata": {},
     "output_type": "display_data"
    },
    {
     "data": {
      "text/html": [
       "<pre style=\"white-space:pre;overflow-x:auto;line-height:normal;font-family:Menlo,'DejaVu Sans Mono',consolas,'Courier New',monospace\">Best reward: -27.00 - Last reward per episode: -27.00 - Mean reward last 10 episode: -27.00 - Delta mean: 0.00\n",
       "</pre>\n"
      ],
      "text/plain": [
       "Best reward: -27.00 - Last reward per episode: -27.00 - Mean reward last 10 episode: -27.00 - Delta mean: 0.00\n"
      ]
     },
     "metadata": {},
     "output_type": "display_data"
    },
    {
     "data": {
      "text/html": [
       "<pre style=\"white-space:pre;overflow-x:auto;line-height:normal;font-family:Menlo,'DejaVu Sans Mono',consolas,'Courier New',monospace\">Num timesteps: 99000 - Ep: 790\n",
       "</pre>\n"
      ],
      "text/plain": [
       "Num timesteps: 99000 - Ep: 790\n"
      ]
     },
     "metadata": {},
     "output_type": "display_data"
    },
    {
     "data": {
      "text/html": [
       "<pre style=\"white-space:pre;overflow-x:auto;line-height:normal;font-family:Menlo,'DejaVu Sans Mono',consolas,'Courier New',monospace\">Best reward: -27.00 - Last reward per episode: -27.00 - Mean reward last 10 episode: -27.00 - Delta mean: 0.00\n",
       "</pre>\n"
      ],
      "text/plain": [
       "Best reward: -27.00 - Last reward per episode: -27.00 - Mean reward last 10 episode: -27.00 - Delta mean: 0.00\n"
      ]
     },
     "metadata": {},
     "output_type": "display_data"
    },
    {
     "data": {
      "text/html": [
       "<pre style=\"white-space:pre;overflow-x:auto;line-height:normal;font-family:Menlo,'DejaVu Sans Mono',consolas,'Courier New',monospace\">Num timesteps: 102000 - Ep: 871\n",
       "</pre>\n"
      ],
      "text/plain": [
       "Num timesteps: 102000 - Ep: 871\n"
      ]
     },
     "metadata": {},
     "output_type": "display_data"
    },
    {
     "data": {
      "text/html": [
       "<pre style=\"white-space:pre;overflow-x:auto;line-height:normal;font-family:Menlo,'DejaVu Sans Mono',consolas,'Courier New',monospace\">Best reward: -27.00 - Last reward per episode: -27.00 - Mean reward last 10 episode: -27.00 - Delta mean: 0.00\n",
       "</pre>\n"
      ],
      "text/plain": [
       "Best reward: -27.00 - Last reward per episode: -27.00 - Mean reward last 10 episode: -27.00 - Delta mean: 0.00\n"
      ]
     },
     "metadata": {},
     "output_type": "display_data"
    },
    {
     "data": {
      "text/html": [
       "<pre style=\"white-space:pre;overflow-x:auto;line-height:normal;font-family:Menlo,'DejaVu Sans Mono',consolas,'Courier New',monospace\">Num timesteps: 105000 - Ep: 952\n",
       "</pre>\n"
      ],
      "text/plain": [
       "Num timesteps: 105000 - Ep: 952\n"
      ]
     },
     "metadata": {},
     "output_type": "display_data"
    },
    {
     "data": {
      "text/html": [
       "<pre style=\"white-space:pre;overflow-x:auto;line-height:normal;font-family:Menlo,'DejaVu Sans Mono',consolas,'Courier New',monospace\">Best reward: -27.00 - Last reward per episode: -27.00 - Mean reward last 10 episode: -27.00 - Delta mean: 0.00\n",
       "</pre>\n"
      ],
      "text/plain": [
       "Best reward: -27.00 - Last reward per episode: -27.00 - Mean reward last 10 episode: -27.00 - Delta mean: 0.00\n"
      ]
     },
     "metadata": {},
     "output_type": "display_data"
    },
    {
     "data": {
      "text/html": [
       "<pre style=\"white-space:pre;overflow-x:auto;line-height:normal;font-family:Menlo,'DejaVu Sans Mono',consolas,'Courier New',monospace\">Num timesteps: 108000 - Ep: 1033\n",
       "</pre>\n"
      ],
      "text/plain": [
       "Num timesteps: 108000 - Ep: 1033\n"
      ]
     },
     "metadata": {},
     "output_type": "display_data"
    },
    {
     "data": {
      "text/html": [
       "<pre style=\"white-space:pre;overflow-x:auto;line-height:normal;font-family:Menlo,'DejaVu Sans Mono',consolas,'Courier New',monospace\">Best reward: -27.00 - Last reward per episode: -27.00 - Mean reward last 10 episode: -27.00 - Delta mean: 0.00\n",
       "</pre>\n"
      ],
      "text/plain": [
       "Best reward: -27.00 - Last reward per episode: -27.00 - Mean reward last 10 episode: -27.00 - Delta mean: 0.00\n"
      ]
     },
     "metadata": {},
     "output_type": "display_data"
    },
    {
     "data": {
      "text/html": [
       "<pre style=\"white-space:pre;overflow-x:auto;line-height:normal;font-family:Menlo,'DejaVu Sans Mono',consolas,'Courier New',monospace\">Num timesteps: 111000 - Ep: 1114\n",
       "</pre>\n"
      ],
      "text/plain": [
       "Num timesteps: 111000 - Ep: 1114\n"
      ]
     },
     "metadata": {},
     "output_type": "display_data"
    },
    {
     "data": {
      "text/html": [
       "<pre style=\"white-space:pre;overflow-x:auto;line-height:normal;font-family:Menlo,'DejaVu Sans Mono',consolas,'Courier New',monospace\">Best reward: -27.00 - Last reward per episode: -27.00 - Mean reward last 10 episode: -27.00 - Delta mean: 0.00\n",
       "</pre>\n"
      ],
      "text/plain": [
       "Best reward: -27.00 - Last reward per episode: -27.00 - Mean reward last 10 episode: -27.00 - Delta mean: 0.00\n"
      ]
     },
     "metadata": {},
     "output_type": "display_data"
    },
    {
     "data": {
      "text/html": [
       "<pre style=\"white-space:pre;overflow-x:auto;line-height:normal;font-family:Menlo,'DejaVu Sans Mono',consolas,'Courier New',monospace\">Num timesteps: 114000 - Ep: 1195\n",
       "</pre>\n"
      ],
      "text/plain": [
       "Num timesteps: 114000 - Ep: 1195\n"
      ]
     },
     "metadata": {},
     "output_type": "display_data"
    },
    {
     "data": {
      "text/html": [
       "<pre style=\"white-space:pre;overflow-x:auto;line-height:normal;font-family:Menlo,'DejaVu Sans Mono',consolas,'Courier New',monospace\">Best reward: -27.00 - Last reward per episode: -27.00 - Mean reward last 10 episode: -27.00 - Delta mean: 0.00\n",
       "</pre>\n"
      ],
      "text/plain": [
       "Best reward: -27.00 - Last reward per episode: -27.00 - Mean reward last 10 episode: -27.00 - Delta mean: 0.00\n"
      ]
     },
     "metadata": {},
     "output_type": "display_data"
    },
    {
     "data": {
      "text/html": [
       "<pre style=\"white-space:pre;overflow-x:auto;line-height:normal;font-family:Menlo,'DejaVu Sans Mono',consolas,'Courier New',monospace\">Num timesteps: 117000 - Ep: 1276\n",
       "</pre>\n"
      ],
      "text/plain": [
       "Num timesteps: 117000 - Ep: 1276\n"
      ]
     },
     "metadata": {},
     "output_type": "display_data"
    },
    {
     "data": {
      "text/html": [
       "<pre style=\"white-space:pre;overflow-x:auto;line-height:normal;font-family:Menlo,'DejaVu Sans Mono',consolas,'Courier New',monospace\">Best reward: -27.00 - Last reward per episode: -27.00 - Mean reward last 10 episode: -27.00 - Delta mean: 0.00\n",
       "</pre>\n"
      ],
      "text/plain": [
       "Best reward: -27.00 - Last reward per episode: -27.00 - Mean reward last 10 episode: -27.00 - Delta mean: 0.00\n"
      ]
     },
     "metadata": {},
     "output_type": "display_data"
    },
    {
     "data": {
      "text/html": [
       "<pre style=\"white-space:pre;overflow-x:auto;line-height:normal;font-family:Menlo,'DejaVu Sans Mono',consolas,'Courier New',monospace\">Num timesteps: 120000 - Ep: 1357\n",
       "</pre>\n"
      ],
      "text/plain": [
       "Num timesteps: 120000 - Ep: 1357\n"
      ]
     },
     "metadata": {},
     "output_type": "display_data"
    },
    {
     "data": {
      "text/html": [
       "<pre style=\"white-space:pre;overflow-x:auto;line-height:normal;font-family:Menlo,'DejaVu Sans Mono',consolas,'Courier New',monospace\">Best reward: -27.00 - Last reward per episode: -27.00 - Mean reward last 10 episode: -27.00 - Delta mean: 0.00\n",
       "</pre>\n"
      ],
      "text/plain": [
       "Best reward: -27.00 - Last reward per episode: -27.00 - Mean reward last 10 episode: -27.00 - Delta mean: 0.00\n"
      ]
     },
     "metadata": {},
     "output_type": "display_data"
    },
    {
     "data": {
      "text/html": [
       "<pre style=\"white-space:pre;overflow-x:auto;line-height:normal;font-family:Menlo,'DejaVu Sans Mono',consolas,'Courier New',monospace\">Num timesteps: 123000 - Ep: 1438\n",
       "</pre>\n"
      ],
      "text/plain": [
       "Num timesteps: 123000 - Ep: 1438\n"
      ]
     },
     "metadata": {},
     "output_type": "display_data"
    },
    {
     "data": {
      "text/html": [
       "<pre style=\"white-space:pre;overflow-x:auto;line-height:normal;font-family:Menlo,'DejaVu Sans Mono',consolas,'Courier New',monospace\">Best reward: -27.00 - Last reward per episode: -27.00 - Mean reward last 10 episode: -27.00 - Delta mean: 0.00\n",
       "</pre>\n"
      ],
      "text/plain": [
       "Best reward: -27.00 - Last reward per episode: -27.00 - Mean reward last 10 episode: -27.00 - Delta mean: 0.00\n"
      ]
     },
     "metadata": {},
     "output_type": "display_data"
    },
    {
     "data": {
      "text/html": [
       "<pre style=\"white-space:pre;overflow-x:auto;line-height:normal;font-family:Menlo,'DejaVu Sans Mono',consolas,'Courier New',monospace\">Num timesteps: 126000 - Ep: 1519\n",
       "</pre>\n"
      ],
      "text/plain": [
       "Num timesteps: 126000 - Ep: 1519\n"
      ]
     },
     "metadata": {},
     "output_type": "display_data"
    },
    {
     "data": {
      "text/html": [
       "<pre style=\"white-space:pre;overflow-x:auto;line-height:normal;font-family:Menlo,'DejaVu Sans Mono',consolas,'Courier New',monospace\">Best reward: -27.00 - Last reward per episode: -27.00 - Mean reward last 10 episode: -27.00 - Delta mean: 0.00\n",
       "</pre>\n"
      ],
      "text/plain": [
       "Best reward: -27.00 - Last reward per episode: -27.00 - Mean reward last 10 episode: -27.00 - Delta mean: 0.00\n"
      ]
     },
     "metadata": {},
     "output_type": "display_data"
    },
    {
     "data": {
      "text/html": [
       "<pre style=\"white-space:pre;overflow-x:auto;line-height:normal;font-family:Menlo,'DejaVu Sans Mono',consolas,'Courier New',monospace\">Num timesteps: 129000 - Ep: 1600\n",
       "</pre>\n"
      ],
      "text/plain": [
       "Num timesteps: 129000 - Ep: 1600\n"
      ]
     },
     "metadata": {},
     "output_type": "display_data"
    },
    {
     "data": {
      "text/html": [
       "<pre style=\"white-space:pre;overflow-x:auto;line-height:normal;font-family:Menlo,'DejaVu Sans Mono',consolas,'Courier New',monospace\">Best reward: -27.00 - Last reward per episode: -27.00 - Mean reward last 10 episode: -27.00 - Delta mean: 0.00\n",
       "</pre>\n"
      ],
      "text/plain": [
       "Best reward: -27.00 - Last reward per episode: -27.00 - Mean reward last 10 episode: -27.00 - Delta mean: 0.00\n"
      ]
     },
     "metadata": {},
     "output_type": "display_data"
    },
    {
     "data": {
      "text/html": [
       "<pre style=\"white-space:pre;overflow-x:auto;line-height:normal;font-family:Menlo,'DejaVu Sans Mono',consolas,'Courier New',monospace\">Num timesteps: 132000 - Ep: 1681\n",
       "</pre>\n"
      ],
      "text/plain": [
       "Num timesteps: 132000 - Ep: 1681\n"
      ]
     },
     "metadata": {},
     "output_type": "display_data"
    },
    {
     "data": {
      "text/html": [
       "<pre style=\"white-space:pre;overflow-x:auto;line-height:normal;font-family:Menlo,'DejaVu Sans Mono',consolas,'Courier New',monospace\">Best reward: -27.00 - Last reward per episode: -27.00 - Mean reward last 10 episode: -27.00 - Delta mean: 0.00\n",
       "</pre>\n"
      ],
      "text/plain": [
       "Best reward: -27.00 - Last reward per episode: -27.00 - Mean reward last 10 episode: -27.00 - Delta mean: 0.00\n"
      ]
     },
     "metadata": {},
     "output_type": "display_data"
    },
    {
     "data": {
      "text/html": [
       "<pre style=\"white-space:pre;overflow-x:auto;line-height:normal;font-family:Menlo,'DejaVu Sans Mono',consolas,'Courier New',monospace\">Num timesteps: 135000 - Ep: 1762\n",
       "</pre>\n"
      ],
      "text/plain": [
       "Num timesteps: 135000 - Ep: 1762\n"
      ]
     },
     "metadata": {},
     "output_type": "display_data"
    },
    {
     "data": {
      "text/html": [
       "<pre style=\"white-space:pre;overflow-x:auto;line-height:normal;font-family:Menlo,'DejaVu Sans Mono',consolas,'Courier New',monospace\">Best reward: -27.00 - Last reward per episode: -27.00 - Mean reward last 10 episode: -27.00 - Delta mean: 0.00\n",
       "</pre>\n"
      ],
      "text/plain": [
       "Best reward: -27.00 - Last reward per episode: -27.00 - Mean reward last 10 episode: -27.00 - Delta mean: 0.00\n"
      ]
     },
     "metadata": {},
     "output_type": "display_data"
    },
    {
     "data": {
      "text/html": [
       "<pre style=\"white-space:pre;overflow-x:auto;line-height:normal;font-family:Menlo,'DejaVu Sans Mono',consolas,'Courier New',monospace\">Num timesteps: 138000 - Ep: 1843\n",
       "</pre>\n"
      ],
      "text/plain": [
       "Num timesteps: 138000 - Ep: 1843\n"
      ]
     },
     "metadata": {},
     "output_type": "display_data"
    },
    {
     "data": {
      "text/html": [
       "<pre style=\"white-space:pre;overflow-x:auto;line-height:normal;font-family:Menlo,'DejaVu Sans Mono',consolas,'Courier New',monospace\">Best reward: -27.00 - Last reward per episode: -27.00 - Mean reward last 10 episode: -27.00 - Delta mean: 0.00\n",
       "</pre>\n"
      ],
      "text/plain": [
       "Best reward: -27.00 - Last reward per episode: -27.00 - Mean reward last 10 episode: -27.00 - Delta mean: 0.00\n"
      ]
     },
     "metadata": {},
     "output_type": "display_data"
    },
    {
     "data": {
      "text/html": [
       "<pre style=\"white-space:pre;overflow-x:auto;line-height:normal;font-family:Menlo,'DejaVu Sans Mono',consolas,'Courier New',monospace\">Num timesteps: 141000 - Ep: 1924\n",
       "</pre>\n"
      ],
      "text/plain": [
       "Num timesteps: 141000 - Ep: 1924\n"
      ]
     },
     "metadata": {},
     "output_type": "display_data"
    },
    {
     "data": {
      "text/html": [
       "<pre style=\"white-space:pre;overflow-x:auto;line-height:normal;font-family:Menlo,'DejaVu Sans Mono',consolas,'Courier New',monospace\">Best reward: -27.00 - Last reward per episode: -27.00 - Mean reward last 10 episode: -27.00 - Delta mean: 0.00\n",
       "</pre>\n"
      ],
      "text/plain": [
       "Best reward: -27.00 - Last reward per episode: -27.00 - Mean reward last 10 episode: -27.00 - Delta mean: 0.00\n"
      ]
     },
     "metadata": {},
     "output_type": "display_data"
    },
    {
     "data": {
      "text/html": [
       "<pre style=\"white-space:pre;overflow-x:auto;line-height:normal;font-family:Menlo,'DejaVu Sans Mono',consolas,'Courier New',monospace\">Num timesteps: 144000 - Ep: 2005\n",
       "</pre>\n"
      ],
      "text/plain": [
       "Num timesteps: 144000 - Ep: 2005\n"
      ]
     },
     "metadata": {},
     "output_type": "display_data"
    },
    {
     "data": {
      "text/html": [
       "<pre style=\"white-space:pre;overflow-x:auto;line-height:normal;font-family:Menlo,'DejaVu Sans Mono',consolas,'Courier New',monospace\">Best reward: -27.00 - Last reward per episode: -27.00 - Mean reward last 10 episode: -27.00 - Delta mean: 0.00\n",
       "</pre>\n"
      ],
      "text/plain": [
       "Best reward: -27.00 - Last reward per episode: -27.00 - Mean reward last 10 episode: -27.00 - Delta mean: 0.00\n"
      ]
     },
     "metadata": {},
     "output_type": "display_data"
    },
    {
     "data": {
      "text/html": [
       "<pre style=\"white-space:pre;overflow-x:auto;line-height:normal;font-family:Menlo,'DejaVu Sans Mono',consolas,'Courier New',monospace\">Num timesteps: 147000 - Ep: 2086\n",
       "</pre>\n"
      ],
      "text/plain": [
       "Num timesteps: 147000 - Ep: 2086\n"
      ]
     },
     "metadata": {},
     "output_type": "display_data"
    },
    {
     "data": {
      "text/html": [
       "<pre style=\"white-space:pre;overflow-x:auto;line-height:normal;font-family:Menlo,'DejaVu Sans Mono',consolas,'Courier New',monospace\">Best reward: -27.00 - Last reward per episode: -27.00 - Mean reward last 10 episode: -27.00 - Delta mean: 0.00\n",
       "</pre>\n"
      ],
      "text/plain": [
       "Best reward: -27.00 - Last reward per episode: -27.00 - Mean reward last 10 episode: -27.00 - Delta mean: 0.00\n"
      ]
     },
     "metadata": {},
     "output_type": "display_data"
    },
    {
     "data": {
      "text/html": [
       "<pre style=\"white-space:pre;overflow-x:auto;line-height:normal;font-family:Menlo,'DejaVu Sans Mono',consolas,'Courier New',monospace\">Num timesteps: 150000 - Ep: 2167\n",
       "</pre>\n"
      ],
      "text/plain": [
       "Num timesteps: 150000 - Ep: 2167\n"
      ]
     },
     "metadata": {},
     "output_type": "display_data"
    },
    {
     "data": {
      "text/html": [
       "<pre style=\"white-space:pre;overflow-x:auto;line-height:normal;font-family:Menlo,'DejaVu Sans Mono',consolas,'Courier New',monospace\">Best reward: -27.00 - Last reward per episode: -27.00 - Mean reward last 10 episode: -27.00 - Delta mean: 0.00\n",
       "</pre>\n"
      ],
      "text/plain": [
       "Best reward: -27.00 - Last reward per episode: -27.00 - Mean reward last 10 episode: -27.00 - Delta mean: 0.00\n"
      ]
     },
     "metadata": {},
     "output_type": "display_data"
    },
    {
     "data": {
      "text/html": [
       "<pre style=\"white-space:pre;overflow-x:auto;line-height:normal;font-family:Menlo,'DejaVu Sans Mono',consolas,'Courier New',monospace\">Num timesteps: 153000 - Ep: 2248\n",
       "</pre>\n"
      ],
      "text/plain": [
       "Num timesteps: 153000 - Ep: 2248\n"
      ]
     },
     "metadata": {},
     "output_type": "display_data"
    },
    {
     "data": {
      "text/html": [
       "<pre style=\"white-space:pre;overflow-x:auto;line-height:normal;font-family:Menlo,'DejaVu Sans Mono',consolas,'Courier New',monospace\">Best reward: -27.00 - Last reward per episode: -27.00 - Mean reward last 10 episode: -27.00 - Delta mean: 0.00\n",
       "</pre>\n"
      ],
      "text/plain": [
       "Best reward: -27.00 - Last reward per episode: -27.00 - Mean reward last 10 episode: -27.00 - Delta mean: 0.00\n"
      ]
     },
     "metadata": {},
     "output_type": "display_data"
    },
    {
     "data": {
      "text/html": [
       "<pre style=\"white-space:pre;overflow-x:auto;line-height:normal;font-family:Menlo,'DejaVu Sans Mono',consolas,'Courier New',monospace\">Num timesteps: 156000 - Ep: 2329\n",
       "</pre>\n"
      ],
      "text/plain": [
       "Num timesteps: 156000 - Ep: 2329\n"
      ]
     },
     "metadata": {},
     "output_type": "display_data"
    },
    {
     "data": {
      "text/html": [
       "<pre style=\"white-space:pre;overflow-x:auto;line-height:normal;font-family:Menlo,'DejaVu Sans Mono',consolas,'Courier New',monospace\">Best reward: -27.00 - Last reward per episode: -27.00 - Mean reward last 10 episode: -27.00 - Delta mean: 0.00\n",
       "</pre>\n"
      ],
      "text/plain": [
       "Best reward: -27.00 - Last reward per episode: -27.00 - Mean reward last 10 episode: -27.00 - Delta mean: 0.00\n"
      ]
     },
     "metadata": {},
     "output_type": "display_data"
    },
    {
     "data": {
      "text/html": [
       "<pre style=\"white-space:pre;overflow-x:auto;line-height:normal;font-family:Menlo,'DejaVu Sans Mono',consolas,'Courier New',monospace\">Num timesteps: 159000 - Ep: 2410\n",
       "</pre>\n"
      ],
      "text/plain": [
       "Num timesteps: 159000 - Ep: 2410\n"
      ]
     },
     "metadata": {},
     "output_type": "display_data"
    },
    {
     "data": {
      "text/html": [
       "<pre style=\"white-space:pre;overflow-x:auto;line-height:normal;font-family:Menlo,'DejaVu Sans Mono',consolas,'Courier New',monospace\">Best reward: -27.00 - Last reward per episode: -27.00 - Mean reward last 10 episode: -27.00 - Delta mean: 0.00\n",
       "</pre>\n"
      ],
      "text/plain": [
       "Best reward: -27.00 - Last reward per episode: -27.00 - Mean reward last 10 episode: -27.00 - Delta mean: 0.00\n"
      ]
     },
     "metadata": {},
     "output_type": "display_data"
    },
    {
     "data": {
      "text/html": [
       "<pre style=\"white-space:pre;overflow-x:auto;line-height:normal;font-family:Menlo,'DejaVu Sans Mono',consolas,'Courier New',monospace\">Num timesteps: 162000 - Ep: 2491\n",
       "</pre>\n"
      ],
      "text/plain": [
       "Num timesteps: 162000 - Ep: 2491\n"
      ]
     },
     "metadata": {},
     "output_type": "display_data"
    },
    {
     "data": {
      "text/html": [
       "<pre style=\"white-space:pre;overflow-x:auto;line-height:normal;font-family:Menlo,'DejaVu Sans Mono',consolas,'Courier New',monospace\">Best reward: -27.00 - Last reward per episode: -27.00 - Mean reward last 10 episode: -27.00 - Delta mean: 0.00\n",
       "</pre>\n"
      ],
      "text/plain": [
       "Best reward: -27.00 - Last reward per episode: -27.00 - Mean reward last 10 episode: -27.00 - Delta mean: 0.00\n"
      ]
     },
     "metadata": {},
     "output_type": "display_data"
    },
    {
     "data": {
      "text/html": [
       "<pre style=\"white-space:pre;overflow-x:auto;line-height:normal;font-family:Menlo,'DejaVu Sans Mono',consolas,'Courier New',monospace\">Num timesteps: 165000 - Ep: 2572\n",
       "</pre>\n"
      ],
      "text/plain": [
       "Num timesteps: 165000 - Ep: 2572\n"
      ]
     },
     "metadata": {},
     "output_type": "display_data"
    },
    {
     "data": {
      "text/html": [
       "<pre style=\"white-space:pre;overflow-x:auto;line-height:normal;font-family:Menlo,'DejaVu Sans Mono',consolas,'Courier New',monospace\">Best reward: -27.00 - Last reward per episode: -27.00 - Mean reward last 10 episode: -27.00 - Delta mean: 0.00\n",
       "</pre>\n"
      ],
      "text/plain": [
       "Best reward: -27.00 - Last reward per episode: -27.00 - Mean reward last 10 episode: -27.00 - Delta mean: 0.00\n"
      ]
     },
     "metadata": {},
     "output_type": "display_data"
    },
    {
     "data": {
      "text/html": [
       "<pre style=\"white-space:pre;overflow-x:auto;line-height:normal;font-family:Menlo,'DejaVu Sans Mono',consolas,'Courier New',monospace\">Num timesteps: 168000 - Ep: 2653\n",
       "</pre>\n"
      ],
      "text/plain": [
       "Num timesteps: 168000 - Ep: 2653\n"
      ]
     },
     "metadata": {},
     "output_type": "display_data"
    },
    {
     "data": {
      "text/html": [
       "<pre style=\"white-space:pre;overflow-x:auto;line-height:normal;font-family:Menlo,'DejaVu Sans Mono',consolas,'Courier New',monospace\">Best reward: -27.00 - Last reward per episode: -27.00 - Mean reward last 10 episode: -27.00 - Delta mean: 0.00\n",
       "</pre>\n"
      ],
      "text/plain": [
       "Best reward: -27.00 - Last reward per episode: -27.00 - Mean reward last 10 episode: -27.00 - Delta mean: 0.00\n"
      ]
     },
     "metadata": {},
     "output_type": "display_data"
    },
    {
     "data": {
      "text/html": [
       "<pre style=\"white-space:pre;overflow-x:auto;line-height:normal;font-family:Menlo,'DejaVu Sans Mono',consolas,'Courier New',monospace\">Num timesteps: 171000 - Ep: 2734\n",
       "</pre>\n"
      ],
      "text/plain": [
       "Num timesteps: 171000 - Ep: 2734\n"
      ]
     },
     "metadata": {},
     "output_type": "display_data"
    },
    {
     "data": {
      "text/html": [
       "<pre style=\"white-space:pre;overflow-x:auto;line-height:normal;font-family:Menlo,'DejaVu Sans Mono',consolas,'Courier New',monospace\">Best reward: -27.00 - Last reward per episode: -27.00 - Mean reward last 10 episode: -27.00 - Delta mean: 0.00\n",
       "</pre>\n"
      ],
      "text/plain": [
       "Best reward: -27.00 - Last reward per episode: -27.00 - Mean reward last 10 episode: -27.00 - Delta mean: 0.00\n"
      ]
     },
     "metadata": {},
     "output_type": "display_data"
    },
    {
     "data": {
      "text/html": [
       "<pre style=\"white-space:pre;overflow-x:auto;line-height:normal;font-family:Menlo,'DejaVu Sans Mono',consolas,'Courier New',monospace\">Num timesteps: 174000 - Ep: 2815\n",
       "</pre>\n"
      ],
      "text/plain": [
       "Num timesteps: 174000 - Ep: 2815\n"
      ]
     },
     "metadata": {},
     "output_type": "display_data"
    },
    {
     "data": {
      "text/html": [
       "<pre style=\"white-space:pre;overflow-x:auto;line-height:normal;font-family:Menlo,'DejaVu Sans Mono',consolas,'Courier New',monospace\">Best reward: -27.00 - Last reward per episode: -27.00 - Mean reward last 10 episode: -27.00 - Delta mean: 0.00\n",
       "</pre>\n"
      ],
      "text/plain": [
       "Best reward: -27.00 - Last reward per episode: -27.00 - Mean reward last 10 episode: -27.00 - Delta mean: 0.00\n"
      ]
     },
     "metadata": {},
     "output_type": "display_data"
    },
    {
     "data": {
      "text/html": [
       "<pre style=\"white-space:pre;overflow-x:auto;line-height:normal;font-family:Menlo,'DejaVu Sans Mono',consolas,'Courier New',monospace\">Num timesteps: 177000 - Ep: 2896\n",
       "</pre>\n"
      ],
      "text/plain": [
       "Num timesteps: 177000 - Ep: 2896\n"
      ]
     },
     "metadata": {},
     "output_type": "display_data"
    },
    {
     "data": {
      "text/html": [
       "<pre style=\"white-space:pre;overflow-x:auto;line-height:normal;font-family:Menlo,'DejaVu Sans Mono',consolas,'Courier New',monospace\">Best reward: -27.00 - Last reward per episode: -27.00 - Mean reward last 10 episode: -27.00 - Delta mean: 0.00\n",
       "</pre>\n"
      ],
      "text/plain": [
       "Best reward: -27.00 - Last reward per episode: -27.00 - Mean reward last 10 episode: -27.00 - Delta mean: 0.00\n"
      ]
     },
     "metadata": {},
     "output_type": "display_data"
    },
    {
     "data": {
      "text/html": [
       "<pre style=\"white-space:pre;overflow-x:auto;line-height:normal;font-family:Menlo,'DejaVu Sans Mono',consolas,'Courier New',monospace\">Num timesteps: 180000 - Ep: 2977\n",
       "</pre>\n"
      ],
      "text/plain": [
       "Num timesteps: 180000 - Ep: 2977\n"
      ]
     },
     "metadata": {},
     "output_type": "display_data"
    },
    {
     "data": {
      "text/html": [
       "<pre style=\"white-space:pre;overflow-x:auto;line-height:normal;font-family:Menlo,'DejaVu Sans Mono',consolas,'Courier New',monospace\">Best reward: -27.00 - Last reward per episode: -27.00 - Mean reward last 10 episode: -27.00 - Delta mean: 0.00\n",
       "</pre>\n"
      ],
      "text/plain": [
       "Best reward: -27.00 - Last reward per episode: -27.00 - Mean reward last 10 episode: -27.00 - Delta mean: 0.00\n"
      ]
     },
     "metadata": {},
     "output_type": "display_data"
    },
    {
     "data": {
      "text/html": [
       "<pre style=\"white-space:pre;overflow-x:auto;line-height:normal;font-family:Menlo,'DejaVu Sans Mono',consolas,'Courier New',monospace\">Num timesteps: 183000 - Ep: 3059\n",
       "</pre>\n"
      ],
      "text/plain": [
       "Num timesteps: 183000 - Ep: 3059\n"
      ]
     },
     "metadata": {},
     "output_type": "display_data"
    },
    {
     "data": {
      "text/html": [
       "<pre style=\"white-space:pre;overflow-x:auto;line-height:normal;font-family:Menlo,'DejaVu Sans Mono',consolas,'Courier New',monospace\">Best reward: -27.00 - Last reward per episode: -27.00 - Mean reward last 10 episode: -27.00 - Delta mean: 0.00\n",
       "</pre>\n"
      ],
      "text/plain": [
       "Best reward: -27.00 - Last reward per episode: -27.00 - Mean reward last 10 episode: -27.00 - Delta mean: 0.00\n"
      ]
     },
     "metadata": {},
     "output_type": "display_data"
    },
    {
     "data": {
      "text/html": [
       "<pre style=\"white-space:pre;overflow-x:auto;line-height:normal;font-family:Menlo,'DejaVu Sans Mono',consolas,'Courier New',monospace\">Num timesteps: 186000 - Ep: 3141\n",
       "</pre>\n"
      ],
      "text/plain": [
       "Num timesteps: 186000 - Ep: 3141\n"
      ]
     },
     "metadata": {},
     "output_type": "display_data"
    },
    {
     "data": {
      "text/html": [
       "<pre style=\"white-space:pre;overflow-x:auto;line-height:normal;font-family:Menlo,'DejaVu Sans Mono',consolas,'Courier New',monospace\">Best reward: -27.00 - Last reward per episode: -27.00 - Mean reward last 10 episode: -27.00 - Delta mean: 0.00\n",
       "</pre>\n"
      ],
      "text/plain": [
       "Best reward: -27.00 - Last reward per episode: -27.00 - Mean reward last 10 episode: -27.00 - Delta mean: 0.00\n"
      ]
     },
     "metadata": {},
     "output_type": "display_data"
    },
    {
     "data": {
      "text/html": [
       "<pre style=\"white-space:pre;overflow-x:auto;line-height:normal;font-family:Menlo,'DejaVu Sans Mono',consolas,'Courier New',monospace\">Num timesteps: 189000 - Ep: 3222\n",
       "</pre>\n"
      ],
      "text/plain": [
       "Num timesteps: 189000 - Ep: 3222\n"
      ]
     },
     "metadata": {},
     "output_type": "display_data"
    },
    {
     "data": {
      "text/html": [
       "<pre style=\"white-space:pre;overflow-x:auto;line-height:normal;font-family:Menlo,'DejaVu Sans Mono',consolas,'Courier New',monospace\">Best reward: -27.00 - Last reward per episode: -27.00 - Mean reward last 10 episode: -27.00 - Delta mean: 0.00\n",
       "</pre>\n"
      ],
      "text/plain": [
       "Best reward: -27.00 - Last reward per episode: -27.00 - Mean reward last 10 episode: -27.00 - Delta mean: 0.00\n"
      ]
     },
     "metadata": {},
     "output_type": "display_data"
    },
    {
     "data": {
      "text/html": [
       "<pre style=\"white-space:pre;overflow-x:auto;line-height:normal;font-family:Menlo,'DejaVu Sans Mono',consolas,'Courier New',monospace\">Num timesteps: 192000 - Ep: 3303\n",
       "</pre>\n"
      ],
      "text/plain": [
       "Num timesteps: 192000 - Ep: 3303\n"
      ]
     },
     "metadata": {},
     "output_type": "display_data"
    },
    {
     "data": {
      "text/html": [
       "<pre style=\"white-space:pre;overflow-x:auto;line-height:normal;font-family:Menlo,'DejaVu Sans Mono',consolas,'Courier New',monospace\">Best reward: -27.00 - Last reward per episode: -27.00 - Mean reward last 10 episode: -27.00 - Delta mean: 0.00\n",
       "</pre>\n"
      ],
      "text/plain": [
       "Best reward: -27.00 - Last reward per episode: -27.00 - Mean reward last 10 episode: -27.00 - Delta mean: 0.00\n"
      ]
     },
     "metadata": {},
     "output_type": "display_data"
    },
    {
     "data": {
      "text/html": [
       "<pre style=\"white-space:pre;overflow-x:auto;line-height:normal;font-family:Menlo,'DejaVu Sans Mono',consolas,'Courier New',monospace\">Num timesteps: 195000 - Ep: 3385\n",
       "</pre>\n"
      ],
      "text/plain": [
       "Num timesteps: 195000 - Ep: 3385\n"
      ]
     },
     "metadata": {},
     "output_type": "display_data"
    },
    {
     "data": {
      "text/html": [
       "<pre style=\"white-space:pre;overflow-x:auto;line-height:normal;font-family:Menlo,'DejaVu Sans Mono',consolas,'Courier New',monospace\">Best reward: -27.00 - Last reward per episode: -27.00 - Mean reward last 10 episode: -27.00 - Delta mean: 0.00\n",
       "</pre>\n"
      ],
      "text/plain": [
       "Best reward: -27.00 - Last reward per episode: -27.00 - Mean reward last 10 episode: -27.00 - Delta mean: 0.00\n"
      ]
     },
     "metadata": {},
     "output_type": "display_data"
    },
    {
     "data": {
      "text/html": [
       "<pre style=\"white-space:pre;overflow-x:auto;line-height:normal;font-family:Menlo,'DejaVu Sans Mono',consolas,'Courier New',monospace\">Num timesteps: 198000 - Ep: 3466\n",
       "</pre>\n"
      ],
      "text/plain": [
       "Num timesteps: 198000 - Ep: 3466\n"
      ]
     },
     "metadata": {},
     "output_type": "display_data"
    },
    {
     "data": {
      "text/html": [
       "<pre style=\"white-space:pre;overflow-x:auto;line-height:normal;font-family:Menlo,'DejaVu Sans Mono',consolas,'Courier New',monospace\">Best reward: -27.00 - Last reward per episode: -27.00 - Mean reward last 10 episode: -27.00 - Delta mean: 0.00\n",
       "</pre>\n"
      ],
      "text/plain": [
       "Best reward: -27.00 - Last reward per episode: -27.00 - Mean reward last 10 episode: -27.00 - Delta mean: 0.00\n"
      ]
     },
     "metadata": {},
     "output_type": "display_data"
    },
    {
     "data": {
      "text/html": [
       "<pre style=\"white-space:pre;overflow-x:auto;line-height:normal;font-family:Menlo,'DejaVu Sans Mono',consolas,'Courier New',monospace\">Num timesteps: 201000 - Ep: 3547\n",
       "</pre>\n"
      ],
      "text/plain": [
       "Num timesteps: 201000 - Ep: 3547\n"
      ]
     },
     "metadata": {},
     "output_type": "display_data"
    },
    {
     "data": {
      "text/html": [
       "<pre style=\"white-space:pre;overflow-x:auto;line-height:normal;font-family:Menlo,'DejaVu Sans Mono',consolas,'Courier New',monospace\">Best reward: -27.00 - Last reward per episode: -27.00 - Mean reward last 10 episode: -27.00 - Delta mean: 0.00\n",
       "</pre>\n"
      ],
      "text/plain": [
       "Best reward: -27.00 - Last reward per episode: -27.00 - Mean reward last 10 episode: -27.00 - Delta mean: 0.00\n"
      ]
     },
     "metadata": {},
     "output_type": "display_data"
    },
    {
     "data": {
      "text/html": [
       "<pre style=\"white-space:pre;overflow-x:auto;line-height:normal;font-family:Menlo,'DejaVu Sans Mono',consolas,'Courier New',monospace\">Num timesteps: 204000 - Ep: 3628\n",
       "</pre>\n"
      ],
      "text/plain": [
       "Num timesteps: 204000 - Ep: 3628\n"
      ]
     },
     "metadata": {},
     "output_type": "display_data"
    },
    {
     "data": {
      "text/html": [
       "<pre style=\"white-space:pre;overflow-x:auto;line-height:normal;font-family:Menlo,'DejaVu Sans Mono',consolas,'Courier New',monospace\">Best reward: -27.00 - Last reward per episode: -27.00 - Mean reward last 10 episode: -27.00 - Delta mean: 0.00\n",
       "</pre>\n"
      ],
      "text/plain": [
       "Best reward: -27.00 - Last reward per episode: -27.00 - Mean reward last 10 episode: -27.00 - Delta mean: 0.00\n"
      ]
     },
     "metadata": {},
     "output_type": "display_data"
    },
    {
     "data": {
      "text/html": [
       "<pre style=\"white-space:pre;overflow-x:auto;line-height:normal;font-family:Menlo,'DejaVu Sans Mono',consolas,'Courier New',monospace\">Num timesteps: 207000 - Ep: 3709\n",
       "</pre>\n"
      ],
      "text/plain": [
       "Num timesteps: 207000 - Ep: 3709\n"
      ]
     },
     "metadata": {},
     "output_type": "display_data"
    },
    {
     "data": {
      "text/html": [
       "<pre style=\"white-space:pre;overflow-x:auto;line-height:normal;font-family:Menlo,'DejaVu Sans Mono',consolas,'Courier New',monospace\">Best reward: -27.00 - Last reward per episode: -27.00 - Mean reward last 10 episode: -27.00 - Delta mean: 0.00\n",
       "</pre>\n"
      ],
      "text/plain": [
       "Best reward: -27.00 - Last reward per episode: -27.00 - Mean reward last 10 episode: -27.00 - Delta mean: 0.00\n"
      ]
     },
     "metadata": {},
     "output_type": "display_data"
    },
    {
     "data": {
      "text/html": [
       "<pre style=\"white-space:pre;overflow-x:auto;line-height:normal;font-family:Menlo,'DejaVu Sans Mono',consolas,'Courier New',monospace\">Num timesteps: 210000 - Ep: 3790\n",
       "</pre>\n"
      ],
      "text/plain": [
       "Num timesteps: 210000 - Ep: 3790\n"
      ]
     },
     "metadata": {},
     "output_type": "display_data"
    },
    {
     "data": {
      "text/html": [
       "<pre style=\"white-space:pre;overflow-x:auto;line-height:normal;font-family:Menlo,'DejaVu Sans Mono',consolas,'Courier New',monospace\">Best reward: -27.00 - Last reward per episode: -27.00 - Mean reward last 10 episode: -27.00 - Delta mean: 0.00\n",
       "</pre>\n"
      ],
      "text/plain": [
       "Best reward: -27.00 - Last reward per episode: -27.00 - Mean reward last 10 episode: -27.00 - Delta mean: 0.00\n"
      ]
     },
     "metadata": {},
     "output_type": "display_data"
    },
    {
     "data": {
      "text/html": [
       "<pre style=\"white-space:pre;overflow-x:auto;line-height:normal;font-family:Menlo,'DejaVu Sans Mono',consolas,'Courier New',monospace\">Num timesteps: 213000 - Ep: 3871\n",
       "</pre>\n"
      ],
      "text/plain": [
       "Num timesteps: 213000 - Ep: 3871\n"
      ]
     },
     "metadata": {},
     "output_type": "display_data"
    },
    {
     "data": {
      "text/html": [
       "<pre style=\"white-space:pre;overflow-x:auto;line-height:normal;font-family:Menlo,'DejaVu Sans Mono',consolas,'Courier New',monospace\">Best reward: -27.00 - Last reward per episode: -27.00 - Mean reward last 10 episode: -27.00 - Delta mean: 0.00\n",
       "</pre>\n"
      ],
      "text/plain": [
       "Best reward: -27.00 - Last reward per episode: -27.00 - Mean reward last 10 episode: -27.00 - Delta mean: 0.00\n"
      ]
     },
     "metadata": {},
     "output_type": "display_data"
    },
    {
     "data": {
      "text/html": [
       "<pre style=\"white-space:pre;overflow-x:auto;line-height:normal;font-family:Menlo,'DejaVu Sans Mono',consolas,'Courier New',monospace\">Num timesteps: 216000 - Ep: 3952\n",
       "</pre>\n"
      ],
      "text/plain": [
       "Num timesteps: 216000 - Ep: 3952\n"
      ]
     },
     "metadata": {},
     "output_type": "display_data"
    },
    {
     "data": {
      "text/html": [
       "<pre style=\"white-space:pre;overflow-x:auto;line-height:normal;font-family:Menlo,'DejaVu Sans Mono',consolas,'Courier New',monospace\">Best reward: -27.00 - Last reward per episode: -27.00 - Mean reward last 10 episode: -27.00 - Delta mean: 0.00\n",
       "</pre>\n"
      ],
      "text/plain": [
       "Best reward: -27.00 - Last reward per episode: -27.00 - Mean reward last 10 episode: -27.00 - Delta mean: 0.00\n"
      ]
     },
     "metadata": {},
     "output_type": "display_data"
    },
    {
     "data": {
      "text/html": [
       "<pre style=\"white-space:pre;overflow-x:auto;line-height:normal;font-family:Menlo,'DejaVu Sans Mono',consolas,'Courier New',monospace\">Num timesteps: 219000 - Ep: 4033\n",
       "</pre>\n"
      ],
      "text/plain": [
       "Num timesteps: 219000 - Ep: 4033\n"
      ]
     },
     "metadata": {},
     "output_type": "display_data"
    },
    {
     "data": {
      "text/html": [
       "<pre style=\"white-space:pre;overflow-x:auto;line-height:normal;font-family:Menlo,'DejaVu Sans Mono',consolas,'Courier New',monospace\">Best reward: -27.00 - Last reward per episode: -27.00 - Mean reward last 10 episode: -27.00 - Delta mean: 0.00\n",
       "</pre>\n"
      ],
      "text/plain": [
       "Best reward: -27.00 - Last reward per episode: -27.00 - Mean reward last 10 episode: -27.00 - Delta mean: 0.00\n"
      ]
     },
     "metadata": {},
     "output_type": "display_data"
    },
    {
     "data": {
      "text/html": [
       "<pre style=\"white-space:pre;overflow-x:auto;line-height:normal;font-family:Menlo,'DejaVu Sans Mono',consolas,'Courier New',monospace\">Num timesteps: 222000 - Ep: 4114\n",
       "</pre>\n"
      ],
      "text/plain": [
       "Num timesteps: 222000 - Ep: 4114\n"
      ]
     },
     "metadata": {},
     "output_type": "display_data"
    },
    {
     "data": {
      "text/html": [
       "<pre style=\"white-space:pre;overflow-x:auto;line-height:normal;font-family:Menlo,'DejaVu Sans Mono',consolas,'Courier New',monospace\">Best reward: -27.00 - Last reward per episode: -27.00 - Mean reward last 10 episode: -27.00 - Delta mean: 0.00\n",
       "</pre>\n"
      ],
      "text/plain": [
       "Best reward: -27.00 - Last reward per episode: -27.00 - Mean reward last 10 episode: -27.00 - Delta mean: 0.00\n"
      ]
     },
     "metadata": {},
     "output_type": "display_data"
    },
    {
     "data": {
      "text/html": [
       "<pre style=\"white-space:pre;overflow-x:auto;line-height:normal;font-family:Menlo,'DejaVu Sans Mono',consolas,'Courier New',monospace\">Num timesteps: 225000 - Ep: 4195\n",
       "</pre>\n"
      ],
      "text/plain": [
       "Num timesteps: 225000 - Ep: 4195\n"
      ]
     },
     "metadata": {},
     "output_type": "display_data"
    },
    {
     "data": {
      "text/html": [
       "<pre style=\"white-space:pre;overflow-x:auto;line-height:normal;font-family:Menlo,'DejaVu Sans Mono',consolas,'Courier New',monospace\">Best reward: -27.00 - Last reward per episode: -27.00 - Mean reward last 10 episode: -27.00 - Delta mean: 0.00\n",
       "</pre>\n"
      ],
      "text/plain": [
       "Best reward: -27.00 - Last reward per episode: -27.00 - Mean reward last 10 episode: -27.00 - Delta mean: 0.00\n"
      ]
     },
     "metadata": {},
     "output_type": "display_data"
    },
    {
     "data": {
      "text/html": [
       "<pre style=\"white-space:pre;overflow-x:auto;line-height:normal;font-family:Menlo,'DejaVu Sans Mono',consolas,'Courier New',monospace\">Num timesteps: 228000 - Ep: 4276\n",
       "</pre>\n"
      ],
      "text/plain": [
       "Num timesteps: 228000 - Ep: 4276\n"
      ]
     },
     "metadata": {},
     "output_type": "display_data"
    },
    {
     "data": {
      "text/html": [
       "<pre style=\"white-space:pre;overflow-x:auto;line-height:normal;font-family:Menlo,'DejaVu Sans Mono',consolas,'Courier New',monospace\">Best reward: -27.00 - Last reward per episode: -27.00 - Mean reward last 10 episode: -27.00 - Delta mean: 0.00\n",
       "</pre>\n"
      ],
      "text/plain": [
       "Best reward: -27.00 - Last reward per episode: -27.00 - Mean reward last 10 episode: -27.00 - Delta mean: 0.00\n"
      ]
     },
     "metadata": {},
     "output_type": "display_data"
    },
    {
     "data": {
      "text/html": [
       "<pre style=\"white-space:pre;overflow-x:auto;line-height:normal;font-family:Menlo,'DejaVu Sans Mono',consolas,'Courier New',monospace\">Num timesteps: 231000 - Ep: 4357\n",
       "</pre>\n"
      ],
      "text/plain": [
       "Num timesteps: 231000 - Ep: 4357\n"
      ]
     },
     "metadata": {},
     "output_type": "display_data"
    },
    {
     "data": {
      "text/html": [
       "<pre style=\"white-space:pre;overflow-x:auto;line-height:normal;font-family:Menlo,'DejaVu Sans Mono',consolas,'Courier New',monospace\">Best reward: -27.00 - Last reward per episode: -27.00 - Mean reward last 10 episode: -27.00 - Delta mean: 0.00\n",
       "</pre>\n"
      ],
      "text/plain": [
       "Best reward: -27.00 - Last reward per episode: -27.00 - Mean reward last 10 episode: -27.00 - Delta mean: 0.00\n"
      ]
     },
     "metadata": {},
     "output_type": "display_data"
    },
    {
     "data": {
      "text/html": [
       "<pre style=\"white-space:pre;overflow-x:auto;line-height:normal;font-family:Menlo,'DejaVu Sans Mono',consolas,'Courier New',monospace\">Num timesteps: 234000 - Ep: 4438\n",
       "</pre>\n"
      ],
      "text/plain": [
       "Num timesteps: 234000 - Ep: 4438\n"
      ]
     },
     "metadata": {},
     "output_type": "display_data"
    },
    {
     "data": {
      "text/html": [
       "<pre style=\"white-space:pre;overflow-x:auto;line-height:normal;font-family:Menlo,'DejaVu Sans Mono',consolas,'Courier New',monospace\">Best reward: -27.00 - Last reward per episode: -27.00 - Mean reward last 10 episode: -27.00 - Delta mean: 0.00\n",
       "</pre>\n"
      ],
      "text/plain": [
       "Best reward: -27.00 - Last reward per episode: -27.00 - Mean reward last 10 episode: -27.00 - Delta mean: 0.00\n"
      ]
     },
     "metadata": {},
     "output_type": "display_data"
    },
    {
     "data": {
      "text/html": [
       "<pre style=\"white-space:pre;overflow-x:auto;line-height:normal;font-family:Menlo,'DejaVu Sans Mono',consolas,'Courier New',monospace\">Num timesteps: 237000 - Ep: 4519\n",
       "</pre>\n"
      ],
      "text/plain": [
       "Num timesteps: 237000 - Ep: 4519\n"
      ]
     },
     "metadata": {},
     "output_type": "display_data"
    },
    {
     "data": {
      "text/html": [
       "<pre style=\"white-space:pre;overflow-x:auto;line-height:normal;font-family:Menlo,'DejaVu Sans Mono',consolas,'Courier New',monospace\">Best reward: -27.00 - Last reward per episode: -35.00 - Mean reward last 10 episode: -29.60 - Delta mean: -2.60\n",
       "</pre>\n"
      ],
      "text/plain": [
       "Best reward: -27.00 - Last reward per episode: -35.00 - Mean reward last 10 episode: -29.60 - Delta mean: -2.60\n"
      ]
     },
     "metadata": {},
     "output_type": "display_data"
    },
    {
     "data": {
      "text/html": [
       "<pre style=\"white-space:pre;overflow-x:auto;line-height:normal;font-family:Menlo,'DejaVu Sans Mono',consolas,'Courier New',monospace\">Num timesteps: 240000 - Ep: 4600\n",
       "</pre>\n"
      ],
      "text/plain": [
       "Num timesteps: 240000 - Ep: 4600\n"
      ]
     },
     "metadata": {},
     "output_type": "display_data"
    },
    {
     "data": {
      "text/html": [
       "<pre style=\"white-space:pre;overflow-x:auto;line-height:normal;font-family:Menlo,'DejaVu Sans Mono',consolas,'Courier New',monospace\">Best reward: -27.00 - Last reward per episode: -27.00 - Mean reward last 10 episode: -27.20 - Delta mean: 2.40\n",
       "</pre>\n"
      ],
      "text/plain": [
       "Best reward: -27.00 - Last reward per episode: -27.00 - Mean reward last 10 episode: -27.20 - Delta mean: 2.40\n"
      ]
     },
     "metadata": {},
     "output_type": "display_data"
    },
    {
     "data": {
      "text/html": [
       "<pre style=\"white-space:pre;overflow-x:auto;line-height:normal;font-family:Menlo,'DejaVu Sans Mono',consolas,'Courier New',monospace\">Num timesteps: 243000 - Ep: 4681\n",
       "</pre>\n"
      ],
      "text/plain": [
       "Num timesteps: 243000 - Ep: 4681\n"
      ]
     },
     "metadata": {},
     "output_type": "display_data"
    },
    {
     "data": {
      "text/html": [
       "<pre style=\"white-space:pre;overflow-x:auto;line-height:normal;font-family:Menlo,'DejaVu Sans Mono',consolas,'Courier New',monospace\">Best reward: -27.00 - Last reward per episode: -30.00 - Mean reward last 10 episode: -27.60 - Delta mean: -0.40\n",
       "</pre>\n"
      ],
      "text/plain": [
       "Best reward: -27.00 - Last reward per episode: -30.00 - Mean reward last 10 episode: -27.60 - Delta mean: -0.40\n"
      ]
     },
     "metadata": {},
     "output_type": "display_data"
    },
    {
     "data": {
      "text/html": [
       "<pre style=\"white-space:pre;overflow-x:auto;line-height:normal;font-family:Menlo,'DejaVu Sans Mono',consolas,'Courier New',monospace\">Num timesteps: 246000 - Ep: 4762\n",
       "</pre>\n"
      ],
      "text/plain": [
       "Num timesteps: 246000 - Ep: 4762\n"
      ]
     },
     "metadata": {},
     "output_type": "display_data"
    },
    {
     "data": {
      "text/html": [
       "<pre style=\"white-space:pre;overflow-x:auto;line-height:normal;font-family:Menlo,'DejaVu Sans Mono',consolas,'Courier New',monospace\">Best reward: -27.00 - Last reward per episode: -27.00 - Mean reward last 10 episode: -27.20 - Delta mean: 0.40\n",
       "</pre>\n"
      ],
      "text/plain": [
       "Best reward: -27.00 - Last reward per episode: -27.00 - Mean reward last 10 episode: -27.20 - Delta mean: 0.40\n"
      ]
     },
     "metadata": {},
     "output_type": "display_data"
    },
    {
     "data": {
      "text/html": [
       "<pre style=\"white-space:pre;overflow-x:auto;line-height:normal;font-family:Menlo,'DejaVu Sans Mono',consolas,'Courier New',monospace\">Num timesteps: 249000 - Ep: 4843\n",
       "</pre>\n"
      ],
      "text/plain": [
       "Num timesteps: 249000 - Ep: 4843\n"
      ]
     },
     "metadata": {},
     "output_type": "display_data"
    },
    {
     "data": {
      "text/html": [
       "<pre style=\"white-space:pre;overflow-x:auto;line-height:normal;font-family:Menlo,'DejaVu Sans Mono',consolas,'Courier New',monospace\">Best reward: -27.00 - Last reward per episode: -27.00 - Mean reward last 10 episode: -27.00 - Delta mean: 0.20\n",
       "</pre>\n"
      ],
      "text/plain": [
       "Best reward: -27.00 - Last reward per episode: -27.00 - Mean reward last 10 episode: -27.00 - Delta mean: 0.20\n"
      ]
     },
     "metadata": {},
     "output_type": "display_data"
    },
    {
     "data": {
      "text/html": [
       "<pre style=\"white-space:pre;overflow-x:auto;line-height:normal;font-family:Menlo,'DejaVu Sans Mono',consolas,'Courier New',monospace\">Num timesteps: 252000 - Ep: 4924\n",
       "</pre>\n"
      ],
      "text/plain": [
       "Num timesteps: 252000 - Ep: 4924\n"
      ]
     },
     "metadata": {},
     "output_type": "display_data"
    },
    {
     "data": {
      "text/html": [
       "<pre style=\"white-space:pre;overflow-x:auto;line-height:normal;font-family:Menlo,'DejaVu Sans Mono',consolas,'Courier New',monospace\">Best reward: -27.00 - Last reward per episode: -27.00 - Mean reward last 10 episode: -27.00 - Delta mean: 0.00\n",
       "</pre>\n"
      ],
      "text/plain": [
       "Best reward: -27.00 - Last reward per episode: -27.00 - Mean reward last 10 episode: -27.00 - Delta mean: 0.00\n"
      ]
     },
     "metadata": {},
     "output_type": "display_data"
    },
    {
     "data": {
      "text/html": [
       "<pre style=\"white-space:pre;overflow-x:auto;line-height:normal;font-family:Menlo,'DejaVu Sans Mono',consolas,'Courier New',monospace\">Num timesteps: 255000 - Ep: 5005\n",
       "</pre>\n"
      ],
      "text/plain": [
       "Num timesteps: 255000 - Ep: 5005\n"
      ]
     },
     "metadata": {},
     "output_type": "display_data"
    },
    {
     "data": {
      "text/html": [
       "<pre style=\"white-space:pre;overflow-x:auto;line-height:normal;font-family:Menlo,'DejaVu Sans Mono',consolas,'Courier New',monospace\">Best reward: -27.00 - Last reward per episode: -27.00 - Mean reward last 10 episode: -27.00 - Delta mean: 0.00\n",
       "</pre>\n"
      ],
      "text/plain": [
       "Best reward: -27.00 - Last reward per episode: -27.00 - Mean reward last 10 episode: -27.00 - Delta mean: 0.00\n"
      ]
     },
     "metadata": {},
     "output_type": "display_data"
    },
    {
     "data": {
      "text/html": [
       "<pre style=\"white-space:pre;overflow-x:auto;line-height:normal;font-family:Menlo,'DejaVu Sans Mono',consolas,'Courier New',monospace\">Num timesteps: 258000 - Ep: 5086\n",
       "</pre>\n"
      ],
      "text/plain": [
       "Num timesteps: 258000 - Ep: 5086\n"
      ]
     },
     "metadata": {},
     "output_type": "display_data"
    },
    {
     "data": {
      "text/html": [
       "<pre style=\"white-space:pre;overflow-x:auto;line-height:normal;font-family:Menlo,'DejaVu Sans Mono',consolas,'Courier New',monospace\">Best reward: -27.00 - Last reward per episode: -27.00 - Mean reward last 10 episode: -27.00 - Delta mean: 0.00\n",
       "</pre>\n"
      ],
      "text/plain": [
       "Best reward: -27.00 - Last reward per episode: -27.00 - Mean reward last 10 episode: -27.00 - Delta mean: 0.00\n"
      ]
     },
     "metadata": {},
     "output_type": "display_data"
    },
    {
     "data": {
      "text/html": [
       "<pre style=\"white-space:pre;overflow-x:auto;line-height:normal;font-family:Menlo,'DejaVu Sans Mono',consolas,'Courier New',monospace\">Num timesteps: 261000 - Ep: 5167\n",
       "</pre>\n"
      ],
      "text/plain": [
       "Num timesteps: 261000 - Ep: 5167\n"
      ]
     },
     "metadata": {},
     "output_type": "display_data"
    },
    {
     "data": {
      "text/html": [
       "<pre style=\"white-space:pre;overflow-x:auto;line-height:normal;font-family:Menlo,'DejaVu Sans Mono',consolas,'Courier New',monospace\">Best reward: -27.00 - Last reward per episode: -27.00 - Mean reward last 10 episode: -27.00 - Delta mean: 0.00\n",
       "</pre>\n"
      ],
      "text/plain": [
       "Best reward: -27.00 - Last reward per episode: -27.00 - Mean reward last 10 episode: -27.00 - Delta mean: 0.00\n"
      ]
     },
     "metadata": {},
     "output_type": "display_data"
    },
    {
     "data": {
      "text/html": [
       "<pre style=\"white-space:pre;overflow-x:auto;line-height:normal;font-family:Menlo,'DejaVu Sans Mono',consolas,'Courier New',monospace\">Num timesteps: 264000 - Ep: 5248\n",
       "</pre>\n"
      ],
      "text/plain": [
       "Num timesteps: 264000 - Ep: 5248\n"
      ]
     },
     "metadata": {},
     "output_type": "display_data"
    },
    {
     "data": {
      "text/html": [
       "<pre style=\"white-space:pre;overflow-x:auto;line-height:normal;font-family:Menlo,'DejaVu Sans Mono',consolas,'Courier New',monospace\">Best reward: -27.00 - Last reward per episode: -27.00 - Mean reward last 10 episode: -27.00 - Delta mean: 0.00\n",
       "</pre>\n"
      ],
      "text/plain": [
       "Best reward: -27.00 - Last reward per episode: -27.00 - Mean reward last 10 episode: -27.00 - Delta mean: 0.00\n"
      ]
     },
     "metadata": {},
     "output_type": "display_data"
    },
    {
     "data": {
      "text/html": [
       "<pre style=\"white-space:pre;overflow-x:auto;line-height:normal;font-family:Menlo,'DejaVu Sans Mono',consolas,'Courier New',monospace\">Num timesteps: 267000 - Ep: 5329\n",
       "</pre>\n"
      ],
      "text/plain": [
       "Num timesteps: 267000 - Ep: 5329\n"
      ]
     },
     "metadata": {},
     "output_type": "display_data"
    },
    {
     "data": {
      "text/html": [
       "<pre style=\"white-space:pre;overflow-x:auto;line-height:normal;font-family:Menlo,'DejaVu Sans Mono',consolas,'Courier New',monospace\">Best reward: -27.00 - Last reward per episode: -27.00 - Mean reward last 10 episode: -27.00 - Delta mean: 0.00\n",
       "</pre>\n"
      ],
      "text/plain": [
       "Best reward: -27.00 - Last reward per episode: -27.00 - Mean reward last 10 episode: -27.00 - Delta mean: 0.00\n"
      ]
     },
     "metadata": {},
     "output_type": "display_data"
    },
    {
     "data": {
      "text/html": [
       "<pre style=\"white-space:pre;overflow-x:auto;line-height:normal;font-family:Menlo,'DejaVu Sans Mono',consolas,'Courier New',monospace\">Num timesteps: 270000 - Ep: 5410\n",
       "</pre>\n"
      ],
      "text/plain": [
       "Num timesteps: 270000 - Ep: 5410\n"
      ]
     },
     "metadata": {},
     "output_type": "display_data"
    },
    {
     "data": {
      "text/html": [
       "<pre style=\"white-space:pre;overflow-x:auto;line-height:normal;font-family:Menlo,'DejaVu Sans Mono',consolas,'Courier New',monospace\">Best reward: -27.00 - Last reward per episode: -27.00 - Mean reward last 10 episode: -27.00 - Delta mean: 0.00\n",
       "</pre>\n"
      ],
      "text/plain": [
       "Best reward: -27.00 - Last reward per episode: -27.00 - Mean reward last 10 episode: -27.00 - Delta mean: 0.00\n"
      ]
     },
     "metadata": {},
     "output_type": "display_data"
    },
    {
     "data": {
      "text/html": [
       "<pre style=\"white-space:pre;overflow-x:auto;line-height:normal;font-family:Menlo,'DejaVu Sans Mono',consolas,'Courier New',monospace\">Num timesteps: 273000 - Ep: 5491\n",
       "</pre>\n"
      ],
      "text/plain": [
       "Num timesteps: 273000 - Ep: 5491\n"
      ]
     },
     "metadata": {},
     "output_type": "display_data"
    },
    {
     "data": {
      "text/html": [
       "<pre style=\"white-space:pre;overflow-x:auto;line-height:normal;font-family:Menlo,'DejaVu Sans Mono',consolas,'Courier New',monospace\">Best reward: -27.00 - Last reward per episode: -27.00 - Mean reward last 10 episode: -27.00 - Delta mean: 0.00\n",
       "</pre>\n"
      ],
      "text/plain": [
       "Best reward: -27.00 - Last reward per episode: -27.00 - Mean reward last 10 episode: -27.00 - Delta mean: 0.00\n"
      ]
     },
     "metadata": {},
     "output_type": "display_data"
    },
    {
     "data": {
      "text/html": [
       "<pre style=\"white-space:pre;overflow-x:auto;line-height:normal;font-family:Menlo,'DejaVu Sans Mono',consolas,'Courier New',monospace\">Num timesteps: 276000 - Ep: 5572\n",
       "</pre>\n"
      ],
      "text/plain": [
       "Num timesteps: 276000 - Ep: 5572\n"
      ]
     },
     "metadata": {},
     "output_type": "display_data"
    },
    {
     "data": {
      "text/html": [
       "<pre style=\"white-space:pre;overflow-x:auto;line-height:normal;font-family:Menlo,'DejaVu Sans Mono',consolas,'Courier New',monospace\">Best reward: -27.00 - Last reward per episode: -27.00 - Mean reward last 10 episode: -27.00 - Delta mean: 0.00\n",
       "</pre>\n"
      ],
      "text/plain": [
       "Best reward: -27.00 - Last reward per episode: -27.00 - Mean reward last 10 episode: -27.00 - Delta mean: 0.00\n"
      ]
     },
     "metadata": {},
     "output_type": "display_data"
    },
    {
     "data": {
      "text/html": [
       "<pre style=\"white-space:pre;overflow-x:auto;line-height:normal;font-family:Menlo,'DejaVu Sans Mono',consolas,'Courier New',monospace\">Num timesteps: 279000 - Ep: 5653\n",
       "</pre>\n"
      ],
      "text/plain": [
       "Num timesteps: 279000 - Ep: 5653\n"
      ]
     },
     "metadata": {},
     "output_type": "display_data"
    },
    {
     "data": {
      "text/html": [
       "<pre style=\"white-space:pre;overflow-x:auto;line-height:normal;font-family:Menlo,'DejaVu Sans Mono',consolas,'Courier New',monospace\">Best reward: -27.00 - Last reward per episode: -27.00 - Mean reward last 10 episode: -27.00 - Delta mean: 0.00\n",
       "</pre>\n"
      ],
      "text/plain": [
       "Best reward: -27.00 - Last reward per episode: -27.00 - Mean reward last 10 episode: -27.00 - Delta mean: 0.00\n"
      ]
     },
     "metadata": {},
     "output_type": "display_data"
    },
    {
     "data": {
      "text/html": [
       "<pre style=\"white-space:pre;overflow-x:auto;line-height:normal;font-family:Menlo,'DejaVu Sans Mono',consolas,'Courier New',monospace\">Num timesteps: 282000 - Ep: 5734\n",
       "</pre>\n"
      ],
      "text/plain": [
       "Num timesteps: 282000 - Ep: 5734\n"
      ]
     },
     "metadata": {},
     "output_type": "display_data"
    },
    {
     "data": {
      "text/html": [
       "<pre style=\"white-space:pre;overflow-x:auto;line-height:normal;font-family:Menlo,'DejaVu Sans Mono',consolas,'Courier New',monospace\">Best reward: -27.00 - Last reward per episode: -27.00 - Mean reward last 10 episode: -27.00 - Delta mean: 0.00\n",
       "</pre>\n"
      ],
      "text/plain": [
       "Best reward: -27.00 - Last reward per episode: -27.00 - Mean reward last 10 episode: -27.00 - Delta mean: 0.00\n"
      ]
     },
     "metadata": {},
     "output_type": "display_data"
    },
    {
     "data": {
      "text/html": [
       "<pre style=\"white-space:pre;overflow-x:auto;line-height:normal;font-family:Menlo,'DejaVu Sans Mono',consolas,'Courier New',monospace\">Num timesteps: 285000 - Ep: 5815\n",
       "</pre>\n"
      ],
      "text/plain": [
       "Num timesteps: 285000 - Ep: 5815\n"
      ]
     },
     "metadata": {},
     "output_type": "display_data"
    },
    {
     "data": {
      "text/html": [
       "<pre style=\"white-space:pre;overflow-x:auto;line-height:normal;font-family:Menlo,'DejaVu Sans Mono',consolas,'Courier New',monospace\">Best reward: -27.00 - Last reward per episode: -27.00 - Mean reward last 10 episode: -27.00 - Delta mean: 0.00\n",
       "</pre>\n"
      ],
      "text/plain": [
       "Best reward: -27.00 - Last reward per episode: -27.00 - Mean reward last 10 episode: -27.00 - Delta mean: 0.00\n"
      ]
     },
     "metadata": {},
     "output_type": "display_data"
    },
    {
     "data": {
      "text/html": [
       "<pre style=\"white-space:pre;overflow-x:auto;line-height:normal;font-family:Menlo,'DejaVu Sans Mono',consolas,'Courier New',monospace\">Num timesteps: 288000 - Ep: 5896\n",
       "</pre>\n"
      ],
      "text/plain": [
       "Num timesteps: 288000 - Ep: 5896\n"
      ]
     },
     "metadata": {},
     "output_type": "display_data"
    },
    {
     "data": {
      "text/html": [
       "<pre style=\"white-space:pre;overflow-x:auto;line-height:normal;font-family:Menlo,'DejaVu Sans Mono',consolas,'Courier New',monospace\">Best reward: -27.00 - Last reward per episode: -27.00 - Mean reward last 10 episode: -27.00 - Delta mean: 0.00\n",
       "</pre>\n"
      ],
      "text/plain": [
       "Best reward: -27.00 - Last reward per episode: -27.00 - Mean reward last 10 episode: -27.00 - Delta mean: 0.00\n"
      ]
     },
     "metadata": {},
     "output_type": "display_data"
    },
    {
     "data": {
      "text/html": [
       "<pre style=\"white-space:pre;overflow-x:auto;line-height:normal;font-family:Menlo,'DejaVu Sans Mono',consolas,'Courier New',monospace\">Num timesteps: 291000 - Ep: 5977\n",
       "</pre>\n"
      ],
      "text/plain": [
       "Num timesteps: 291000 - Ep: 5977\n"
      ]
     },
     "metadata": {},
     "output_type": "display_data"
    },
    {
     "data": {
      "text/html": [
       "<pre style=\"white-space:pre;overflow-x:auto;line-height:normal;font-family:Menlo,'DejaVu Sans Mono',consolas,'Courier New',monospace\">Best reward: -27.00 - Last reward per episode: -27.00 - Mean reward last 10 episode: -27.00 - Delta mean: 0.00\n",
       "</pre>\n"
      ],
      "text/plain": [
       "Best reward: -27.00 - Last reward per episode: -27.00 - Mean reward last 10 episode: -27.00 - Delta mean: 0.00\n"
      ]
     },
     "metadata": {},
     "output_type": "display_data"
    },
    {
     "data": {
      "text/html": [
       "<pre style=\"white-space:pre;overflow-x:auto;line-height:normal;font-family:Menlo,'DejaVu Sans Mono',consolas,'Courier New',monospace\">Num timesteps: 294000 - Ep: 6058\n",
       "</pre>\n"
      ],
      "text/plain": [
       "Num timesteps: 294000 - Ep: 6058\n"
      ]
     },
     "metadata": {},
     "output_type": "display_data"
    },
    {
     "data": {
      "text/html": [
       "<pre style=\"white-space:pre;overflow-x:auto;line-height:normal;font-family:Menlo,'DejaVu Sans Mono',consolas,'Courier New',monospace\">Best reward: -27.00 - Last reward per episode: -27.00 - Mean reward last 10 episode: -27.00 - Delta mean: 0.00\n",
       "</pre>\n"
      ],
      "text/plain": [
       "Best reward: -27.00 - Last reward per episode: -27.00 - Mean reward last 10 episode: -27.00 - Delta mean: 0.00\n"
      ]
     },
     "metadata": {},
     "output_type": "display_data"
    },
    {
     "data": {
      "text/html": [
       "<pre style=\"white-space:pre;overflow-x:auto;line-height:normal;font-family:Menlo,'DejaVu Sans Mono',consolas,'Courier New',monospace\">Num timesteps: 297000 - Ep: 6139\n",
       "</pre>\n"
      ],
      "text/plain": [
       "Num timesteps: 297000 - Ep: 6139\n"
      ]
     },
     "metadata": {},
     "output_type": "display_data"
    },
    {
     "data": {
      "text/html": [
       "<pre style=\"white-space:pre;overflow-x:auto;line-height:normal;font-family:Menlo,'DejaVu Sans Mono',consolas,'Courier New',monospace\">Best reward: -27.00 - Last reward per episode: -27.00 - Mean reward last 10 episode: -27.00 - Delta mean: 0.00\n",
       "</pre>\n"
      ],
      "text/plain": [
       "Best reward: -27.00 - Last reward per episode: -27.00 - Mean reward last 10 episode: -27.00 - Delta mean: 0.00\n"
      ]
     },
     "metadata": {},
     "output_type": "display_data"
    },
    {
     "data": {
      "text/html": [
       "<pre style=\"white-space:pre;overflow-x:auto;line-height:normal;font-family:Menlo,'DejaVu Sans Mono',consolas,'Courier New',monospace\">Num timesteps: 300000 - Ep: 6220\n",
       "</pre>\n"
      ],
      "text/plain": [
       "Num timesteps: 300000 - Ep: 6220\n"
      ]
     },
     "metadata": {},
     "output_type": "display_data"
    },
    {
     "data": {
      "text/html": [
       "<pre style=\"white-space:pre;overflow-x:auto;line-height:normal;font-family:Menlo,'DejaVu Sans Mono',consolas,'Courier New',monospace\">Best reward: -27.00 - Last reward per episode: -27.00 - Mean reward last 10 episode: -27.00 - Delta mean: 0.00\n",
       "</pre>\n"
      ],
      "text/plain": [
       "Best reward: -27.00 - Last reward per episode: -27.00 - Mean reward last 10 episode: -27.00 - Delta mean: 0.00\n"
      ]
     },
     "metadata": {},
     "output_type": "display_data"
    },
    {
     "data": {
      "text/html": [
       "<pre style=\"white-space:pre;overflow-x:auto;line-height:normal;font-family:Menlo,'DejaVu Sans Mono',consolas,'Courier New',monospace\">Num timesteps: 303000 - Ep: 6301\n",
       "</pre>\n"
      ],
      "text/plain": [
       "Num timesteps: 303000 - Ep: 6301\n"
      ]
     },
     "metadata": {},
     "output_type": "display_data"
    },
    {
     "data": {
      "text/html": [
       "<pre style=\"white-space:pre;overflow-x:auto;line-height:normal;font-family:Menlo,'DejaVu Sans Mono',consolas,'Courier New',monospace\">Best reward: -27.00 - Last reward per episode: -27.00 - Mean reward last 10 episode: -27.00 - Delta mean: 0.00\n",
       "</pre>\n"
      ],
      "text/plain": [
       "Best reward: -27.00 - Last reward per episode: -27.00 - Mean reward last 10 episode: -27.00 - Delta mean: 0.00\n"
      ]
     },
     "metadata": {},
     "output_type": "display_data"
    },
    {
     "data": {
      "text/html": [
       "<pre style=\"white-space:pre;overflow-x:auto;line-height:normal;font-family:Menlo,'DejaVu Sans Mono',consolas,'Courier New',monospace\">Num timesteps: 306000 - Ep: 6382\n",
       "</pre>\n"
      ],
      "text/plain": [
       "Num timesteps: 306000 - Ep: 6382\n"
      ]
     },
     "metadata": {},
     "output_type": "display_data"
    },
    {
     "data": {
      "text/html": [
       "<pre style=\"white-space:pre;overflow-x:auto;line-height:normal;font-family:Menlo,'DejaVu Sans Mono',consolas,'Courier New',monospace\">Best reward: -27.00 - Last reward per episode: -27.00 - Mean reward last 10 episode: -27.00 - Delta mean: 0.00\n",
       "</pre>\n"
      ],
      "text/plain": [
       "Best reward: -27.00 - Last reward per episode: -27.00 - Mean reward last 10 episode: -27.00 - Delta mean: 0.00\n"
      ]
     },
     "metadata": {},
     "output_type": "display_data"
    },
    {
     "data": {
      "text/html": [
       "<pre style=\"white-space:pre;overflow-x:auto;line-height:normal;font-family:Menlo,'DejaVu Sans Mono',consolas,'Courier New',monospace\">Num timesteps: 309000 - Ep: 6463\n",
       "</pre>\n"
      ],
      "text/plain": [
       "Num timesteps: 309000 - Ep: 6463\n"
      ]
     },
     "metadata": {},
     "output_type": "display_data"
    },
    {
     "data": {
      "text/html": [
       "<pre style=\"white-space:pre;overflow-x:auto;line-height:normal;font-family:Menlo,'DejaVu Sans Mono',consolas,'Courier New',monospace\">Best reward: -27.00 - Last reward per episode: -27.00 - Mean reward last 10 episode: -27.00 - Delta mean: 0.00\n",
       "</pre>\n"
      ],
      "text/plain": [
       "Best reward: -27.00 - Last reward per episode: -27.00 - Mean reward last 10 episode: -27.00 - Delta mean: 0.00\n"
      ]
     },
     "metadata": {},
     "output_type": "display_data"
    },
    {
     "data": {
      "text/html": [
       "<pre style=\"white-space:pre;overflow-x:auto;line-height:normal;font-family:Menlo,'DejaVu Sans Mono',consolas,'Courier New',monospace\">Num timesteps: 312000 - Ep: 6544\n",
       "</pre>\n"
      ],
      "text/plain": [
       "Num timesteps: 312000 - Ep: 6544\n"
      ]
     },
     "metadata": {},
     "output_type": "display_data"
    },
    {
     "data": {
      "text/html": [
       "<pre style=\"white-space:pre;overflow-x:auto;line-height:normal;font-family:Menlo,'DejaVu Sans Mono',consolas,'Courier New',monospace\">Best reward: -27.00 - Last reward per episode: -27.00 - Mean reward last 10 episode: -27.00 - Delta mean: 0.00\n",
       "</pre>\n"
      ],
      "text/plain": [
       "Best reward: -27.00 - Last reward per episode: -27.00 - Mean reward last 10 episode: -27.00 - Delta mean: 0.00\n"
      ]
     },
     "metadata": {},
     "output_type": "display_data"
    },
    {
     "data": {
      "text/html": [
       "<pre style=\"white-space:pre;overflow-x:auto;line-height:normal;font-family:Menlo,'DejaVu Sans Mono',consolas,'Courier New',monospace\">Num timesteps: 315000 - Ep: 6625\n",
       "</pre>\n"
      ],
      "text/plain": [
       "Num timesteps: 315000 - Ep: 6625\n"
      ]
     },
     "metadata": {},
     "output_type": "display_data"
    },
    {
     "data": {
      "text/html": [
       "<pre style=\"white-space:pre;overflow-x:auto;line-height:normal;font-family:Menlo,'DejaVu Sans Mono',consolas,'Courier New',monospace\">Best reward: -27.00 - Last reward per episode: -27.00 - Mean reward last 10 episode: -27.00 - Delta mean: 0.00\n",
       "</pre>\n"
      ],
      "text/plain": [
       "Best reward: -27.00 - Last reward per episode: -27.00 - Mean reward last 10 episode: -27.00 - Delta mean: 0.00\n"
      ]
     },
     "metadata": {},
     "output_type": "display_data"
    },
    {
     "data": {
      "text/html": [
       "<pre style=\"white-space:pre;overflow-x:auto;line-height:normal;font-family:Menlo,'DejaVu Sans Mono',consolas,'Courier New',monospace\">Num timesteps: 321000 - Ep: 6787\n",
       "</pre>\n"
      ],
      "text/plain": [
       "Num timesteps: 321000 - Ep: 6787\n"
      ]
     },
     "metadata": {},
     "output_type": "display_data"
    },
    {
     "data": {
      "text/html": [
       "<pre style=\"white-space:pre;overflow-x:auto;line-height:normal;font-family:Menlo,'DejaVu Sans Mono',consolas,'Courier New',monospace\">Best reward: -27.00 - Last reward per episode: -27.00 - Mean reward last 10 episode: -27.00 - Delta mean: 0.00\n",
       "</pre>\n"
      ],
      "text/plain": [
       "Best reward: -27.00 - Last reward per episode: -27.00 - Mean reward last 10 episode: -27.00 - Delta mean: 0.00\n"
      ]
     },
     "metadata": {},
     "output_type": "display_data"
    },
    {
     "data": {
      "text/html": [
       "<pre style=\"white-space:pre;overflow-x:auto;line-height:normal;font-family:Menlo,'DejaVu Sans Mono',consolas,'Courier New',monospace\">Num timesteps: 324000 - Ep: 6868\n",
       "</pre>\n"
      ],
      "text/plain": [
       "Num timesteps: 324000 - Ep: 6868\n"
      ]
     },
     "metadata": {},
     "output_type": "display_data"
    },
    {
     "data": {
      "text/html": [
       "<pre style=\"white-space:pre;overflow-x:auto;line-height:normal;font-family:Menlo,'DejaVu Sans Mono',consolas,'Courier New',monospace\">Best reward: -27.00 - Last reward per episode: -27.00 - Mean reward last 10 episode: -27.00 - Delta mean: 0.00\n",
       "</pre>\n"
      ],
      "text/plain": [
       "Best reward: -27.00 - Last reward per episode: -27.00 - Mean reward last 10 episode: -27.00 - Delta mean: 0.00\n"
      ]
     },
     "metadata": {},
     "output_type": "display_data"
    },
    {
     "data": {
      "text/html": [
       "<pre style=\"white-space:pre;overflow-x:auto;line-height:normal;font-family:Menlo,'DejaVu Sans Mono',consolas,'Courier New',monospace\">Num timesteps: 327000 - Ep: 6949\n",
       "</pre>\n"
      ],
      "text/plain": [
       "Num timesteps: 327000 - Ep: 6949\n"
      ]
     },
     "metadata": {},
     "output_type": "display_data"
    },
    {
     "data": {
      "text/html": [
       "<pre style=\"white-space:pre;overflow-x:auto;line-height:normal;font-family:Menlo,'DejaVu Sans Mono',consolas,'Courier New',monospace\">Best reward: -27.00 - Last reward per episode: -27.00 - Mean reward last 10 episode: -27.00 - Delta mean: 0.00\n",
       "</pre>\n"
      ],
      "text/plain": [
       "Best reward: -27.00 - Last reward per episode: -27.00 - Mean reward last 10 episode: -27.00 - Delta mean: 0.00\n"
      ]
     },
     "metadata": {},
     "output_type": "display_data"
    },
    {
     "data": {
      "text/html": [
       "<pre style=\"white-space:pre;overflow-x:auto;line-height:normal;font-family:Menlo,'DejaVu Sans Mono',consolas,'Courier New',monospace\">Num timesteps: 330000 - Ep: 7031\n",
       "</pre>\n"
      ],
      "text/plain": [
       "Num timesteps: 330000 - Ep: 7031\n"
      ]
     },
     "metadata": {},
     "output_type": "display_data"
    },
    {
     "data": {
      "text/html": [
       "<pre style=\"white-space:pre;overflow-x:auto;line-height:normal;font-family:Menlo,'DejaVu Sans Mono',consolas,'Courier New',monospace\">Best reward: -27.00 - Last reward per episode: -27.00 - Mean reward last 10 episode: -27.00 - Delta mean: 0.00\n",
       "</pre>\n"
      ],
      "text/plain": [
       "Best reward: -27.00 - Last reward per episode: -27.00 - Mean reward last 10 episode: -27.00 - Delta mean: 0.00\n"
      ]
     },
     "metadata": {},
     "output_type": "display_data"
    },
    {
     "data": {
      "text/html": [
       "<pre style=\"white-space:pre;overflow-x:auto;line-height:normal;font-family:Menlo,'DejaVu Sans Mono',consolas,'Courier New',monospace\">Num timesteps: 333000 - Ep: 7112\n",
       "</pre>\n"
      ],
      "text/plain": [
       "Num timesteps: 333000 - Ep: 7112\n"
      ]
     },
     "metadata": {},
     "output_type": "display_data"
    },
    {
     "data": {
      "text/html": [
       "<pre style=\"white-space:pre;overflow-x:auto;line-height:normal;font-family:Menlo,'DejaVu Sans Mono',consolas,'Courier New',monospace\">Best reward: -27.00 - Last reward per episode: -27.00 - Mean reward last 10 episode: -27.00 - Delta mean: 0.00\n",
       "</pre>\n"
      ],
      "text/plain": [
       "Best reward: -27.00 - Last reward per episode: -27.00 - Mean reward last 10 episode: -27.00 - Delta mean: 0.00\n"
      ]
     },
     "metadata": {},
     "output_type": "display_data"
    },
    {
     "data": {
      "text/html": [
       "<pre style=\"white-space:pre;overflow-x:auto;line-height:normal;font-family:Menlo,'DejaVu Sans Mono',consolas,'Courier New',monospace\">Num timesteps: 336000 - Ep: 7194\n",
       "</pre>\n"
      ],
      "text/plain": [
       "Num timesteps: 336000 - Ep: 7194\n"
      ]
     },
     "metadata": {},
     "output_type": "display_data"
    },
    {
     "data": {
      "text/html": [
       "<pre style=\"white-space:pre;overflow-x:auto;line-height:normal;font-family:Menlo,'DejaVu Sans Mono',consolas,'Courier New',monospace\">Num timesteps: 339000 - Ep: 7275\n",
       "</pre>\n"
      ],
      "text/plain": [
       "Num timesteps: 339000 - Ep: 7275\n"
      ]
     },
     "metadata": {},
     "output_type": "display_data"
    },
    {
     "data": {
      "text/html": [
       "<pre style=\"white-space:pre;overflow-x:auto;line-height:normal;font-family:Menlo,'DejaVu Sans Mono',consolas,'Courier New',monospace\">Best reward: -27.00 - Last reward per episode: -27.00 - Mean reward last 10 episode: -27.00 - Delta mean: 0.00\n",
       "</pre>\n"
      ],
      "text/plain": [
       "Best reward: -27.00 - Last reward per episode: -27.00 - Mean reward last 10 episode: -27.00 - Delta mean: 0.00\n"
      ]
     },
     "metadata": {},
     "output_type": "display_data"
    },
    {
     "data": {
      "text/html": [
       "<pre style=\"white-space:pre;overflow-x:auto;line-height:normal;font-family:Menlo,'DejaVu Sans Mono',consolas,'Courier New',monospace\">Num timesteps: 342000 - Ep: 7357\n",
       "</pre>\n"
      ],
      "text/plain": [
       "Num timesteps: 342000 - Ep: 7357\n"
      ]
     },
     "metadata": {},
     "output_type": "display_data"
    },
    {
     "data": {
      "text/html": [
       "<pre style=\"white-space:pre;overflow-x:auto;line-height:normal;font-family:Menlo,'DejaVu Sans Mono',consolas,'Courier New',monospace\">Best reward: -27.00 - Last reward per episode: -27.00 - Mean reward last 10 episode: -27.00 - Delta mean: 0.00\n",
       "</pre>\n"
      ],
      "text/plain": [
       "Best reward: -27.00 - Last reward per episode: -27.00 - Mean reward last 10 episode: -27.00 - Delta mean: 0.00\n"
      ]
     },
     "metadata": {},
     "output_type": "display_data"
    },
    {
     "data": {
      "text/html": [
       "<pre style=\"white-space:pre;overflow-x:auto;line-height:normal;font-family:Menlo,'DejaVu Sans Mono',consolas,'Courier New',monospace\">Num timesteps: 345000 - Ep: 7438\n",
       "</pre>\n"
      ],
      "text/plain": [
       "Num timesteps: 345000 - Ep: 7438\n"
      ]
     },
     "metadata": {},
     "output_type": "display_data"
    },
    {
     "data": {
      "text/html": [
       "<pre style=\"white-space:pre;overflow-x:auto;line-height:normal;font-family:Menlo,'DejaVu Sans Mono',consolas,'Courier New',monospace\">Best reward: -27.00 - Last reward per episode: -27.00 - Mean reward last 10 episode: -27.00 - Delta mean: 0.00\n",
       "</pre>\n"
      ],
      "text/plain": [
       "Best reward: -27.00 - Last reward per episode: -27.00 - Mean reward last 10 episode: -27.00 - Delta mean: 0.00\n"
      ]
     },
     "metadata": {},
     "output_type": "display_data"
    },
    {
     "data": {
      "text/html": [
       "<pre style=\"white-space:pre;overflow-x:auto;line-height:normal;font-family:Menlo,'DejaVu Sans Mono',consolas,'Courier New',monospace\">Num timesteps: 348000 - Ep: 7519\n",
       "</pre>\n"
      ],
      "text/plain": [
       "Num timesteps: 348000 - Ep: 7519\n"
      ]
     },
     "metadata": {},
     "output_type": "display_data"
    },
    {
     "data": {
      "text/html": [
       "<pre style=\"white-space:pre;overflow-x:auto;line-height:normal;font-family:Menlo,'DejaVu Sans Mono',consolas,'Courier New',monospace\">Best reward: -27.00 - Last reward per episode: -27.00 - Mean reward last 10 episode: -27.00 - Delta mean: 0.00\n",
       "</pre>\n"
      ],
      "text/plain": [
       "Best reward: -27.00 - Last reward per episode: -27.00 - Mean reward last 10 episode: -27.00 - Delta mean: 0.00\n"
      ]
     },
     "metadata": {},
     "output_type": "display_data"
    },
    {
     "data": {
      "text/html": [
       "<pre style=\"white-space:pre;overflow-x:auto;line-height:normal;font-family:Menlo,'DejaVu Sans Mono',consolas,'Courier New',monospace\">Num timesteps: 351000 - Ep: 7600\n",
       "</pre>\n"
      ],
      "text/plain": [
       "Num timesteps: 351000 - Ep: 7600\n"
      ]
     },
     "metadata": {},
     "output_type": "display_data"
    },
    {
     "data": {
      "text/html": [
       "<pre style=\"white-space:pre;overflow-x:auto;line-height:normal;font-family:Menlo,'DejaVu Sans Mono',consolas,'Courier New',monospace\">Best reward: -27.00 - Last reward per episode: -27.00 - Mean reward last 10 episode: -27.00 - Delta mean: 0.00\n",
       "</pre>\n"
      ],
      "text/plain": [
       "Best reward: -27.00 - Last reward per episode: -27.00 - Mean reward last 10 episode: -27.00 - Delta mean: 0.00\n"
      ]
     },
     "metadata": {},
     "output_type": "display_data"
    },
    {
     "data": {
      "text/html": [
       "<pre style=\"white-space:pre;overflow-x:auto;line-height:normal;font-family:Menlo,'DejaVu Sans Mono',consolas,'Courier New',monospace\">Num timesteps: 354000 - Ep: 7681\n",
       "</pre>\n"
      ],
      "text/plain": [
       "Num timesteps: 354000 - Ep: 7681\n"
      ]
     },
     "metadata": {},
     "output_type": "display_data"
    },
    {
     "data": {
      "text/html": [
       "<pre style=\"white-space:pre;overflow-x:auto;line-height:normal;font-family:Menlo,'DejaVu Sans Mono',consolas,'Courier New',monospace\">Best reward: -27.00 - Last reward per episode: -27.00 - Mean reward last 10 episode: -27.00 - Delta mean: 0.00\n",
       "</pre>\n"
      ],
      "text/plain": [
       "Best reward: -27.00 - Last reward per episode: -27.00 - Mean reward last 10 episode: -27.00 - Delta mean: 0.00\n"
      ]
     },
     "metadata": {},
     "output_type": "display_data"
    },
    {
     "data": {
      "text/html": [
       "<pre style=\"white-space:pre;overflow-x:auto;line-height:normal;font-family:Menlo,'DejaVu Sans Mono',consolas,'Courier New',monospace\">Num timesteps: 357000 - Ep: 7762\n",
       "</pre>\n"
      ],
      "text/plain": [
       "Num timesteps: 357000 - Ep: 7762\n"
      ]
     },
     "metadata": {},
     "output_type": "display_data"
    },
    {
     "data": {
      "text/html": [
       "<pre style=\"white-space:pre;overflow-x:auto;line-height:normal;font-family:Menlo,'DejaVu Sans Mono',consolas,'Courier New',monospace\">Best reward: -27.00 - Last reward per episode: -27.00 - Mean reward last 10 episode: -27.00 - Delta mean: 0.00\n",
       "</pre>\n"
      ],
      "text/plain": [
       "Best reward: -27.00 - Last reward per episode: -27.00 - Mean reward last 10 episode: -27.00 - Delta mean: 0.00\n"
      ]
     },
     "metadata": {},
     "output_type": "display_data"
    },
    {
     "data": {
      "text/html": [
       "<pre style=\"white-space:pre;overflow-x:auto;line-height:normal;font-family:Menlo,'DejaVu Sans Mono',consolas,'Courier New',monospace\">Num timesteps: 360000 - Ep: 7843\n",
       "</pre>\n"
      ],
      "text/plain": [
       "Num timesteps: 360000 - Ep: 7843\n"
      ]
     },
     "metadata": {},
     "output_type": "display_data"
    },
    {
     "data": {
      "text/html": [
       "<pre style=\"white-space:pre;overflow-x:auto;line-height:normal;font-family:Menlo,'DejaVu Sans Mono',consolas,'Courier New',monospace\">Best reward: -27.00 - Last reward per episode: -27.00 - Mean reward last 10 episode: -27.00 - Delta mean: 0.00\n",
       "</pre>\n"
      ],
      "text/plain": [
       "Best reward: -27.00 - Last reward per episode: -27.00 - Mean reward last 10 episode: -27.00 - Delta mean: 0.00\n"
      ]
     },
     "metadata": {},
     "output_type": "display_data"
    },
    {
     "data": {
      "text/html": [
       "<pre style=\"white-space:pre;overflow-x:auto;line-height:normal;font-family:Menlo,'DejaVu Sans Mono',consolas,'Courier New',monospace\">Num timesteps: 363000 - Ep: 7924\n",
       "</pre>\n"
      ],
      "text/plain": [
       "Num timesteps: 363000 - Ep: 7924\n"
      ]
     },
     "metadata": {},
     "output_type": "display_data"
    },
    {
     "data": {
      "text/html": [
       "<pre style=\"white-space:pre;overflow-x:auto;line-height:normal;font-family:Menlo,'DejaVu Sans Mono',consolas,'Courier New',monospace\">Best reward: -27.00 - Last reward per episode: -27.00 - Mean reward last 10 episode: -27.00 - Delta mean: 0.00\n",
       "</pre>\n"
      ],
      "text/plain": [
       "Best reward: -27.00 - Last reward per episode: -27.00 - Mean reward last 10 episode: -27.00 - Delta mean: 0.00\n"
      ]
     },
     "metadata": {},
     "output_type": "display_data"
    },
    {
     "data": {
      "text/html": [
       "<pre style=\"white-space:pre;overflow-x:auto;line-height:normal;font-family:Menlo,'DejaVu Sans Mono',consolas,'Courier New',monospace\">Num timesteps: 366000 - Ep: 8005\n",
       "</pre>\n"
      ],
      "text/plain": [
       "Num timesteps: 366000 - Ep: 8005\n"
      ]
     },
     "metadata": {},
     "output_type": "display_data"
    },
    {
     "data": {
      "text/html": [
       "<pre style=\"white-space:pre;overflow-x:auto;line-height:normal;font-family:Menlo,'DejaVu Sans Mono',consolas,'Courier New',monospace\">Best reward: -27.00 - Last reward per episode: -27.00 - Mean reward last 10 episode: -27.00 - Delta mean: 0.00\n",
       "</pre>\n"
      ],
      "text/plain": [
       "Best reward: -27.00 - Last reward per episode: -27.00 - Mean reward last 10 episode: -27.00 - Delta mean: 0.00\n"
      ]
     },
     "metadata": {},
     "output_type": "display_data"
    },
    {
     "data": {
      "text/html": [
       "<pre style=\"white-space:pre;overflow-x:auto;line-height:normal;font-family:Menlo,'DejaVu Sans Mono',consolas,'Courier New',monospace\">Num timesteps: 369000 - Ep: 8086\n",
       "</pre>\n"
      ],
      "text/plain": [
       "Num timesteps: 369000 - Ep: 8086\n"
      ]
     },
     "metadata": {},
     "output_type": "display_data"
    },
    {
     "data": {
      "text/html": [
       "<pre style=\"white-space:pre;overflow-x:auto;line-height:normal;font-family:Menlo,'DejaVu Sans Mono',consolas,'Courier New',monospace\">Best reward: -27.00 - Last reward per episode: -27.00 - Mean reward last 10 episode: -27.00 - Delta mean: 0.00\n",
       "</pre>\n"
      ],
      "text/plain": [
       "Best reward: -27.00 - Last reward per episode: -27.00 - Mean reward last 10 episode: -27.00 - Delta mean: 0.00\n"
      ]
     },
     "metadata": {},
     "output_type": "display_data"
    },
    {
     "data": {
      "text/html": [
       "<pre style=\"white-space:pre;overflow-x:auto;line-height:normal;font-family:Menlo,'DejaVu Sans Mono',consolas,'Courier New',monospace\">Num timesteps: 372000 - Ep: 8167\n",
       "</pre>\n"
      ],
      "text/plain": [
       "Num timesteps: 372000 - Ep: 8167\n"
      ]
     },
     "metadata": {},
     "output_type": "display_data"
    },
    {
     "data": {
      "text/html": [
       "<pre style=\"white-space:pre;overflow-x:auto;line-height:normal;font-family:Menlo,'DejaVu Sans Mono',consolas,'Courier New',monospace\">Best reward: -27.00 - Last reward per episode: -27.00 - Mean reward last 10 episode: -27.00 - Delta mean: 0.00\n",
       "</pre>\n"
      ],
      "text/plain": [
       "Best reward: -27.00 - Last reward per episode: -27.00 - Mean reward last 10 episode: -27.00 - Delta mean: 0.00\n"
      ]
     },
     "metadata": {},
     "output_type": "display_data"
    },
    {
     "data": {
      "text/html": [
       "<pre style=\"white-space:pre;overflow-x:auto;line-height:normal;font-family:Menlo,'DejaVu Sans Mono',consolas,'Courier New',monospace\">Num timesteps: 375000 - Ep: 8248\n",
       "</pre>\n"
      ],
      "text/plain": [
       "Num timesteps: 375000 - Ep: 8248\n"
      ]
     },
     "metadata": {},
     "output_type": "display_data"
    },
    {
     "data": {
      "text/html": [
       "<pre style=\"white-space:pre;overflow-x:auto;line-height:normal;font-family:Menlo,'DejaVu Sans Mono',consolas,'Courier New',monospace\">Best reward: -27.00 - Last reward per episode: -27.00 - Mean reward last 10 episode: -27.00 - Delta mean: 0.00\n",
       "</pre>\n"
      ],
      "text/plain": [
       "Best reward: -27.00 - Last reward per episode: -27.00 - Mean reward last 10 episode: -27.00 - Delta mean: 0.00\n"
      ]
     },
     "metadata": {},
     "output_type": "display_data"
    },
    {
     "data": {
      "text/html": [
       "<pre style=\"white-space:pre;overflow-x:auto;line-height:normal;font-family:Menlo,'DejaVu Sans Mono',consolas,'Courier New',monospace\">Num timesteps: 378000 - Ep: 8329\n",
       "</pre>\n"
      ],
      "text/plain": [
       "Num timesteps: 378000 - Ep: 8329\n"
      ]
     },
     "metadata": {},
     "output_type": "display_data"
    },
    {
     "data": {
      "text/html": [
       "<pre style=\"white-space:pre;overflow-x:auto;line-height:normal;font-family:Menlo,'DejaVu Sans Mono',consolas,'Courier New',monospace\">Best reward: -27.00 - Last reward per episode: -27.00 - Mean reward last 10 episode: -27.20 - Delta mean: -0.20\n",
       "</pre>\n"
      ],
      "text/plain": [
       "Best reward: -27.00 - Last reward per episode: -27.00 - Mean reward last 10 episode: -27.20 - Delta mean: -0.20\n"
      ]
     },
     "metadata": {},
     "output_type": "display_data"
    },
    {
     "data": {
      "text/html": [
       "<pre style=\"white-space:pre;overflow-x:auto;line-height:normal;font-family:Menlo,'DejaVu Sans Mono',consolas,'Courier New',monospace\">Num timesteps: 381000 - Ep: 8410\n",
       "</pre>\n"
      ],
      "text/plain": [
       "Num timesteps: 381000 - Ep: 8410\n"
      ]
     },
     "metadata": {},
     "output_type": "display_data"
    },
    {
     "data": {
      "text/html": [
       "<pre style=\"white-space:pre;overflow-x:auto;line-height:normal;font-family:Menlo,'DejaVu Sans Mono',consolas,'Courier New',monospace\">Best reward: -27.00 - Last reward per episode: -27.00 - Mean reward last 10 episode: -27.00 - Delta mean: 0.20\n",
       "</pre>\n"
      ],
      "text/plain": [
       "Best reward: -27.00 - Last reward per episode: -27.00 - Mean reward last 10 episode: -27.00 - Delta mean: 0.20\n"
      ]
     },
     "metadata": {},
     "output_type": "display_data"
    },
    {
     "data": {
      "text/html": [
       "<pre style=\"white-space:pre;overflow-x:auto;line-height:normal;font-family:Menlo,'DejaVu Sans Mono',consolas,'Courier New',monospace\">Num timesteps: 384000 - Ep: 8491\n",
       "</pre>\n"
      ],
      "text/plain": [
       "Num timesteps: 384000 - Ep: 8491\n"
      ]
     },
     "metadata": {},
     "output_type": "display_data"
    },
    {
     "data": {
      "text/html": [
       "<pre style=\"white-space:pre;overflow-x:auto;line-height:normal;font-family:Menlo,'DejaVu Sans Mono',consolas,'Courier New',monospace\">Best reward: -27.00 - Last reward per episode: -27.00 - Mean reward last 10 episode: -27.00 - Delta mean: 0.00\n",
       "</pre>\n"
      ],
      "text/plain": [
       "Best reward: -27.00 - Last reward per episode: -27.00 - Mean reward last 10 episode: -27.00 - Delta mean: 0.00\n"
      ]
     },
     "metadata": {},
     "output_type": "display_data"
    },
    {
     "data": {
      "text/html": [
       "<pre style=\"white-space:pre;overflow-x:auto;line-height:normal;font-family:Menlo,'DejaVu Sans Mono',consolas,'Courier New',monospace\">Num timesteps: 387000 - Ep: 8572\n",
       "</pre>\n"
      ],
      "text/plain": [
       "Num timesteps: 387000 - Ep: 8572\n"
      ]
     },
     "metadata": {},
     "output_type": "display_data"
    },
    {
     "data": {
      "text/html": [
       "<pre style=\"white-space:pre;overflow-x:auto;line-height:normal;font-family:Menlo,'DejaVu Sans Mono',consolas,'Courier New',monospace\">Best reward: -27.00 - Last reward per episode: -27.00 - Mean reward last 10 episode: -27.00 - Delta mean: 0.00\n",
       "</pre>\n"
      ],
      "text/plain": [
       "Best reward: -27.00 - Last reward per episode: -27.00 - Mean reward last 10 episode: -27.00 - Delta mean: 0.00\n"
      ]
     },
     "metadata": {},
     "output_type": "display_data"
    },
    {
     "data": {
      "text/html": [
       "<pre style=\"white-space:pre;overflow-x:auto;line-height:normal;font-family:Menlo,'DejaVu Sans Mono',consolas,'Courier New',monospace\">Num timesteps: 390000 - Ep: 8653\n",
       "</pre>\n"
      ],
      "text/plain": [
       "Num timesteps: 390000 - Ep: 8653\n"
      ]
     },
     "metadata": {},
     "output_type": "display_data"
    },
    {
     "data": {
      "text/html": [
       "<pre style=\"white-space:pre;overflow-x:auto;line-height:normal;font-family:Menlo,'DejaVu Sans Mono',consolas,'Courier New',monospace\">Best reward: -27.00 - Last reward per episode: -27.00 - Mean reward last 10 episode: -27.00 - Delta mean: 0.00\n",
       "</pre>\n"
      ],
      "text/plain": [
       "Best reward: -27.00 - Last reward per episode: -27.00 - Mean reward last 10 episode: -27.00 - Delta mean: 0.00\n"
      ]
     },
     "metadata": {},
     "output_type": "display_data"
    },
    {
     "data": {
      "text/html": [
       "<pre style=\"white-space:pre;overflow-x:auto;line-height:normal;font-family:Menlo,'DejaVu Sans Mono',consolas,'Courier New',monospace\">Num timesteps: 393000 - Ep: 8734\n",
       "</pre>\n"
      ],
      "text/plain": [
       "Num timesteps: 393000 - Ep: 8734\n"
      ]
     },
     "metadata": {},
     "output_type": "display_data"
    },
    {
     "data": {
      "text/html": [
       "<pre style=\"white-space:pre;overflow-x:auto;line-height:normal;font-family:Menlo,'DejaVu Sans Mono',consolas,'Courier New',monospace\">Best reward: -27.00 - Last reward per episode: -27.00 - Mean reward last 10 episode: -27.00 - Delta mean: 0.00\n",
       "</pre>\n"
      ],
      "text/plain": [
       "Best reward: -27.00 - Last reward per episode: -27.00 - Mean reward last 10 episode: -27.00 - Delta mean: 0.00\n"
      ]
     },
     "metadata": {},
     "output_type": "display_data"
    },
    {
     "data": {
      "text/html": [
       "<pre style=\"white-space:pre;overflow-x:auto;line-height:normal;font-family:Menlo,'DejaVu Sans Mono',consolas,'Courier New',monospace\">Num timesteps: 396000 - Ep: 8815\n",
       "</pre>\n"
      ],
      "text/plain": [
       "Num timesteps: 396000 - Ep: 8815\n"
      ]
     },
     "metadata": {},
     "output_type": "display_data"
    },
    {
     "data": {
      "text/html": [
       "<pre style=\"white-space:pre;overflow-x:auto;line-height:normal;font-family:Menlo,'DejaVu Sans Mono',consolas,'Courier New',monospace\">Best reward: -27.00 - Last reward per episode: -27.00 - Mean reward last 10 episode: -27.00 - Delta mean: 0.00\n",
       "</pre>\n"
      ],
      "text/plain": [
       "Best reward: -27.00 - Last reward per episode: -27.00 - Mean reward last 10 episode: -27.00 - Delta mean: 0.00\n"
      ]
     },
     "metadata": {},
     "output_type": "display_data"
    },
    {
     "data": {
      "text/html": [
       "<pre style=\"white-space:pre;overflow-x:auto;line-height:normal;font-family:Menlo,'DejaVu Sans Mono',consolas,'Courier New',monospace\">Num timesteps: 399000 - Ep: 8896\n",
       "</pre>\n"
      ],
      "text/plain": [
       "Num timesteps: 399000 - Ep: 8896\n"
      ]
     },
     "metadata": {},
     "output_type": "display_data"
    },
    {
     "data": {
      "text/html": [
       "<pre style=\"white-space:pre;overflow-x:auto;line-height:normal;font-family:Menlo,'DejaVu Sans Mono',consolas,'Courier New',monospace\">Best reward: -27.00 - Last reward per episode: -27.00 - Mean reward last 10 episode: -27.00 - Delta mean: 0.00\n",
       "</pre>\n"
      ],
      "text/plain": [
       "Best reward: -27.00 - Last reward per episode: -27.00 - Mean reward last 10 episode: -27.00 - Delta mean: 0.00\n"
      ]
     },
     "metadata": {},
     "output_type": "display_data"
    },
    {
     "data": {
      "text/html": [
       "<pre style=\"white-space:pre;overflow-x:auto;line-height:normal;font-family:Menlo,'DejaVu Sans Mono',consolas,'Courier New',monospace\">Num timesteps: 402000 - Ep: 8977\n",
       "</pre>\n"
      ],
      "text/plain": [
       "Num timesteps: 402000 - Ep: 8977\n"
      ]
     },
     "metadata": {},
     "output_type": "display_data"
    },
    {
     "data": {
      "text/html": [
       "<pre style=\"white-space:pre;overflow-x:auto;line-height:normal;font-family:Menlo,'DejaVu Sans Mono',consolas,'Courier New',monospace\">Best reward: -27.00 - Last reward per episode: -27.00 - Mean reward last 10 episode: -27.00 - Delta mean: 0.00\n",
       "</pre>\n"
      ],
      "text/plain": [
       "Best reward: -27.00 - Last reward per episode: -27.00 - Mean reward last 10 episode: -27.00 - Delta mean: 0.00\n"
      ]
     },
     "metadata": {},
     "output_type": "display_data"
    },
    {
     "data": {
      "text/html": [
       "<pre style=\"white-space:pre;overflow-x:auto;line-height:normal;font-family:Menlo,'DejaVu Sans Mono',consolas,'Courier New',monospace\">Num timesteps: 405000 - Ep: 9058\n",
       "</pre>\n"
      ],
      "text/plain": [
       "Num timesteps: 405000 - Ep: 9058\n"
      ]
     },
     "metadata": {},
     "output_type": "display_data"
    },
    {
     "data": {
      "text/html": [
       "<pre style=\"white-space:pre;overflow-x:auto;line-height:normal;font-family:Menlo,'DejaVu Sans Mono',consolas,'Courier New',monospace\">Best reward: -27.00 - Last reward per episode: -27.00 - Mean reward last 10 episode: -27.00 - Delta mean: 0.00\n",
       "</pre>\n"
      ],
      "text/plain": [
       "Best reward: -27.00 - Last reward per episode: -27.00 - Mean reward last 10 episode: -27.00 - Delta mean: 0.00\n"
      ]
     },
     "metadata": {},
     "output_type": "display_data"
    },
    {
     "data": {
      "text/html": [
       "<pre style=\"white-space:pre;overflow-x:auto;line-height:normal;font-family:Menlo,'DejaVu Sans Mono',consolas,'Courier New',monospace\">Num timesteps: 408000 - Ep: 9139\n",
       "</pre>\n"
      ],
      "text/plain": [
       "Num timesteps: 408000 - Ep: 9139\n"
      ]
     },
     "metadata": {},
     "output_type": "display_data"
    },
    {
     "data": {
      "text/html": [
       "<pre style=\"white-space:pre;overflow-x:auto;line-height:normal;font-family:Menlo,'DejaVu Sans Mono',consolas,'Courier New',monospace\">Best reward: -27.00 - Last reward per episode: -27.00 - Mean reward last 10 episode: -27.00 - Delta mean: 0.00\n",
       "</pre>\n"
      ],
      "text/plain": [
       "Best reward: -27.00 - Last reward per episode: -27.00 - Mean reward last 10 episode: -27.00 - Delta mean: 0.00\n"
      ]
     },
     "metadata": {},
     "output_type": "display_data"
    },
    {
     "data": {
      "text/html": [
       "<pre style=\"white-space:pre;overflow-x:auto;line-height:normal;font-family:Menlo,'DejaVu Sans Mono',consolas,'Courier New',monospace\">Num timesteps: 411000 - Ep: 9220\n",
       "</pre>\n"
      ],
      "text/plain": [
       "Num timesteps: 411000 - Ep: 9220\n"
      ]
     },
     "metadata": {},
     "output_type": "display_data"
    },
    {
     "data": {
      "text/html": [
       "<pre style=\"white-space:pre;overflow-x:auto;line-height:normal;font-family:Menlo,'DejaVu Sans Mono',consolas,'Courier New',monospace\">Best reward: -27.00 - Last reward per episode: -27.00 - Mean reward last 10 episode: -27.00 - Delta mean: 0.00\n",
       "</pre>\n"
      ],
      "text/plain": [
       "Best reward: -27.00 - Last reward per episode: -27.00 - Mean reward last 10 episode: -27.00 - Delta mean: 0.00\n"
      ]
     },
     "metadata": {},
     "output_type": "display_data"
    },
    {
     "data": {
      "text/html": [
       "<pre style=\"white-space:pre;overflow-x:auto;line-height:normal;font-family:Menlo,'DejaVu Sans Mono',consolas,'Courier New',monospace\">Num timesteps: 414000 - Ep: 9301\n",
       "</pre>\n"
      ],
      "text/plain": [
       "Num timesteps: 414000 - Ep: 9301\n"
      ]
     },
     "metadata": {},
     "output_type": "display_data"
    },
    {
     "data": {
      "text/html": [
       "<pre style=\"white-space:pre;overflow-x:auto;line-height:normal;font-family:Menlo,'DejaVu Sans Mono',consolas,'Courier New',monospace\">Best reward: -27.00 - Last reward per episode: -27.00 - Mean reward last 10 episode: -27.00 - Delta mean: 0.00\n",
       "</pre>\n"
      ],
      "text/plain": [
       "Best reward: -27.00 - Last reward per episode: -27.00 - Mean reward last 10 episode: -27.00 - Delta mean: 0.00\n"
      ]
     },
     "metadata": {},
     "output_type": "display_data"
    },
    {
     "data": {
      "text/html": [
       "<pre style=\"white-space:pre;overflow-x:auto;line-height:normal;font-family:Menlo,'DejaVu Sans Mono',consolas,'Courier New',monospace\">Num timesteps: 417000 - Ep: 9382\n",
       "</pre>\n"
      ],
      "text/plain": [
       "Num timesteps: 417000 - Ep: 9382\n"
      ]
     },
     "metadata": {},
     "output_type": "display_data"
    },
    {
     "data": {
      "text/html": [
       "<pre style=\"white-space:pre;overflow-x:auto;line-height:normal;font-family:Menlo,'DejaVu Sans Mono',consolas,'Courier New',monospace\">Best reward: -27.00 - Last reward per episode: -27.00 - Mean reward last 10 episode: -27.00 - Delta mean: 0.00\n",
       "</pre>\n"
      ],
      "text/plain": [
       "Best reward: -27.00 - Last reward per episode: -27.00 - Mean reward last 10 episode: -27.00 - Delta mean: 0.00\n"
      ]
     },
     "metadata": {},
     "output_type": "display_data"
    },
    {
     "data": {
      "text/html": [
       "<pre style=\"white-space:pre;overflow-x:auto;line-height:normal;font-family:Menlo,'DejaVu Sans Mono',consolas,'Courier New',monospace\">Num timesteps: 420000 - Ep: 9463\n",
       "</pre>\n"
      ],
      "text/plain": [
       "Num timesteps: 420000 - Ep: 9463\n"
      ]
     },
     "metadata": {},
     "output_type": "display_data"
    },
    {
     "data": {
      "text/html": [
       "<pre style=\"white-space:pre;overflow-x:auto;line-height:normal;font-family:Menlo,'DejaVu Sans Mono',consolas,'Courier New',monospace\">Best reward: -27.00 - Last reward per episode: -27.00 - Mean reward last 10 episode: -27.00 - Delta mean: 0.00\n",
       "</pre>\n"
      ],
      "text/plain": [
       "Best reward: -27.00 - Last reward per episode: -27.00 - Mean reward last 10 episode: -27.00 - Delta mean: 0.00\n"
      ]
     },
     "metadata": {},
     "output_type": "display_data"
    },
    {
     "data": {
      "text/html": [
       "<pre style=\"white-space:pre;overflow-x:auto;line-height:normal;font-family:Menlo,'DejaVu Sans Mono',consolas,'Courier New',monospace\">Num timesteps: 423000 - Ep: 9544\n",
       "</pre>\n"
      ],
      "text/plain": [
       "Num timesteps: 423000 - Ep: 9544\n"
      ]
     },
     "metadata": {},
     "output_type": "display_data"
    },
    {
     "data": {
      "text/html": [
       "<pre style=\"white-space:pre;overflow-x:auto;line-height:normal;font-family:Menlo,'DejaVu Sans Mono',consolas,'Courier New',monospace\">Best reward: -27.00 - Last reward per episode: -27.00 - Mean reward last 10 episode: -27.00 - Delta mean: 0.00\n",
       "</pre>\n"
      ],
      "text/plain": [
       "Best reward: -27.00 - Last reward per episode: -27.00 - Mean reward last 10 episode: -27.00 - Delta mean: 0.00\n"
      ]
     },
     "metadata": {},
     "output_type": "display_data"
    },
    {
     "data": {
      "text/html": [
       "<pre style=\"white-space:pre;overflow-x:auto;line-height:normal;font-family:Menlo,'DejaVu Sans Mono',consolas,'Courier New',monospace\">Num timesteps: 426000 - Ep: 9625\n",
       "</pre>\n"
      ],
      "text/plain": [
       "Num timesteps: 426000 - Ep: 9625\n"
      ]
     },
     "metadata": {},
     "output_type": "display_data"
    },
    {
     "data": {
      "text/html": [
       "<pre style=\"white-space:pre;overflow-x:auto;line-height:normal;font-family:Menlo,'DejaVu Sans Mono',consolas,'Courier New',monospace\">Best reward: -27.00 - Last reward per episode: -27.00 - Mean reward last 10 episode: -27.00 - Delta mean: 0.00\n",
       "</pre>\n"
      ],
      "text/plain": [
       "Best reward: -27.00 - Last reward per episode: -27.00 - Mean reward last 10 episode: -27.00 - Delta mean: 0.00\n"
      ]
     },
     "metadata": {},
     "output_type": "display_data"
    },
    {
     "data": {
      "text/html": [
       "<pre style=\"white-space:pre;overflow-x:auto;line-height:normal;font-family:Menlo,'DejaVu Sans Mono',consolas,'Courier New',monospace\">Num timesteps: 429000 - Ep: 9706\n",
       "</pre>\n"
      ],
      "text/plain": [
       "Num timesteps: 429000 - Ep: 9706\n"
      ]
     },
     "metadata": {},
     "output_type": "display_data"
    },
    {
     "data": {
      "text/html": [
       "<pre style=\"white-space:pre;overflow-x:auto;line-height:normal;font-family:Menlo,'DejaVu Sans Mono',consolas,'Courier New',monospace\">Best reward: -27.00 - Last reward per episode: -27.00 - Mean reward last 10 episode: -27.00 - Delta mean: 0.00\n",
       "</pre>\n"
      ],
      "text/plain": [
       "Best reward: -27.00 - Last reward per episode: -27.00 - Mean reward last 10 episode: -27.00 - Delta mean: 0.00\n"
      ]
     },
     "metadata": {},
     "output_type": "display_data"
    },
    {
     "data": {
      "text/html": [
       "<pre style=\"white-space:pre;overflow-x:auto;line-height:normal;font-family:Menlo,'DejaVu Sans Mono',consolas,'Courier New',monospace\">Num timesteps: 432000 - Ep: 9787\n",
       "</pre>\n"
      ],
      "text/plain": [
       "Num timesteps: 432000 - Ep: 9787\n"
      ]
     },
     "metadata": {},
     "output_type": "display_data"
    },
    {
     "data": {
      "text/html": [
       "<pre style=\"white-space:pre;overflow-x:auto;line-height:normal;font-family:Menlo,'DejaVu Sans Mono',consolas,'Courier New',monospace\">Best reward: -27.00 - Last reward per episode: -27.00 - Mean reward last 10 episode: -27.00 - Delta mean: 0.00\n",
       "</pre>\n"
      ],
      "text/plain": [
       "Best reward: -27.00 - Last reward per episode: -27.00 - Mean reward last 10 episode: -27.00 - Delta mean: 0.00\n"
      ]
     },
     "metadata": {},
     "output_type": "display_data"
    },
    {
     "data": {
      "text/html": [
       "<pre style=\"white-space:pre;overflow-x:auto;line-height:normal;font-family:Menlo,'DejaVu Sans Mono',consolas,'Courier New',monospace\">Num timesteps: 435000 - Ep: 9868\n",
       "</pre>\n"
      ],
      "text/plain": [
       "Num timesteps: 435000 - Ep: 9868\n"
      ]
     },
     "metadata": {},
     "output_type": "display_data"
    },
    {
     "data": {
      "text/html": [
       "<pre style=\"white-space:pre;overflow-x:auto;line-height:normal;font-family:Menlo,'DejaVu Sans Mono',consolas,'Courier New',monospace\">Best reward: -27.00 - Last reward per episode: -27.00 - Mean reward last 10 episode: -27.00 - Delta mean: 0.00\n",
       "</pre>\n"
      ],
      "text/plain": [
       "Best reward: -27.00 - Last reward per episode: -27.00 - Mean reward last 10 episode: -27.00 - Delta mean: 0.00\n"
      ]
     },
     "metadata": {},
     "output_type": "display_data"
    },
    {
     "data": {
      "text/html": [
       "<pre style=\"white-space:pre;overflow-x:auto;line-height:normal;font-family:Menlo,'DejaVu Sans Mono',consolas,'Courier New',monospace\">Num timesteps: 438000 - Ep: 9949\n",
       "</pre>\n"
      ],
      "text/plain": [
       "Num timesteps: 438000 - Ep: 9949\n"
      ]
     },
     "metadata": {},
     "output_type": "display_data"
    },
    {
     "data": {
      "text/html": [
       "<pre style=\"white-space:pre;overflow-x:auto;line-height:normal;font-family:Menlo,'DejaVu Sans Mono',consolas,'Courier New',monospace\">Best reward: -27.00 - Last reward per episode: -27.00 - Mean reward last 10 episode: -27.00 - Delta mean: 0.00\n",
       "</pre>\n"
      ],
      "text/plain": [
       "Best reward: -27.00 - Last reward per episode: -27.00 - Mean reward last 10 episode: -27.00 - Delta mean: 0.00\n"
      ]
     },
     "metadata": {},
     "output_type": "display_data"
    },
    {
     "data": {
      "text/html": [
       "<pre style=\"white-space:pre;overflow-x:auto;line-height:normal;font-family:Menlo,'DejaVu Sans Mono',consolas,'Courier New',monospace\">Num timesteps: 441000 - Ep: 10030\n",
       "</pre>\n"
      ],
      "text/plain": [
       "Num timesteps: 441000 - Ep: 10030\n"
      ]
     },
     "metadata": {},
     "output_type": "display_data"
    },
    {
     "data": {
      "text/html": [
       "<pre style=\"white-space:pre;overflow-x:auto;line-height:normal;font-family:Menlo,'DejaVu Sans Mono',consolas,'Courier New',monospace\">Best reward: -27.00 - Last reward per episode: -27.00 - Mean reward last 10 episode: -27.00 - Delta mean: 0.00\n",
       "</pre>\n"
      ],
      "text/plain": [
       "Best reward: -27.00 - Last reward per episode: -27.00 - Mean reward last 10 episode: -27.00 - Delta mean: 0.00\n"
      ]
     },
     "metadata": {},
     "output_type": "display_data"
    },
    {
     "data": {
      "text/html": [
       "<pre style=\"white-space:pre;overflow-x:auto;line-height:normal;font-family:Menlo,'DejaVu Sans Mono',consolas,'Courier New',monospace\">Num timesteps: 444000 - Ep: 10111\n",
       "</pre>\n"
      ],
      "text/plain": [
       "Num timesteps: 444000 - Ep: 10111\n"
      ]
     },
     "metadata": {},
     "output_type": "display_data"
    },
    {
     "data": {
      "text/html": [
       "<pre style=\"white-space:pre;overflow-x:auto;line-height:normal;font-family:Menlo,'DejaVu Sans Mono',consolas,'Courier New',monospace\">Best reward: -27.00 - Last reward per episode: -27.00 - Mean reward last 10 episode: -27.00 - Delta mean: 0.00\n",
       "</pre>\n"
      ],
      "text/plain": [
       "Best reward: -27.00 - Last reward per episode: -27.00 - Mean reward last 10 episode: -27.00 - Delta mean: 0.00\n"
      ]
     },
     "metadata": {},
     "output_type": "display_data"
    },
    {
     "data": {
      "text/html": [
       "<pre style=\"white-space:pre;overflow-x:auto;line-height:normal;font-family:Menlo,'DejaVu Sans Mono',consolas,'Courier New',monospace\">Num timesteps: 447000 - Ep: 10193\n",
       "</pre>\n"
      ],
      "text/plain": [
       "Num timesteps: 447000 - Ep: 10193\n"
      ]
     },
     "metadata": {},
     "output_type": "display_data"
    },
    {
     "data": {
      "text/html": [
       "<pre style=\"white-space:pre;overflow-x:auto;line-height:normal;font-family:Menlo,'DejaVu Sans Mono',consolas,'Courier New',monospace\">Best reward: -27.00 - Last reward per episode: -27.00 - Mean reward last 10 episode: -27.00 - Delta mean: 0.00\n",
       "</pre>\n"
      ],
      "text/plain": [
       "Best reward: -27.00 - Last reward per episode: -27.00 - Mean reward last 10 episode: -27.00 - Delta mean: 0.00\n"
      ]
     },
     "metadata": {},
     "output_type": "display_data"
    },
    {
     "data": {
      "text/html": [
       "<pre style=\"white-space:pre;overflow-x:auto;line-height:normal;font-family:Menlo,'DejaVu Sans Mono',consolas,'Courier New',monospace\">Num timesteps: 450000 - Ep: 10274\n",
       "</pre>\n"
      ],
      "text/plain": [
       "Num timesteps: 450000 - Ep: 10274\n"
      ]
     },
     "metadata": {},
     "output_type": "display_data"
    },
    {
     "data": {
      "text/html": [
       "<pre style=\"white-space:pre;overflow-x:auto;line-height:normal;font-family:Menlo,'DejaVu Sans Mono',consolas,'Courier New',monospace\">Best reward: -27.00 - Last reward per episode: -27.00 - Mean reward last 10 episode: -27.00 - Delta mean: 0.00\n",
       "</pre>\n"
      ],
      "text/plain": [
       "Best reward: -27.00 - Last reward per episode: -27.00 - Mean reward last 10 episode: -27.00 - Delta mean: 0.00\n"
      ]
     },
     "metadata": {},
     "output_type": "display_data"
    },
    {
     "data": {
      "text/html": [
       "<pre style=\"white-space:pre;overflow-x:auto;line-height:normal;font-family:Menlo,'DejaVu Sans Mono',consolas,'Courier New',monospace\">Num timesteps: 453000 - Ep: 10356\n",
       "</pre>\n"
      ],
      "text/plain": [
       "Num timesteps: 453000 - Ep: 10356\n"
      ]
     },
     "metadata": {},
     "output_type": "display_data"
    },
    {
     "data": {
      "text/html": [
       "<pre style=\"white-space:pre;overflow-x:auto;line-height:normal;font-family:Menlo,'DejaVu Sans Mono',consolas,'Courier New',monospace\">Best reward: -27.00 - Last reward per episode: -27.00 - Mean reward last 10 episode: -27.00 - Delta mean: 0.00\n",
       "</pre>\n"
      ],
      "text/plain": [
       "Best reward: -27.00 - Last reward per episode: -27.00 - Mean reward last 10 episode: -27.00 - Delta mean: 0.00\n"
      ]
     },
     "metadata": {},
     "output_type": "display_data"
    },
    {
     "data": {
      "text/html": [
       "<pre style=\"white-space:pre;overflow-x:auto;line-height:normal;font-family:Menlo,'DejaVu Sans Mono',consolas,'Courier New',monospace\">Num timesteps: 456000 - Ep: 10437\n",
       "</pre>\n"
      ],
      "text/plain": [
       "Num timesteps: 456000 - Ep: 10437\n"
      ]
     },
     "metadata": {},
     "output_type": "display_data"
    },
    {
     "data": {
      "text/html": [
       "<pre style=\"white-space:pre;overflow-x:auto;line-height:normal;font-family:Menlo,'DejaVu Sans Mono',consolas,'Courier New',monospace\">Best reward: -27.00 - Last reward per episode: -27.00 - Mean reward last 10 episode: -27.00 - Delta mean: 0.00\n",
       "</pre>\n"
      ],
      "text/plain": [
       "Best reward: -27.00 - Last reward per episode: -27.00 - Mean reward last 10 episode: -27.00 - Delta mean: 0.00\n"
      ]
     },
     "metadata": {},
     "output_type": "display_data"
    },
    {
     "data": {
      "text/html": [
       "<pre style=\"white-space:pre;overflow-x:auto;line-height:normal;font-family:Menlo,'DejaVu Sans Mono',consolas,'Courier New',monospace\">Num timesteps: 459000 - Ep: 10518\n",
       "</pre>\n"
      ],
      "text/plain": [
       "Num timesteps: 459000 - Ep: 10518\n"
      ]
     },
     "metadata": {},
     "output_type": "display_data"
    },
    {
     "data": {
      "text/html": [
       "<pre style=\"white-space:pre;overflow-x:auto;line-height:normal;font-family:Menlo,'DejaVu Sans Mono',consolas,'Courier New',monospace\">Best reward: -27.00 - Last reward per episode: -27.00 - Mean reward last 10 episode: -27.00 - Delta mean: 0.00\n",
       "</pre>\n"
      ],
      "text/plain": [
       "Best reward: -27.00 - Last reward per episode: -27.00 - Mean reward last 10 episode: -27.00 - Delta mean: 0.00\n"
      ]
     },
     "metadata": {},
     "output_type": "display_data"
    },
    {
     "data": {
      "text/html": [
       "<pre style=\"white-space:pre;overflow-x:auto;line-height:normal;font-family:Menlo,'DejaVu Sans Mono',consolas,'Courier New',monospace\">Num timesteps: 462000 - Ep: 10600\n",
       "</pre>\n"
      ],
      "text/plain": [
       "Num timesteps: 462000 - Ep: 10600\n"
      ]
     },
     "metadata": {},
     "output_type": "display_data"
    },
    {
     "data": {
      "text/html": [
       "<pre style=\"white-space:pre;overflow-x:auto;line-height:normal;font-family:Menlo,'DejaVu Sans Mono',consolas,'Courier New',monospace\">Best reward: -27.00 - Last reward per episode: -27.00 - Mean reward last 10 episode: -27.00 - Delta mean: 0.00\n",
       "</pre>\n"
      ],
      "text/plain": [
       "Best reward: -27.00 - Last reward per episode: -27.00 - Mean reward last 10 episode: -27.00 - Delta mean: 0.00\n"
      ]
     },
     "metadata": {},
     "output_type": "display_data"
    },
    {
     "data": {
      "text/html": [
       "<pre style=\"white-space:pre;overflow-x:auto;line-height:normal;font-family:Menlo,'DejaVu Sans Mono',consolas,'Courier New',monospace\">Num timesteps: 465000 - Ep: 10681\n",
       "</pre>\n"
      ],
      "text/plain": [
       "Num timesteps: 465000 - Ep: 10681\n"
      ]
     },
     "metadata": {},
     "output_type": "display_data"
    },
    {
     "data": {
      "text/html": [
       "<pre style=\"white-space:pre;overflow-x:auto;line-height:normal;font-family:Menlo,'DejaVu Sans Mono',consolas,'Courier New',monospace\">Best reward: -27.00 - Last reward per episode: -27.00 - Mean reward last 10 episode: -27.00 - Delta mean: 0.00\n",
       "</pre>\n"
      ],
      "text/plain": [
       "Best reward: -27.00 - Last reward per episode: -27.00 - Mean reward last 10 episode: -27.00 - Delta mean: 0.00\n"
      ]
     },
     "metadata": {},
     "output_type": "display_data"
    },
    {
     "data": {
      "text/html": [
       "<pre style=\"white-space:pre;overflow-x:auto;line-height:normal;font-family:Menlo,'DejaVu Sans Mono',consolas,'Courier New',monospace\">Num timesteps: 468000 - Ep: 10762\n",
       "</pre>\n"
      ],
      "text/plain": [
       "Num timesteps: 468000 - Ep: 10762\n"
      ]
     },
     "metadata": {},
     "output_type": "display_data"
    },
    {
     "data": {
      "text/html": [
       "<pre style=\"white-space:pre;overflow-x:auto;line-height:normal;font-family:Menlo,'DejaVu Sans Mono',consolas,'Courier New',monospace\">Best reward: -27.00 - Last reward per episode: -27.00 - Mean reward last 10 episode: -27.00 - Delta mean: 0.00\n",
       "</pre>\n"
      ],
      "text/plain": [
       "Best reward: -27.00 - Last reward per episode: -27.00 - Mean reward last 10 episode: -27.00 - Delta mean: 0.00\n"
      ]
     },
     "metadata": {},
     "output_type": "display_data"
    },
    {
     "data": {
      "text/html": [
       "<pre style=\"white-space:pre;overflow-x:auto;line-height:normal;font-family:Menlo,'DejaVu Sans Mono',consolas,'Courier New',monospace\">Num timesteps: 471000 - Ep: 10843\n",
       "</pre>\n"
      ],
      "text/plain": [
       "Num timesteps: 471000 - Ep: 10843\n"
      ]
     },
     "metadata": {},
     "output_type": "display_data"
    },
    {
     "data": {
      "text/html": [
       "<pre style=\"white-space:pre;overflow-x:auto;line-height:normal;font-family:Menlo,'DejaVu Sans Mono',consolas,'Courier New',monospace\">Best reward: -27.00 - Last reward per episode: -27.00 - Mean reward last 10 episode: -27.00 - Delta mean: 0.00\n",
       "</pre>\n"
      ],
      "text/plain": [
       "Best reward: -27.00 - Last reward per episode: -27.00 - Mean reward last 10 episode: -27.00 - Delta mean: 0.00\n"
      ]
     },
     "metadata": {},
     "output_type": "display_data"
    },
    {
     "data": {
      "text/html": [
       "<pre style=\"white-space:pre;overflow-x:auto;line-height:normal;font-family:Menlo,'DejaVu Sans Mono',consolas,'Courier New',monospace\">Num timesteps: 474000 - Ep: 10924\n",
       "</pre>\n"
      ],
      "text/plain": [
       "Num timesteps: 474000 - Ep: 10924\n"
      ]
     },
     "metadata": {},
     "output_type": "display_data"
    },
    {
     "data": {
      "text/html": [
       "<pre style=\"white-space:pre;overflow-x:auto;line-height:normal;font-family:Menlo,'DejaVu Sans Mono',consolas,'Courier New',monospace\">Best reward: -27.00 - Last reward per episode: -27.00 - Mean reward last 10 episode: -27.00 - Delta mean: 0.00\n",
       "</pre>\n"
      ],
      "text/plain": [
       "Best reward: -27.00 - Last reward per episode: -27.00 - Mean reward last 10 episode: -27.00 - Delta mean: 0.00\n"
      ]
     },
     "metadata": {},
     "output_type": "display_data"
    },
    {
     "data": {
      "text/html": [
       "<pre style=\"white-space:pre;overflow-x:auto;line-height:normal;font-family:Menlo,'DejaVu Sans Mono',consolas,'Courier New',monospace\">Num timesteps: 477000 - Ep: 11005\n",
       "</pre>\n"
      ],
      "text/plain": [
       "Num timesteps: 477000 - Ep: 11005\n"
      ]
     },
     "metadata": {},
     "output_type": "display_data"
    },
    {
     "data": {
      "text/html": [
       "<pre style=\"white-space:pre;overflow-x:auto;line-height:normal;font-family:Menlo,'DejaVu Sans Mono',consolas,'Courier New',monospace\">Best reward: -27.00 - Last reward per episode: -27.00 - Mean reward last 10 episode: -27.00 - Delta mean: 0.00\n",
       "</pre>\n"
      ],
      "text/plain": [
       "Best reward: -27.00 - Last reward per episode: -27.00 - Mean reward last 10 episode: -27.00 - Delta mean: 0.00\n"
      ]
     },
     "metadata": {},
     "output_type": "display_data"
    },
    {
     "data": {
      "text/html": [
       "<pre style=\"white-space:pre;overflow-x:auto;line-height:normal;font-family:Menlo,'DejaVu Sans Mono',consolas,'Courier New',monospace\">Num timesteps: 480000 - Ep: 11086\n",
       "</pre>\n"
      ],
      "text/plain": [
       "Num timesteps: 480000 - Ep: 11086\n"
      ]
     },
     "metadata": {},
     "output_type": "display_data"
    },
    {
     "data": {
      "text/html": [
       "<pre style=\"white-space:pre;overflow-x:auto;line-height:normal;font-family:Menlo,'DejaVu Sans Mono',consolas,'Courier New',monospace\">Best reward: -27.00 - Last reward per episode: -27.00 - Mean reward last 10 episode: -27.00 - Delta mean: 0.00\n",
       "</pre>\n"
      ],
      "text/plain": [
       "Best reward: -27.00 - Last reward per episode: -27.00 - Mean reward last 10 episode: -27.00 - Delta mean: 0.00\n"
      ]
     },
     "metadata": {},
     "output_type": "display_data"
    },
    {
     "data": {
      "text/html": [
       "<pre style=\"white-space:pre;overflow-x:auto;line-height:normal;font-family:Menlo,'DejaVu Sans Mono',consolas,'Courier New',monospace\">Num timesteps: 483000 - Ep: 11167\n",
       "</pre>\n"
      ],
      "text/plain": [
       "Num timesteps: 483000 - Ep: 11167\n"
      ]
     },
     "metadata": {},
     "output_type": "display_data"
    },
    {
     "data": {
      "text/html": [
       "<pre style=\"white-space:pre;overflow-x:auto;line-height:normal;font-family:Menlo,'DejaVu Sans Mono',consolas,'Courier New',monospace\">Best reward: -27.00 - Last reward per episode: -27.00 - Mean reward last 10 episode: -27.00 - Delta mean: 0.00\n",
       "</pre>\n"
      ],
      "text/plain": [
       "Best reward: -27.00 - Last reward per episode: -27.00 - Mean reward last 10 episode: -27.00 - Delta mean: 0.00\n"
      ]
     },
     "metadata": {},
     "output_type": "display_data"
    },
    {
     "data": {
      "text/html": [
       "<pre style=\"white-space:pre;overflow-x:auto;line-height:normal;font-family:Menlo,'DejaVu Sans Mono',consolas,'Courier New',monospace\">Num timesteps: 486000 - Ep: 11248\n",
       "</pre>\n"
      ],
      "text/plain": [
       "Num timesteps: 486000 - Ep: 11248\n"
      ]
     },
     "metadata": {},
     "output_type": "display_data"
    },
    {
     "data": {
      "text/html": [
       "<pre style=\"white-space:pre;overflow-x:auto;line-height:normal;font-family:Menlo,'DejaVu Sans Mono',consolas,'Courier New',monospace\">Best reward: -27.00 - Last reward per episode: -27.00 - Mean reward last 10 episode: -27.00 - Delta mean: 0.00\n",
       "</pre>\n"
      ],
      "text/plain": [
       "Best reward: -27.00 - Last reward per episode: -27.00 - Mean reward last 10 episode: -27.00 - Delta mean: 0.00\n"
      ]
     },
     "metadata": {},
     "output_type": "display_data"
    },
    {
     "data": {
      "text/html": [
       "<pre style=\"white-space:pre;overflow-x:auto;line-height:normal;font-family:Menlo,'DejaVu Sans Mono',consolas,'Courier New',monospace\">Num timesteps: 489000 - Ep: 11329\n",
       "</pre>\n"
      ],
      "text/plain": [
       "Num timesteps: 489000 - Ep: 11329\n"
      ]
     },
     "metadata": {},
     "output_type": "display_data"
    },
    {
     "data": {
      "text/html": [
       "<pre style=\"white-space:pre;overflow-x:auto;line-height:normal;font-family:Menlo,'DejaVu Sans Mono',consolas,'Courier New',monospace\">Best reward: -27.00 - Last reward per episode: -27.00 - Mean reward last 10 episode: -27.00 - Delta mean: 0.00\n",
       "</pre>\n"
      ],
      "text/plain": [
       "Best reward: -27.00 - Last reward per episode: -27.00 - Mean reward last 10 episode: -27.00 - Delta mean: 0.00\n"
      ]
     },
     "metadata": {},
     "output_type": "display_data"
    },
    {
     "data": {
      "text/html": [
       "<pre style=\"white-space:pre;overflow-x:auto;line-height:normal;font-family:Menlo,'DejaVu Sans Mono',consolas,'Courier New',monospace\">Num timesteps: 492000 - Ep: 11410\n",
       "</pre>\n"
      ],
      "text/plain": [
       "Num timesteps: 492000 - Ep: 11410\n"
      ]
     },
     "metadata": {},
     "output_type": "display_data"
    },
    {
     "data": {
      "text/html": [
       "<pre style=\"white-space:pre;overflow-x:auto;line-height:normal;font-family:Menlo,'DejaVu Sans Mono',consolas,'Courier New',monospace\">Best reward: -27.00 - Last reward per episode: -27.00 - Mean reward last 10 episode: -27.00 - Delta mean: 0.00\n",
       "</pre>\n"
      ],
      "text/plain": [
       "Best reward: -27.00 - Last reward per episode: -27.00 - Mean reward last 10 episode: -27.00 - Delta mean: 0.00\n"
      ]
     },
     "metadata": {},
     "output_type": "display_data"
    },
    {
     "data": {
      "text/html": [
       "<pre style=\"white-space:pre;overflow-x:auto;line-height:normal;font-family:Menlo,'DejaVu Sans Mono',consolas,'Courier New',monospace\">Num timesteps: 495000 - Ep: 11491\n",
       "</pre>\n"
      ],
      "text/plain": [
       "Num timesteps: 495000 - Ep: 11491\n"
      ]
     },
     "metadata": {},
     "output_type": "display_data"
    },
    {
     "data": {
      "text/html": [
       "<pre style=\"white-space:pre;overflow-x:auto;line-height:normal;font-family:Menlo,'DejaVu Sans Mono',consolas,'Courier New',monospace\">Best reward: -27.00 - Last reward per episode: -27.00 - Mean reward last 10 episode: -27.00 - Delta mean: 0.00\n",
       "</pre>\n"
      ],
      "text/plain": [
       "Best reward: -27.00 - Last reward per episode: -27.00 - Mean reward last 10 episode: -27.00 - Delta mean: 0.00\n"
      ]
     },
     "metadata": {},
     "output_type": "display_data"
    },
    {
     "data": {
      "text/html": [
       "<pre style=\"white-space:pre;overflow-x:auto;line-height:normal;font-family:Menlo,'DejaVu Sans Mono',consolas,'Courier New',monospace\">Num timesteps: 498000 - Ep: 11572\n",
       "</pre>\n"
      ],
      "text/plain": [
       "Num timesteps: 498000 - Ep: 11572\n"
      ]
     },
     "metadata": {},
     "output_type": "display_data"
    },
    {
     "data": {
      "text/html": [
       "<pre style=\"white-space:pre;overflow-x:auto;line-height:normal;font-family:Menlo,'DejaVu Sans Mono',consolas,'Courier New',monospace\">Best reward: -27.00 - Last reward per episode: -27.00 - Mean reward last 10 episode: -27.00 - Delta mean: 0.00\n",
       "</pre>\n"
      ],
      "text/plain": [
       "Best reward: -27.00 - Last reward per episode: -27.00 - Mean reward last 10 episode: -27.00 - Delta mean: 0.00\n"
      ]
     },
     "metadata": {},
     "output_type": "display_data"
    },
    {
     "data": {
      "text/html": [
       "<pre style=\"white-space:pre;overflow-x:auto;line-height:normal;font-family:Menlo,'DejaVu Sans Mono',consolas,'Courier New',monospace\"></pre>\n"
      ],
      "text/plain": []
     },
     "metadata": {},
     "output_type": "display_data"
    },
    {
     "data": {
      "text/html": [
       "<pre style=\"white-space:pre;overflow-x:auto;line-height:normal;font-family:Menlo,'DejaVu Sans Mono',consolas,'Courier New',monospace\">\n",
       "</pre>\n"
      ],
      "text/plain": [
       "\n"
      ]
     },
     "metadata": {},
     "output_type": "display_data"
    }
   ],
   "source": [
    "def make_env(env_id: str, rank: int, seed: int = 0, render_mode = None, action_type = \"Box\", observation_type = \"Continous\", reward_function = \"Absolute\", task = \"InvertedCartPole\"):\n",
    "    \"\"\"\n",
    "    Utility function for multiprocessed env.\n",
    "\n",
    "    :param env_id: the environment ID\n",
    "    :param num_env: the number of environments you wish to have in subprocesses\n",
    "    :param seed: the inital seed for RNG\n",
    "    :param rank: index of the subprocess\n",
    "    \"\"\"\n",
    "    def _init():\n",
    "        env = gym.make(env_id, render_mode=render_mode, action_type = action_type, observation_type = observation_type, reward_function = reward_function, task = task) #gym.make(env_id, render_mode=\"human\")\n",
    "        env.reset(seed=seed + rank)\n",
    "        return env\n",
    "    set_random_seed(seed)\n",
    "    return _init\n",
    "\n",
    "if __name__ == \"__main__\":\n",
    "    # log_dir = \"tmpa/\"\n",
    "    # os.makedirs(log_dir, exist_ok=True)\n",
    "\n",
    "    env_id = \"CartPole-v1\"\n",
    "    num_cpu = 3  # Number of processes to use\n",
    "    total_timesteps=500_000 #\n",
    "    Algorithm_name = 'A2C'\n",
    "    reward_function = \"Sparse\"\n",
    "\n",
    "    log_dir = os.path.join('Training', 'Save Models', Algorithm_name)\n",
    "    os.makedirs(log_dir, exist_ok=True)\n",
    "\n",
    "    # Create the vectorized environment\n",
    "    vec_env = SubprocVecEnv([make_env(env_id, i, reward_function=reward_function) for i in range(num_cpu)])\n",
    "    vec_env = VecMonitor(vec_env, log_dir)\n",
    "    # env = gym.make(env_id)\n",
    "    # print(vec_env)\n",
    "\n",
    "    # Stable Baselines provides you with make_vec_env() helper\n",
    "    # which does exactly the previous steps for you.\n",
    "    # You can choose between `DummyVecEnv` (usually faster) and `SubprocVecEnv`\n",
    "    env = make_vec_env(env_id, n_envs=num_cpu, seed=0, vec_env_cls=SubprocVecEnv)\n",
    "    callback = SaveOnBestTrainingRewardCallback(check_freq=1000, log_dir=log_dir, reward_function=reward_function, file_name='{}_ip_{}_{}'.format(Algorithm_name, num_cpu, total_timesteps))\n",
    "\n",
    "\n",
    "    model = A2C(\"MlpPolicy\", vec_env, verbose=0)\n",
    "    model.learn(total_timesteps=total_timesteps, progress_bar=True, callback=callback) #250000 callback=callback\n",
    "\n",
    "    # vec_env = SubprocVecEnv([make_env(env_id, i, render_mode=\"human\") for i in range(num_cpu)])\n",
    "    # env = gym.make(env_id, render_mode=\"human\")\n",
    "    \n",
    "    # for _ in range(1000):\n",
    "    #     obs= vec_env.reset()\n",
    "    #     done = False\n",
    "    #     while not done:\n",
    "    #         action, _states = model.predict(obs)\n",
    "    #         print(action)\n",
    "    #         obs, rewards, done, info, _ = vec_env.step(action)\n",
    "            # vec_env.render()"
   ]
  },
  {
   "cell_type": "markdown",
   "metadata": {},
   "source": [
    "### Graph: Display Episode Rewards for A2C algorithm / Reward Function"
   ]
  },
  {
   "cell_type": "code",
   "execution_count": 4,
   "metadata": {},
   "outputs": [
    {
     "data": {
      "image/png": "[encoded data removed]",
      "text/plain": [
       "<Figure size 800x200 with 1 Axes>"
      ]
     },
     "metadata": {},
     "output_type": "display_data"
    },
    {
     "data": {
      "image/png": "[encoded data removed]",
      "text/plain": [
       "<Figure size 800x200 with 1 Axes>"
      ]
     },
     "metadata": {},
     "output_type": "display_data"
    }
   ],
   "source": [
    "plot_results([log_dir], total_timesteps, results_plotter.X_TIMESTEPS, \"Inverted-CartPole: {}, {}\".format(Algorithm_name, reward_function))\n",
    "plt.show()\n",
    "plot_results([log_dir], total_timesteps, results_plotter.X_EPISODES, \"Inverted-CartPole: {}, {}\".format(Algorithm_name, reward_function))\n",
    "plt.show()"
   ]
  },
  {
   "cell_type": "markdown",
   "metadata": {},
   "source": [
    "Save model"
   ]
  },
  {
   "cell_type": "code",
   "execution_count": 5,
   "metadata": {},
   "outputs": [
    {
     "name": "stdout",
     "output_type": "stream",
     "text": [
      "The loaded_model has <stable_baselines3.a2c.a2c.A2C object at 0x000002514B00ADF0> transitions in its buffer\n"
     ]
    }
   ],
   "source": [
    "# the saved model does not contain the replay buffer\n",
    "A2C_Path = os.path.join('Training', 'Save Models','A2C', 'Best Models', 'Sparse', 'A2C_ip_3_500000.zip')\n",
    "loaded_model = A2C.load(A2C_Path)\n",
    "print(f\"The loaded_model has {loaded_model} transitions in its buffer\")"
   ]
  },
  {
   "cell_type": "markdown",
   "metadata": {},
   "source": [
    "## Testing Phase"
   ]
  },
  {
   "cell_type": "code",
   "execution_count": null,
   "metadata": {},
   "outputs": [],
   "source": [
    "environment_name = 'CartPole-v1'\n",
    "env = gym.make(environment_name, render_mode='human', action_type = \"Box\", observation_type = \"Continous\", reward_function = \"Absolute\", task = \"InvertedCartPole\")\n",
    "obs_ls = []\n",
    "episodes = 100\n",
    "\n",
    "pole_pos_np_min = defaultdict(lambda: 0)\n",
    "pole_pos_np_max = defaultdict(lambda: 0)\n",
    "avg_error_pole_pos_dict = defaultdict(lambda: 0)\n",
    "\n",
    "cart_pos_np_min = defaultdict(lambda: 0)\n",
    "cart_pos_np_max = defaultdict(lambda: 0)\n",
    "avg_error_cart_pos_dict = defaultdict(lambda: 0)\n",
    "\n",
    "pole_vel_np_min = defaultdict(lambda: 0)\n",
    "pole_vel_np_max = defaultdict(lambda: 0)\n",
    "avg_error_pole_vel_dict = defaultdict(lambda: 0)\n",
    "\n",
    "cart_vel_np_min = defaultdict(lambda: 0)\n",
    "cart_vel_np_max = defaultdict(lambda: 0)\n",
    "avg_error_cart_vel_dict = defaultdict(lambda: 0)\n",
    "\n",
    "N_pos_dict = defaultdict(lambda: 0)\n",
    "N_vel_dict = defaultdict(lambda: 0)\n",
    "\n",
    "for episodes in range(1, episodes+1):\n",
    "    obs, _ = env.reset()\n",
    "    done = False\n",
    "    score = 0\n",
    "    time_step = 0\n",
    "\n",
    "    while not done:\n",
    "        env.render()\n",
    "        action = loaded_model.predict(obs)\n",
    "        obs, reward, done, truncated, info = env.step(action[0])\n",
    "        score += reward\n",
    "        obs_ls.append(obs[2])\n",
    "\n",
    "        time_step += 1\n",
    "\n",
    "        cart_pos = obs[0]\n",
    "        cart_vel = obs[1]\n",
    "        pole_pos = obs[2]\n",
    "        pole_vel = obs[3]\n",
    "\n",
    "        if cart_pos >= cart_pos_np_max[time_step - 1]:\n",
    "            cart_pos_np_max[time_step - 1] = cart_pos\n",
    "        if cart_pos <= cart_pos_np_min[time_step - 1]:\n",
    "            cart_pos_np_min[time_step - 1] = cart_pos\n",
    "\n",
    "        if pole_pos >= pole_pos_np_max[time_step - 1]:\n",
    "            pole_pos_np_max[time_step - 1] = pole_pos\n",
    "        if pole_pos <= pole_pos_np_min[time_step - 1]:\n",
    "            pole_pos_np_min[time_step - 1] = pole_pos\n",
    "\n",
    "        N_pos_dict[time_step - 1] += 1\n",
    "        avg_error_cart_pos_dict[time_step - 1] = avg_error_cart_pos_dict[time_step - 1] + (cart_pos - avg_error_cart_pos_dict[time_step - 1]) / N_pos_dict[time_step - 1]\n",
    "        avg_error_pole_pos_dict[time_step - 1] = avg_error_pole_pos_dict[time_step - 1] + (pole_pos - avg_error_pole_pos_dict[time_step - 1]) / N_pos_dict[time_step - 1]\n",
    "\n",
    "        if cart_vel >= cart_vel_np_max[time_step - 1]:\n",
    "            cart_vel_np_max[time_step - 1] = cart_vel\n",
    "        if cart_vel <= cart_vel_np_min[time_step - 1]:\n",
    "            cart_vel_np_min[time_step - 1] = cart_vel\n",
    "\n",
    "        if pole_vel >= pole_vel_np_max[time_step - 1]:\n",
    "            pole_vel_np_max[time_step - 1] = pole_vel\n",
    "        if pole_vel <= pole_vel_np_min[time_step - 1]:\n",
    "            pole_vel_np_min[time_step - 1] = pole_vel\n",
    "\n",
    "        N_vel_dict[time_step - 1] += 1\n",
    "        avg_error_cart_vel_dict[time_step - 1] = avg_error_cart_vel_dict[time_step - 1] + (cart_vel - avg_error_cart_vel_dict[time_step - 1]) / N_vel_dict[time_step - 1]\n",
    "        avg_error_pole_vel_dict[time_step - 1] = avg_error_pole_vel_dict[time_step - 1] + (pole_vel - avg_error_pole_vel_dict[time_step - 1]) / N_vel_dict[time_step - 1]\n",
    "        \n",
    "    # print('Episode:{} Score:{}'.format(episodes, score))\n",
    "env.close()"
   ]
  },
  {
   "cell_type": "markdown",
   "metadata": {},
   "source": [
    "### Graph: Avg.Pole Position and Velocity vs Time steps [Testing] "
   ]
  },
  {
   "cell_type": "code",
   "execution_count": 5,
   "metadata": {},
   "outputs": [
    {
     "name": "stdout",
     "output_type": "stream",
     "text": [
      "stabilized_index_pos:  101\n",
      "Minimum value in stabilized region: -3.1328175\n",
      "Maximum value in stabilized region: 3.1357594\n"
     ]
    },
    {
     "data": {
      "image/png": "[encoded data removed]",
      "text/plain": [
       "<Figure size 640x480 with 1 Axes>"
      ]
     },
     "metadata": {},
     "output_type": "display_data"
    }
   ],
   "source": [
    "# Replace 0s in pole_pos_np_min and pole_pos_np_max with values from avg_error_pole_pos_dict\n",
    "for i in range(len(pole_pos_np_min)):\n",
    "    if pole_pos_np_min[i] == 0:\n",
    "        pole_pos_np_min[i] = avg_error_pole_pos_dict[i]\n",
    "    if pole_pos_np_max[i] == 0:\n",
    "        pole_pos_np_max[i] = avg_error_pole_pos_dict[i]\n",
    "\n",
    "# Replace 0s in pole_vel_np_min and pole_vel_np_max with values from avg_error_pole_vel_dict\n",
    "for i in range(len(pole_vel_np_min)):\n",
    "    if pole_vel_np_min[i] == 0:\n",
    "        pole_vel_np_min[i] = avg_error_pole_vel_dict[i]\n",
    "    if pole_vel_np_max[i] == 0:\n",
    "        pole_vel_np_max[i] = avg_error_pole_vel_dict[i]\n",
    "\n",
    "# Plotting pole position\n",
    "fig, ax = plt.subplots()\n",
    "\n",
    "\n",
    "# Plotting pole velocity\n",
    "y_vel_min = [array for array in pole_vel_np_min.values()]\n",
    "y_vel_max = [array for array in pole_vel_np_max.values()]\n",
    "y_vel_avg = [array for array in avg_error_pole_vel_dict.values()]\n",
    "\n",
    "x = np.linspace(1, len(y_vel_avg), len(y_vel_avg))\n",
    "\n",
    "# Plot min-max range for pole velocity\n",
    "ax.fill_between(x, y_vel_min, y_vel_max, alpha=.4, linewidth=0, label='Pole Vel Min-Max Range')\n",
    "\n",
    "# Plot average error for pole velocity\n",
    "ax.plot(x, y_vel_avg, linewidth=2, label='Pole Vel Avg')\n",
    "\n",
    "y_pos_min = [array for array in pole_pos_np_min.values()]\n",
    "y_pos_max = [array for array in pole_pos_np_max.values()]\n",
    "y_pos_avg = [array for array in avg_error_pole_pos_dict.values()]\n",
    "\n",
    "# Plot min-max range for pole position\n",
    "ax.fill_between(x, y_pos_min, y_pos_max, alpha=.4, linewidth=0, label='Pole Pos Min-Max Range')\n",
    "\n",
    "# Plot average error for pole position\n",
    "ax.plot(x, y_pos_avg, linewidth=2, label='Pole Pos Avg')\n",
    "\n",
    "# Find the index where y_avg is near 0 (stabilized) for pole position\n",
    "stabilized_index_pos = np.where(np.abs(y_pos_avg) < 0.008)[0]\n",
    "print(\"stabilized_index_pos: \", stabilized_index_pos[0])\n",
    "\n",
    "# Plot dashed line for stabilized region and change its color to red\n",
    "if len(stabilized_index_pos) > 0:\n",
    "    start_stable = stabilized_index_pos[0]\n",
    "    end_stable = stabilized_index_pos[-1]\n",
    "    stabilized_y_min = min(y_pos_min[start_stable:end_stable+1])\n",
    "    stabilized_y_max = max(y_pos_max[start_stable:end_stable+1])\n",
    "    print(\"Minimum value in stabilized region:\", stabilized_y_min)\n",
    "    print(\"Maximum value in stabilized region:\", stabilized_y_max)\n",
    "\n",
    "    start_stable = stabilized_index_pos[0]\n",
    "    end_stable = stabilized_index_pos[-1]\n",
    "    ax.plot(x[start_stable:end_stable+1], y_pos_avg[start_stable:end_stable+1], 'r--', linewidth=2, label='Stabilized Region')\n",
    "\n",
    "    # Plot markers for stabilized time steps\n",
    "    ax.plot(x[start_stable], y_pos_avg[start_stable], 'ro', markersize=6, label='Stabilized Time Steps')\n",
    "\n",
    "\n",
    "# Set grid\n",
    "ax.grid(True)\n",
    "\n",
    "# Add title and labels\n",
    "ax.set_title('Avg. Pole Position and Velocity vs. Time steps [Testing]')\n",
    "ax.set_xlabel('Time steps')\n",
    "ax.set_ylabel('Avg. Pole Position / Velocity')\n",
    "\n",
    "# Add legend\n",
    "ax.legend()\n",
    "\n",
    "plt.show()"
   ]
  },
  {
   "cell_type": "markdown",
   "metadata": {},
   "source": [
    "### Graph: Avg.Cart Position and Velocity vs Time steps [Testing] "
   ]
  },
  {
   "cell_type": "code",
   "execution_count": 6,
   "metadata": {},
   "outputs": [
    {
     "name": "stdout",
     "output_type": "stream",
     "text": [
      "stabilized_index_cart:  101\n",
      "Minimum value in stabilized region: -2.522826\n",
      "Maximum value in stabilized region: 2.5408177\n"
     ]
    },
    {
     "data": {
      "image/png": "[encoded data removed]",
      "text/plain": [
       "<Figure size 640x480 with 1 Axes>"
      ]
     },
     "metadata": {},
     "output_type": "display_data"
    }
   ],
   "source": [
    "# Replace 0s in pole_pos_np_min and pole_pos_np_max with values from avg_error_pole_pos_dict\n",
    "for i in range(len(cart_pos_np_min)):\n",
    "    if cart_pos_np_min[i] == 0:\n",
    "        cart_pos_np_min[i] = avg_error_cart_pos_dict[i]\n",
    "    if pole_pos_np_max[i] == 0:\n",
    "        cart_pos_np_max[i] = avg_error_cart_pos_dict[i]\n",
    "\n",
    "# Replace 0s in pole_vel_np_min and pole_vel_np_max with values from avg_error_pole_vel_dict\n",
    "for i in range(len(cart_vel_np_min)):\n",
    "    if cart_vel_np_min[i] == 0:\n",
    "        cart_vel_np_min[i] = avg_error_cart_vel_dict[i]\n",
    "    if cart_vel_np_max[i] == 0:\n",
    "        cart_vel_np_max[i] = avg_error_cart_vel_dict[i]\n",
    "\n",
    "# Plotting pole position\n",
    "fig, ax = plt.subplots()\n",
    "\n",
    "\n",
    "# Plotting pole velocity\n",
    "y_vel_min = [array for array in cart_vel_np_min.values()]\n",
    "y_vel_max = [array for array in cart_vel_np_max.values()]\n",
    "y_vel_avg = [array for array in avg_error_cart_vel_dict.values()]\n",
    "\n",
    "x = np.linspace(1, len(y_vel_avg), len(y_vel_avg))\n",
    "\n",
    "# Plot min-max range for pole velocity\n",
    "ax.fill_between(x, y_vel_min, y_vel_max, alpha=.4, linewidth=0, label='Cart Vel Min-Max Range')\n",
    "\n",
    "# Plot average error for pole velocity\n",
    "ax.plot(x, y_vel_avg, linewidth=2, label='Cart Vel Avg')\n",
    "\n",
    "y_pos_min = [array for array in cart_pos_np_min.values()]\n",
    "y_pos_max = [array for array in cart_pos_np_max.values()]\n",
    "y_pos_avg = [array for array in avg_error_cart_pos_dict.values()]\n",
    "\n",
    "# Plot min-max range for pole position\n",
    "ax.fill_between(x, y_pos_min, y_pos_max, alpha=.4, linewidth=0, label='Cart Pos Min-Max Range')\n",
    "\n",
    "# Plot average error for pole position\n",
    "ax.plot(x, y_pos_avg, linewidth=2, label='Cart Pos Avg')\n",
    "\n",
    "# Find the index where y_avg is near 0 (stabilized) for pole position\n",
    "stabilized_index_pos = np.where(np.abs(y_pos_avg) < 0.008)[0]\n",
    "print(\"stabilized_index_cart: \", start_stable)\n",
    "\n",
    "# Plot dashed line for stabilized region and change its color to red\n",
    "if len(stabilized_index_pos) > 0:\n",
    "    # start_stable = stabilized_index_pos[0]\n",
    "    # end_stable = stabilized_index_pos[-1]\n",
    "    stabilized_y_min = min(y_pos_min[start_stable:end_stable+1])\n",
    "    stabilized_y_max = max(y_pos_max[start_stable:end_stable+1])\n",
    "    print(\"Minimum value in stabilized region:\", stabilized_y_min)\n",
    "    print(\"Maximum value in stabilized region:\", stabilized_y_max)\n",
    "\n",
    "    ax.plot(x[start_stable:end_stable+1], y_pos_avg[start_stable:end_stable+1], 'r--', linewidth=2, label='Stabilized Region')\n",
    "\n",
    "    # Plot markers for stabilized time steps\n",
    "    ax.plot(x[start_stable], y_pos_avg[start_stable], 'ro', markersize=6, label='Stabilized Time Steps')\n",
    "\n",
    "\n",
    "# Set grid\n",
    "ax.grid(True)\n",
    "\n",
    "# Add title and labels\n",
    "ax.set_title('Avg. Cart Position and Velocity vs. Time steps [Testing]')\n",
    "ax.set_xlabel('Time steps')\n",
    "ax.set_ylabel('Avg. Cart Position / Velocity')\n",
    "\n",
    "# Add legend\n",
    "ax.legend()\n",
    "\n",
    "plt.show()"
   ]
  }
 ],
 "metadata": {
  "kernelspec": {
   "display_name": "Python 3",
   "language": "python",
   "name": "python3"
  },
  "language_info": {
   "codemirror_mode": {
    "name": "ipython",
    "version": 3
   },
   "file_extension": ".py",
   "mimetype": "text/x-python",
   "name": "python",
   "nbconvert_exporter": "python",
   "pygments_lexer": "ipython3",
   "version": "3.8.15"
  }
 },
 "nbformat": 4,
 "nbformat_minor": 2
}
