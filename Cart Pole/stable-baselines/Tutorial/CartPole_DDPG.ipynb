{
 "cells": [
  {
   "cell_type": "code",
   "execution_count": 1,
   "metadata": {},
   "outputs": [],
   "source": [
    "import os\n",
    "\n",
    "import gymnasium as gym\n",
    "import numpy as np\n",
    "import matplotlib.pyplot as plt\n",
    "\n",
    "from stable_baselines3 import TD3\n",
    "from stable_baselines3 import DQN\n",
    "\n",
    "from stable_baselines3 import DDPG\n",
    "from stable_baselines3.common.vec_env import DummyVecEnv, SubprocVecEnv, VecMonitor\n",
    "from stable_baselines3.common.env_util import make_vec_env\n",
    "from stable_baselines3.common.utils import set_random_seed\n",
    "\n",
    "from stable_baselines3.common import results_plotter\n",
    "from stable_baselines3.common.monitor import Monitor\n",
    "\n",
    "from stable_baselines3.common.results_plotter import load_results, ts2xy, plot_results\n",
    "from stable_baselines3.common.noise import NormalActionNoise\n",
    "from stable_baselines3.common.callbacks import BaseCallback, EvalCallback"
   ]
  },
  {
   "cell_type": "code",
   "execution_count": 2,
   "metadata": {},
   "outputs": [],
   "source": [
    "class SaveOnBestTrainingRewardCallback(BaseCallback):\n",
    "    \"\"\"\n",
    "    Callback for saving a model (the check is done every ``check_freq`` steps)\n",
    "    based on the training reward (in practice, we recommend using ``EvalCallback``).\n",
    "\n",
    "    :param check_freq:\n",
    "    :param log_dir: Path to the folder where the model will be saved.\n",
    "      It must contains the file created by the ``Monitor`` wrapper.\n",
    "    :param verbose: Verbosity level: 0 for no output, 1 for info messages, 2 for debug messages\n",
    "    \"\"\"\n",
    "    def __init__(self, check_freq: int, log_dir: str, verbose: int = 1):\n",
    "        super().__init__(verbose)\n",
    "        self.check_freq = check_freq\n",
    "        self.log_dir = log_dir\n",
    "        self.save_path = os.path.join(log_dir, \"best_model\")\n",
    "        self.best_mean_reward = -np.inf\n",
    "\n",
    "    def _init_callback(self) -> None:\n",
    "        # Create folder if needed\n",
    "        if self.save_path is not None:\n",
    "            os.makedirs(self.save_path, exist_ok=True)\n",
    "\n",
    "    def _on_step(self) -> bool:\n",
    "        if self.n_calls % self.check_freq == 0:\n",
    "\n",
    "          # Retrieve training reward\n",
    "          x, y = ts2xy(load_results(self.log_dir), \"timesteps\")\n",
    "          if len(x) > 0:\n",
    "              # Mean training reward over the last 100 episodes\n",
    "              mean_reward = np.mean(y[-100:])\n",
    "              if self.verbose >= 1:\n",
    "                print(f\"Num timesteps: {self.num_timesteps}\")\n",
    "                print(f\"Best mean reward: {self.best_mean_reward:.2f} - Last mean reward per episode: {mean_reward:.2f}\")\n",
    "\n",
    "              # New best model, you could save the agent here\n",
    "              if mean_reward > self.best_mean_reward:\n",
    "                  self.best_mean_reward = mean_reward\n",
    "                  # Example for saving best model\n",
    "                  if self.verbose >= 1:\n",
    "                    print(f\"Saving new best model to {self.save_path}\")\n",
    "                  self.model.save(self.save_path)\n",
    "\n",
    "        return True"
   ]
  },
  {
   "cell_type": "code",
   "execution_count": 3,
   "metadata": {},
   "outputs": [],
   "source": [
    "class SaveOnBestTrainingRewardCallback(BaseCallback):\n",
    "    \"\"\"\n",
    "    Callback for saving a model (the check is done every ``check_freq`` steps)\n",
    "    based on the training reward (in practice, we recommend using ``EvalCallback``).\n",
    "\n",
    "    :param check_freq:\n",
    "    :param log_dir: Path to the folder where the model will be saved.\n",
    "      It must contains the file created by the ``Monitor`` wrapper.\n",
    "    :param verbose: Verbosity level: 0 for no output, 1 for info messages, 2 for debug messages\n",
    "    \"\"\"\n",
    "    def __init__(self, check_freq: int, log_dir: str, verbose: int = 1, file_name: str = None):\n",
    "        super().__init__(verbose)\n",
    "        self.check_freq = check_freq\n",
    "        self.log_dir = log_dir\n",
    "        self.save_path = os.path.join(log_dir, \"Best Models\", file_name)\n",
    "        self.best_reward = -np.inf\n",
    "        self.prev_mean_reward = 0.0\n",
    "\n",
    "    def _init_callback(self) -> None:\n",
    "        # Create folder if needed\n",
    "        if self.save_path is not None:\n",
    "            os.makedirs(self.save_path, exist_ok=True)\n",
    "\n",
    "    def _on_step(self) -> bool:\n",
    "        if self.n_calls % self.check_freq == 0:\n",
    "\n",
    "          # Retrieve training reward\n",
    "          x, y = ts2xy(load_results(self.log_dir), \"episodes\")\n",
    "          if len(x) > 0:\n",
    "              # Mean training reward over the last 10 episodes\n",
    "              last_ep = x[-1]\n",
    "              last_reward = y[-1] \n",
    "              mean_reward = np.mean(y[-10:])\n",
    "              delta_mearn_reward = mean_reward - self.prev_mean_reward\n",
    "              self.prev_mean_reward = mean_reward\n",
    "              if self.verbose >= 1:\n",
    "                print(f\"Num timesteps: {self.num_timesteps} - Ep: {last_ep}\")\n",
    "                print(f\"Best reward: {self.best_reward:.2f} - Last reward per episode: {last_reward:.2f} - Mean reward last 10 episode: {mean_reward:.2f} - Delta mean: {delta_mearn_reward:.2f}\")\n",
    "\n",
    "              # New best model, you could save the agent here\n",
    "              if last_reward > self.best_reward:\n",
    "                  self.best_reward = last_reward\n",
    "                  # Example for saving best model\n",
    "                  if self.verbose >= 1:\n",
    "                    print(f\"Saving new best model to {self.save_path}\")\n",
    "                  self.model.save(self.save_path)\n",
    "\n",
    "        return True"
   ]
  },
  {
   "cell_type": "code",
   "execution_count": 5,
   "metadata": {},
   "outputs": [
    {
     "name": "stdout",
     "output_type": "stream",
     "text": [
      "[  0   1   2   3   4   5   6   7   8   9  10  11  12  13  14  15  16  17\n",
      "  18  19  20  21  22  23  24  25  26  27  28  29  30  31  32  33  34  35\n",
      "  36  37  38  39  40  41  42  43  44  45  46  47  48  49  50  51  52  53\n",
      "  54  55  56  57  58  59  60  61  62  63  64  65  66  67  68  69  70  71\n",
      "  72  73  74  75  76  77  78  79  80  81  82  83  84  85  86  87  88  89\n",
      "  90  91  92  93  94  95  96  97  98  99 100 101 102 103 104 105 106 107\n",
      " 108 109 110 111 112 113 114 115 116 117 118 119 120 121 122 123 124 125\n",
      " 126 127 128 129 130 131 132 133 134 135 136 137 138 139 140 141 142 143\n",
      " 144 145 146 147 148 149 150 151 152 153 154 155 156 157 158 159 160 161\n",
      " 162 163 164 165 166 167 168 169 170 171 172 173 174 175 176 177 178 179\n",
      " 180 181 182 183 184 185 186 187 188 189 190 191 192 193 194 195 196 197\n",
      " 198 199 200 201 202 203 204 205 206 207 208 209 210 211 212 213 214 215\n",
      " 216 217 218 219 220 221 222 223 224 225 226 227 228 229 230 231 232 233\n",
      " 234 235 236 237 238 239 240 241 242 243 244 245 246 247 248 249 250 251\n",
      " 252 253 254 255 256 257 258 259 260 261 262 263 264 265 266 267 268 269\n",
      " 270 271 272 273 274 275 276 277 278 279 280 281 282 283 284 285 286 287\n",
      " 288 289 290 291 292 293 294 295 296 297 298 299 300 301 302 303 304 305\n",
      " 306 307 308 309 310 311 312 313 314 315 316 317 318 319 320 321 322 323\n",
      " 324 325 326 327 328 329 330 331 332 333 334 335 336 337 338 339 340 341\n",
      " 342 343 344 345 346 347 348 349 350 351 352 353 354 355 356 357 358 359\n",
      " 360 361 362 363 364 365 366 367 368 369 370 371 372 373 374 375 376 377\n",
      " 378 379 380 381 382 383 384 385 386 387 388 389 390 391 392 393 394 395\n",
      " 396 397 398 399 400 401 402 403 404 405 406 407 408 409 410 411 412 413\n",
      " 414 415 416 417 418 419 420 421 422 423 424 425 426 427 428 429 430 431\n",
      " 432 433 434 435 436 437 438 439 440 441 442 443 444 445 446 447 448 449\n",
      " 450 451 452 453 454 455 456 457 458 459 460 461 462 463 464 465 466 467\n",
      " 468 469 470 471 472 473 474 475 476 477 478 479 480 481 482 483 484 485\n",
      " 486 487 488 489 490 491 492 493 494 495 496 497 498 499 500 501 502 503\n",
      " 504 505 506 507 508 509 510 511 512 513 514 515 516 517 518 519 520 521\n",
      " 522 523 524 525 526 527 528 529 530 531 532 533 534 535 536 537 538 539\n",
      " 540 541 542 543 544 545 546 547 548 549 550 551 552 553 554 555 556 557\n",
      " 558 559 560 561 562 563 564 565 566 567 568 569 570 571 572 573 574 575\n",
      " 576 577 578 579 580 581 582 583 584 585 586 587 588 589 590 591 592 593\n",
      " 594 595 596 597 598 599 600 601 602 603 604 605 606 607 608 609 610] [1.99576400e+00 3.02207500e+00 2.94331500e+00 1.73427310e+01\n",
      " 2.18816380e+01 6.98597700e-01 2.08614400e+01 6.72972640e+01\n",
      " 8.14585000e+00 9.66341500e+00 1.45813290e+00 5.00899620e+01\n",
      " 1.24633540e+01 8.97480700e+00 5.76419930e+00 7.53295900e+00\n",
      " 6.25493100e+00 2.35060260e+00 1.88172050e+01 1.65341280e+00\n",
      " 3.20337300e+01 6.47229200e+00 3.33778300e+01 4.94356040e+01\n",
      " 1.62819730e+00 4.82549570e+00 5.43000000e-01 1.61446860e+01\n",
      " 2.81682470e+00 1.48163370e+00 7.36359060e-01 3.78804100e+01\n",
      " 2.37044620e+00 2.54740600e+00 3.09483740e+00 3.94515090e+00\n",
      " 2.83455960e+01 1.05697820e+00 1.36650150e+00 2.10091040e+00\n",
      " 1.05319310e+01 9.87352900e-01 2.91943260e+01 9.92872200e+00\n",
      " 1.77578030e+00 2.50345640e+00 6.23408900e+00 2.91669130e+00\n",
      " 2.06937480e-01 2.97383270e+01 6.72158960e-01 9.60555100e-01\n",
      " 2.15330960e+00 1.10019800e+00 1.03655220e+00 5.09833150e+00\n",
      " 6.73513400e-01 8.21822700e+00 1.61355410e+00 3.12754700e+00\n",
      " 5.41652770e+00 2.31107100e+00 1.98826580e+01 4.41231960e+01\n",
      " 2.02793550e+00 1.88807560e+00 2.50507890e+01 2.17692200e+00\n",
      " 2.29441480e+00 2.13955120e+00 1.48147790e+00 2.07825200e+00\n",
      " 3.48407670e+00 5.98890200e+00 3.03992330e+01 2.96134920e+00\n",
      " 3.82813000e+01 9.25605500e+00 1.82123860e+00 3.91668030e+00\n",
      " 3.06400800e+00 6.69743300e+00 4.98107200e+00 6.43720200e+00\n",
      " 1.92239950e+00 3.62253950e+00 2.80601500e+00 2.53224560e+00\n",
      " 3.62900770e+01 3.26183630e+00 2.12969780e+00 1.75994810e+00\n",
      " 3.46403100e+00 2.13946100e+00 4.77045020e+01 4.60102940e+00\n",
      " 2.34820200e+00 5.54627850e+00 3.09788630e+00 2.88161470e+00\n",
      " 3.82458230e+01 2.58665050e+01 6.86725950e+00 3.79047000e+00\n",
      " 3.27170830e+01 1.06124504e+02 2.16402600e+00 4.03275260e+01\n",
      " 2.37942980e+00 2.18321820e+00 2.89903140e+00 5.56558300e+00\n",
      " 3.32237240e+00 2.67855760e+00 7.62182160e+01 1.93754600e+01\n",
      " 1.48465240e+00 6.95885200e+01 2.43365120e+00 1.37547410e+00\n",
      " 2.98330970e+00 2.95580270e+01 2.03274610e+02 2.59192280e+00\n",
      " 3.04443030e+00 2.79430580e+00 2.00867770e+00 3.13995080e+00\n",
      " 3.09828110e+00 1.02916950e+02 1.62437420e+01 2.11213370e+00\n",
      " 1.57003950e+00 2.78067260e+00 2.26284890e+00 4.86064340e+00\n",
      " 2.43498540e+00 9.73467900e+01 1.35172370e+00 1.18870544e+02\n",
      " 5.60039470e+00 1.32670250e+01 3.06816340e+00 5.77552070e+01\n",
      " 3.34424970e+00 2.68760800e+01 2.15832140e+02 9.58287200e-01\n",
      " 3.05271500e+00 9.93271940e+01 7.01488950e+01 1.66525860e+02\n",
      " 3.13491250e+01 9.51895000e+01 8.77263300e+01 3.23469300e+00\n",
      " 2.33928420e+02 3.02261830e+00 3.29126900e+01 1.51762600e+02\n",
      " 2.24497400e+01 3.08419400e+00 4.25487860e+01 2.80271360e+00\n",
      " 1.53702080e+01 3.99042560e+00 1.99639100e+02 2.00328810e+02\n",
      " 2.02534800e+02 2.61147640e+02 1.96958600e+02 2.12482150e+02\n",
      " 9.67844400e+01 1.58494110e+02 8.70809250e+01 1.89627290e+02\n",
      " 1.14174860e+02 1.73007610e+02 2.10968140e+02 2.28031950e+02\n",
      " 1.32209110e+01 2.16813550e+02 2.54106340e+02 2.26933620e+02\n",
      " 2.20448600e+02 1.95516780e+02 1.73802920e+02 7.63748860e+01\n",
      " 2.16798870e+02 2.33353030e+02 2.40844480e+02 2.51619550e+02\n",
      " 2.55593570e+02 2.49072970e+02 2.18079820e+02 2.42769180e+02\n",
      " 2.67140200e+02 2.37916800e+02 2.60256400e+02 2.58715760e+02\n",
      " 2.26862210e+02 2.52796800e+02 2.56326230e+02 2.69719060e+02\n",
      " 2.75073820e+02 2.44871290e+02 2.36225450e+02 2.58464870e+02\n",
      " 2.45612640e+02 2.46865480e+02 2.89753940e+02 2.69007780e+02\n",
      " 3.10680180e+02 2.67916230e+02 2.51360080e+02 2.59949980e+02\n",
      " 2.41874540e+02 2.42978560e+02 2.66783450e+02 2.62563800e+02\n",
      " 2.69644130e+02 2.52627600e+02 2.65822900e+02 2.74545470e+02\n",
      " 2.55959380e+02 2.44143810e+02 2.63013980e+02 2.56472700e+02\n",
      " 2.92805540e+02 2.78900200e+02 2.56792500e+02 2.68138700e+02\n",
      " 2.62315000e+02 2.73852780e+02 2.73826400e+02 2.77679300e+02\n",
      " 2.67643770e+02 2.55205520e+02 3.05123700e+02 2.75622040e+02\n",
      " 2.84736900e+02 2.91718000e+02 2.69268860e+02 2.73082460e+02\n",
      " 2.77389000e+02 3.02880300e+02 2.76640900e+02 2.76148250e+02\n",
      " 2.85107180e+02 2.82679800e+02 2.93624600e+02 2.71680660e+02\n",
      " 2.72948500e+02 2.89685060e+02 2.70777680e+02 2.94250240e+02\n",
      " 2.75336820e+02 3.21228000e+02 2.81186550e+02 2.79134280e+02\n",
      " 2.79751160e+02 2.93815460e+02 2.93851650e+02 2.97597260e+02\n",
      " 2.83814850e+02 2.71893460e+02 2.95876000e+02 2.89290100e+02\n",
      " 2.93341460e+02 3.10327600e+02 3.20792400e+02 3.01193300e+02\n",
      " 2.88619600e+02 3.03788330e+02 2.88760620e+02 3.01823150e+02\n",
      " 2.85339500e+02 3.12446140e+02 3.16162840e+02 3.17893200e+02\n",
      " 2.98368700e+02 3.03729280e+02 3.19276370e+02 3.12324980e+02\n",
      " 2.95836200e+02 3.00891750e+02 3.17575350e+02 3.15112030e+02\n",
      " 3.03274630e+02 3.04900020e+02 2.98214660e+02 3.12038180e+02\n",
      " 2.87828800e+02 3.06272860e+02 2.78816600e+02 2.98242830e+02\n",
      " 3.14630800e+02 3.12262100e+02 2.84905400e+02 3.19109740e+02\n",
      " 3.03624600e+02 2.94884030e+02 3.12828460e+02 3.33573060e+02\n",
      " 2.94411400e+02 3.29600430e+02 3.14529940e+02 3.25833830e+02\n",
      " 3.15557430e+02 3.00767500e+02 3.02917940e+02 2.86873300e+02\n",
      " 3.13836800e+02 3.12447880e+02 3.03549500e+02 2.92792940e+02\n",
      " 3.13931400e+02 3.11730300e+02 3.13358300e+02 3.02605200e+02\n",
      " 3.10452120e+02 3.08560240e+02 3.03838930e+02 3.13591100e+02\n",
      " 3.41303100e+02 2.94321800e+02 3.18060500e+02 3.13828600e+02\n",
      " 3.18315100e+02 3.20932340e+02 3.09333340e+02 3.18367650e+02\n",
      " 3.22565670e+02 3.24467770e+02 3.28170720e+02 3.22369750e+02\n",
      " 3.39796600e+02 3.04672500e+02 3.25800350e+02 3.66033400e+02\n",
      " 3.20271820e+02 3.03581450e+02 3.20520400e+02 3.19034670e+02\n",
      " 3.04422550e+02 3.16092130e+02 3.29675960e+02 3.31038850e+02\n",
      " 3.38231500e+02 3.43386470e+02 3.43453740e+02 3.20692260e+02\n",
      " 3.39182250e+02 3.27294950e+02 3.22113770e+02 3.21767640e+02\n",
      " 3.43025970e+02 3.43418030e+02 3.15186130e+02 3.37688260e+02\n",
      " 3.45758000e+02 3.45718900e+02 3.39842650e+02 3.59007900e+02\n",
      " 3.65857270e+02 3.28846650e+02 3.31678440e+02 3.19981450e+02\n",
      " 3.37986200e+02 3.39407650e+02 3.42398740e+02 3.46820530e+02\n",
      " 3.38237640e+02 3.45878170e+02 3.45064450e+02 3.65979700e+02\n",
      " 3.18513120e+02 3.27664370e+02 3.42601320e+02 3.46171840e+02\n",
      " 3.42496670e+02 3.41524800e+02 3.49494540e+02 3.50188450e+02\n",
      " 3.33280940e+02 3.59039340e+02 3.66994300e+02 3.48211000e+02\n",
      " 3.42651460e+02 3.58722380e+02 3.67862060e+02 3.67479770e+02\n",
      " 3.42806150e+02 3.31261350e+02 3.43668880e+02 3.41946620e+02\n",
      " 3.47950300e+02 3.36510600e+02 3.42089780e+02 3.41070530e+02\n",
      " 3.56044950e+02 3.48357900e+02 3.61667360e+02 3.45442840e+02\n",
      " 3.45097530e+02 3.43733060e+02 3.59398680e+02 3.66429900e+02\n",
      " 3.43429170e+02 3.57222800e+02 3.40274900e+02 3.50281400e+02\n",
      " 3.70733860e+02 3.43499600e+02 3.40464020e+02 3.69779500e+02\n",
      " 3.45546420e+02 3.53162400e+02 3.67041440e+02 3.41356050e+02\n",
      " 3.69663240e+02 3.45764600e+02 3.67105350e+02 3.44086030e+02\n",
      " 3.56636960e+02 3.60174350e+02 3.42713040e+02 3.48282800e+02\n",
      " 3.60809630e+02 3.68638430e+02 3.46230560e+02 3.41990450e+02\n",
      " 3.40899480e+02 3.48064730e+02 3.37480070e+02 3.67967470e+02\n",
      " 3.67750900e+02 3.68452820e+02 3.67220580e+02 3.43555800e+02\n",
      " 3.45203120e+02 3.49479500e+02 3.67159300e+02 3.60892270e+02\n",
      " 3.46589970e+02 3.45808900e+02 3.65007420e+02 3.45760680e+02\n",
      " 3.67314880e+02 3.65084470e+02 3.66744420e+02 3.65448970e+02\n",
      " 3.46893250e+02 3.60855800e+02 3.66655820e+02 3.49132660e+02\n",
      " 3.49296540e+02 3.70264100e+02 3.61237430e+02 3.65828700e+02\n",
      " 3.71388150e+02 3.63231600e+02 3.59847260e+02 3.62449980e+02\n",
      " 3.62956570e+02 3.71270100e+02 3.68094730e+02 3.64710330e+02\n",
      " 3.68136930e+02 3.69335420e+02 3.63517200e+02 3.86070500e+02\n",
      " 3.41790340e+02 3.68578250e+02 3.83269700e+02 3.68643160e+02\n",
      " 4.16030800e+02 3.71529900e+02 3.71005370e+02 3.74318480e+02\n",
      " 3.87072600e+02 3.63275760e+02 3.65621900e+02 3.71712070e+02\n",
      " 3.47619350e+02 3.60771480e+02 3.61526100e+02 3.52475200e+02\n",
      " 3.60310520e+02 3.70598400e+02 3.68966640e+02 3.78064760e+02\n",
      " 3.86320220e+02 3.59653400e+02 3.63486420e+02 3.64994000e+02\n",
      " 3.65376920e+02 3.63257800e+02 3.60037630e+02 3.62169980e+02\n",
      " 3.71407840e+02 3.65305730e+02 3.60213800e+02 3.59826780e+02\n",
      " 3.65045720e+02 3.70335330e+02 3.58791900e+02 3.94881400e+02\n",
      " 3.84405500e+02 3.59968870e+02 3.68768340e+02 3.91400270e+02\n",
      " 3.98146550e+02 3.92817600e+02 3.68122530e+02 3.86412140e+02\n",
      " 3.71510220e+02 4.04405550e+02 3.95897500e+02 3.70002800e+02\n",
      " 3.89511540e+02 3.69150100e+02 3.92236020e+02 3.92705870e+02\n",
      " 3.68879430e+02 3.67577600e+02 3.77895050e+02 3.92088600e+02\n",
      " 3.91695700e+02 3.96904660e+02 3.96587430e+02 3.66786680e+02\n",
      " 3.93855350e+02 3.70605650e+02 3.67629600e+02 3.90381680e+02\n",
      " 3.65040530e+02 3.92732760e+02 3.67401180e+02 3.90739350e+02\n",
      " 3.61831420e+02 3.53807100e+02 3.68265050e+02 3.93831730e+02\n",
      " 3.92965670e+02 3.69320920e+02 3.68121800e+02 3.84603030e+02\n",
      " 3.81666200e+02 4.05211100e+02 3.69802220e+02 3.64413670e+02\n",
      " 3.86697570e+02 4.05848480e+02 3.93968780e+02 3.90811860e+02\n",
      " 3.65107030e+02 3.66429960e+02 3.68341920e+02 3.80805480e+02\n",
      " 3.65146480e+02 3.67215120e+02 3.63804400e+02 3.90197570e+02\n",
      " 4.15844150e+02 3.93427760e+02 3.89302120e+02 3.69102170e+02\n",
      " 3.94681670e+02 3.87742340e+02 3.79820680e+02 3.89700500e+02\n",
      " 3.84454830e+02 3.92434020e+02 3.92821320e+02 3.68947660e+02\n",
      " 3.92597630e+02 3.86500850e+02 3.88647460e+02 3.89228580e+02\n",
      " 3.90328200e+02 3.82024200e+02 3.87890780e+02 3.92581670e+02\n",
      " 4.02897030e+02 3.89198330e+02 3.88336640e+02 4.10088870e+02\n",
      " 3.92614260e+02 3.91248500e+02 3.86560060e+02 4.23108700e+02\n",
      " 3.92161700e+02 3.91257540e+02 3.91953670e+02 3.90683000e+02\n",
      " 3.92904800e+02 3.90128100e+02 3.83173980e+02 4.17342200e+02\n",
      " 4.17153350e+02 4.16924470e+02 4.13350280e+02 4.12676420e+02\n",
      " 3.87423400e+02 4.17448180e+02 4.08737430e+02 4.16510440e+02\n",
      " 4.15501600e+02 4.18144380e+02 3.89998960e+02]\n"
     ]
    }
   ],
   "source": [
    "log_dir = \"tmpa/\"\n",
    "x, y = ts2xy(load_results(log_dir), \"episodes\")\n",
    "print(x, y)"
   ]
  },
  {
   "cell_type": "code",
   "execution_count": 4,
   "metadata": {},
   "outputs": [
    {
     "name": "stdout",
     "output_type": "stream",
     "text": [
      "[ 106  311  490  923 1341 1432 1932 2432] [ 1.995764   3.022075   2.943315  17.342731  21.881638   0.6985977\n",
      " 20.86144   67.297264 ]\n"
     ]
    }
   ],
   "source": [
    "log_dir = \"tmpa/\"\n",
    "x, y = ts2xy(load_results(log_dir), \"timesteps\")\n",
    "print(x, y)"
   ]
  },
  {
   "cell_type": "code",
   "execution_count": 13,
   "metadata": {},
   "outputs": [
    {
     "data": {
      "application/vnd.jupyter.widget-view+json": {
       "model_id": "9a2143b53ca04521b7cd39ed3fe1e4e0",
       "version_major": 2,
       "version_minor": 0
      },
      "text/plain": [
       "Output()"
      ]
     },
     "metadata": {},
     "output_type": "display_data"
    },
    {
     "data": {
      "text/html": [
       "<pre style=\"white-space:pre;overflow-x:auto;line-height:normal;font-family:Menlo,'DejaVu Sans Mono',consolas,'Courier New',monospace\">Num timesteps: 1000 - Ep: 23\n",
       "</pre>\n"
      ],
      "text/plain": [
       "Num timesteps: 1000 - Ep: 23\n"
      ]
     },
     "metadata": {},
     "output_type": "display_data"
    },
    {
     "data": {
      "text/html": [
       "<pre style=\"white-space:pre;overflow-x:auto;line-height:normal;font-family:Menlo,'DejaVu Sans Mono',consolas,'Courier New',monospace\">Best reward: -inf - Last reward per episode: 3.97 - Mean reward last 10 episode: 3.97 - Delta mean: 3.97\n",
       "</pre>\n"
      ],
      "text/plain": [
       "Best reward: -inf - Last reward per episode: 3.97 - Mean reward last 10 episode: 3.97 - Delta mean: 3.97\n"
      ]
     },
     "metadata": {},
     "output_type": "display_data"
    },
    {
     "data": {
      "text/html": [
       "<pre style=\"white-space:pre;overflow-x:auto;line-height:normal;font-family:Menlo,'DejaVu Sans Mono',consolas,'Courier New',monospace\">Saving new best model to Training\\Save Models\\Best Models\\DDPG_ip_1_100000\n",
       "</pre>\n"
      ],
      "text/plain": [
       "Saving new best model to Training\\Save Models\\Best Models\\DDPG_ip_1_100000\n"
      ]
     },
     "metadata": {},
     "output_type": "display_data"
    },
    {
     "data": {
      "text/html": [
       "<pre style=\"white-space:pre;overflow-x:auto;line-height:normal;font-family:Menlo,'DejaVu Sans Mono',consolas,'Courier New',monospace\">Num timesteps: 2000 - Ep: 50\n",
       "</pre>\n"
      ],
      "text/plain": [
       "Num timesteps: 2000 - Ep: 50\n"
      ]
     },
     "metadata": {},
     "output_type": "display_data"
    },
    {
     "data": {
      "text/html": [
       "<pre style=\"white-space:pre;overflow-x:auto;line-height:normal;font-family:Menlo,'DejaVu Sans Mono',consolas,'Courier New',monospace\">Best reward: 3.97 - Last reward per episode: 3.97 - Mean reward last 10 episode: 3.97 - Delta mean: 0.00\n",
       "</pre>\n"
      ],
      "text/plain": [
       "Best reward: 3.97 - Last reward per episode: 3.97 - Mean reward last 10 episode: 3.97 - Delta mean: 0.00\n"
      ]
     },
     "metadata": {},
     "output_type": "display_data"
    },
    {
     "data": {
      "text/html": [
       "<pre style=\"white-space:pre;overflow-x:auto;line-height:normal;font-family:Menlo,'DejaVu Sans Mono',consolas,'Courier New',monospace\">Num timesteps: 4000 - Ep: 104\n",
       "</pre>\n"
      ],
      "text/plain": [
       "Num timesteps: 4000 - Ep: 104\n"
      ]
     },
     "metadata": {},
     "output_type": "display_data"
    },
    {
     "data": {
      "text/html": [
       "<pre style=\"white-space:pre;overflow-x:auto;line-height:normal;font-family:Menlo,'DejaVu Sans Mono',consolas,'Courier New',monospace\">Best reward: 3.97 - Last reward per episode: 3.97 - Mean reward last 10 episode: 3.97 - Delta mean: 0.00\n",
       "</pre>\n"
      ],
      "text/plain": [
       "Best reward: 3.97 - Last reward per episode: 3.97 - Mean reward last 10 episode: 3.97 - Delta mean: 0.00\n"
      ]
     },
     "metadata": {},
     "output_type": "display_data"
    },
    {
     "data": {
      "text/html": [
       "<pre style=\"white-space:pre;overflow-x:auto;line-height:normal;font-family:Menlo,'DejaVu Sans Mono',consolas,'Courier New',monospace\">Num timesteps: 5000 - Ep: 131\n",
       "</pre>\n"
      ],
      "text/plain": [
       "Num timesteps: 5000 - Ep: 131\n"
      ]
     },
     "metadata": {},
     "output_type": "display_data"
    },
    {
     "data": {
      "text/html": [
       "<pre style=\"white-space:pre;overflow-x:auto;line-height:normal;font-family:Menlo,'DejaVu Sans Mono',consolas,'Courier New',monospace\">Best reward: 3.97 - Last reward per episode: 3.97 - Mean reward last 10 episode: 3.97 - Delta mean: 0.00\n",
       "</pre>\n"
      ],
      "text/plain": [
       "Best reward: 3.97 - Last reward per episode: 3.97 - Mean reward last 10 episode: 3.97 - Delta mean: 0.00\n"
      ]
     },
     "metadata": {},
     "output_type": "display_data"
    },
    {
     "data": {
      "text/html": [
       "<pre style=\"white-space:pre;overflow-x:auto;line-height:normal;font-family:Menlo,'DejaVu Sans Mono',consolas,'Courier New',monospace\">Num timesteps: 6000 - Ep: 158\n",
       "</pre>\n"
      ],
      "text/plain": [
       "Num timesteps: 6000 - Ep: 158\n"
      ]
     },
     "metadata": {},
     "output_type": "display_data"
    },
    {
     "data": {
      "text/html": [
       "<pre style=\"white-space:pre;overflow-x:auto;line-height:normal;font-family:Menlo,'DejaVu Sans Mono',consolas,'Courier New',monospace\">Best reward: 3.97 - Last reward per episode: 3.97 - Mean reward last 10 episode: 3.97 - Delta mean: 0.00\n",
       "</pre>\n"
      ],
      "text/plain": [
       "Best reward: 3.97 - Last reward per episode: 3.97 - Mean reward last 10 episode: 3.97 - Delta mean: 0.00\n"
      ]
     },
     "metadata": {},
     "output_type": "display_data"
    },
    {
     "data": {
      "text/html": [
       "<pre style=\"white-space:pre;overflow-x:auto;line-height:normal;font-family:Menlo,'DejaVu Sans Mono',consolas,'Courier New',monospace\">Num timesteps: 7000 - Ep: 185\n",
       "</pre>\n"
      ],
      "text/plain": [
       "Num timesteps: 7000 - Ep: 185\n"
      ]
     },
     "metadata": {},
     "output_type": "display_data"
    },
    {
     "data": {
      "text/html": [
       "<pre style=\"white-space:pre;overflow-x:auto;line-height:normal;font-family:Menlo,'DejaVu Sans Mono',consolas,'Courier New',monospace\">Best reward: 3.97 - Last reward per episode: 3.97 - Mean reward last 10 episode: 3.97 - Delta mean: 0.00\n",
       "</pre>\n"
      ],
      "text/plain": [
       "Best reward: 3.97 - Last reward per episode: 3.97 - Mean reward last 10 episode: 3.97 - Delta mean: 0.00\n"
      ]
     },
     "metadata": {},
     "output_type": "display_data"
    },
    {
     "data": {
      "text/html": [
       "<pre style=\"white-space:pre;overflow-x:auto;line-height:normal;font-family:Menlo,'DejaVu Sans Mono',consolas,'Courier New',monospace\">Num timesteps: 8000 - Ep: 212\n",
       "</pre>\n"
      ],
      "text/plain": [
       "Num timesteps: 8000 - Ep: 212\n"
      ]
     },
     "metadata": {},
     "output_type": "display_data"
    },
    {
     "data": {
      "text/html": [
       "<pre style=\"white-space:pre;overflow-x:auto;line-height:normal;font-family:Menlo,'DejaVu Sans Mono',consolas,'Courier New',monospace\">Num timesteps: 9000 - Ep: 239\n",
       "</pre>\n"
      ],
      "text/plain": [
       "Num timesteps: 9000 - Ep: 239\n"
      ]
     },
     "metadata": {},
     "output_type": "display_data"
    },
    {
     "data": {
      "text/html": [
       "<pre style=\"white-space:pre;overflow-x:auto;line-height:normal;font-family:Menlo,'DejaVu Sans Mono',consolas,'Courier New',monospace\">Best reward: 3.97 - Last reward per episode: 3.97 - Mean reward last 10 episode: 3.97 - Delta mean: 0.00\n",
       "</pre>\n"
      ],
      "text/plain": [
       "Best reward: 3.97 - Last reward per episode: 3.97 - Mean reward last 10 episode: 3.97 - Delta mean: 0.00\n"
      ]
     },
     "metadata": {},
     "output_type": "display_data"
    },
    {
     "data": {
      "text/html": [
       "<pre style=\"white-space:pre;overflow-x:auto;line-height:normal;font-family:Menlo,'DejaVu Sans Mono',consolas,'Courier New',monospace\">Num timesteps: 10000 - Ep: 266\n",
       "</pre>\n"
      ],
      "text/plain": [
       "Num timesteps: 10000 - Ep: 266\n"
      ]
     },
     "metadata": {},
     "output_type": "display_data"
    },
    {
     "data": {
      "text/html": [
       "<pre style=\"white-space:pre;overflow-x:auto;line-height:normal;font-family:Menlo,'DejaVu Sans Mono',consolas,'Courier New',monospace\">Best reward: 3.97 - Last reward per episode: 3.97 - Mean reward last 10 episode: 3.97 - Delta mean: 0.00\n",
       "</pre>\n"
      ],
      "text/plain": [
       "Best reward: 3.97 - Last reward per episode: 3.97 - Mean reward last 10 episode: 3.97 - Delta mean: 0.00\n"
      ]
     },
     "metadata": {},
     "output_type": "display_data"
    },
    {
     "data": {
      "text/html": [
       "<pre style=\"white-space:pre;overflow-x:auto;line-height:normal;font-family:Menlo,'DejaVu Sans Mono',consolas,'Courier New',monospace\">Num timesteps: 11000 - Ep: 293\n",
       "</pre>\n"
      ],
      "text/plain": [
       "Num timesteps: 11000 - Ep: 293\n"
      ]
     },
     "metadata": {},
     "output_type": "display_data"
    },
    {
     "data": {
      "text/html": [
       "<pre style=\"white-space:pre;overflow-x:auto;line-height:normal;font-family:Menlo,'DejaVu Sans Mono',consolas,'Courier New',monospace\">Best reward: 3.97 - Last reward per episode: 3.97 - Mean reward last 10 episode: 3.97 - Delta mean: 0.00\n",
       "</pre>\n"
      ],
      "text/plain": [
       "Best reward: 3.97 - Last reward per episode: 3.97 - Mean reward last 10 episode: 3.97 - Delta mean: 0.00\n"
      ]
     },
     "metadata": {},
     "output_type": "display_data"
    },
    {
     "data": {
      "text/html": [
       "<pre style=\"white-space:pre;overflow-x:auto;line-height:normal;font-family:Menlo,'DejaVu Sans Mono',consolas,'Courier New',monospace\">Num timesteps: 12000 - Ep: 320\n",
       "</pre>\n"
      ],
      "text/plain": [
       "Num timesteps: 12000 - Ep: 320\n"
      ]
     },
     "metadata": {},
     "output_type": "display_data"
    },
    {
     "data": {
      "text/html": [
       "<pre style=\"white-space:pre;overflow-x:auto;line-height:normal;font-family:Menlo,'DejaVu Sans Mono',consolas,'Courier New',monospace\">Best reward: 3.97 - Last reward per episode: 3.97 - Mean reward last 10 episode: 3.97 - Delta mean: 0.00\n",
       "</pre>\n"
      ],
      "text/plain": [
       "Best reward: 3.97 - Last reward per episode: 3.97 - Mean reward last 10 episode: 3.97 - Delta mean: 0.00\n"
      ]
     },
     "metadata": {},
     "output_type": "display_data"
    },
    {
     "data": {
      "text/html": [
       "<pre style=\"white-space:pre;overflow-x:auto;line-height:normal;font-family:Menlo,'DejaVu Sans Mono',consolas,'Courier New',monospace\">Num timesteps: 13000 - Ep: 347\n",
       "</pre>\n"
      ],
      "text/plain": [
       "Num timesteps: 13000 - Ep: 347\n"
      ]
     },
     "metadata": {},
     "output_type": "display_data"
    },
    {
     "data": {
      "text/html": [
       "<pre style=\"white-space:pre;overflow-x:auto;line-height:normal;font-family:Menlo,'DejaVu Sans Mono',consolas,'Courier New',monospace\">Best reward: 3.97 - Last reward per episode: 3.97 - Mean reward last 10 episode: 3.97 - Delta mean: 0.00\n",
       "</pre>\n"
      ],
      "text/plain": [
       "Best reward: 3.97 - Last reward per episode: 3.97 - Mean reward last 10 episode: 3.97 - Delta mean: 0.00\n"
      ]
     },
     "metadata": {},
     "output_type": "display_data"
    },
    {
     "data": {
      "text/html": [
       "<pre style=\"white-space:pre;overflow-x:auto;line-height:normal;font-family:Menlo,'DejaVu Sans Mono',consolas,'Courier New',monospace\">Num timesteps: 14000 - Ep: 374\n",
       "</pre>\n"
      ],
      "text/plain": [
       "Num timesteps: 14000 - Ep: 374\n"
      ]
     },
     "metadata": {},
     "output_type": "display_data"
    },
    {
     "data": {
      "text/html": [
       "<pre style=\"white-space:pre;overflow-x:auto;line-height:normal;font-family:Menlo,'DejaVu Sans Mono',consolas,'Courier New',monospace\">Best reward: 3.97 - Last reward per episode: 3.97 - Mean reward last 10 episode: 3.97 - Delta mean: 0.00\n",
       "</pre>\n"
      ],
      "text/plain": [
       "Best reward: 3.97 - Last reward per episode: 3.97 - Mean reward last 10 episode: 3.97 - Delta mean: 0.00\n"
      ]
     },
     "metadata": {},
     "output_type": "display_data"
    },
    {
     "data": {
      "text/html": [
       "<pre style=\"white-space:pre;overflow-x:auto;line-height:normal;font-family:Menlo,'DejaVu Sans Mono',consolas,'Courier New',monospace\">Num timesteps: 15000 - Ep: 401\n",
       "</pre>\n"
      ],
      "text/plain": [
       "Num timesteps: 15000 - Ep: 401\n"
      ]
     },
     "metadata": {},
     "output_type": "display_data"
    },
    {
     "data": {
      "text/html": [
       "<pre style=\"white-space:pre;overflow-x:auto;line-height:normal;font-family:Menlo,'DejaVu Sans Mono',consolas,'Courier New',monospace\">Best reward: 3.97 - Last reward per episode: 3.97 - Mean reward last 10 episode: 3.97 - Delta mean: 0.00\n",
       "</pre>\n"
      ],
      "text/plain": [
       "Best reward: 3.97 - Last reward per episode: 3.97 - Mean reward last 10 episode: 3.97 - Delta mean: 0.00\n"
      ]
     },
     "metadata": {},
     "output_type": "display_data"
    },
    {
     "data": {
      "text/html": [
       "<pre style=\"white-space:pre;overflow-x:auto;line-height:normal;font-family:Menlo,'DejaVu Sans Mono',consolas,'Courier New',monospace\">Num timesteps: 16000 - Ep: 428\n",
       "</pre>\n"
      ],
      "text/plain": [
       "Num timesteps: 16000 - Ep: 428\n"
      ]
     },
     "metadata": {},
     "output_type": "display_data"
    },
    {
     "data": {
      "text/html": [
       "<pre style=\"white-space:pre;overflow-x:auto;line-height:normal;font-family:Menlo,'DejaVu Sans Mono',consolas,'Courier New',monospace\">Best reward: 3.97 - Last reward per episode: 3.97 - Mean reward last 10 episode: 3.97 - Delta mean: 0.00\n",
       "</pre>\n"
      ],
      "text/plain": [
       "Best reward: 3.97 - Last reward per episode: 3.97 - Mean reward last 10 episode: 3.97 - Delta mean: 0.00\n"
      ]
     },
     "metadata": {},
     "output_type": "display_data"
    },
    {
     "data": {
      "text/html": [
       "<pre style=\"white-space:pre;overflow-x:auto;line-height:normal;font-family:Menlo,'DejaVu Sans Mono',consolas,'Courier New',monospace\">Num timesteps: 17000 - Ep: 455\n",
       "</pre>\n"
      ],
      "text/plain": [
       "Num timesteps: 17000 - Ep: 455\n"
      ]
     },
     "metadata": {},
     "output_type": "display_data"
    },
    {
     "data": {
      "text/html": [
       "<pre style=\"white-space:pre;overflow-x:auto;line-height:normal;font-family:Menlo,'DejaVu Sans Mono',consolas,'Courier New',monospace\">Best reward: 3.97 - Last reward per episode: 3.97 - Mean reward last 10 episode: 3.97 - Delta mean: 0.00\n",
       "</pre>\n"
      ],
      "text/plain": [
       "Best reward: 3.97 - Last reward per episode: 3.97 - Mean reward last 10 episode: 3.97 - Delta mean: 0.00\n"
      ]
     },
     "metadata": {},
     "output_type": "display_data"
    },
    {
     "data": {
      "text/html": [
       "<pre style=\"white-space:pre;overflow-x:auto;line-height:normal;font-family:Menlo,'DejaVu Sans Mono',consolas,'Courier New',monospace\">Num timesteps: 18000 - Ep: 482\n",
       "</pre>\n"
      ],
      "text/plain": [
       "Num timesteps: 18000 - Ep: 482\n"
      ]
     },
     "metadata": {},
     "output_type": "display_data"
    },
    {
     "data": {
      "text/html": [
       "<pre style=\"white-space:pre;overflow-x:auto;line-height:normal;font-family:Menlo,'DejaVu Sans Mono',consolas,'Courier New',monospace\">Best reward: 3.97 - Last reward per episode: 3.97 - Mean reward last 10 episode: 3.97 - Delta mean: 0.00\n",
       "</pre>\n"
      ],
      "text/plain": [
       "Best reward: 3.97 - Last reward per episode: 3.97 - Mean reward last 10 episode: 3.97 - Delta mean: 0.00\n"
      ]
     },
     "metadata": {},
     "output_type": "display_data"
    },
    {
     "data": {
      "text/html": [
       "<pre style=\"white-space:pre;overflow-x:auto;line-height:normal;font-family:Menlo,'DejaVu Sans Mono',consolas,'Courier New',monospace\">Num timesteps: 19000 - Ep: 509\n",
       "</pre>\n"
      ],
      "text/plain": [
       "Num timesteps: 19000 - Ep: 509\n"
      ]
     },
     "metadata": {},
     "output_type": "display_data"
    },
    {
     "data": {
      "text/html": [
       "<pre style=\"white-space:pre;overflow-x:auto;line-height:normal;font-family:Menlo,'DejaVu Sans Mono',consolas,'Courier New',monospace\">Best reward: 3.97 - Last reward per episode: 3.97 - Mean reward last 10 episode: 3.97 - Delta mean: 0.00\n",
       "</pre>\n"
      ],
      "text/plain": [
       "Best reward: 3.97 - Last reward per episode: 3.97 - Mean reward last 10 episode: 3.97 - Delta mean: 0.00\n"
      ]
     },
     "metadata": {},
     "output_type": "display_data"
    },
    {
     "data": {
      "text/html": [
       "<pre style=\"white-space:pre;overflow-x:auto;line-height:normal;font-family:Menlo,'DejaVu Sans Mono',consolas,'Courier New',monospace\">Num timesteps: 20000 - Ep: 536\n",
       "</pre>\n"
      ],
      "text/plain": [
       "Num timesteps: 20000 - Ep: 536\n"
      ]
     },
     "metadata": {},
     "output_type": "display_data"
    },
    {
     "data": {
      "text/html": [
       "<pre style=\"white-space:pre;overflow-x:auto;line-height:normal;font-family:Menlo,'DejaVu Sans Mono',consolas,'Courier New',monospace\">Best reward: 3.97 - Last reward per episode: 3.97 - Mean reward last 10 episode: 3.97 - Delta mean: 0.00\n",
       "</pre>\n"
      ],
      "text/plain": [
       "Best reward: 3.97 - Last reward per episode: 3.97 - Mean reward last 10 episode: 3.97 - Delta mean: 0.00\n"
      ]
     },
     "metadata": {},
     "output_type": "display_data"
    },
    {
     "data": {
      "text/html": [
       "<pre style=\"white-space:pre;overflow-x:auto;line-height:normal;font-family:Menlo,'DejaVu Sans Mono',consolas,'Courier New',monospace\">Num timesteps: 21000 - Ep: 563\n",
       "</pre>\n"
      ],
      "text/plain": [
       "Num timesteps: 21000 - Ep: 563\n"
      ]
     },
     "metadata": {},
     "output_type": "display_data"
    },
    {
     "data": {
      "text/html": [
       "<pre style=\"white-space:pre;overflow-x:auto;line-height:normal;font-family:Menlo,'DejaVu Sans Mono',consolas,'Courier New',monospace\">Best reward: 3.97 - Last reward per episode: 3.97 - Mean reward last 10 episode: 3.97 - Delta mean: 0.00\n",
       "</pre>\n"
      ],
      "text/plain": [
       "Best reward: 3.97 - Last reward per episode: 3.97 - Mean reward last 10 episode: 3.97 - Delta mean: 0.00\n"
      ]
     },
     "metadata": {},
     "output_type": "display_data"
    },
    {
     "data": {
      "text/html": [
       "<pre style=\"white-space:pre;overflow-x:auto;line-height:normal;font-family:Menlo,'DejaVu Sans Mono',consolas,'Courier New',monospace\">Num timesteps: 22000 - Ep: 590\n",
       "</pre>\n"
      ],
      "text/plain": [
       "Num timesteps: 22000 - Ep: 590\n"
      ]
     },
     "metadata": {},
     "output_type": "display_data"
    },
    {
     "data": {
      "text/html": [
       "<pre style=\"white-space:pre;overflow-x:auto;line-height:normal;font-family:Menlo,'DejaVu Sans Mono',consolas,'Courier New',monospace\">Best reward: 3.97 - Last reward per episode: 3.97 - Mean reward last 10 episode: 3.97 - Delta mean: 0.00\n",
       "</pre>\n"
      ],
      "text/plain": [
       "Best reward: 3.97 - Last reward per episode: 3.97 - Mean reward last 10 episode: 3.97 - Delta mean: 0.00\n"
      ]
     },
     "metadata": {},
     "output_type": "display_data"
    },
    {
     "data": {
      "text/html": [
       "<pre style=\"white-space:pre;overflow-x:auto;line-height:normal;font-family:Menlo,'DejaVu Sans Mono',consolas,'Courier New',monospace\">Num timesteps: 23000 - Ep: 617\n",
       "</pre>\n"
      ],
      "text/plain": [
       "Num timesteps: 23000 - Ep: 617\n"
      ]
     },
     "metadata": {},
     "output_type": "display_data"
    },
    {
     "data": {
      "text/html": [
       "<pre style=\"white-space:pre;overflow-x:auto;line-height:normal;font-family:Menlo,'DejaVu Sans Mono',consolas,'Courier New',monospace\">Best reward: 3.97 - Last reward per episode: 3.97 - Mean reward last 10 episode: 3.97 - Delta mean: 0.00\n",
       "</pre>\n"
      ],
      "text/plain": [
       "Best reward: 3.97 - Last reward per episode: 3.97 - Mean reward last 10 episode: 3.97 - Delta mean: 0.00\n"
      ]
     },
     "metadata": {},
     "output_type": "display_data"
    },
    {
     "data": {
      "text/html": [
       "<pre style=\"white-space:pre;overflow-x:auto;line-height:normal;font-family:Menlo,'DejaVu Sans Mono',consolas,'Courier New',monospace\">Num timesteps: 24000 - Ep: 644\n",
       "</pre>\n"
      ],
      "text/plain": [
       "Num timesteps: 24000 - Ep: 644\n"
      ]
     },
     "metadata": {},
     "output_type": "display_data"
    },
    {
     "data": {
      "text/html": [
       "<pre style=\"white-space:pre;overflow-x:auto;line-height:normal;font-family:Menlo,'DejaVu Sans Mono',consolas,'Courier New',monospace\">Best reward: 3.97 - Last reward per episode: 3.97 - Mean reward last 10 episode: 3.97 - Delta mean: 0.00\n",
       "</pre>\n"
      ],
      "text/plain": [
       "Best reward: 3.97 - Last reward per episode: 3.97 - Mean reward last 10 episode: 3.97 - Delta mean: 0.00\n"
      ]
     },
     "metadata": {},
     "output_type": "display_data"
    },
    {
     "data": {
      "text/html": [
       "<pre style=\"white-space:pre;overflow-x:auto;line-height:normal;font-family:Menlo,'DejaVu Sans Mono',consolas,'Courier New',monospace\">Num timesteps: 25000 - Ep: 671\n",
       "</pre>\n"
      ],
      "text/plain": [
       "Num timesteps: 25000 - Ep: 671\n"
      ]
     },
     "metadata": {},
     "output_type": "display_data"
    },
    {
     "data": {
      "text/html": [
       "<pre style=\"white-space:pre;overflow-x:auto;line-height:normal;font-family:Menlo,'DejaVu Sans Mono',consolas,'Courier New',monospace\">Best reward: 3.97 - Last reward per episode: 3.97 - Mean reward last 10 episode: 3.97 - Delta mean: 0.00\n",
       "</pre>\n"
      ],
      "text/plain": [
       "Best reward: 3.97 - Last reward per episode: 3.97 - Mean reward last 10 episode: 3.97 - Delta mean: 0.00\n"
      ]
     },
     "metadata": {},
     "output_type": "display_data"
    },
    {
     "data": {
      "text/html": [
       "<pre style=\"white-space:pre;overflow-x:auto;line-height:normal;font-family:Menlo,'DejaVu Sans Mono',consolas,'Courier New',monospace\">Num timesteps: 26000 - Ep: 698\n",
       "</pre>\n"
      ],
      "text/plain": [
       "Num timesteps: 26000 - Ep: 698\n"
      ]
     },
     "metadata": {},
     "output_type": "display_data"
    },
    {
     "data": {
      "text/html": [
       "<pre style=\"white-space:pre;overflow-x:auto;line-height:normal;font-family:Menlo,'DejaVu Sans Mono',consolas,'Courier New',monospace\">Best reward: 3.97 - Last reward per episode: 3.97 - Mean reward last 10 episode: 3.97 - Delta mean: 0.00\n",
       "</pre>\n"
      ],
      "text/plain": [
       "Best reward: 3.97 - Last reward per episode: 3.97 - Mean reward last 10 episode: 3.97 - Delta mean: 0.00\n"
      ]
     },
     "metadata": {},
     "output_type": "display_data"
    },
    {
     "data": {
      "text/html": [
       "<pre style=\"white-space:pre;overflow-x:auto;line-height:normal;font-family:Menlo,'DejaVu Sans Mono',consolas,'Courier New',monospace\">Num timesteps: 27000 - Ep: 725\n",
       "</pre>\n"
      ],
      "text/plain": [
       "Num timesteps: 27000 - Ep: 725\n"
      ]
     },
     "metadata": {},
     "output_type": "display_data"
    },
    {
     "data": {
      "text/html": [
       "<pre style=\"white-space:pre;overflow-x:auto;line-height:normal;font-family:Menlo,'DejaVu Sans Mono',consolas,'Courier New',monospace\">Best reward: 3.97 - Last reward per episode: 3.97 - Mean reward last 10 episode: 3.97 - Delta mean: 0.00\n",
       "</pre>\n"
      ],
      "text/plain": [
       "Best reward: 3.97 - Last reward per episode: 3.97 - Mean reward last 10 episode: 3.97 - Delta mean: 0.00\n"
      ]
     },
     "metadata": {},
     "output_type": "display_data"
    },
    {
     "data": {
      "text/html": [
       "<pre style=\"white-space:pre;overflow-x:auto;line-height:normal;font-family:Menlo,'DejaVu Sans Mono',consolas,'Courier New',monospace\">Num timesteps: 28000 - Ep: 752\n",
       "</pre>\n"
      ],
      "text/plain": [
       "Num timesteps: 28000 - Ep: 752\n"
      ]
     },
     "metadata": {},
     "output_type": "display_data"
    },
    {
     "data": {
      "text/html": [
       "<pre style=\"white-space:pre;overflow-x:auto;line-height:normal;font-family:Menlo,'DejaVu Sans Mono',consolas,'Courier New',monospace\">Best reward: 3.97 - Last reward per episode: 3.97 - Mean reward last 10 episode: 3.97 - Delta mean: 0.00\n",
       "</pre>\n"
      ],
      "text/plain": [
       "Best reward: 3.97 - Last reward per episode: 3.97 - Mean reward last 10 episode: 3.97 - Delta mean: 0.00\n"
      ]
     },
     "metadata": {},
     "output_type": "display_data"
    },
    {
     "data": {
      "text/html": [
       "<pre style=\"white-space:pre;overflow-x:auto;line-height:normal;font-family:Menlo,'DejaVu Sans Mono',consolas,'Courier New',monospace\">Num timesteps: 29000 - Ep: 779\n",
       "</pre>\n"
      ],
      "text/plain": [
       "Num timesteps: 29000 - Ep: 779\n"
      ]
     },
     "metadata": {},
     "output_type": "display_data"
    },
    {
     "data": {
      "text/html": [
       "<pre style=\"white-space:pre;overflow-x:auto;line-height:normal;font-family:Menlo,'DejaVu Sans Mono',consolas,'Courier New',monospace\">Best reward: 3.97 - Last reward per episode: 3.97 - Mean reward last 10 episode: 3.97 - Delta mean: 0.00\n",
       "</pre>\n"
      ],
      "text/plain": [
       "Best reward: 3.97 - Last reward per episode: 3.97 - Mean reward last 10 episode: 3.97 - Delta mean: 0.00\n"
      ]
     },
     "metadata": {},
     "output_type": "display_data"
    },
    {
     "data": {
      "text/html": [
       "<pre style=\"white-space:pre;overflow-x:auto;line-height:normal;font-family:Menlo,'DejaVu Sans Mono',consolas,'Courier New',monospace\">Num timesteps: 30000 - Ep: 806\n",
       "</pre>\n"
      ],
      "text/plain": [
       "Num timesteps: 30000 - Ep: 806\n"
      ]
     },
     "metadata": {},
     "output_type": "display_data"
    },
    {
     "data": {
      "text/html": [
       "<pre style=\"white-space:pre;overflow-x:auto;line-height:normal;font-family:Menlo,'DejaVu Sans Mono',consolas,'Courier New',monospace\">Best reward: 3.97 - Last reward per episode: 3.97 - Mean reward last 10 episode: 3.97 - Delta mean: 0.00\n",
       "</pre>\n"
      ],
      "text/plain": [
       "Best reward: 3.97 - Last reward per episode: 3.97 - Mean reward last 10 episode: 3.97 - Delta mean: 0.00\n"
      ]
     },
     "metadata": {},
     "output_type": "display_data"
    },
    {
     "data": {
      "text/html": [
       "<pre style=\"white-space:pre;overflow-x:auto;line-height:normal;font-family:Menlo,'DejaVu Sans Mono',consolas,'Courier New',monospace\">Num timesteps: 31000 - Ep: 833\n",
       "</pre>\n"
      ],
      "text/plain": [
       "Num timesteps: 31000 - Ep: 833\n"
      ]
     },
     "metadata": {},
     "output_type": "display_data"
    },
    {
     "data": {
      "text/html": [
       "<pre style=\"white-space:pre;overflow-x:auto;line-height:normal;font-family:Menlo,'DejaVu Sans Mono',consolas,'Courier New',monospace\">Best reward: 3.97 - Last reward per episode: 3.97 - Mean reward last 10 episode: 3.97 - Delta mean: 0.00\n",
       "</pre>\n"
      ],
      "text/plain": [
       "Best reward: 3.97 - Last reward per episode: 3.97 - Mean reward last 10 episode: 3.97 - Delta mean: 0.00\n"
      ]
     },
     "metadata": {},
     "output_type": "display_data"
    },
    {
     "data": {
      "text/html": [
       "<pre style=\"white-space:pre;overflow-x:auto;line-height:normal;font-family:Menlo,'DejaVu Sans Mono',consolas,'Courier New',monospace\">Num timesteps: 32000 - Ep: 860\n",
       "</pre>\n"
      ],
      "text/plain": [
       "Num timesteps: 32000 - Ep: 860\n"
      ]
     },
     "metadata": {},
     "output_type": "display_data"
    },
    {
     "data": {
      "text/html": [
       "<pre style=\"white-space:pre;overflow-x:auto;line-height:normal;font-family:Menlo,'DejaVu Sans Mono',consolas,'Courier New',monospace\">Best reward: 3.97 - Last reward per episode: 3.97 - Mean reward last 10 episode: 3.97 - Delta mean: 0.00\n",
       "</pre>\n"
      ],
      "text/plain": [
       "Best reward: 3.97 - Last reward per episode: 3.97 - Mean reward last 10 episode: 3.97 - Delta mean: 0.00\n"
      ]
     },
     "metadata": {},
     "output_type": "display_data"
    },
    {
     "data": {
      "text/html": [
       "<pre style=\"white-space:pre;overflow-x:auto;line-height:normal;font-family:Menlo,'DejaVu Sans Mono',consolas,'Courier New',monospace\">Num timesteps: 33000 - Ep: 888\n",
       "</pre>\n"
      ],
      "text/plain": [
       "Num timesteps: 33000 - Ep: 888\n"
      ]
     },
     "metadata": {},
     "output_type": "display_data"
    },
    {
     "data": {
      "text/html": [
       "<pre style=\"white-space:pre;overflow-x:auto;line-height:normal;font-family:Menlo,'DejaVu Sans Mono',consolas,'Courier New',monospace\">Best reward: 3.97 - Last reward per episode: 3.97 - Mean reward last 10 episode: 3.97 - Delta mean: 0.00\n",
       "</pre>\n"
      ],
      "text/plain": [
       "Best reward: 3.97 - Last reward per episode: 3.97 - Mean reward last 10 episode: 3.97 - Delta mean: 0.00\n"
      ]
     },
     "metadata": {},
     "output_type": "display_data"
    },
    {
     "data": {
      "text/html": [
       "<pre style=\"white-space:pre;overflow-x:auto;line-height:normal;font-family:Menlo,'DejaVu Sans Mono',consolas,'Courier New',monospace\">Num timesteps: 34000 - Ep: 915\n",
       "</pre>\n"
      ],
      "text/plain": [
       "Num timesteps: 34000 - Ep: 915\n"
      ]
     },
     "metadata": {},
     "output_type": "display_data"
    },
    {
     "data": {
      "text/html": [
       "<pre style=\"white-space:pre;overflow-x:auto;line-height:normal;font-family:Menlo,'DejaVu Sans Mono',consolas,'Courier New',monospace\">Best reward: 3.97 - Last reward per episode: 3.97 - Mean reward last 10 episode: 3.97 - Delta mean: 0.00\n",
       "</pre>\n"
      ],
      "text/plain": [
       "Best reward: 3.97 - Last reward per episode: 3.97 - Mean reward last 10 episode: 3.97 - Delta mean: 0.00\n"
      ]
     },
     "metadata": {},
     "output_type": "display_data"
    },
    {
     "data": {
      "text/html": [
       "<pre style=\"white-space:pre;overflow-x:auto;line-height:normal;font-family:Menlo,'DejaVu Sans Mono',consolas,'Courier New',monospace\">Num timesteps: 35000 - Ep: 942\n",
       "</pre>\n"
      ],
      "text/plain": [
       "Num timesteps: 35000 - Ep: 942\n"
      ]
     },
     "metadata": {},
     "output_type": "display_data"
    },
    {
     "data": {
      "text/html": [
       "<pre style=\"white-space:pre;overflow-x:auto;line-height:normal;font-family:Menlo,'DejaVu Sans Mono',consolas,'Courier New',monospace\">Best reward: 3.97 - Last reward per episode: 3.97 - Mean reward last 10 episode: 3.97 - Delta mean: 0.00\n",
       "</pre>\n"
      ],
      "text/plain": [
       "Best reward: 3.97 - Last reward per episode: 3.97 - Mean reward last 10 episode: 3.97 - Delta mean: 0.00\n"
      ]
     },
     "metadata": {},
     "output_type": "display_data"
    },
    {
     "data": {
      "text/html": [
       "<pre style=\"white-space:pre;overflow-x:auto;line-height:normal;font-family:Menlo,'DejaVu Sans Mono',consolas,'Courier New',monospace\">Num timesteps: 36000 - Ep: 969\n",
       "</pre>\n"
      ],
      "text/plain": [
       "Num timesteps: 36000 - Ep: 969\n"
      ]
     },
     "metadata": {},
     "output_type": "display_data"
    },
    {
     "data": {
      "text/html": [
       "<pre style=\"white-space:pre;overflow-x:auto;line-height:normal;font-family:Menlo,'DejaVu Sans Mono',consolas,'Courier New',monospace\">Best reward: 3.97 - Last reward per episode: 3.97 - Mean reward last 10 episode: 3.97 - Delta mean: 0.00\n",
       "</pre>\n"
      ],
      "text/plain": [
       "Best reward: 3.97 - Last reward per episode: 3.97 - Mean reward last 10 episode: 3.97 - Delta mean: 0.00\n"
      ]
     },
     "metadata": {},
     "output_type": "display_data"
    },
    {
     "data": {
      "text/html": [
       "<pre style=\"white-space:pre;overflow-x:auto;line-height:normal;font-family:Menlo,'DejaVu Sans Mono',consolas,'Courier New',monospace\">Num timesteps: 37000 - Ep: 996\n",
       "</pre>\n"
      ],
      "text/plain": [
       "Num timesteps: 37000 - Ep: 996\n"
      ]
     },
     "metadata": {},
     "output_type": "display_data"
    },
    {
     "data": {
      "text/html": [
       "<pre style=\"white-space:pre;overflow-x:auto;line-height:normal;font-family:Menlo,'DejaVu Sans Mono',consolas,'Courier New',monospace\">Best reward: 3.97 - Last reward per episode: 3.97 - Mean reward last 10 episode: 3.97 - Delta mean: 0.00\n",
       "</pre>\n"
      ],
      "text/plain": [
       "Best reward: 3.97 - Last reward per episode: 3.97 - Mean reward last 10 episode: 3.97 - Delta mean: 0.00\n"
      ]
     },
     "metadata": {},
     "output_type": "display_data"
    },
    {
     "data": {
      "text/html": [
       "<pre style=\"white-space:pre;overflow-x:auto;line-height:normal;font-family:Menlo,'DejaVu Sans Mono',consolas,'Courier New',monospace\">Num timesteps: 38000 - Ep: 1023\n",
       "</pre>\n"
      ],
      "text/plain": [
       "Num timesteps: 38000 - Ep: 1023\n"
      ]
     },
     "metadata": {},
     "output_type": "display_data"
    },
    {
     "data": {
      "text/html": [
       "<pre style=\"white-space:pre;overflow-x:auto;line-height:normal;font-family:Menlo,'DejaVu Sans Mono',consolas,'Courier New',monospace\">Best reward: 3.97 - Last reward per episode: 3.97 - Mean reward last 10 episode: 3.97 - Delta mean: 0.00\n",
       "</pre>\n"
      ],
      "text/plain": [
       "Best reward: 3.97 - Last reward per episode: 3.97 - Mean reward last 10 episode: 3.97 - Delta mean: 0.00\n"
      ]
     },
     "metadata": {},
     "output_type": "display_data"
    },
    {
     "data": {
      "text/html": [
       "<pre style=\"white-space:pre;overflow-x:auto;line-height:normal;font-family:Menlo,'DejaVu Sans Mono',consolas,'Courier New',monospace\">Num timesteps: 39000 - Ep: 1050\n",
       "</pre>\n"
      ],
      "text/plain": [
       "Num timesteps: 39000 - Ep: 1050\n"
      ]
     },
     "metadata": {},
     "output_type": "display_data"
    },
    {
     "data": {
      "text/html": [
       "<pre style=\"white-space:pre;overflow-x:auto;line-height:normal;font-family:Menlo,'DejaVu Sans Mono',consolas,'Courier New',monospace\">Best reward: 3.97 - Last reward per episode: 3.97 - Mean reward last 10 episode: 3.97 - Delta mean: 0.00\n",
       "</pre>\n"
      ],
      "text/plain": [
       "Best reward: 3.97 - Last reward per episode: 3.97 - Mean reward last 10 episode: 3.97 - Delta mean: 0.00\n"
      ]
     },
     "metadata": {},
     "output_type": "display_data"
    },
    {
     "data": {
      "text/html": [
       "<pre style=\"white-space:pre;overflow-x:auto;line-height:normal;font-family:Menlo,'DejaVu Sans Mono',consolas,'Courier New',monospace\">Num timesteps: 40000 - Ep: 1077\n",
       "</pre>\n"
      ],
      "text/plain": [
       "Num timesteps: 40000 - Ep: 1077\n"
      ]
     },
     "metadata": {},
     "output_type": "display_data"
    },
    {
     "data": {
      "text/html": [
       "<pre style=\"white-space:pre;overflow-x:auto;line-height:normal;font-family:Menlo,'DejaVu Sans Mono',consolas,'Courier New',monospace\">Best reward: 3.97 - Last reward per episode: 3.97 - Mean reward last 10 episode: 3.97 - Delta mean: 0.00\n",
       "</pre>\n"
      ],
      "text/plain": [
       "Best reward: 3.97 - Last reward per episode: 3.97 - Mean reward last 10 episode: 3.97 - Delta mean: 0.00\n"
      ]
     },
     "metadata": {},
     "output_type": "display_data"
    },
    {
     "data": {
      "text/html": [
       "<pre style=\"white-space:pre;overflow-x:auto;line-height:normal;font-family:Menlo,'DejaVu Sans Mono',consolas,'Courier New',monospace\">Num timesteps: 41000 - Ep: 1104\n",
       "</pre>\n"
      ],
      "text/plain": [
       "Num timesteps: 41000 - Ep: 1104\n"
      ]
     },
     "metadata": {},
     "output_type": "display_data"
    },
    {
     "data": {
      "text/html": [
       "<pre style=\"white-space:pre;overflow-x:auto;line-height:normal;font-family:Menlo,'DejaVu Sans Mono',consolas,'Courier New',monospace\">Best reward: 3.97 - Last reward per episode: 3.97 - Mean reward last 10 episode: 3.97 - Delta mean: 0.00\n",
       "</pre>\n"
      ],
      "text/plain": [
       "Best reward: 3.97 - Last reward per episode: 3.97 - Mean reward last 10 episode: 3.97 - Delta mean: 0.00\n"
      ]
     },
     "metadata": {},
     "output_type": "display_data"
    },
    {
     "data": {
      "text/html": [
       "<pre style=\"white-space:pre;overflow-x:auto;line-height:normal;font-family:Menlo,'DejaVu Sans Mono',consolas,'Courier New',monospace\">Num timesteps: 42000 - Ep: 1131\n",
       "</pre>\n"
      ],
      "text/plain": [
       "Num timesteps: 42000 - Ep: 1131\n"
      ]
     },
     "metadata": {},
     "output_type": "display_data"
    },
    {
     "data": {
      "text/html": [
       "<pre style=\"white-space:pre;overflow-x:auto;line-height:normal;font-family:Menlo,'DejaVu Sans Mono',consolas,'Courier New',monospace\">Best reward: 3.97 - Last reward per episode: 3.97 - Mean reward last 10 episode: 3.97 - Delta mean: 0.00\n",
       "</pre>\n"
      ],
      "text/plain": [
       "Best reward: 3.97 - Last reward per episode: 3.97 - Mean reward last 10 episode: 3.97 - Delta mean: 0.00\n"
      ]
     },
     "metadata": {},
     "output_type": "display_data"
    },
    {
     "data": {
      "text/html": [
       "<pre style=\"white-space:pre;overflow-x:auto;line-height:normal;font-family:Menlo,'DejaVu Sans Mono',consolas,'Courier New',monospace\">Num timesteps: 43000 - Ep: 1158\n",
       "</pre>\n"
      ],
      "text/plain": [
       "Num timesteps: 43000 - Ep: 1158\n"
      ]
     },
     "metadata": {},
     "output_type": "display_data"
    },
    {
     "data": {
      "text/html": [
       "<pre style=\"white-space:pre;overflow-x:auto;line-height:normal;font-family:Menlo,'DejaVu Sans Mono',consolas,'Courier New',monospace\">Best reward: 3.97 - Last reward per episode: 3.97 - Mean reward last 10 episode: 3.97 - Delta mean: 0.00\n",
       "</pre>\n"
      ],
      "text/plain": [
       "Best reward: 3.97 - Last reward per episode: 3.97 - Mean reward last 10 episode: 3.97 - Delta mean: 0.00\n"
      ]
     },
     "metadata": {},
     "output_type": "display_data"
    },
    {
     "data": {
      "text/html": [
       "<pre style=\"white-space:pre;overflow-x:auto;line-height:normal;font-family:Menlo,'DejaVu Sans Mono',consolas,'Courier New',monospace\">Num timesteps: 44000 - Ep: 1185\n",
       "</pre>\n"
      ],
      "text/plain": [
       "Num timesteps: 44000 - Ep: 1185\n"
      ]
     },
     "metadata": {},
     "output_type": "display_data"
    },
    {
     "data": {
      "text/html": [
       "<pre style=\"white-space:pre;overflow-x:auto;line-height:normal;font-family:Menlo,'DejaVu Sans Mono',consolas,'Courier New',monospace\">Best reward: 3.97 - Last reward per episode: 3.97 - Mean reward last 10 episode: 3.97 - Delta mean: 0.00\n",
       "</pre>\n"
      ],
      "text/plain": [
       "Best reward: 3.97 - Last reward per episode: 3.97 - Mean reward last 10 episode: 3.97 - Delta mean: 0.00\n"
      ]
     },
     "metadata": {},
     "output_type": "display_data"
    },
    {
     "ename": "KeyboardInterrupt",
     "evalue": "",
     "output_type": "error",
     "traceback": [
      "\u001b[1;31m---------------------------------------------------------------------------\u001b[0m",
      "\u001b[1;31mKeyboardInterrupt\u001b[0m                         Traceback (most recent call last)",
      "Cell \u001b[1;32mIn[13], line 42\u001b[0m\n\u001b[0;32m     38\u001b[0m callback \u001b[38;5;241m=\u001b[39m SaveOnBestTrainingRewardCallback(check_freq\u001b[38;5;241m=\u001b[39m\u001b[38;5;241m1000\u001b[39m, log_dir\u001b[38;5;241m=\u001b[39mlog_dir, file_name\u001b[38;5;241m=\u001b[39m\u001b[38;5;124m'\u001b[39m\u001b[38;5;124mDDPG_ip_\u001b[39m\u001b[38;5;132;01m{}\u001b[39;00m\u001b[38;5;124m_\u001b[39m\u001b[38;5;132;01m{}\u001b[39;00m\u001b[38;5;124m'\u001b[39m\u001b[38;5;241m.\u001b[39mformat(num_cpu, total_timesteps))\n\u001b[0;32m     41\u001b[0m model \u001b[38;5;241m=\u001b[39m DDPG(\u001b[38;5;124m\"\u001b[39m\u001b[38;5;124mMlpPolicy\u001b[39m\u001b[38;5;124m\"\u001b[39m, env, \u001b[38;5;241m1000\u001b[39m, verbose\u001b[38;5;241m=\u001b[39m\u001b[38;5;241m0\u001b[39m)\n\u001b[1;32m---> 42\u001b[0m \u001b[43mmodel\u001b[49m\u001b[38;5;241;43m.\u001b[39;49m\u001b[43mlearn\u001b[49m\u001b[43m(\u001b[49m\u001b[43mtotal_timesteps\u001b[49m\u001b[38;5;241;43m=\u001b[39;49m\u001b[43mtotal_timesteps\u001b[49m\u001b[43m,\u001b[49m\u001b[43m \u001b[49m\u001b[43mprogress_bar\u001b[49m\u001b[38;5;241;43m=\u001b[39;49m\u001b[38;5;28;43;01mTrue\u001b[39;49;00m\u001b[43m,\u001b[49m\u001b[43m \u001b[49m\u001b[43mcallback\u001b[49m\u001b[38;5;241;43m=\u001b[39;49m\u001b[43mcallback\u001b[49m\u001b[43m)\u001b[49m \u001b[38;5;66;03m#250000 callback=callback\u001b[39;00m\n\u001b[0;32m     44\u001b[0m \u001b[38;5;66;03m# vec_env = SubprocVecEnv([make_env(env_id, i, render_mode=\"human\") for i in range(num_cpu)])\u001b[39;00m\n\u001b[0;32m     45\u001b[0m \u001b[38;5;66;03m# env = gym.make(env_id, render_mode=\"human\")\u001b[39;00m\n\u001b[0;32m     46\u001b[0m \n\u001b[1;32m   (...)\u001b[0m\n\u001b[0;32m     53\u001b[0m \u001b[38;5;66;03m#         obs, rewards, done, info, _ = vec_env.step(action)\u001b[39;00m\n\u001b[0;32m     54\u001b[0m         \u001b[38;5;66;03m# vec_env.render()\u001b[39;00m\n",
      "File \u001b[1;32md:\\anacoda3\\envs\\RL-env\\lib\\site-packages\\stable_baselines3\\ddpg\\ddpg.py:123\u001b[0m, in \u001b[0;36mDDPG.learn\u001b[1;34m(self, total_timesteps, callback, log_interval, tb_log_name, reset_num_timesteps, progress_bar)\u001b[0m\n\u001b[0;32m    114\u001b[0m \u001b[38;5;28;01mdef\u001b[39;00m \u001b[38;5;21mlearn\u001b[39m(\n\u001b[0;32m    115\u001b[0m     \u001b[38;5;28mself\u001b[39m: SelfDDPG,\n\u001b[0;32m    116\u001b[0m     total_timesteps: \u001b[38;5;28mint\u001b[39m,\n\u001b[1;32m   (...)\u001b[0m\n\u001b[0;32m    121\u001b[0m     progress_bar: \u001b[38;5;28mbool\u001b[39m \u001b[38;5;241m=\u001b[39m \u001b[38;5;28;01mFalse\u001b[39;00m,\n\u001b[0;32m    122\u001b[0m ) \u001b[38;5;241m-\u001b[39m\u001b[38;5;241m>\u001b[39m SelfDDPG:\n\u001b[1;32m--> 123\u001b[0m     \u001b[38;5;28;01mreturn\u001b[39;00m \u001b[38;5;28;43msuper\u001b[39;49m\u001b[43m(\u001b[49m\u001b[43m)\u001b[49m\u001b[38;5;241;43m.\u001b[39;49m\u001b[43mlearn\u001b[49m\u001b[43m(\u001b[49m\n\u001b[0;32m    124\u001b[0m \u001b[43m        \u001b[49m\u001b[43mtotal_timesteps\u001b[49m\u001b[38;5;241;43m=\u001b[39;49m\u001b[43mtotal_timesteps\u001b[49m\u001b[43m,\u001b[49m\n\u001b[0;32m    125\u001b[0m \u001b[43m        \u001b[49m\u001b[43mcallback\u001b[49m\u001b[38;5;241;43m=\u001b[39;49m\u001b[43mcallback\u001b[49m\u001b[43m,\u001b[49m\n\u001b[0;32m    126\u001b[0m \u001b[43m        \u001b[49m\u001b[43mlog_interval\u001b[49m\u001b[38;5;241;43m=\u001b[39;49m\u001b[43mlog_interval\u001b[49m\u001b[43m,\u001b[49m\n\u001b[0;32m    127\u001b[0m \u001b[43m        \u001b[49m\u001b[43mtb_log_name\u001b[49m\u001b[38;5;241;43m=\u001b[39;49m\u001b[43mtb_log_name\u001b[49m\u001b[43m,\u001b[49m\n\u001b[0;32m    128\u001b[0m \u001b[43m        \u001b[49m\u001b[43mreset_num_timesteps\u001b[49m\u001b[38;5;241;43m=\u001b[39;49m\u001b[43mreset_num_timesteps\u001b[49m\u001b[43m,\u001b[49m\n\u001b[0;32m    129\u001b[0m \u001b[43m        \u001b[49m\u001b[43mprogress_bar\u001b[49m\u001b[38;5;241;43m=\u001b[39;49m\u001b[43mprogress_bar\u001b[49m\u001b[43m,\u001b[49m\n\u001b[0;32m    130\u001b[0m \u001b[43m    \u001b[49m\u001b[43m)\u001b[49m\n",
      "File \u001b[1;32md:\\anacoda3\\envs\\RL-env\\lib\\site-packages\\stable_baselines3\\td3\\td3.py:222\u001b[0m, in \u001b[0;36mTD3.learn\u001b[1;34m(self, total_timesteps, callback, log_interval, tb_log_name, reset_num_timesteps, progress_bar)\u001b[0m\n\u001b[0;32m    213\u001b[0m \u001b[38;5;28;01mdef\u001b[39;00m \u001b[38;5;21mlearn\u001b[39m(\n\u001b[0;32m    214\u001b[0m     \u001b[38;5;28mself\u001b[39m: SelfTD3,\n\u001b[0;32m    215\u001b[0m     total_timesteps: \u001b[38;5;28mint\u001b[39m,\n\u001b[1;32m   (...)\u001b[0m\n\u001b[0;32m    220\u001b[0m     progress_bar: \u001b[38;5;28mbool\u001b[39m \u001b[38;5;241m=\u001b[39m \u001b[38;5;28;01mFalse\u001b[39;00m,\n\u001b[0;32m    221\u001b[0m ) \u001b[38;5;241m-\u001b[39m\u001b[38;5;241m>\u001b[39m SelfTD3:\n\u001b[1;32m--> 222\u001b[0m     \u001b[38;5;28;01mreturn\u001b[39;00m \u001b[38;5;28;43msuper\u001b[39;49m\u001b[43m(\u001b[49m\u001b[43m)\u001b[49m\u001b[38;5;241;43m.\u001b[39;49m\u001b[43mlearn\u001b[49m\u001b[43m(\u001b[49m\n\u001b[0;32m    223\u001b[0m \u001b[43m        \u001b[49m\u001b[43mtotal_timesteps\u001b[49m\u001b[38;5;241;43m=\u001b[39;49m\u001b[43mtotal_timesteps\u001b[49m\u001b[43m,\u001b[49m\n\u001b[0;32m    224\u001b[0m \u001b[43m        \u001b[49m\u001b[43mcallback\u001b[49m\u001b[38;5;241;43m=\u001b[39;49m\u001b[43mcallback\u001b[49m\u001b[43m,\u001b[49m\n\u001b[0;32m    225\u001b[0m \u001b[43m        \u001b[49m\u001b[43mlog_interval\u001b[49m\u001b[38;5;241;43m=\u001b[39;49m\u001b[43mlog_interval\u001b[49m\u001b[43m,\u001b[49m\n\u001b[0;32m    226\u001b[0m \u001b[43m        \u001b[49m\u001b[43mtb_log_name\u001b[49m\u001b[38;5;241;43m=\u001b[39;49m\u001b[43mtb_log_name\u001b[49m\u001b[43m,\u001b[49m\n\u001b[0;32m    227\u001b[0m \u001b[43m        \u001b[49m\u001b[43mreset_num_timesteps\u001b[49m\u001b[38;5;241;43m=\u001b[39;49m\u001b[43mreset_num_timesteps\u001b[49m\u001b[43m,\u001b[49m\n\u001b[0;32m    228\u001b[0m \u001b[43m        \u001b[49m\u001b[43mprogress_bar\u001b[49m\u001b[38;5;241;43m=\u001b[39;49m\u001b[43mprogress_bar\u001b[49m\u001b[43m,\u001b[49m\n\u001b[0;32m    229\u001b[0m \u001b[43m    \u001b[49m\u001b[43m)\u001b[49m\n",
      "File \u001b[1;32md:\\anacoda3\\envs\\RL-env\\lib\\site-packages\\stable_baselines3\\common\\off_policy_algorithm.py:347\u001b[0m, in \u001b[0;36mOffPolicyAlgorithm.learn\u001b[1;34m(self, total_timesteps, callback, log_interval, tb_log_name, reset_num_timesteps, progress_bar)\u001b[0m\n\u001b[0;32m    345\u001b[0m         \u001b[38;5;66;03m# Special case when the user passes `gradient_steps=0`\u001b[39;00m\n\u001b[0;32m    346\u001b[0m         \u001b[38;5;28;01mif\u001b[39;00m gradient_steps \u001b[38;5;241m>\u001b[39m \u001b[38;5;241m0\u001b[39m:\n\u001b[1;32m--> 347\u001b[0m             \u001b[38;5;28;43mself\u001b[39;49m\u001b[38;5;241;43m.\u001b[39;49m\u001b[43mtrain\u001b[49m\u001b[43m(\u001b[49m\u001b[43mbatch_size\u001b[49m\u001b[38;5;241;43m=\u001b[39;49m\u001b[38;5;28;43mself\u001b[39;49m\u001b[38;5;241;43m.\u001b[39;49m\u001b[43mbatch_size\u001b[49m\u001b[43m,\u001b[49m\u001b[43m \u001b[49m\u001b[43mgradient_steps\u001b[49m\u001b[38;5;241;43m=\u001b[39;49m\u001b[43mgradient_steps\u001b[49m\u001b[43m)\u001b[49m\n\u001b[0;32m    349\u001b[0m callback\u001b[38;5;241m.\u001b[39mon_training_end()\n\u001b[0;32m    351\u001b[0m \u001b[38;5;28;01mreturn\u001b[39;00m \u001b[38;5;28mself\u001b[39m\n",
      "File \u001b[1;32md:\\anacoda3\\envs\\RL-env\\lib\\site-packages\\stable_baselines3\\td3\\td3.py:194\u001b[0m, in \u001b[0;36mTD3.train\u001b[1;34m(self, gradient_steps, batch_size)\u001b[0m\n\u001b[0;32m    191\u001b[0m \u001b[38;5;66;03m# Delayed policy updates\u001b[39;00m\n\u001b[0;32m    192\u001b[0m \u001b[38;5;28;01mif\u001b[39;00m \u001b[38;5;28mself\u001b[39m\u001b[38;5;241m.\u001b[39m_n_updates \u001b[38;5;241m%\u001b[39m \u001b[38;5;28mself\u001b[39m\u001b[38;5;241m.\u001b[39mpolicy_delay \u001b[38;5;241m==\u001b[39m \u001b[38;5;241m0\u001b[39m:\n\u001b[0;32m    193\u001b[0m     \u001b[38;5;66;03m# Compute actor loss\u001b[39;00m\n\u001b[1;32m--> 194\u001b[0m     actor_loss \u001b[38;5;241m=\u001b[39m \u001b[38;5;241m-\u001b[39m\u001b[38;5;28;43mself\u001b[39;49m\u001b[38;5;241;43m.\u001b[39;49m\u001b[43mcritic\u001b[49m\u001b[38;5;241;43m.\u001b[39;49m\u001b[43mq1_forward\u001b[49m\u001b[43m(\u001b[49m\u001b[43mreplay_data\u001b[49m\u001b[38;5;241;43m.\u001b[39;49m\u001b[43mobservations\u001b[49m\u001b[43m,\u001b[49m\u001b[43m \u001b[49m\u001b[38;5;28;43mself\u001b[39;49m\u001b[38;5;241;43m.\u001b[39;49m\u001b[43mactor\u001b[49m\u001b[43m(\u001b[49m\u001b[43mreplay_data\u001b[49m\u001b[38;5;241;43m.\u001b[39;49m\u001b[43mobservations\u001b[49m\u001b[43m)\u001b[49m\u001b[43m)\u001b[49m\u001b[38;5;241m.\u001b[39mmean()\n\u001b[0;32m    195\u001b[0m     actor_losses\u001b[38;5;241m.\u001b[39mappend(actor_loss\u001b[38;5;241m.\u001b[39mitem())\n\u001b[0;32m    197\u001b[0m     \u001b[38;5;66;03m# Optimize the actor\u001b[39;00m\n",
      "File \u001b[1;32md:\\anacoda3\\envs\\RL-env\\lib\\site-packages\\stable_baselines3\\common\\policies.py:985\u001b[0m, in \u001b[0;36mContinuousCritic.q1_forward\u001b[1;34m(self, obs, actions)\u001b[0m\n\u001b[0;32m    983\u001b[0m \u001b[38;5;28;01mwith\u001b[39;00m th\u001b[38;5;241m.\u001b[39mno_grad():\n\u001b[0;32m    984\u001b[0m     features \u001b[38;5;241m=\u001b[39m \u001b[38;5;28mself\u001b[39m\u001b[38;5;241m.\u001b[39mextract_features(obs, \u001b[38;5;28mself\u001b[39m\u001b[38;5;241m.\u001b[39mfeatures_extractor)\n\u001b[1;32m--> 985\u001b[0m \u001b[38;5;28;01mreturn\u001b[39;00m \u001b[38;5;28;43mself\u001b[39;49m\u001b[38;5;241;43m.\u001b[39;49m\u001b[43mq_networks\u001b[49m\u001b[43m[\u001b[49m\u001b[38;5;241;43m0\u001b[39;49m\u001b[43m]\u001b[49m\u001b[43m(\u001b[49m\u001b[43mth\u001b[49m\u001b[38;5;241;43m.\u001b[39;49m\u001b[43mcat\u001b[49m\u001b[43m(\u001b[49m\u001b[43m[\u001b[49m\u001b[43mfeatures\u001b[49m\u001b[43m,\u001b[49m\u001b[43m \u001b[49m\u001b[43mactions\u001b[49m\u001b[43m]\u001b[49m\u001b[43m,\u001b[49m\u001b[43m \u001b[49m\u001b[43mdim\u001b[49m\u001b[38;5;241;43m=\u001b[39;49m\u001b[38;5;241;43m1\u001b[39;49m\u001b[43m)\u001b[49m\u001b[43m)\u001b[49m\n",
      "File \u001b[1;32md:\\anacoda3\\envs\\RL-env\\lib\\site-packages\\torch\\nn\\modules\\module.py:1518\u001b[0m, in \u001b[0;36mModule._wrapped_call_impl\u001b[1;34m(self, *args, **kwargs)\u001b[0m\n\u001b[0;32m   1516\u001b[0m     \u001b[38;5;28;01mreturn\u001b[39;00m \u001b[38;5;28mself\u001b[39m\u001b[38;5;241m.\u001b[39m_compiled_call_impl(\u001b[38;5;241m*\u001b[39margs, \u001b[38;5;241m*\u001b[39m\u001b[38;5;241m*\u001b[39mkwargs)  \u001b[38;5;66;03m# type: ignore[misc]\u001b[39;00m\n\u001b[0;32m   1517\u001b[0m \u001b[38;5;28;01melse\u001b[39;00m:\n\u001b[1;32m-> 1518\u001b[0m     \u001b[38;5;28;01mreturn\u001b[39;00m \u001b[38;5;28;43mself\u001b[39;49m\u001b[38;5;241;43m.\u001b[39;49m\u001b[43m_call_impl\u001b[49m\u001b[43m(\u001b[49m\u001b[38;5;241;43m*\u001b[39;49m\u001b[43margs\u001b[49m\u001b[43m,\u001b[49m\u001b[43m \u001b[49m\u001b[38;5;241;43m*\u001b[39;49m\u001b[38;5;241;43m*\u001b[39;49m\u001b[43mkwargs\u001b[49m\u001b[43m)\u001b[49m\n",
      "File \u001b[1;32md:\\anacoda3\\envs\\RL-env\\lib\\site-packages\\torch\\nn\\modules\\module.py:1527\u001b[0m, in \u001b[0;36mModule._call_impl\u001b[1;34m(self, *args, **kwargs)\u001b[0m\n\u001b[0;32m   1522\u001b[0m \u001b[38;5;66;03m# If we don't have any hooks, we want to skip the rest of the logic in\u001b[39;00m\n\u001b[0;32m   1523\u001b[0m \u001b[38;5;66;03m# this function, and just call forward.\u001b[39;00m\n\u001b[0;32m   1524\u001b[0m \u001b[38;5;28;01mif\u001b[39;00m \u001b[38;5;129;01mnot\u001b[39;00m (\u001b[38;5;28mself\u001b[39m\u001b[38;5;241m.\u001b[39m_backward_hooks \u001b[38;5;129;01mor\u001b[39;00m \u001b[38;5;28mself\u001b[39m\u001b[38;5;241m.\u001b[39m_backward_pre_hooks \u001b[38;5;129;01mor\u001b[39;00m \u001b[38;5;28mself\u001b[39m\u001b[38;5;241m.\u001b[39m_forward_hooks \u001b[38;5;129;01mor\u001b[39;00m \u001b[38;5;28mself\u001b[39m\u001b[38;5;241m.\u001b[39m_forward_pre_hooks\n\u001b[0;32m   1525\u001b[0m         \u001b[38;5;129;01mor\u001b[39;00m _global_backward_pre_hooks \u001b[38;5;129;01mor\u001b[39;00m _global_backward_hooks\n\u001b[0;32m   1526\u001b[0m         \u001b[38;5;129;01mor\u001b[39;00m _global_forward_hooks \u001b[38;5;129;01mor\u001b[39;00m _global_forward_pre_hooks):\n\u001b[1;32m-> 1527\u001b[0m     \u001b[38;5;28;01mreturn\u001b[39;00m \u001b[43mforward_call\u001b[49m\u001b[43m(\u001b[49m\u001b[38;5;241;43m*\u001b[39;49m\u001b[43margs\u001b[49m\u001b[43m,\u001b[49m\u001b[43m \u001b[49m\u001b[38;5;241;43m*\u001b[39;49m\u001b[38;5;241;43m*\u001b[39;49m\u001b[43mkwargs\u001b[49m\u001b[43m)\u001b[49m\n\u001b[0;32m   1529\u001b[0m \u001b[38;5;28;01mtry\u001b[39;00m:\n\u001b[0;32m   1530\u001b[0m     result \u001b[38;5;241m=\u001b[39m \u001b[38;5;28;01mNone\u001b[39;00m\n",
      "File \u001b[1;32md:\\anacoda3\\envs\\RL-env\\lib\\site-packages\\torch\\nn\\modules\\container.py:215\u001b[0m, in \u001b[0;36mSequential.forward\u001b[1;34m(self, input)\u001b[0m\n\u001b[0;32m    213\u001b[0m \u001b[38;5;28;01mdef\u001b[39;00m \u001b[38;5;21mforward\u001b[39m(\u001b[38;5;28mself\u001b[39m, \u001b[38;5;28minput\u001b[39m):\n\u001b[0;32m    214\u001b[0m     \u001b[38;5;28;01mfor\u001b[39;00m module \u001b[38;5;129;01min\u001b[39;00m \u001b[38;5;28mself\u001b[39m:\n\u001b[1;32m--> 215\u001b[0m         \u001b[38;5;28minput\u001b[39m \u001b[38;5;241m=\u001b[39m \u001b[43mmodule\u001b[49m\u001b[43m(\u001b[49m\u001b[38;5;28;43minput\u001b[39;49m\u001b[43m)\u001b[49m\n\u001b[0;32m    216\u001b[0m     \u001b[38;5;28;01mreturn\u001b[39;00m \u001b[38;5;28minput\u001b[39m\n",
      "File \u001b[1;32md:\\anacoda3\\envs\\RL-env\\lib\\site-packages\\torch\\nn\\modules\\module.py:1518\u001b[0m, in \u001b[0;36mModule._wrapped_call_impl\u001b[1;34m(self, *args, **kwargs)\u001b[0m\n\u001b[0;32m   1516\u001b[0m     \u001b[38;5;28;01mreturn\u001b[39;00m \u001b[38;5;28mself\u001b[39m\u001b[38;5;241m.\u001b[39m_compiled_call_impl(\u001b[38;5;241m*\u001b[39margs, \u001b[38;5;241m*\u001b[39m\u001b[38;5;241m*\u001b[39mkwargs)  \u001b[38;5;66;03m# type: ignore[misc]\u001b[39;00m\n\u001b[0;32m   1517\u001b[0m \u001b[38;5;28;01melse\u001b[39;00m:\n\u001b[1;32m-> 1518\u001b[0m     \u001b[38;5;28;01mreturn\u001b[39;00m \u001b[38;5;28;43mself\u001b[39;49m\u001b[38;5;241;43m.\u001b[39;49m\u001b[43m_call_impl\u001b[49m\u001b[43m(\u001b[49m\u001b[38;5;241;43m*\u001b[39;49m\u001b[43margs\u001b[49m\u001b[43m,\u001b[49m\u001b[43m \u001b[49m\u001b[38;5;241;43m*\u001b[39;49m\u001b[38;5;241;43m*\u001b[39;49m\u001b[43mkwargs\u001b[49m\u001b[43m)\u001b[49m\n",
      "File \u001b[1;32md:\\anacoda3\\envs\\RL-env\\lib\\site-packages\\torch\\nn\\modules\\module.py:1527\u001b[0m, in \u001b[0;36mModule._call_impl\u001b[1;34m(self, *args, **kwargs)\u001b[0m\n\u001b[0;32m   1522\u001b[0m \u001b[38;5;66;03m# If we don't have any hooks, we want to skip the rest of the logic in\u001b[39;00m\n\u001b[0;32m   1523\u001b[0m \u001b[38;5;66;03m# this function, and just call forward.\u001b[39;00m\n\u001b[0;32m   1524\u001b[0m \u001b[38;5;28;01mif\u001b[39;00m \u001b[38;5;129;01mnot\u001b[39;00m (\u001b[38;5;28mself\u001b[39m\u001b[38;5;241m.\u001b[39m_backward_hooks \u001b[38;5;129;01mor\u001b[39;00m \u001b[38;5;28mself\u001b[39m\u001b[38;5;241m.\u001b[39m_backward_pre_hooks \u001b[38;5;129;01mor\u001b[39;00m \u001b[38;5;28mself\u001b[39m\u001b[38;5;241m.\u001b[39m_forward_hooks \u001b[38;5;129;01mor\u001b[39;00m \u001b[38;5;28mself\u001b[39m\u001b[38;5;241m.\u001b[39m_forward_pre_hooks\n\u001b[0;32m   1525\u001b[0m         \u001b[38;5;129;01mor\u001b[39;00m _global_backward_pre_hooks \u001b[38;5;129;01mor\u001b[39;00m _global_backward_hooks\n\u001b[0;32m   1526\u001b[0m         \u001b[38;5;129;01mor\u001b[39;00m _global_forward_hooks \u001b[38;5;129;01mor\u001b[39;00m _global_forward_pre_hooks):\n\u001b[1;32m-> 1527\u001b[0m     \u001b[38;5;28;01mreturn\u001b[39;00m \u001b[43mforward_call\u001b[49m\u001b[43m(\u001b[49m\u001b[38;5;241;43m*\u001b[39;49m\u001b[43margs\u001b[49m\u001b[43m,\u001b[49m\u001b[43m \u001b[49m\u001b[38;5;241;43m*\u001b[39;49m\u001b[38;5;241;43m*\u001b[39;49m\u001b[43mkwargs\u001b[49m\u001b[43m)\u001b[49m\n\u001b[0;32m   1529\u001b[0m \u001b[38;5;28;01mtry\u001b[39;00m:\n\u001b[0;32m   1530\u001b[0m     result \u001b[38;5;241m=\u001b[39m \u001b[38;5;28;01mNone\u001b[39;00m\n",
      "File \u001b[1;32md:\\anacoda3\\envs\\RL-env\\lib\\site-packages\\torch\\nn\\modules\\linear.py:114\u001b[0m, in \u001b[0;36mLinear.forward\u001b[1;34m(self, input)\u001b[0m\n\u001b[0;32m    113\u001b[0m \u001b[38;5;28;01mdef\u001b[39;00m \u001b[38;5;21mforward\u001b[39m(\u001b[38;5;28mself\u001b[39m, \u001b[38;5;28minput\u001b[39m: Tensor) \u001b[38;5;241m-\u001b[39m\u001b[38;5;241m>\u001b[39m Tensor:\n\u001b[1;32m--> 114\u001b[0m     \u001b[38;5;28;01mreturn\u001b[39;00m \u001b[43mF\u001b[49m\u001b[38;5;241;43m.\u001b[39;49m\u001b[43mlinear\u001b[49m\u001b[43m(\u001b[49m\u001b[38;5;28;43minput\u001b[39;49m\u001b[43m,\u001b[49m\u001b[43m \u001b[49m\u001b[38;5;28;43mself\u001b[39;49m\u001b[38;5;241;43m.\u001b[39;49m\u001b[43mweight\u001b[49m\u001b[43m,\u001b[49m\u001b[43m \u001b[49m\u001b[38;5;28;43mself\u001b[39;49m\u001b[38;5;241;43m.\u001b[39;49m\u001b[43mbias\u001b[49m\u001b[43m)\u001b[49m\n",
      "\u001b[1;31mKeyboardInterrupt\u001b[0m: "
     ]
    }
   ],
   "source": [
    "def make_env(env_id: str, rank: int, seed: int = 0, render_mode = None, action_type = \"Box\", observation_type = \"Continous\", reward_function = \"Absolute\", task = \"InvertedCartPole\"):\n",
    "    \"\"\"\n",
    "    Utility function for multiprocessed env.\n",
    "\n",
    "    :param env_id: the environment ID\n",
    "    :param num_env: the number of environments you wish to have in subprocesses\n",
    "    :param seed: the inital seed for RNG\n",
    "    :param rank: index of the subprocess\n",
    "    \"\"\"\n",
    "    def _init():\n",
    "        env = gym.make(env_id, render_mode=render_mode, action_type = action_type, observation_type = observation_type, reward_function = reward_function, task = task) #gym.make(env_id, render_mode=\"human\")\n",
    "        env.reset(seed=seed + rank)\n",
    "        return env\n",
    "    set_random_seed(seed)\n",
    "    return _init\n",
    "\n",
    "if __name__ == \"__main__\":\n",
    "    # log_dir = \"tmpa/\"\n",
    "    # os.makedirs(log_dir, exist_ok=True)\n",
    "\n",
    "    env_id = \"CartPole-v1\"\n",
    "    num_cpu = 1  # Number of processes to use\n",
    "    total_timesteps=100_000 #\n",
    "\n",
    "    log_dir = os.path.join('Training', 'Save Models')\n",
    "    os.makedirs(log_dir, exist_ok=True)\n",
    "\n",
    "    # Create the vectorized environment\n",
    "    # vec_env = SubprocVecEnv([make_env(env_id, i) for i in range(num_cpu)])\n",
    "    # vec_env = VecMonitor(vec_env, log_dir)\n",
    "    env = gym.make(env_id, action_type = \"Box\", observation_type = \"Continous\", reward_function = \"Absolute\", task = \"InvertedCartPole\")\n",
    "    env = Monitor(env, log_dir)\n",
    "\n",
    "    # Stable Baselines provides you with make_vec_env() helper\n",
    "    # which does exactly the previous steps for you.\n",
    "    # You can choose between `DummyVecEnv` (usually faster) and `SubprocVecEnv`\n",
    "    # env = make_vec_env(env_id, n_envs=num_cpu, seed=0, vec_env_cls=SubprocVecEnv)\n",
    "    callback = SaveOnBestTrainingRewardCallback(check_freq=1000, log_dir=log_dir, file_name='DDPG_ip_{}_{}'.format(num_cpu, total_timesteps))\n",
    "\n",
    "\n",
    "    model = DDPG(\"MlpPolicy\", env, verbose=0)\n",
    "    model.learn(total_timesteps=total_timesteps, progress_bar=True, callback=callback) #250000 callback=callback\n",
    "\n",
    "    # vec_env = SubprocVecEnv([make_env(env_id, i, render_mode=\"human\") for i in range(num_cpu)])\n",
    "    # env = gym.make(env_id, render_mode=\"human\")\n",
    "    \n",
    "    # for _ in range(1000):\n",
    "    #     obs= vec_env.reset()\n",
    "    #     done = False\n",
    "    #     while not done:\n",
    "    #         action, _states = model.predict(obs)\n",
    "    #         print(action)\n",
    "    #         obs, rewards, done, info, _ = vec_env.step(action)\n",
    "            # vec_env.render()"
   ]
  },
  {
   "cell_type": "code",
   "execution_count": 6,
   "metadata": {},
   "outputs": [
    {
     "data": {
      "image/png": "[encoded data removed]",
      "text/plain": [
       "<Figure size 800x200 with 1 Axes>"
      ]
     },
     "metadata": {},
     "output_type": "display_data"
    },
    {
     "data": {
      "image/png": "[encoded data removed]",
      "text/plain": [
       "<Figure size 800x200 with 1 Axes>"
      ]
     },
     "metadata": {},
     "output_type": "display_data"
    }
   ],
   "source": [
    "plot_results([log_dir], total_timesteps, results_plotter.X_TIMESTEPS, \"Inverted-CartPole\")\n",
    "plt.show()\n",
    "plot_results([log_dir], total_timesteps, results_plotter.X_EPISODES, \"Inverted-CartPole\")\n",
    "plt.show()"
   ]
  },
  {
   "cell_type": "code",
   "execution_count": 6,
   "metadata": {},
   "outputs": [],
   "source": [
    "# save the model\n",
    "PPO_Path = os.path.join('Training', 'Save Models', 'PPO_ip_3_500k')\n",
    "model.save(PPO_Path)\n",
    "\n",
    "# Save the policy independently from the model\n",
    "# Note: if you don't save the complete model with `model.save()`\n",
    "# you cannot continue training afterward\n",
    "policy = model.policy\n",
    "PPO_policy_Path = os.path.join('Training', 'Save Policy', 'PPO_ip_3_500k')\n",
    "policy.save(PPO_policy_Path)"
   ]
  },
  {
   "cell_type": "code",
   "execution_count": 11,
   "metadata": {},
   "outputs": [
    {
     "name": "stdout",
     "output_type": "stream",
     "text": [
      "The loaded_model has 0 transitions in its buffer\n"
     ]
    }
   ],
   "source": [
    "# the saved model does not contain the replay buffer\n",
    "DDPG_Path = os.path.join('Training', 'Save Models', 'Best Models', 'DDPG_ip_1_50000.zip')\n",
    "loaded_model = DDPG.load(DDPG_Path)\n",
    "print(f\"The loaded_model has {loaded_model.replay_buffer.size()} transitions in its buffer\")"
   ]
  },
  {
   "cell_type": "code",
   "execution_count": 22,
   "metadata": {},
   "outputs": [
    {
     "name": "stdout",
     "output_type": "stream",
     "text": [
      "mean_reward=418.60 +/- 2.553283775341697e-05\n"
     ]
    }
   ],
   "source": [
    "from stable_baselines3.common.evaluation import evaluate_policy\n",
    "# Retrieve the environment\n",
    "env = model.get_env()\n",
    "\n",
    "# Load the policy independently from the model\n",
    "PPO_policy_Path = os.path.join('Training', 'Save Policy', 'PPO_ip_3_250k')\n",
    "saved_policy = PPO.load(PPO_policy_Path)\n",
    "\n",
    "# Evaluate the loaded policy\n",
    "mean_reward, std_reward = evaluate_policy(saved_policy, env, n_eval_episodes=10, deterministic=True)\n",
    "\n",
    "print(f\"mean_reward={mean_reward:.2f} +/- {std_reward}\")"
   ]
  },
  {
   "cell_type": "code",
   "execution_count": 12,
   "metadata": {},
   "outputs": [],
   "source": [
    "environment_name = 'CartPole-v1'\n",
    "env = gym.make(environment_name, render_mode=\"human\", action_type = \"Box\", observation_type = \"Continous\", reward_function = \"Absolute\", task = \"InvertedCartPole\")\n",
    "\n",
    "episodes = 5\n",
    "for episodes in range(1, episodes+1):\n",
    "    obs, _ = env.reset()\n",
    "    done = False\n",
    "    score = 0\n",
    "\n",
    "    while not done:\n",
    "        env.render()\n",
    "        action = loaded_model.predict(obs)\n",
    "        obs, reward, done, truncated, info = env.step(action[0])\n",
    "        score += reward\n",
    "    # print('Episode:{} Score:{}'.format(episodes, score))\n",
    "env.close()"
   ]
  },
  {
   "cell_type": "code",
   "execution_count": 78,
   "metadata": {},
   "outputs": [
    {
     "name": "stdout",
     "output_type": "stream",
     "text": [
      "obs:  [[0.        0.        3.1415927 0.       ]]\n",
      "action:  [[-0.74703765]]\n",
      "obs:  [[ 0.         -0.14576344  3.1415927  -0.21864517]]\n",
      "action:  [[-1.]]\n",
      "obs:  [[-2.9152688e-03 -3.4088540e-01  3.1372197e+00 -5.1132810e-01]]\n",
      "action:  [[-1.]]\n",
      "obs:  [[-0.00973298 -0.53594327  3.1269932  -0.80262643]]\n",
      "action:  [[-1.]]\n",
      "obs:  [[-0.02045184 -0.7308436   3.1109407  -1.0906538 ]]\n",
      "action:  [[-1.]]\n",
      "obs:  [[-0.03506871 -0.9254773   3.0891275  -1.373457  ]]\n",
      "action:  [[-1.]]\n",
      "obs:  [[-0.05357826 -1.1197126   3.0616584  -1.6489913 ]]\n",
      "action:  [[-1.]]\n",
      "obs:  [[-0.07597251 -1.3133909   3.0286787  -1.9151055 ]]\n",
      "action:  [[-1.]]\n",
      "obs:  [[-0.10224033 -1.5063249   2.9903765  -2.1695373 ]]\n",
      "action:  [[-1.]]\n",
      "obs:  [[-0.13236682 -1.6983005   2.9469857  -2.4099264 ]]\n",
      "action:  [[-1.]]\n",
      "obs:  [[-0.16633284 -1.8890837   2.8987873  -2.6338453 ]]\n",
      "action:  [[-1.]]\n",
      "obs:  [[-0.20411451 -2.0784307   2.8461103  -2.838849  ]]\n",
      "action:  [[-1.]]\n",
      "obs:  [[-0.24568312 -2.2661033   2.7893333  -3.0225449 ]]\n",
      "action:  [[-1.]]\n",
      "obs:  [[-0.2910052 -2.4518876  2.7288826 -3.1826737]]\n",
      "action:  [[-0.8192284]]\n",
      "obs:  [[-0.34004295 -2.6007516   2.665229   -3.2692997 ]]\n",
      "action:  [[-1.]]\n",
      "obs:  [[-0.39205799 -2.7824523   2.599843   -3.3766932 ]]\n",
      "action:  [[-0.2700026]]\n",
      "obs:  [[-0.44770703 -2.8222888   2.532309   -3.2762947 ]]\n",
      "action:  [[-0.14551035]]\n",
      "obs:  [[-0.50415283 -2.837591    2.4667833  -3.126867  ]]\n",
      "action:  [[0.5438909]]\n",
      "obs:  [[-0.5609046 -2.7218168  2.4042459 -2.807592 ]]\n",
      "action:  [[0.21988612]]\n",
      "obs:  [[-0.61534095 -2.668372    2.348094   -2.5505836 ]]\n",
      "action:  [[0.22871035]]\n",
      "obs:  [[-0.6687084 -2.6140704  2.2970824 -2.2838902]]\n",
      "action:  [[1.]]\n",
      "obs:  [[-0.7209898 -2.4161193  2.2514045 -1.866894 ]]\n",
      "action:  [[1.]]\n",
      "obs:  [[-0.7693122 -2.2200084  2.2140667 -1.4532913]]\n",
      "action:  [[1.]]\n",
      "obs:  [[-0.81371236 -2.025468    2.185001   -1.0430182 ]]\n",
      "action:  [[1.]]\n",
      "obs:  [[-0.8542217  -1.8321704   2.1641405  -0.63565326]]\n",
      "action:  [[1.]]\n",
      "obs:  [[-0.89086515 -1.6397512   2.1514275  -0.23052205]]\n",
      "action:  [[1.]]\n",
      "obs:  [[-0.92366016 -1.4478257   2.146817    0.17321783]]\n",
      "action:  [[1.]]\n",
      "obs:  [[-0.9526167  -1.2559997   2.1502814   0.57650584]]\n",
      "action:  [[1.]]\n",
      "obs:  [[-0.97773665 -1.0638776   2.1618114   0.98031586]]\n",
      "action:  [[1.]]\n",
      "obs:  [[-0.9990142  -0.87106925  2.1814177   1.3855968 ]]\n",
      "action:  [[1.]]\n",
      "obs:  [[-1.0164356  -0.67719764  2.2091298   1.7932107 ]]\n",
      "action:  [[1.]]\n",
      "obs:  [[-1.0299796  -0.48190948  2.244994    2.2038653 ]]\n",
      "action:  [[1.]]\n",
      "obs:  [[-1.0396178  -0.28488955  2.2890713   2.618031  ]]\n",
      "action:  [[1.]]\n",
      "obs:  [[-1.0453155  -0.08588178  2.3414319   3.0358427 ]]\n",
      "action:  [[1.]]\n",
      "obs:  [[-1.0470332   0.11528201  2.4021487   3.4569716 ]]\n",
      "action:  [[0.9842164]]\n",
      "obs:  [[-1.0447276   0.31566337  2.4712882   3.8771672 ]]\n",
      "action:  [[1.]]\n",
      "obs:  [[-1.0384142   0.52107716  2.5488315   4.3012605 ]]\n",
      "action:  [[1.]]\n",
      "obs:  [[-1.0279927  0.7281979  2.6348567  4.723184 ]]\n",
      "action:  [[1.]]\n",
      "obs:  [[-1.0134288   0.93638027  2.7293203   5.1389008 ]]\n",
      "action:  [[1.]]\n",
      "obs:  [[-0.99470115  1.1446441   2.8320985   5.5429254 ]]\n",
      "action:  [[1.]]\n",
      "obs:  [[-0.97180825  1.3516511   2.942957    5.9282284 ]]\n",
      "action:  [[1.]]\n",
      "obs:  [[-0.9447752  1.5557318  3.0615215  6.286346 ]]\n",
      "action:  [[1.]]\n",
      "obs:  [[-0.9136606  1.7549877 -3.095937   6.6077876]]\n",
      "action:  [[1.]]\n",
      "obs:  [[-0.87856084  1.9474822  -2.963781    6.8828106 ]]\n",
      "action:  [[1.]]\n",
      "obs:  [[-0.83961123  2.1315114  -2.826125    7.1025004 ]]\n",
      "action:  [[0.7761798]]\n",
      "obs:  [[-0.796981   2.2625387 -2.6840749  7.198126 ]]\n",
      "action:  [[0.793576]]\n",
      "obs:  [[-0.7517302  2.3875854 -2.5401125  7.236538 ]]\n",
      "action:  [[0.40165377]]\n",
      "obs:  [[-0.7039785  2.4293766 -2.3953817  7.1218596]]\n",
      "action:  [[-0.3319534]]\n",
      "obs:  [[-0.655391   2.3273058 -2.2529445  6.809853 ]]\n",
      "action:  [[0.33197537]]\n",
      "obs:  [[-0.6088449  2.3489885 -2.1167474  6.60215  ]]\n",
      "action:  [[-0.8641516]]\n",
      "obs:  [[-0.5618651  2.148387  -1.9847044  6.1946497]]\n",
      "action:  [[-0.71341306]]\n",
      "obs:  [[-0.51889735  1.9799577  -1.8608115   5.823865  ]]\n",
      "action:  [[-0.94719017]]\n",
      "obs:  [[-0.4792982  1.7733811 -1.7443341  5.4535317]]\n",
      "action:  [[-0.10543597]]\n",
      "obs:  [[-0.44383058  1.725209   -1.6352634   5.151471  ]]\n",
      "action:  [[0.40762728]]\n",
      "obs:  [[-0.4093264  1.7744029 -1.5322341  4.8628354]]\n",
      "action:  [[-0.737056]]\n",
      "obs:  [[-0.37383834  1.6194104  -1.4349774   4.578017  ]]\n",
      "action:  [[-1.]]\n",
      "obs:  [[-0.34145012  1.4202585  -1.343417    4.3271728 ]]\n",
      "action:  [[-1.]]\n",
      "obs:  [[-0.31304497  1.2241117  -1.2568736   4.1070647 ]]\n",
      "action:  [[-0.7283947]]\n",
      "obs:  [[-0.28856272  1.0800797  -1.1747322   3.8941467 ]]\n",
      "action:  [[0.08605844]]\n",
      "obs:  [[-0.26696113  1.0878433  -1.0968493   3.6184134 ]]\n",
      "action:  [[-0.4374367]]\n",
      "obs:  [[-0.24520427  1.0019253  -1.024481    3.4156396 ]]\n",
      "action:  [[-0.508086]]\n",
      "obs:  [[-0.22516575  0.9046255  -0.95616823  3.2402601 ]]\n",
      "action:  [[-0.38029104]]\n",
      "obs:  [[-0.20707324  0.83234066 -0.8913631   3.0625906 ]]\n",
      "action:  [[0.43337196]]\n",
      "obs:  [[-0.19042644  0.9132117  -0.83011127  2.7576563 ]]\n",
      "action:  [[0.843439]]\n",
      "obs:  [[-0.1721622   1.0730807  -0.77495813  2.3788645 ]]\n",
      "action:  [[-0.5594763]]\n",
      "obs:  [[-0.15070058  0.9708817  -0.7273808   2.282681  ]]\n",
      "action:  [[-0.39724633]]\n",
      "obs:  [[-0.13128296  0.8994242  -0.68172723  2.1672552 ]]\n",
      "action:  [[-0.7414445]]\n",
      "obs:  [[-0.11329447  0.76284975 -0.6383821   2.1410675 ]]\n",
      "action:  [[0.49238357]]\n",
      "obs:  [[-0.09803747  0.8605831  -0.5955607   1.8481451 ]]\n",
      "action:  [[0.48228675]]\n",
      "obs:  [[-0.08082581  0.9572527  -0.55859786  1.5631795 ]]\n",
      "action:  [[0.24841197]]\n",
      "obs:  [[-0.06168076  1.0098249  -0.5273343   1.3404884 ]]\n",
      "action:  [[-0.17901246]]\n",
      "obs:  [[-0.04148426  0.9807881  -0.5005245   1.2301766 ]]\n",
      "action:  [[-1.]]\n",
      "obs:  [[-0.0218685   0.79414076 -0.47592098  1.3347174 ]]\n",
      "action:  [[-0.5470747]]\n",
      "obs:  [[-0.00598568  0.69397706 -0.44922662  1.3335681 ]]\n",
      "action:  [[0.4472258]]\n",
      "obs:  [[ 0.00789386  0.78484344 -0.42255524  1.0831167 ]]\n",
      "action:  [[0.13803892]]\n",
      "obs:  [[ 0.02359073  0.8162856  -0.4008929   0.91953456]]\n",
      "action:  [[-0.30692804]]\n",
      "obs:  [[ 0.03991644  0.7618349  -0.38250223  0.88000405]]\n",
      "action:  [[-0.22068802]]\n",
      "obs:  [[ 0.05515314  0.7238451  -0.36490214  0.8231372 ]]\n",
      "action:  [[-0.11653328]]\n",
      "obs:  [[ 0.06963004  0.70581985 -0.3484394   0.74347866]]\n",
      "action:  [[-0.6100731]]\n",
      "obs:  [[ 0.08374643  0.59216887 -0.33356982  0.80332977]]\n",
      "action:  [[-0.17701405]]\n",
      "obs:  [[ 0.09558982  0.5620961  -0.31750324  0.7496915 ]]\n",
      "action:  [[-0.15073793]]\n",
      "obs:  [[ 0.10683174  0.5369456  -0.3025094   0.6937462 ]]\n",
      "action:  [[0.14328341]]\n",
      "obs:  [[ 0.11757065  0.5686362  -0.28863448  0.56078136]]\n",
      "action:  [[-0.6241676]]\n",
      "obs:  [[ 0.12894337  0.4513686  -0.27741885  0.64572114]]\n",
      "action:  [[-0.03813276]]\n",
      "obs:  [[ 0.13797075  0.44761485 -0.26450443  0.5706175 ]]\n",
      "action:  [[-0.6631052]]\n",
      "obs:  [[ 0.14692304  0.3223906  -0.25309208  0.67506063]]\n",
      "action:  [[0.27647015]]\n",
      "obs:  [[ 0.15337086  0.3794396  -0.23959087  0.51859605]]\n",
      "action:  [[-0.5490646]]\n",
      "obs:  [[ 0.16095965  0.2759752  -0.22921894  0.59959173]]\n",
      "action:  [[-0.24485992]]\n",
      "obs:  [[ 0.16647916  0.23145951 -0.21722712  0.59781694]]\n",
      "action:  [[-0.16269466]]\n",
      "obs:  [[ 0.17110834  0.2027549  -0.20527077  0.5764983 ]]\n",
      "action:  [[0.05447106]]\n",
      "obs:  [[ 0.17516343  0.2161385  -0.1937408   0.4969177 ]]\n",
      "action:  [[-0.6535603]]\n",
      "obs:  [[ 0.1794862   0.09161542 -0.18380246  0.6236036 ]]\n",
      "action:  [[0.7029286]]\n",
      "obs:  [[ 0.18131852  0.23093937 -0.17133038  0.3644037 ]]\n",
      "action:  [[-0.07497853]]\n",
      "obs:  [[ 0.1859373   0.21872263 -0.16404231  0.33233544]]\n",
      "action:  [[-0.26022264]]\n",
      "obs:  [[ 0.19031176  0.17033494 -0.1573956   0.35593015]]\n",
      "action:  [[-0.18174535]]\n",
      "obs:  [[ 0.19371845  0.13713294 -0.15027699  0.35903406]]\n",
      "action:  [[-0.2847505]]\n",
      "obs:  [[ 0.19646111  0.08376345 -0.14309631  0.3941707 ]]\n",
      "action:  [[0.17563653]]\n",
      "obs:  [[ 0.19813639  0.11998279 -0.1352129   0.2984701 ]]\n",
      "action:  [[0.08178623]]\n",
      "obs:  [[ 0.20053604  0.13782124 -0.1292435   0.23232508]]\n",
      "action:  [[-0.5254322]]\n",
      "obs:  [[ 0.20329246  0.03724631 -0.124597    0.34403735]]\n",
      "action:  [[-0.397633]]\n",
      "obs:  [[ 0.20403738 -0.03850089 -0.11771625  0.42024055]]\n",
      "action:  [[0.7993625]]\n",
      "obs:  [[ 0.20326737  0.11896578 -0.10931144  0.15114646]]\n",
      "action:  [[0.50855935]]\n",
      "obs:  [[ 0.2056467   0.21966198 -0.10628851 -0.03106992]]\n",
      "action:  [[-1.]]\n",
      "obs:  [[ 0.21003993  0.02621212 -0.10690991  0.2262773 ]]\n",
      "action:  [[-0.63931316]]\n",
      "obs:  [[ 0.21056417 -0.09691308 -0.10238436  0.37853897]]\n",
      "action:  [[-0.6852062]]\n",
      "obs:  [[ 0.20862591 -0.22906701 -0.09481359  0.5456834 ]]\n",
      "action:  [[1.]]\n",
      "obs:  [[ 0.20404457 -0.03274969 -0.08389992  0.22469653]]\n",
      "action:  [[-0.98843426]]\n",
      "obs:  [[ 0.20338957 -0.22432299 -0.07940599  0.48640805]]\n",
      "action:  [[0.73270345]]\n",
      "obs:  [[ 0.19890311 -0.08030705 -0.06967782  0.24774401]]\n",
      "action:  [[0.38495338]]\n",
      "obs:  [[ 0.19729698 -0.0042293  -0.06472294  0.11343557]]\n",
      "action:  [[-0.3344836]]\n",
      "obs:  [[ 0.19721238 -0.06854989 -0.06245423  0.19069918]]\n",
      "action:  [[-0.0063118]]\n",
      "obs:  [[ 0.19584139 -0.06889021 -0.05864025  0.17285906]]\n",
      "action:  [[-0.32471663]]\n",
      "obs:  [[ 0.19446358 -0.1313965  -0.05518307  0.24922697]]\n",
      "action:  [[0.10204808]]\n",
      "obs:  [[ 0.19183566 -0.11070282 -0.05019853  0.20201813]]\n",
      "action:  [[0.17783296]]\n",
      "obs:  [[ 0.1896216  -0.07529352 -0.04615816  0.1342189 ]]\n",
      "action:  [[0.0022727]]\n",
      "obs:  [[ 0.18811573 -0.07419001 -0.04347379  0.11899973]]\n",
      "action:  [[-0.05600914]]\n",
      "obs:  [[ 0.18663193 -0.0844951  -0.04109379  0.12166549]]\n",
      "action:  [[-0.3415187]]\n",
      "obs:  [[ 0.18494202 -0.15053666 -0.03866048  0.20856601]]\n",
      "action:  [[0.3291926]]\n",
      "obs:  [[ 0.18193129 -0.08575878 -0.03448916  0.10010845]]\n",
      "action:  [[0.1410488]]\n",
      "obs:  [[ 0.18021612 -0.0577456  -0.03248699  0.04797587]]\n",
      "action:  [[-0.38746482]]\n",
      "obs:  [[ 0.1790612  -0.13287719 -0.03152747  0.15106428]]\n",
      "action:  [[-0.03441282]]\n",
      "obs:  [[ 0.17640366 -0.13914028 -0.02850619  0.1511867 ]]\n",
      "action:  [[0.76863897]]\n",
      "obs:  [[ 0.17362085  0.01123708 -0.02548246 -0.08266737]]\n",
      "action:  [[0.30498347]]\n",
      "obs:  [[ 0.1738456   0.07110833 -0.0271358  -0.17993613]]\n",
      "action:  [[-0.4609447]]\n",
      "obs:  [[ 0.17526777 -0.01843915 -0.03073453 -0.05364129]]\n",
      "action:  [[0.28731436]]\n",
      "obs:  [[ 0.17489898  0.03805869 -0.03180735 -0.14738257]]\n",
      "action:  [[-0.49125534]]\n",
      "obs:  [[ 0.17566015 -0.05733376 -0.034755   -0.01371604]]\n",
      "action:  [[-0.6080593]]\n",
      "obs:  [[ 0.17451347 -0.17547101 -0.03502933  0.1531669 ]]\n",
      "action:  [[0.52971256]]\n",
      "obs:  [[ 0.17100406 -0.07162063 -0.03196599 -0.01280963]]\n",
      "action:  [[-0.27563912]]\n",
      "obs:  [[ 0.16957165 -0.12494176 -0.03222218  0.05773481]]\n",
      "action:  [[-0.20036791]]\n",
      "obs:  [[ 0.16707282 -0.16357331 -0.03106748  0.10618038]]\n",
      "action:  [[-0.1514333]]\n",
      "obs:  [[ 0.16380134 -0.1926743  -0.02894388  0.14067842]]\n",
      "action:  [[-0.14607643]]\n",
      "obs:  [[ 0.15994786 -0.22076099 -0.02613031  0.1742825 ]]\n",
      "action:  [[-0.57065547]]\n",
      "obs:  [[ 0.15553264 -0.33172905 -0.02264466  0.33299634]]\n",
      "action:  [[0.88206327]]\n",
      "obs:  [[ 0.14889807 -0.15930341 -0.01598473  0.06776723]]\n",
      "action:  [[-0.08006667]]\n",
      "obs:  [[ 0.14571199 -0.17469676 -0.01462939  0.08615499]]\n",
      "action:  [[0.19623363]]\n",
      "obs:  [[ 0.14221805 -0.13619821 -0.01290629  0.02411244]]\n",
      "action:  [[-0.02292241]]\n",
      "obs:  [[ 0.13949409 -0.14048575 -0.01242404  0.02674889]]\n",
      "action:  [[0.46349213]]\n",
      "obs:  [[ 0.13668437 -0.04987113 -0.01188906 -0.11281512]]\n",
      "action:  [[-1.]]\n",
      "obs:  [[ 0.13568695 -0.24482073 -0.01414536  0.1760933 ]]\n",
      "action:  [[0.23822819]]\n",
      "obs:  [[ 0.13079055 -0.19813545 -0.0106235   0.10191379]]\n",
      "action:  [[0.51837486]]\n",
      "obs:  [[ 0.12682784 -0.09683773 -0.00858522 -0.05314745]]\n",
      "action:  [[0.08535722]]\n",
      "obs:  [[ 0.12489107 -0.08005966 -0.00964817 -0.08083765]]\n",
      "action:  [[-0.78680384]]\n",
      "obs:  [[ 0.12328988 -0.23344302 -0.01126492  0.14639015]]\n",
      "action:  [[-0.2615196]]\n",
      "obs:  [[ 0.11862102 -0.28430945 -0.00833712  0.21937315]]\n",
      "action:  [[0.83663094]]\n",
      "obs:  [[ 0.11293484 -0.12094606 -0.00394966 -0.02811451]]\n",
      "action:  [[-0.0124993]]\n",
      "obs:  [[ 0.11051591 -0.1233283  -0.00451195 -0.02570237]]\n",
      "action:  [[-0.2780368]]\n",
      "obs:  [[ 0.10804935 -0.1775146  -0.00502599  0.05424974]]\n",
      "action:  [[0.13326444]]\n",
      "obs:  [[ 0.10449906 -0.15143977 -0.003941    0.01366035]]\n",
      "action:  [[-0.09519136]]\n",
      "obs:  [[ 0.10147026 -0.16995715 -0.00366779  0.04027756]]\n",
      "action:  [[-0.59180224]]\n",
      "obs:  [[ 0.09807111 -0.28537804 -0.00286224  0.21232942]]\n",
      "action:  [[1.]]\n",
      "obs:  [[ 0.09236355 -0.0902153   0.00138435 -0.08125502]]\n",
      "action:  [[-0.01785696]]\n",
      "obs:  [[ 0.09055925 -0.09371942 -0.00024075 -0.07559183]]\n",
      "action:  [[-0.26385707]]\n",
      "obs:  [[ 0.08868486 -0.14520028 -0.00175259  0.00155867]]\n",
      "action:  [[-0.7099549]]\n",
      "obs:  [[ 0.08578085 -0.2837029  -0.00172141  0.20879702]]\n",
      "action:  [[-0.06894836]]\n",
      "obs:  [[ 0.08010679 -0.29713163  0.00245453  0.22843398]]\n",
      "action:  [[0.26306406]]\n",
      "obs:  [[ 0.07416417 -0.24583715  0.00702321  0.15221412]]\n",
      "action:  [[0.0583719]]\n",
      "obs:  [[ 0.06924742 -0.2345481   0.01006749  0.13734579]]\n",
      "action:  [[0.6863225]]\n",
      "obs:  [[ 0.06455646 -0.1007767   0.0128144  -0.06034135]]\n",
      "action:  [[0.3008729]]\n",
      "obs:  [[ 0.06254093 -0.04225421  0.01160758 -0.14435056]]\n",
      "action:  [[-0.7078644]]\n",
      "obs:  [[ 0.06169584 -0.18053895  0.00872057  0.06647513]]\n",
      "action:  [[-0.19338657]]\n",
      "obs:  [[ 0.05808506 -0.21839772  0.01005007  0.12582496]]\n",
      "action:  [[0.995278]]\n",
      "obs:  [[ 0.05371711 -0.02434254  0.01256657 -0.16228846]]\n",
      "action:  [[-0.41883284]]\n",
      "obs:  [[ 0.05323026 -0.10624496  0.0093208  -0.03575006]]\n",
      "action:  [[-0.46631834]]\n",
      "obs:  [[ 0.05110536 -0.19736698  0.0086058   0.10366731]]\n",
      "action:  [[0.6630921]]\n",
      "obs:  [[ 0.04715802 -0.06810718  0.01067914 -0.08768513]]\n",
      "action:  [[-0.6748555]]\n",
      "obs:  [[ 0.04579587 -0.19993825  0.00892544  0.11318982]]\n",
      "action:  [[0.5895434]]\n",
      "obs:  [[ 0.04179711 -0.08503395  0.01118924 -0.05653572]]\n",
      "action:  [[-0.17435864]]\n",
      "obs:  [[ 0.04009643 -0.11921526  0.01005852 -0.00197741]]\n",
      "action:  [[0.41957217]]\n",
      "obs:  [[ 0.03771212 -0.03749237  0.01001897 -0.12159839]]\n",
      "action:  [[-0.31470475]]\n",
      "obs:  [[ 0.03696228 -0.09904125  0.00758701 -0.02633417]]\n",
      "action:  [[0.14214829]]\n",
      "obs:  [[ 0.03498145 -0.07141392  0.00706032 -0.06554342]]\n",
      "action:  [[-0.09607986]]\n",
      "obs:  [[ 0.03355317 -0.09026236  0.00574945 -0.03519574]]\n",
      "action:  [[-0.88666177]]\n",
      "obs:  [[ 0.03174793 -0.26335156  0.00504554  0.2261241 ]]\n",
      "action:  [[0.12987098]]\n",
      "obs:  [[ 0.02648089 -0.23808303  0.00956802  0.18970518]]\n",
      "action:  [[0.06709266]]\n",
      "obs:  [[ 0.02171923 -0.22512875  0.01336213  0.17308758]]\n",
      "action:  [[0.5960522]]\n",
      "obs:  [[ 0.01721666 -0.10901862  0.01682388  0.00286628]]\n",
      "action:  [[0.00976677]]\n",
      "obs:  [[ 0.01503629 -0.10735417  0.0168812   0.00531595]]\n",
      "action:  [[0.7009752]]\n",
      "obs:  [[ 0.0128892   0.02917657  0.01698752 -0.19448814]]\n",
      "action:  [[-0.6241368]]\n",
      "obs:  [[ 0.01347273 -0.09284659  0.01309776 -0.00648571]]\n",
      "action:  [[-0.14506476]]\n",
      "obs:  [[ 0.0116158  -0.12133937  0.01296804  0.04010042]]\n",
      "action:  [[0.01623116]]\n",
      "obs:  [[ 0.00918902 -0.11835829  0.01377005  0.03944167]]\n",
      "action:  [[0.8287212]]\n",
      "obs:  [[ 0.00682185  0.04314373  0.01455889 -0.19874012]]\n",
      "action:  [[-0.37139297]]\n",
      "obs:  [[ 0.00768472 -0.02953027  0.01058408 -0.08546052]]\n",
      "action:  [[-0.00245856]]\n",
      "obs:  [[ 0.00709412 -0.03016168  0.00887487 -0.08140179]]\n",
      "action:  [[-0.27495992]]\n",
      "obs:  [[ 0.00649089 -0.08393931  0.00724684  0.00187065]]\n",
      "action:  [[0.37175408]]\n",
      "obs:  [[ 0.0048121  -0.01150613  0.00728425 -0.10464571]]\n",
      "action:  [[-0.12364966]]\n",
      "obs:  [[ 0.00458198 -0.03573718  0.00519134 -0.06615855]]\n",
      "action:  [[-0.26487833]]\n",
      "obs:  [[ 0.00386723 -0.08749508  0.00386817  0.01300351]]\n",
      "action:  [[-0.1971585]]\n",
      "obs:  [[ 0.00211733 -0.12602046  0.00412824  0.07192839]]\n",
      "action:  [[0.87779677]]\n",
      "obs:  [[-0.00040308  0.04519755  0.0055668  -0.18368275]]\n",
      "action:  [[-1.]]\n",
      "obs:  [[ 0.00050087 -0.15000361  0.00189315  0.11075108]]\n",
      "action:  [[0.03282984]]\n",
      "obs:  [[-0.0024992  -0.14362492  0.00410817  0.10173965]]\n",
      "action:  [[0.19147962]]\n",
      "obs:  [[-0.0053717  -0.10632196  0.00614296  0.04699348]]\n",
      "action:  [[0.25141728]]\n",
      "obs:  [[-0.00749814 -0.05735315  0.00708283 -0.02465233]]\n",
      "action:  [[-0.4105476]]\n",
      "obs:  [[-0.0086452  -0.13756128  0.00658979  0.09773917]]\n",
      "action:  [[0.04479572]]\n",
      "obs:  [[-0.01139642 -0.12891512  0.00854457  0.08670761]]\n",
      "action:  [[0.25787035]]\n",
      "obs:  [[-0.01397473 -0.07872169  0.01027872  0.01393229]]\n",
      "action:  [[-0.7383108]]\n",
      "obs:  [[-0.01554916 -0.22292863  0.01055737  0.23325315]]\n",
      "action:  [[1.]]\n",
      "obs:  [[-0.02000773 -0.0279591   0.01522243 -0.05608103]]\n",
      "action:  [[-0.50203365]]\n",
      "obs:  [[-0.02056691 -0.12613346  0.01410081  0.09563866]]\n",
      "action:  [[0.2446074]]\n",
      "obs:  [[-0.02308958 -0.07860794  0.01601358  0.02850298]]\n",
      "action:  [[0.18011928]]\n",
      "obs:  [[-0.02466174 -0.04369298  0.01658364 -0.01915495]]\n",
      "action:  [[-0.33980706]]\n",
      "obs:  [[-0.0255356  -0.11023324  0.01620054  0.08551708]]\n",
      "action:  [[-0.08766726]]\n",
      "obs:  [[-0.02774027 -0.1275709   0.01791088  0.1162829 ]]\n",
      "action:  [[-0.01461005]]\n",
      "obs:  [[-0.03029169 -0.13067815  0.02023654  0.12620854]]\n",
      "action:  [[0.47528508]]\n",
      "obs:  [[-0.03290525 -0.03823219  0.02276071 -0.00648286]]\n",
      "action:  [[0.09956263]]\n",
      "obs:  [[-0.03366989 -0.01913237  0.02263106 -0.0284341 ]]\n",
      "action:  [[0.3565716]]\n",
      "obs:  [[-0.03405254  0.05011556  0.02206237 -0.12562642]]\n",
      "action:  [[0.2359645]]\n",
      "obs:  [[-0.03305023  0.09583982  0.01954985 -0.18771031]]\n",
      "action:  [[-0.47532982]]\n",
      "obs:  [[-0.03113343  0.00281551  0.01579564 -0.04245322]]\n",
      "action:  [[0.15612146]]\n",
      "obs:  [[-0.03107712  0.03305121  0.01494658 -0.08315739]]\n",
      "action:  [[0.2134295]]\n",
      "obs:  [[-0.0304161   0.07448109  0.01328343 -0.14090115]]\n",
      "action:  [[0.07594098]]\n",
      "obs:  [[-0.02892647  0.08910843  0.0104654  -0.158935  ]]\n",
      "action:  [[-0.34491605]]\n",
      "obs:  [[-0.02714431  0.02165846  0.00728671 -0.05468881]]\n",
      "action:  [[-0.10281923]]\n",
      "obs:  [[-0.02671114  0.00149177  0.00619293 -0.02229731]]\n",
      "action:  [[0.24863678]]\n",
      "obs:  [[-0.0266813   0.04991732  0.00574698 -0.09311353]]\n",
      "action:  [[-0.44136238]]\n",
      "obs:  [[-0.02568296 -0.03628433  0.00388471  0.03787641]]\n",
      "action:  [[0.39475107]]\n",
      "obs:  [[-0.02640864  0.04068448  0.00464224 -0.07643383]]\n",
      "action:  [[0.6182213]]\n",
      "obs:  [[-0.02559495  0.16124628  0.00311356 -0.25590977]]\n",
      "action:  [[-1.]]\n",
      "obs:  [[-0.02237003 -0.03391999 -0.00200463  0.0377536 ]]\n",
      "action:  [[0.23738891]]\n",
      "obs:  [[-0.02304843  0.01242854 -0.00124956 -0.0323584 ]]\n",
      "action:  [[0.09758919]]\n",
      "obs:  [[-0.02279986  0.03148825 -0.00189673 -0.06131532]]\n",
      "action:  [[-0.11459039]]\n",
      "obs:  [[-0.02217009  0.00915635 -0.00312303 -0.02837517]]\n",
      "action:  [[0.24359937]]\n",
      "obs:  [[-0.02198697  0.05673268 -0.00369054 -0.10065749]]\n",
      "action:  [[-0.21541417]]\n",
      "obs:  [[-0.02085231  0.01475358 -0.00570369 -0.03877429]]\n",
      "action:  [[0.0978542]]\n",
      "obs:  [[-0.02055724  0.03392883 -0.00647917 -0.06921356]]\n",
      "action:  [[0.04093072]]\n",
      "obs:  [[-0.01987866  0.04200817 -0.00786345 -0.08323719]]\n",
      "action:  [[-0.4219045]]\n",
      "obs:  [[-0.0190385  -0.04020157 -0.00952819  0.03776178]]\n",
      "action:  [[0.1078165]]\n",
      "obs:  [[-0.01984253 -0.01902772 -0.00877295  0.0032012 ]]\n",
      "action:  [[0.5035038]]\n",
      "obs:  [[-0.02022308  0.07934219 -0.00870893 -0.1469272 ]]\n",
      "action:  [[0.07092816]]\n",
      "obs:  [[-0.01863624  0.09330645 -0.01164747 -0.1704332 ]]\n",
      "action:  [[-0.3832351]]\n",
      "obs:  [[-0.01677011  0.01869631 -0.01505614 -0.06194985]]\n",
      "action:  [[-0.51703346]]\n",
      "obs:  [[-0.01639619 -0.08197076 -0.01629513  0.0846073 ]]\n",
      "action:  [[0.43376905]]\n",
      "obs:  [[-0.0180356   0.002899   -0.01460299 -0.04747099]]\n",
      "action:  [[0.08614913]]\n",
      "obs:  [[-0.01797762  0.01991768 -0.01555241 -0.07728942]]\n",
      "action:  [[-0.88840675]]\n",
      "obs:  [[-0.01757927 -0.153204   -0.0170982   0.17778946]]\n",
      "action:  [[0.09638332]]\n",
      "obs:  [[-0.02064335 -0.13415326 -0.01354241  0.14419092]]\n",
      "action:  [[0.5116854]]\n",
      "obs:  [[-0.02332641 -0.03411964 -0.01065859 -0.0098271 ]]\n"
     ]
    },
    {
     "ename": "KeyboardInterrupt",
     "evalue": "",
     "output_type": "error",
     "traceback": [
      "\u001b[1;31m---------------------------------------------------------------------------\u001b[0m",
      "\u001b[1;31mKeyboardInterrupt\u001b[0m                         Traceback (most recent call last)",
      "Cell \u001b[1;32mIn[78], line 7\u001b[0m\n\u001b[0;32m      5\u001b[0m \u001b[38;5;28;01mfor\u001b[39;00m _ \u001b[38;5;129;01min\u001b[39;00m \u001b[38;5;28mrange\u001b[39m(\u001b[38;5;241m500\u001b[39m):\n\u001b[0;32m      6\u001b[0m     \u001b[38;5;28mprint\u001b[39m(\u001b[38;5;124m\"\u001b[39m\u001b[38;5;124mobs: \u001b[39m\u001b[38;5;124m\"\u001b[39m , obs)\n\u001b[1;32m----> 7\u001b[0m     action, _states \u001b[38;5;241m=\u001b[39m \u001b[43mmodel\u001b[49m\u001b[38;5;241;43m.\u001b[39;49m\u001b[43mpredict\u001b[49m\u001b[43m(\u001b[49m\u001b[43mobs\u001b[49m\u001b[43m)\u001b[49m\n\u001b[0;32m      8\u001b[0m     \u001b[38;5;28mprint\u001b[39m(\u001b[38;5;124m\"\u001b[39m\u001b[38;5;124maction: \u001b[39m\u001b[38;5;124m\"\u001b[39m , action)\n\u001b[0;32m      9\u001b[0m     obs, rewards, dones, info \u001b[38;5;241m=\u001b[39m vec_env\u001b[38;5;241m.\u001b[39mstep(action)\n",
      "File \u001b[1;32md:\\anacoda3\\envs\\RL-env\\lib\\site-packages\\stable_baselines3\\common\\base_class.py:553\u001b[0m, in \u001b[0;36mBaseAlgorithm.predict\u001b[1;34m(self, observation, state, episode_start, deterministic)\u001b[0m\n\u001b[0;32m    533\u001b[0m \u001b[38;5;28;01mdef\u001b[39;00m \u001b[38;5;21mpredict\u001b[39m(\n\u001b[0;32m    534\u001b[0m     \u001b[38;5;28mself\u001b[39m,\n\u001b[0;32m    535\u001b[0m     observation: Union[np\u001b[38;5;241m.\u001b[39mndarray, Dict[\u001b[38;5;28mstr\u001b[39m, np\u001b[38;5;241m.\u001b[39mndarray]],\n\u001b[1;32m   (...)\u001b[0m\n\u001b[0;32m    538\u001b[0m     deterministic: \u001b[38;5;28mbool\u001b[39m \u001b[38;5;241m=\u001b[39m \u001b[38;5;28;01mFalse\u001b[39;00m,\n\u001b[0;32m    539\u001b[0m ) \u001b[38;5;241m-\u001b[39m\u001b[38;5;241m>\u001b[39m Tuple[np\u001b[38;5;241m.\u001b[39mndarray, Optional[Tuple[np\u001b[38;5;241m.\u001b[39mndarray, \u001b[38;5;241m.\u001b[39m\u001b[38;5;241m.\u001b[39m\u001b[38;5;241m.\u001b[39m]]]:\n\u001b[0;32m    540\u001b[0m \u001b[38;5;250m    \u001b[39m\u001b[38;5;124;03m\"\"\"\u001b[39;00m\n\u001b[0;32m    541\u001b[0m \u001b[38;5;124;03m    Get the policy action from an observation (and optional hidden state).\u001b[39;00m\n\u001b[0;32m    542\u001b[0m \u001b[38;5;124;03m    Includes sugar-coating to handle different observations (e.g. normalizing images).\u001b[39;00m\n\u001b[1;32m   (...)\u001b[0m\n\u001b[0;32m    551\u001b[0m \u001b[38;5;124;03m        (used in recurrent policies)\u001b[39;00m\n\u001b[0;32m    552\u001b[0m \u001b[38;5;124;03m    \"\"\"\u001b[39;00m\n\u001b[1;32m--> 553\u001b[0m     \u001b[38;5;28;01mreturn\u001b[39;00m \u001b[38;5;28;43mself\u001b[39;49m\u001b[38;5;241;43m.\u001b[39;49m\u001b[43mpolicy\u001b[49m\u001b[38;5;241;43m.\u001b[39;49m\u001b[43mpredict\u001b[49m\u001b[43m(\u001b[49m\u001b[43mobservation\u001b[49m\u001b[43m,\u001b[49m\u001b[43m \u001b[49m\u001b[43mstate\u001b[49m\u001b[43m,\u001b[49m\u001b[43m \u001b[49m\u001b[43mepisode_start\u001b[49m\u001b[43m,\u001b[49m\u001b[43m \u001b[49m\u001b[43mdeterministic\u001b[49m\u001b[43m)\u001b[49m\n",
      "File \u001b[1;32md:\\anacoda3\\envs\\RL-env\\lib\\site-packages\\stable_baselines3\\common\\policies.py:366\u001b[0m, in \u001b[0;36mBasePolicy.predict\u001b[1;34m(self, observation, state, episode_start, deterministic)\u001b[0m\n\u001b[0;32m    363\u001b[0m obs_tensor, vectorized_env \u001b[38;5;241m=\u001b[39m \u001b[38;5;28mself\u001b[39m\u001b[38;5;241m.\u001b[39mobs_to_tensor(observation)\n\u001b[0;32m    365\u001b[0m \u001b[38;5;28;01mwith\u001b[39;00m th\u001b[38;5;241m.\u001b[39mno_grad():\n\u001b[1;32m--> 366\u001b[0m     actions \u001b[38;5;241m=\u001b[39m \u001b[38;5;28;43mself\u001b[39;49m\u001b[38;5;241;43m.\u001b[39;49m\u001b[43m_predict\u001b[49m\u001b[43m(\u001b[49m\u001b[43mobs_tensor\u001b[49m\u001b[43m,\u001b[49m\u001b[43m \u001b[49m\u001b[43mdeterministic\u001b[49m\u001b[38;5;241;43m=\u001b[39;49m\u001b[43mdeterministic\u001b[49m\u001b[43m)\u001b[49m\n\u001b[0;32m    367\u001b[0m \u001b[38;5;66;03m# Convert to numpy, and reshape to the original action shape\u001b[39;00m\n\u001b[0;32m    368\u001b[0m actions \u001b[38;5;241m=\u001b[39m actions\u001b[38;5;241m.\u001b[39mcpu()\u001b[38;5;241m.\u001b[39mnumpy()\u001b[38;5;241m.\u001b[39mreshape((\u001b[38;5;241m-\u001b[39m\u001b[38;5;241m1\u001b[39m, \u001b[38;5;241m*\u001b[39m\u001b[38;5;28mself\u001b[39m\u001b[38;5;241m.\u001b[39maction_space\u001b[38;5;241m.\u001b[39mshape))  \u001b[38;5;66;03m# type: ignore[misc]\u001b[39;00m\n",
      "File \u001b[1;32md:\\anacoda3\\envs\\RL-env\\lib\\site-packages\\stable_baselines3\\common\\policies.py:715\u001b[0m, in \u001b[0;36mActorCriticPolicy._predict\u001b[1;34m(self, observation, deterministic)\u001b[0m\n\u001b[0;32m    707\u001b[0m \u001b[38;5;28;01mdef\u001b[39;00m \u001b[38;5;21m_predict\u001b[39m(\u001b[38;5;28mself\u001b[39m, observation: PyTorchObs, deterministic: \u001b[38;5;28mbool\u001b[39m \u001b[38;5;241m=\u001b[39m \u001b[38;5;28;01mFalse\u001b[39;00m) \u001b[38;5;241m-\u001b[39m\u001b[38;5;241m>\u001b[39m th\u001b[38;5;241m.\u001b[39mTensor:\n\u001b[0;32m    708\u001b[0m \u001b[38;5;250m    \u001b[39m\u001b[38;5;124;03m\"\"\"\u001b[39;00m\n\u001b[0;32m    709\u001b[0m \u001b[38;5;124;03m    Get the action according to the policy for a given observation.\u001b[39;00m\n\u001b[0;32m    710\u001b[0m \n\u001b[1;32m   (...)\u001b[0m\n\u001b[0;32m    713\u001b[0m \u001b[38;5;124;03m    :return: Taken action according to the policy\u001b[39;00m\n\u001b[0;32m    714\u001b[0m \u001b[38;5;124;03m    \"\"\"\u001b[39;00m\n\u001b[1;32m--> 715\u001b[0m     \u001b[38;5;28;01mreturn\u001b[39;00m \u001b[38;5;28;43mself\u001b[39;49m\u001b[38;5;241;43m.\u001b[39;49m\u001b[43mget_distribution\u001b[49m\u001b[43m(\u001b[49m\u001b[43mobservation\u001b[49m\u001b[43m)\u001b[49m\u001b[38;5;241m.\u001b[39mget_actions(deterministic\u001b[38;5;241m=\u001b[39mdeterministic)\n",
      "File \u001b[1;32md:\\anacoda3\\envs\\RL-env\\lib\\site-packages\\stable_baselines3\\common\\policies.py:750\u001b[0m, in \u001b[0;36mActorCriticPolicy.get_distribution\u001b[1;34m(self, obs)\u001b[0m\n\u001b[0;32m    748\u001b[0m features \u001b[38;5;241m=\u001b[39m \u001b[38;5;28msuper\u001b[39m()\u001b[38;5;241m.\u001b[39mextract_features(obs, \u001b[38;5;28mself\u001b[39m\u001b[38;5;241m.\u001b[39mpi_features_extractor)\n\u001b[0;32m    749\u001b[0m latent_pi \u001b[38;5;241m=\u001b[39m \u001b[38;5;28mself\u001b[39m\u001b[38;5;241m.\u001b[39mmlp_extractor\u001b[38;5;241m.\u001b[39mforward_actor(features)\n\u001b[1;32m--> 750\u001b[0m \u001b[38;5;28;01mreturn\u001b[39;00m \u001b[38;5;28;43mself\u001b[39;49m\u001b[38;5;241;43m.\u001b[39;49m\u001b[43m_get_action_dist_from_latent\u001b[49m\u001b[43m(\u001b[49m\u001b[43mlatent_pi\u001b[49m\u001b[43m)\u001b[49m\n",
      "File \u001b[1;32md:\\anacoda3\\envs\\RL-env\\lib\\site-packages\\stable_baselines3\\common\\policies.py:692\u001b[0m, in \u001b[0;36mActorCriticPolicy._get_action_dist_from_latent\u001b[1;34m(self, latent_pi)\u001b[0m\n\u001b[0;32m    689\u001b[0m mean_actions \u001b[38;5;241m=\u001b[39m \u001b[38;5;28mself\u001b[39m\u001b[38;5;241m.\u001b[39maction_net(latent_pi)\n\u001b[0;32m    691\u001b[0m \u001b[38;5;28;01mif\u001b[39;00m \u001b[38;5;28misinstance\u001b[39m(\u001b[38;5;28mself\u001b[39m\u001b[38;5;241m.\u001b[39maction_dist, DiagGaussianDistribution):\n\u001b[1;32m--> 692\u001b[0m     \u001b[38;5;28;01mreturn\u001b[39;00m \u001b[38;5;28;43mself\u001b[39;49m\u001b[38;5;241;43m.\u001b[39;49m\u001b[43maction_dist\u001b[49m\u001b[38;5;241;43m.\u001b[39;49m\u001b[43mproba_distribution\u001b[49m\u001b[43m(\u001b[49m\u001b[43mmean_actions\u001b[49m\u001b[43m,\u001b[49m\u001b[43m \u001b[49m\u001b[38;5;28;43mself\u001b[39;49m\u001b[38;5;241;43m.\u001b[39;49m\u001b[43mlog_std\u001b[49m\u001b[43m)\u001b[49m\n\u001b[0;32m    693\u001b[0m \u001b[38;5;28;01melif\u001b[39;00m \u001b[38;5;28misinstance\u001b[39m(\u001b[38;5;28mself\u001b[39m\u001b[38;5;241m.\u001b[39maction_dist, CategoricalDistribution):\n\u001b[0;32m    694\u001b[0m     \u001b[38;5;66;03m# Here mean_actions are the logits before the softmax\u001b[39;00m\n\u001b[0;32m    695\u001b[0m     \u001b[38;5;28;01mreturn\u001b[39;00m \u001b[38;5;28mself\u001b[39m\u001b[38;5;241m.\u001b[39maction_dist\u001b[38;5;241m.\u001b[39mproba_distribution(action_logits\u001b[38;5;241m=\u001b[39mmean_actions)\n",
      "File \u001b[1;32md:\\anacoda3\\envs\\RL-env\\lib\\site-packages\\stable_baselines3\\common\\distributions.py:163\u001b[0m, in \u001b[0;36mDiagGaussianDistribution.proba_distribution\u001b[1;34m(self, mean_actions, log_std)\u001b[0m\n\u001b[0;32m    153\u001b[0m \u001b[38;5;28;01mdef\u001b[39;00m \u001b[38;5;21mproba_distribution\u001b[39m(\n\u001b[0;32m    154\u001b[0m     \u001b[38;5;28mself\u001b[39m: SelfDiagGaussianDistribution, mean_actions: th\u001b[38;5;241m.\u001b[39mTensor, log_std: th\u001b[38;5;241m.\u001b[39mTensor\n\u001b[0;32m    155\u001b[0m ) \u001b[38;5;241m-\u001b[39m\u001b[38;5;241m>\u001b[39m SelfDiagGaussianDistribution:\n\u001b[0;32m    156\u001b[0m \u001b[38;5;250m    \u001b[39m\u001b[38;5;124;03m\"\"\"\u001b[39;00m\n\u001b[0;32m    157\u001b[0m \u001b[38;5;124;03m    Create the distribution given its parameters (mean, std)\u001b[39;00m\n\u001b[0;32m    158\u001b[0m \n\u001b[1;32m   (...)\u001b[0m\n\u001b[0;32m    161\u001b[0m \u001b[38;5;124;03m    :return:\u001b[39;00m\n\u001b[0;32m    162\u001b[0m \u001b[38;5;124;03m    \"\"\"\u001b[39;00m\n\u001b[1;32m--> 163\u001b[0m     action_std \u001b[38;5;241m=\u001b[39m \u001b[43mth\u001b[49m\u001b[38;5;241;43m.\u001b[39;49m\u001b[43mones_like\u001b[49m\u001b[43m(\u001b[49m\u001b[43mmean_actions\u001b[49m\u001b[43m)\u001b[49m\u001b[43m \u001b[49m\u001b[38;5;241;43m*\u001b[39;49m\u001b[43m \u001b[49m\u001b[43mlog_std\u001b[49m\u001b[38;5;241;43m.\u001b[39;49m\u001b[43mexp\u001b[49m\u001b[43m(\u001b[49m\u001b[43m)\u001b[49m\n\u001b[0;32m    164\u001b[0m     \u001b[38;5;28mself\u001b[39m\u001b[38;5;241m.\u001b[39mdistribution \u001b[38;5;241m=\u001b[39m Normal(mean_actions, action_std)\n\u001b[0;32m    165\u001b[0m     \u001b[38;5;28;01mreturn\u001b[39;00m \u001b[38;5;28mself\u001b[39m\n",
      "\u001b[1;31mKeyboardInterrupt\u001b[0m: "
     ]
    }
   ],
   "source": [
    "vec_env = SubprocVecEnv([make_env(env_id, i, render_mode=\"human\") for i in range(1)]) #num_cpu\n",
    "vec_env = VecMonitor(vec_env)\n",
    "obs = vec_env.reset()\n",
    "obs_2_values = []\n",
    "for _ in range(500):\n",
    "    print(\"obs: \" , obs)\n",
    "    action, _states = model.predict(obs)\n",
    "    print(\"action: \" , action)\n",
    "    obs, rewards, dones, info = vec_env.step(action)\n",
    "    # obs_2_values.append(obs[0][2])\n",
    "    vec_env.render()"
   ]
  },
  {
   "cell_type": "code",
   "execution_count": 4,
   "metadata": {},
   "outputs": [
    {
     "ename": "EOFError",
     "evalue": "",
     "output_type": "error",
     "traceback": [
      "\u001b[1;31m---------------------------------------------------------------------------\u001b[0m",
      "\u001b[1;31mBrokenPipeError\u001b[0m                           Traceback (most recent call last)",
      "File \u001b[1;32md:\\anacoda3\\envs\\RL-env\\lib\\multiprocessing\\connection.py:312\u001b[0m, in \u001b[0;36mPipeConnection._recv_bytes\u001b[1;34m(self, maxsize)\u001b[0m\n\u001b[0;32m    311\u001b[0m \u001b[38;5;28;01mfinally\u001b[39;00m:\n\u001b[1;32m--> 312\u001b[0m     nread, err \u001b[38;5;241m=\u001b[39m \u001b[43mov\u001b[49m\u001b[38;5;241;43m.\u001b[39;49m\u001b[43mGetOverlappedResult\u001b[49m\u001b[43m(\u001b[49m\u001b[38;5;28;43;01mTrue\u001b[39;49;00m\u001b[43m)\u001b[49m\n\u001b[0;32m    313\u001b[0m     \u001b[38;5;28;01mif\u001b[39;00m err \u001b[38;5;241m==\u001b[39m \u001b[38;5;241m0\u001b[39m:\n",
      "\u001b[1;31mBrokenPipeError\u001b[0m: [WinError 109] The pipe has been ended",
      "\nDuring handling of the above exception, another exception occurred:\n",
      "\u001b[1;31mEOFError\u001b[0m                                  Traceback (most recent call last)",
      "Cell \u001b[1;32mIn[4], line 13\u001b[0m\n\u001b[0;32m     11\u001b[0m     vec_env\u001b[38;5;241m.\u001b[39mrender()\n\u001b[0;32m     12\u001b[0m     action \u001b[38;5;241m=\u001b[39m model\u001b[38;5;241m.\u001b[39mpredict(obs)\n\u001b[1;32m---> 13\u001b[0m     obs, reward, done, truncated, info \u001b[38;5;241m=\u001b[39m \u001b[43mvec_env\u001b[49m\u001b[38;5;241;43m.\u001b[39;49m\u001b[43mstep\u001b[49m\u001b[43m(\u001b[49m\u001b[43maction\u001b[49m\u001b[43m)\u001b[49m\n\u001b[0;32m     14\u001b[0m     score \u001b[38;5;241m+\u001b[39m\u001b[38;5;241m=\u001b[39m reward\n\u001b[0;32m     15\u001b[0m \u001b[38;5;66;03m# print('Episode:{} Score:{}'.format(episodes, score))\u001b[39;00m\n",
      "File \u001b[1;32md:\\anacoda3\\envs\\RL-env\\lib\\site-packages\\stable_baselines3\\common\\vec_env\\base_vec_env.py:206\u001b[0m, in \u001b[0;36mVecEnv.step\u001b[1;34m(self, actions)\u001b[0m\n\u001b[0;32m    199\u001b[0m \u001b[38;5;250m\u001b[39m\u001b[38;5;124;03m\"\"\"\u001b[39;00m\n\u001b[0;32m    200\u001b[0m \u001b[38;5;124;03mStep the environments with the given action\u001b[39;00m\n\u001b[0;32m    201\u001b[0m \n\u001b[0;32m    202\u001b[0m \u001b[38;5;124;03m:param actions: the action\u001b[39;00m\n\u001b[0;32m    203\u001b[0m \u001b[38;5;124;03m:return: observation, reward, done, information\u001b[39;00m\n\u001b[0;32m    204\u001b[0m \u001b[38;5;124;03m\"\"\"\u001b[39;00m\n\u001b[0;32m    205\u001b[0m \u001b[38;5;28mself\u001b[39m\u001b[38;5;241m.\u001b[39mstep_async(actions)\n\u001b[1;32m--> 206\u001b[0m \u001b[38;5;28;01mreturn\u001b[39;00m \u001b[38;5;28;43mself\u001b[39;49m\u001b[38;5;241;43m.\u001b[39;49m\u001b[43mstep_wait\u001b[49m\u001b[43m(\u001b[49m\u001b[43m)\u001b[49m\n",
      "File \u001b[1;32md:\\anacoda3\\envs\\RL-env\\lib\\site-packages\\stable_baselines3\\common\\vec_env\\vec_monitor.py:76\u001b[0m, in \u001b[0;36mVecMonitor.step_wait\u001b[1;34m(self)\u001b[0m\n\u001b[0;32m     75\u001b[0m \u001b[38;5;28;01mdef\u001b[39;00m \u001b[38;5;21mstep_wait\u001b[39m(\u001b[38;5;28mself\u001b[39m) \u001b[38;5;241m-\u001b[39m\u001b[38;5;241m>\u001b[39m VecEnvStepReturn:\n\u001b[1;32m---> 76\u001b[0m     obs, rewards, dones, infos \u001b[38;5;241m=\u001b[39m \u001b[38;5;28;43mself\u001b[39;49m\u001b[38;5;241;43m.\u001b[39;49m\u001b[43mvenv\u001b[49m\u001b[38;5;241;43m.\u001b[39;49m\u001b[43mstep_wait\u001b[49m\u001b[43m(\u001b[49m\u001b[43m)\u001b[49m\n\u001b[0;32m     77\u001b[0m     \u001b[38;5;28mself\u001b[39m\u001b[38;5;241m.\u001b[39mepisode_returns \u001b[38;5;241m+\u001b[39m\u001b[38;5;241m=\u001b[39m rewards\n\u001b[0;32m     78\u001b[0m     \u001b[38;5;28mself\u001b[39m\u001b[38;5;241m.\u001b[39mepisode_lengths \u001b[38;5;241m+\u001b[39m\u001b[38;5;241m=\u001b[39m \u001b[38;5;241m1\u001b[39m\n",
      "File \u001b[1;32md:\\anacoda3\\envs\\RL-env\\lib\\site-packages\\stable_baselines3\\common\\vec_env\\subproc_vec_env.py:129\u001b[0m, in \u001b[0;36mSubprocVecEnv.step_wait\u001b[1;34m(self)\u001b[0m\n\u001b[0;32m    128\u001b[0m \u001b[38;5;28;01mdef\u001b[39;00m \u001b[38;5;21mstep_wait\u001b[39m(\u001b[38;5;28mself\u001b[39m) \u001b[38;5;241m-\u001b[39m\u001b[38;5;241m>\u001b[39m VecEnvStepReturn:\n\u001b[1;32m--> 129\u001b[0m     results \u001b[38;5;241m=\u001b[39m [remote\u001b[38;5;241m.\u001b[39mrecv() \u001b[38;5;28;01mfor\u001b[39;00m remote \u001b[38;5;129;01min\u001b[39;00m \u001b[38;5;28mself\u001b[39m\u001b[38;5;241m.\u001b[39mremotes]\n\u001b[0;32m    130\u001b[0m     \u001b[38;5;28mself\u001b[39m\u001b[38;5;241m.\u001b[39mwaiting \u001b[38;5;241m=\u001b[39m \u001b[38;5;28;01mFalse\u001b[39;00m\n\u001b[0;32m    131\u001b[0m     obs, rews, dones, infos, \u001b[38;5;28mself\u001b[39m\u001b[38;5;241m.\u001b[39mreset_infos \u001b[38;5;241m=\u001b[39m \u001b[38;5;28mzip\u001b[39m(\u001b[38;5;241m*\u001b[39mresults)  \u001b[38;5;66;03m# type: ignore[assignment]\u001b[39;00m\n",
      "File \u001b[1;32md:\\anacoda3\\envs\\RL-env\\lib\\site-packages\\stable_baselines3\\common\\vec_env\\subproc_vec_env.py:129\u001b[0m, in \u001b[0;36m<listcomp>\u001b[1;34m(.0)\u001b[0m\n\u001b[0;32m    128\u001b[0m \u001b[38;5;28;01mdef\u001b[39;00m \u001b[38;5;21mstep_wait\u001b[39m(\u001b[38;5;28mself\u001b[39m) \u001b[38;5;241m-\u001b[39m\u001b[38;5;241m>\u001b[39m VecEnvStepReturn:\n\u001b[1;32m--> 129\u001b[0m     results \u001b[38;5;241m=\u001b[39m [\u001b[43mremote\u001b[49m\u001b[38;5;241;43m.\u001b[39;49m\u001b[43mrecv\u001b[49m\u001b[43m(\u001b[49m\u001b[43m)\u001b[49m \u001b[38;5;28;01mfor\u001b[39;00m remote \u001b[38;5;129;01min\u001b[39;00m \u001b[38;5;28mself\u001b[39m\u001b[38;5;241m.\u001b[39mremotes]\n\u001b[0;32m    130\u001b[0m     \u001b[38;5;28mself\u001b[39m\u001b[38;5;241m.\u001b[39mwaiting \u001b[38;5;241m=\u001b[39m \u001b[38;5;28;01mFalse\u001b[39;00m\n\u001b[0;32m    131\u001b[0m     obs, rews, dones, infos, \u001b[38;5;28mself\u001b[39m\u001b[38;5;241m.\u001b[39mreset_infos \u001b[38;5;241m=\u001b[39m \u001b[38;5;28mzip\u001b[39m(\u001b[38;5;241m*\u001b[39mresults)  \u001b[38;5;66;03m# type: ignore[assignment]\u001b[39;00m\n",
      "File \u001b[1;32md:\\anacoda3\\envs\\RL-env\\lib\\multiprocessing\\connection.py:250\u001b[0m, in \u001b[0;36m_ConnectionBase.recv\u001b[1;34m(self)\u001b[0m\n\u001b[0;32m    248\u001b[0m \u001b[38;5;28mself\u001b[39m\u001b[38;5;241m.\u001b[39m_check_closed()\n\u001b[0;32m    249\u001b[0m \u001b[38;5;28mself\u001b[39m\u001b[38;5;241m.\u001b[39m_check_readable()\n\u001b[1;32m--> 250\u001b[0m buf \u001b[38;5;241m=\u001b[39m \u001b[38;5;28;43mself\u001b[39;49m\u001b[38;5;241;43m.\u001b[39;49m\u001b[43m_recv_bytes\u001b[49m\u001b[43m(\u001b[49m\u001b[43m)\u001b[49m\n\u001b[0;32m    251\u001b[0m \u001b[38;5;28;01mreturn\u001b[39;00m _ForkingPickler\u001b[38;5;241m.\u001b[39mloads(buf\u001b[38;5;241m.\u001b[39mgetbuffer())\n",
      "File \u001b[1;32md:\\anacoda3\\envs\\RL-env\\lib\\multiprocessing\\connection.py:321\u001b[0m, in \u001b[0;36mPipeConnection._recv_bytes\u001b[1;34m(self, maxsize)\u001b[0m\n\u001b[0;32m    319\u001b[0m \u001b[38;5;28;01mexcept\u001b[39;00m \u001b[38;5;167;01mOSError\u001b[39;00m \u001b[38;5;28;01mas\u001b[39;00m e:\n\u001b[0;32m    320\u001b[0m     \u001b[38;5;28;01mif\u001b[39;00m e\u001b[38;5;241m.\u001b[39mwinerror \u001b[38;5;241m==\u001b[39m _winapi\u001b[38;5;241m.\u001b[39mERROR_BROKEN_PIPE:\n\u001b[1;32m--> 321\u001b[0m         \u001b[38;5;28;01mraise\u001b[39;00m \u001b[38;5;167;01mEOFError\u001b[39;00m\n\u001b[0;32m    322\u001b[0m     \u001b[38;5;28;01melse\u001b[39;00m:\n\u001b[0;32m    323\u001b[0m         \u001b[38;5;28;01mraise\u001b[39;00m\n",
      "\u001b[1;31mEOFError\u001b[0m: "
     ]
    }
   ],
   "source": [
    "vec_env = SubprocVecEnv([make_env(env_id, i, render_mode=\"human\") for i in range(num_cpu)])\n",
    "vec_env = VecMonitor(vec_env)\n",
    "\n",
    "episodes = 30\n",
    "for episodes in range(1, episodes+1):\n",
    "    obs = vec_env.reset()\n",
    "    done = [False, False, False, False]\n",
    "    score = 0\n",
    "\n",
    "    while not done[0]:\n",
    "        vec_env.render()\n",
    "        action = model.predict(obs)\n",
    "        obs, reward, done, truncated, info = vec_env.step(action)\n",
    "        score += reward\n",
    "    # print('Episode:{} Score:{}'.format(episodes, score))\n",
    "vec_env.close()"
   ]
  },
  {
   "cell_type": "code",
   "execution_count": 35,
   "metadata": {},
   "outputs": [
    {
     "data": {
      "text/plain": [
       "array([334])"
      ]
     },
     "execution_count": 35,
     "metadata": {},
     "output_type": "execute_result"
    }
   ],
   "source": [
    "vec_env.episode_lengths"
   ]
  },
  {
   "cell_type": "code",
   "execution_count": 36,
   "metadata": {},
   "outputs": [
    {
     "data": {
      "text/plain": [
       "44"
      ]
     },
     "execution_count": 36,
     "metadata": {},
     "output_type": "execute_result"
    }
   ],
   "source": [
    "vec_env.episode_count"
   ]
  },
  {
   "cell_type": "code",
   "execution_count": 2,
   "metadata": {},
   "outputs": [],
   "source": [
    "import os"
   ]
  },
  {
   "cell_type": "code",
   "execution_count": 3,
   "metadata": {},
   "outputs": [],
   "source": [
    "a = 3\n",
    "b = 5 \n",
    "log_dir = os.path.join('Training', 'Save Models', 'Best Models', 'PPO_ip_{}_{}k'.format(a, b))"
   ]
  },
  {
   "cell_type": "code",
   "execution_count": 4,
   "metadata": {},
   "outputs": [
    {
     "name": "stdout",
     "output_type": "stream",
     "text": [
      "Training\\Save Models\\Best Models\\PPO_ip_3_5k\n"
     ]
    }
   ],
   "source": [
    "print(log_dir)"
   ]
  },
  {
   "cell_type": "code",
   "execution_count": 37,
   "metadata": {},
   "outputs": [
    {
     "data": {
      "text/plain": [
       "array([63.820053], dtype=float32)"
      ]
     },
     "execution_count": 37,
     "metadata": {},
     "output_type": "execute_result"
    }
   ],
   "source": [
    "vec_env.episode_returns"
   ]
  },
  {
   "cell_type": "code",
   "execution_count": 70,
   "metadata": {},
   "outputs": [],
   "source": [
    "environment_name = 'CartPole-v1'\n",
    "env = gym.make(environment_name, render_mode=\"human\")\n",
    "\n",
    "episodes = 30\n",
    "for episodes in range(1, episodes+1):\n",
    "    obs = env.reset()\n",
    "    done = [False, False, False, False]\n",
    "    score = 0\n",
    "\n",
    "    while not done:\n",
    "        env.render()\n",
    "        action = env.action_space.sample()\n",
    "        n_state, reward, done, truncated, info = env.step(action)\n",
    "        print(n_state)\n",
    "        score += reward\n",
    "    # print('Episode:{} Score:{}'.format(episodes, score))\n",
    "env.close()"
   ]
  },
  {
   "cell_type": "code",
   "execution_count": null,
   "metadata": {},
   "outputs": [],
   "source": [
    "vec_env = SubprocVecEnv([make_env(env_id, i, render_mode=\"human\") for i in range(num_cpu)])\n",
    "vec_env = VecMonitor(vec_env)\n",
    "obs = vec_env.reset()\n",
    "obs_2_values = []\n",
    "for _ in range(100):\n",
    "    action, _states = model.predict(obs)\n",
    "    obs, rewards, dones, info = vec_env.step(action)\n",
    "    # obs_2_values.append(obs[0][2])\n",
    "    vec_env.render()\n",
    "    model.train()\n",
    "\n",
    "episodes = 30\n",
    "for episodes in range(1, episodes+1):\n",
    "    state = vec_env.reset()\n",
    "    done = False\n",
    "    score = 0\n",
    "\n",
    "    while not done:\n",
    "        env.render()\n",
    "        action = env.action_space.sample()\n",
    "        n_state, reward, done, truncated, info = env.step(action)\n",
    "        print(n_state)\n",
    "        score += reward\n",
    "    # print('Episode:{} Score:{}'.format(episodes, score))\n",
    "env.close()"
   ]
  },
  {
   "cell_type": "code",
   "execution_count": 3,
   "metadata": {},
   "outputs": [],
   "source": [
    "vec_env = SubprocVecEnv([make_env(env_id, i, render_mode=\"human\") for i in range(num_cpu)])\n",
    "vec_env = VecMonitor(vec_env)\n",
    "obs = vec_env.reset()\n",
    "obs_2_values = []\n",
    "for _ in range(100):\n",
    "    action, _states = model.predict(obs)\n",
    "    obs, rewards, dones, info = vec_env.step(action)\n",
    "    # obs_2_values.append(obs[0][2])\n",
    "    vec_env.render()\n",
    "    model.train()"
   ]
  },
  {
   "cell_type": "code",
   "execution_count": 5,
   "metadata": {},
   "outputs": [
    {
     "data": {
      "text/plain": [
       "array([100,  34, 100, 100])"
      ]
     },
     "execution_count": 5,
     "metadata": {},
     "output_type": "execute_result"
    }
   ],
   "source": [
    "vec_env.episode_lengths"
   ]
  },
  {
   "cell_type": "code",
   "execution_count": null,
   "metadata": {},
   "outputs": [],
   "source": [
    "env.get_episode_lengths()"
   ]
  },
  {
   "cell_type": "code",
   "execution_count": null,
   "metadata": {},
   "outputs": [],
   "source": [
    "vec_env(env_id = 0)"
   ]
  },
  {
   "cell_type": "code",
   "execution_count": null,
   "metadata": {},
   "outputs": [],
   "source": [
    "import matplotlib.pyplot as plt"
   ]
  },
  {
   "cell_type": "code",
   "execution_count": null,
   "metadata": {},
   "outputs": [],
   "source": [
    "obs_2_array = np.array(obs_2_values).T"
   ]
  },
  {
   "cell_type": "code",
   "execution_count": null,
   "metadata": {},
   "outputs": [],
   "source": [
    "obs_2_array[2]"
   ]
  },
  {
   "cell_type": "code",
   "execution_count": null,
   "metadata": {},
   "outputs": [],
   "source": [
    "plt.plot(obs_2_array[2])\n",
    "plt.xlabel('Steps')\n",
    "plt.ylabel('obs[2]')\n",
    "plt.title('Value of obs[2] over time')\n",
    "plt.show()"
   ]
  },
  {
   "cell_type": "code",
   "execution_count": null,
   "metadata": {},
   "outputs": [],
   "source": [
    "# env = gym.make(env_id, render_mode=\"human\")\n",
    "# # status = env.observation_space.shape[0]\n",
    "# actions = env.action_space.n\n",
    "\n",
    "# episodes = 1000\n",
    "# for episode in range(1, episodes+1):\n",
    "#     obs = env.reset()\n",
    "#     done = False\n",
    "#     score = 0\n",
    "\n",
    "\n",
    "#     while not done:\n",
    "#         env.render()\n",
    "#         action, _states = model.predict(obs)\n",
    "#         obs, reward, done, truncated, info = env.step(action)\n",
    "#         score += reward\n",
    "#     print('Episode:{} Score:{}'.format(episode, score))"
   ]
  },
  {
   "cell_type": "code",
   "execution_count": null,
   "metadata": {},
   "outputs": [],
   "source": [
    "class SaveOnBestTrainingRewardCallback(BaseCallback):\n",
    "    \"\"\"\n",
    "    Callback for saving a model (the check is done every ``check_freq`` steps)\n",
    "    based on the training reward (in practice, we recommend using ``EvalCallback``).\n",
    "\n",
    "    :param check_freq:\n",
    "    :param log_dir: Path to the folder where the model will be saved.\n",
    "      It must contains the file created by the ``Monitor`` wrapper.\n",
    "    :param verbose: Verbosity level: 0 for no output, 1 for info messages, 2 for debug messages\n",
    "    \"\"\"\n",
    "    def __init__(self, check_freq: int, log_dir: str, verbose: int = 1):\n",
    "        super().__init__(verbose)\n",
    "        self.check_freq = check_freq\n",
    "        self.log_dir = log_dir\n",
    "        self.save_path = os.path.join(log_dir, \"best_model\")\n",
    "        self.best_mean_reward = -np.inf\n",
    "\n",
    "    def _init_callback(self) -> None:\n",
    "        # Create folder if needed\n",
    "        if self.save_path is not None:\n",
    "            os.makedirs(self.save_path, exist_ok=True)\n",
    "\n",
    "    def _on_step(self) -> bool:\n",
    "        if self.n_calls % self.check_freq == 0:\n",
    "\n",
    "          # Retrieve training reward\n",
    "          x, y = ts2xy(load_results(self.log_dir), \"timesteps\")\n",
    "          if len(x) > 0:\n",
    "              # Mean training reward over the last 100 episodes\n",
    "              mean_reward = np.mean(y[-100:])\n",
    "              if self.verbose >= 1:\n",
    "                print(f\"Num timesteps: {self.num_timesteps}\")\n",
    "                print(f\"Best mean reward: {self.best_mean_reward:.2f} - Last mean reward per episode: {mean_reward:.2f}\")\n",
    "\n",
    "              # New best model, you could save the agent here\n",
    "              if mean_reward > self.best_mean_reward:\n",
    "                  self.best_mean_reward = mean_reward\n",
    "                  # Example for saving best model\n",
    "                  if self.verbose >= 1:\n",
    "                    print(f\"Saving new best model to {self.save_path}\")\n",
    "                  self.model.save(self.save_path)\n",
    "\n",
    "        return True\n",
    "\n",
    "# Create log dir\n",
    "log_dir = \"tmp/\"\n",
    "os.makedirs(log_dir, exist_ok=True)\n",
    "\n",
    "# Create and wrap the environment\n",
    "# env = gym.make(\"LunarLanderContinuous-v2\")\n",
    "# env = Monitor(env, log_dir)\n",
    "\n",
    "env_id = \"CartPole-v1\"\n",
    "num_cpu = 4  # Number of processes to use\n",
    "# Create and wrap the environment\n",
    "env = gym.make(env_id)\n",
    "env = Monitor(env, log_dir)\n",
    "\n",
    "\n",
    "# Add some action noise for exploration\n",
    "# n_actions = env.action_space.shape[-1]\n",
    "# action_noise = NormalActionNoise(mean=np.zeros(n_actions), sigma=0.1 * np.ones(n_actions))\n",
    "# Because we use parameter noise, we should use a MlpPolicy with layer normalization\n",
    "# model = TD3(\"MlpPolicy\", env, action_noise=action_noise, verbose=0)\n",
    "model = PPO(\"MlpPolicy\", env, verbose=0)\n",
    "# Create the callback: check every 1000 steps\n",
    "callback = SaveOnBestTrainingRewardCallback(check_freq=1000, log_dir=log_dir)\n",
    "# Train the agent\n",
    "timesteps = 1e5\n",
    "model.learn(total_timesteps=int(timesteps), callback=callback)\n",
    "\n",
    "plot_results([log_dir], timesteps, results_plotter.X_TIMESTEPS, \"TD3 LunarLander\")\n",
    "plt.show()"
   ]
  },
  {
   "cell_type": "code",
   "execution_count": null,
   "metadata": {},
   "outputs": [],
   "source": [
    "env = gym.make('CartPole-v1',render_mode=\"rgb_array\")\n",
    "status = env.observation_space.shape[0]\n",
    "actions = env.action_space.n"
   ]
  },
  {
   "cell_type": "code",
   "execution_count": null,
   "metadata": {},
   "outputs": [],
   "source": [
    "actions"
   ]
  },
  {
   "cell_type": "code",
   "execution_count": null,
   "metadata": {},
   "outputs": [],
   "source": [
    "episodes = 10\n",
    "for episode in range(1, episodes+1):\n",
    "    status = env.reset()\n",
    "    done = False\n",
    "    score = 0\n",
    "\n",
    "\n",
    "    while not done:\n",
    "        env.render()\n",
    "        action = random.choice([0,1])\n",
    "        observation, reward, done, truncated, info = env.step(action)\n",
    "        score += reward\n",
    "    print('Episode:{} Score:{}'.format(episode, score))"
   ]
  },
  {
   "cell_type": "code",
   "execution_count": null,
   "metadata": {},
   "outputs": [],
   "source": [
    "truncated"
   ]
  },
  {
   "cell_type": "code",
   "execution_count": null,
   "metadata": {},
   "outputs": [],
   "source": [
    "observation, info = env.reset(seed=42)\n",
    "\n",
    "for _ in range(1000):\n",
    "    env.render()\n",
    "    observation, reward, terminated, truncated, info = env.step(env.action_space.sample())\n",
    "\n",
    "    if terminated or truncated:\n",
    "        observation, info = env.reset()\n",
    "\n",
    "env.close()\n",
    "\n"
   ]
  }
 ],
 "metadata": {
  "kernelspec": {
   "display_name": "Python 3",
   "language": "python",
   "name": "python3"
  },
  "language_info": {
   "codemirror_mode": {
    "name": "ipython",
    "version": 3
   },
   "file_extension": ".py",
   "mimetype": "text/x-python",
   "name": "python",
   "nbconvert_exporter": "python",
   "pygments_lexer": "ipython3",
   "version": "3.8.15"
  }
 },
 "nbformat": 4,
 "nbformat_minor": 2
}
