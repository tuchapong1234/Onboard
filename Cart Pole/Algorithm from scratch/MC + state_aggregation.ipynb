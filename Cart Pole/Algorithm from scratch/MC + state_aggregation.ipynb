{
 "cells": [
  {
   "cell_type": "code",
   "execution_count": 1,
   "metadata": {},
   "outputs": [],
   "source": [
    "from __future__ import annotations\n",
    "\n",
    "from collections import defaultdict\n",
    "\n",
    "import matplotlib.pyplot as plt\n",
    "import numpy as np\n",
    "import seaborn as sns\n",
    "from matplotlib.patches import Patch\n",
    "from tqdm import tqdm\n",
    "import os\n",
    "\n",
    "import tensorflow as tf\n",
    "import json\n",
    "import time\n",
    "\n",
    "import gymnasium as gym"
   ]
  },
  {
   "cell_type": "markdown",
   "metadata": {},
   "source": [
    "# Sample Running CartPole-v1 [No Algorithm]"
   ]
  },
  {
   "cell_type": "code",
   "execution_count": null,
   "metadata": {},
   "outputs": [],
   "source": [
    "# environment_name = 'CartPole-v1'\n",
    "# env = gym.make(environment_name, render_mode=\"human\")\n",
    "\n",
    "# episodes = 30\n",
    "# for episodes in range(1, episodes+1):\n",
    "#     state = env.reset()\n",
    "#     done = False\n",
    "#     score = 0\n",
    "\n",
    "#     while not done:\n",
    "#         env.render()\n",
    "#         action = env.action_space.sample()\n",
    "#         n_state, reward, done, truncated, info = env.step(action)\n",
    "#         score += reward\n",
    "#     print('Episode:{} Score:{}'.format(episodes, score))\n",
    "# # env.close()"
   ]
  },
  {
   "cell_type": "code",
   "execution_count": 4,
   "metadata": {},
   "outputs": [],
   "source": [
    "# env.close()"
   ]
  },
  {
   "cell_type": "markdown",
   "metadata": {},
   "source": [
    "## Implementing Q-Learning"
   ]
  },
  {
   "cell_type": "code",
   "execution_count": 2,
   "metadata": {},
   "outputs": [],
   "source": [
    "class CartPoleAgent:\n",
    "    def __init__(\n",
    "        self,\n",
    "        learning_rate: float,\n",
    "        initial_epsilon: float,\n",
    "        epsilon_decay: float,\n",
    "        final_epsilon: float,\n",
    "        discount_factor: float = 0.95,\n",
    "    ):\n",
    "        \"\"\"Initialize a Reinforcement Learning agent with an empty dictionary\n",
    "        of state-action values (q_values), a learning rate and an epsilon.\n",
    "\n",
    "        Args:\n",
    "            learning_rate: The learning rate\n",
    "            initial_epsilon: The initial epsilon value\n",
    "            epsilon_decay: The decay for epsilon\n",
    "            final_epsilon: The final epsilon value\n",
    "            discount_factor: The discount factor for computing the Q-value\n",
    "        \"\"\"\n",
    "        self.q_values = defaultdict(lambda: np.zeros(env.action_space.n))\n",
    "        self.v_values = defaultdict(lambda: np.zeros(1))\n",
    "        self.v_policy = defaultdict(lambda: np.zeros(1))\n",
    "\n",
    "        self.N_q = defaultdict(lambda: np.zeros(env.action_space.n))\n",
    "        self.N_v = defaultdict(lambda: np.zeros(1))\n",
    "\n",
    "        self.lr = learning_rate\n",
    "        self.discount_factor = discount_factor\n",
    "\n",
    "        self.epsilon = initial_epsilon\n",
    "        self.epsilon_decay = epsilon_decay\n",
    "        self.final_epsilon = final_epsilon\n",
    "\n",
    "        self.training_error = []\n",
    "\n",
    "    def get_action(self, obs, policy) -> int:\n",
    "        \"\"\"\n",
    "        Returns the best action with probability (1 - epsilon)\n",
    "        otherwise a random action with probability epsilon to ensure exploration.\n",
    "        \"\"\"        \n",
    "        action_probs = policy[obs]\n",
    "        action = np.random.choice(len(action_probs), p=action_probs)\n",
    "        \n",
    "        return action\n",
    "\n",
    "    def update(\n",
    "        self,\n",
    "        obs: tuple[int, int, int, int],\n",
    "        action: int,\n",
    "        reward: float,\n",
    "        terminated: bool,\n",
    "        next_obs: tuple[int, int, int, int],\n",
    "        next_action: int,\n",
    "    ):\n",
    "        \"\"\"Updates the Q-value of an action.\"\"\"\n",
    "        # print(\"b\",obs)\n",
    "        # print(\"c\",next_obs)\n",
    "        future_q_value = (not terminated) * self.q_values[next_obs][next_action]\n",
    "        temporal_difference = (\n",
    "            reward + self.discount_factor * future_q_value - self.q_values[obs][action]\n",
    "        )\n",
    "\n",
    "        self.q_values[obs][action] = (\n",
    "            self.q_values[obs][action] + self.lr * temporal_difference\n",
    "        )\n",
    "        self.training_error.append(temporal_difference)\n",
    "\n",
    "    def decay_epsilon(self):\n",
    "        self.epsilon = max(self.final_epsilon, self.epsilon - self.epsilon_decay)\n",
    "\n",
    "    def save_model(self, path, filename):\n",
    "        # Save model parameters to a JSON file\n",
    "        model_params = {\n",
    "            'q_values': self.q_values.tolist(),\n",
    "            # 'biases': self.biases.tolist()\n",
    "        }\n",
    "        full_path = os.path.join(path, filename)\n",
    "        with open(full_path, 'w') as f:\n",
    "            json.dump(model_params, f)\n",
    "\n",
    "    def load_model(self, filename):\n",
    "        # Load model parameters from a JSON file\n",
    "        with open(filename, 'r') as f:\n",
    "            model_params = json.load(f)\n",
    "        self.weights = np.array(model_params['weights'])\n",
    "        self.biases = np.array(model_params['biases'])"
   ]
  },
  {
   "cell_type": "code",
   "execution_count": 25,
   "metadata": {},
   "outputs": [],
   "source": [
    "# def map_discrete_state(cs, reward):\n",
    "#     ds_vector = np.zeros(4)\n",
    "#     # Discretize Position\n",
    "#     # if abs(cs[0]) <= 2.3:\n",
    "#     #     ds_vector[0] = 0\n",
    "#     # elif abs(cs[0]) > 2.3:\n",
    "#     #     ds_vector[0] = 0\n",
    "#     #     reward -= 1\n",
    "\n",
    "#     if abs(cs[2]) <= 0.10:\n",
    "#         if cs[2] <= 0.0:\n",
    "#             state = 0\n",
    "#             # print(\"soft_lean_left\")\n",
    "#         elif cs[2] > 0.0:\n",
    "#             state = 1\n",
    "#             # print(\"soft_lean_right\")\n",
    "#         reward += 1\n",
    "\n",
    "#     elif abs(cs[2]) > 0.1 and abs(cs[2]) <= 0.2:\n",
    "#         if cs[2] <= 0.0:\n",
    "#             state = 2\n",
    "#             # print(\"hard_lean_left\")\n",
    "#         elif cs[2] > 0.0:\n",
    "#             state = 3\n",
    "#             # print(\"hard_lean_right\")\n",
    "#         reward += 0\n",
    "\n",
    "#     elif abs(cs[2]) > 0.2:\n",
    "#         state = 4\n",
    "#         # print(\"fallen\")\n",
    "#         reward -= 1\n",
    "    \n",
    "#     return state, reward"
   ]
  },
  {
   "cell_type": "code",
   "execution_count": 3,
   "metadata": {},
   "outputs": [],
   "source": [
    "def map_discrete_state(cs):\n",
    "    cs[0] = int(cs[0] * 10)\n",
    "    cs[1] = int(cs[1] * 10)\n",
    "    cs[2] = int(cs[2] * 10)\n",
    "    cs[3] = int(cs[3] * 10)\n",
    "    \n",
    "    ds = tuple(cs)\n",
    "    return ds"
   ]
  },
  {
   "cell_type": "markdown",
   "metadata": {},
   "source": [
    "### Reward Function"
   ]
  },
  {
   "cell_type": "code",
   "execution_count": 4,
   "metadata": {},
   "outputs": [],
   "source": [
    "def reward_function(ds, culmulative_reward, dt, targetAngle):\n",
    "\n",
    "    angle_fixrate = np.deg2rad(1.0)\n",
    "\n",
    "    if ds[0] < targetAngle:\n",
    "        targetAngle += angle_fixrate * dt\n",
    "    else:\n",
    "        targetAngle -= angle_fixrate * dt\n",
    "\n",
    "    error_cart_pos = 0 - abs(ds[0])\n",
    "\n",
    "    error_pole_pos = 0 - abs(ds[2])\n",
    "\n",
    "    time_reward = (culmulative_reward)/500\n",
    "    # print(\"time_reward\", time_reward)\n",
    "\n",
    "    reward = error_pole_pos \n",
    "\n",
    "    return reward"
   ]
  },
  {
   "cell_type": "markdown",
   "metadata": {},
   "source": [
    "## Train RL Model"
   ]
  },
  {
   "cell_type": "markdown",
   "metadata": {},
   "source": [
    "### Save log"
   ]
  },
  {
   "cell_type": "code",
   "execution_count": 153,
   "metadata": {},
   "outputs": [],
   "source": [
    "log_path = os.path.join('Training', 'Logs')"
   ]
  },
  {
   "cell_type": "code",
   "execution_count": 154,
   "metadata": {},
   "outputs": [
    {
     "name": "stdout",
     "output_type": "stream",
     "text": [
      "Training\\Logs\n"
     ]
    }
   ],
   "source": [
    "print(log_path)"
   ]
  },
  {
   "cell_type": "markdown",
   "metadata": {},
   "source": [
    "### Q-Learning"
   ]
  },
  {
   "cell_type": "code",
   "execution_count": 15,
   "metadata": {},
   "outputs": [],
   "source": [
    "environment_name = 'CartPole-v1'\n",
    "env = gym.make(environment_name, render_mode=\"human\")\n",
    "# env = gym.make(environment_name)"
   ]
  },
  {
   "cell_type": "code",
   "execution_count": 13,
   "metadata": {},
   "outputs": [],
   "source": [
    "# hyperparameters\n",
    "learning_rate = 0.01\n",
    "n_episodes = 100000\n",
    "start_epsilon = 1.0\n",
    "epsilon_decay = start_epsilon / (n_episodes / 2)  # reduce the exploration over time\n",
    "final_epsilon = 0.01\n",
    "\n",
    "discount = 1\n",
    "\n",
    "agent = CartPoleAgent(\n",
    "    learning_rate=learning_rate,\n",
    "    initial_epsilon=start_epsilon,\n",
    "    epsilon_decay=epsilon_decay,\n",
    "    final_epsilon=final_epsilon,\n",
    ")"
   ]
  },
  {
   "cell_type": "code",
   "execution_count": 11,
   "metadata": {},
   "outputs": [
    {
     "name": "stdout",
     "output_type": "stream",
     "text": [
      "2\n"
     ]
    }
   ],
   "source": [
    "print(len([2,2]))"
   ]
  },
  {
   "cell_type": "code",
   "execution_count": null,
   "metadata": {},
   "outputs": [],
   "source": [
    "env = gym.wrappers.RecordEpisodeStatistics(env, deque_size=n_episodes)\n",
    "\n",
    "dis_play_list =[]\n",
    "\n",
    "N = defaultdict(lambda: np.zeros(env.action_space.n))\n",
    "return_sum = defaultdict(lambda: np.zeros(env.action_space.n))\n",
    "\n",
    "policy = defaultdict(lambda: np.full(env.action_space.n, 0.5))\n",
    "\n",
    "w = defaultdict(lambda: np.zeros(1))\n",
    "\n",
    "for episode in tqdm(range(n_episodes)):\n",
    "    obs, info = env.reset()\n",
    "    done = False\n",
    "\n",
    "    score = 0\n",
    "    discrete_state = (0, 0, 0, 0)\n",
    "    discrete_reward = 0\n",
    "    new_discrete_state = [0, 0, 0, 0]\n",
    "    iteration = 0\n",
    "\n",
    "    prev_time = 0\n",
    "\n",
    "    targetAngle = 0\n",
    "\n",
    "    history_ls = []\n",
    "\n",
    "    # play one episode\n",
    "    while not done:\n",
    "        env.render()\n",
    "        # Choose a from s using policy derived from Q\n",
    "        discrete_state = map_discrete_state(obs)\n",
    "        action = agent.get_action(discrete_state, policy)\n",
    "\n",
    "        obs, reward, terminated, truncated, info = env.step(action)\n",
    "\n",
    "        new_discrete_state = map_discrete_state(obs)\n",
    "        score += reward\n",
    "\n",
    "        present_time = time.time()\n",
    "        delta_time = present_time - prev_time\n",
    "        prev_time = present_time\n",
    "\n",
    "        discrete_reward = reward_function(new_discrete_state, score, delta_time, targetAngle)\n",
    "\n",
    "        history_ls.append([discrete_state, action, discrete_reward])\n",
    "\n",
    "        # Choose next a from next s using policy derived from Q\n",
    "        # new_action = agent.get_action(new_discrete_state, policy)\n",
    "\n",
    "        # update the agent\n",
    "        # agent.update(discrete_state, action, reward, terminated, new_discrete_state, new_action)\n",
    "        \n",
    "\n",
    "        # update if the environment is done and the current obs\n",
    "        done = terminated or truncated\n",
    "        # print(\"terminated: \", terminated, \"truncated\", truncated)\n",
    "        # if done == True:\n",
    "        #     print(\"reward: \", discrete_reward)\n",
    "        # obs = next_obs\n",
    "    \n",
    "    G = 0\n",
    "    St = 0\n",
    "    At = 0\n",
    "    for i in reversed(range(len(history_ls)-1)):\n",
    "        St = history_ls[i][0]\n",
    "        At = history_ls[i][1]\n",
    "        G = discount*G + history_ls[i][2]\n",
    "\n",
    "        # Update state value function\n",
    "        agent.N_v[St] += 1\n",
    "        agent.v_values[St] = agent.v_values[St] + (G - agent.v_values[St])/agent.N_v[St]\n",
    "        w[St][At] = w[St] + agent.lr*(G - w[St])\n",
    "\n",
    "        # Update state-action value function\n",
    "        # agent.N_q[St][At] += 1\n",
    "        # agent.q_values[St][At] = agent.q_values[St][At] + (G - agent.q_values[St][At])/agent.N_q[St][At]\n",
    "\n",
    "        if agent.v_values[St] >= agent.v_policy[St]:\n",
    "            if i == 0:\n",
    "                agent.v_policy = np.copy(agent.v_values)\n",
    "\n",
    "                for j in reversed(range(len(history_ls)-1)):\n",
    "                    St = history_ls[j][0]\n",
    "                    At = history_ls[j][1]\n",
    "                    for i in range(len(policy[St])):\n",
    "                        if i == At:\n",
    "                            policy[St][i] = 1\n",
    "                        else:\n",
    "                            policy[St][i] = 0\n",
    "        else:\n",
    "            break\n",
    "        \n",
    "        \n",
    "\n",
    "    dis_play_list.append(score)\n",
    "\n",
    "    agent.decay_epsilon()"
   ]
  },
  {
   "cell_type": "code",
   "execution_count": 51,
   "metadata": {},
   "outputs": [],
   "source": [
    "env.close()"
   ]
  },
  {
   "cell_type": "code",
   "execution_count": 50,
   "metadata": {},
   "outputs": [
    {
     "data": {
      "text/plain": [
       "0"
      ]
     },
     "execution_count": 50,
     "metadata": {},
     "output_type": "execute_result"
    }
   ],
   "source": [
    "np.argmax(agent.q_values[0])"
   ]
  },
  {
   "cell_type": "code",
   "execution_count": 37,
   "metadata": {},
   "outputs": [
    {
     "name": "stdout",
     "output_type": "stream",
     "text": [
      "3\n",
      "2\n",
      "1\n",
      "0\n"
     ]
    }
   ],
   "source": [
    "def iterate_backward(my_list):\n",
    "    for i in reversed(range(len(my_list)-1)):\n",
    "        yield i\n",
    "\n",
    "# Example usage:\n",
    "my_list = [1, 2, 3, 1, 1]\n",
    "for item in iterate_backward(my_list):\n",
    "    print(item)"
   ]
  },
  {
   "cell_type": "code",
   "execution_count": 81,
   "metadata": {},
   "outputs": [],
   "source": [
    "env.close()"
   ]
  },
  {
   "cell_type": "code",
   "execution_count": 30,
   "metadata": {},
   "outputs": [
    {
     "data": {
      "text/plain": [
       "28519"
      ]
     },
     "execution_count": 30,
     "metadata": {},
     "output_type": "execute_result"
    }
   ],
   "source": [
    "len(agent.q_values)"
   ]
  },
  {
   "cell_type": "code",
   "execution_count": 42,
   "metadata": {},
   "outputs": [
    {
     "name": "stdout",
     "output_type": "stream",
     "text": [
      "[-102. -147. -177. ... -375. -154. -241.]\n"
     ]
    }
   ],
   "source": [
    "display_np = np.array(dis_play_list)\n",
    "print(display_np)"
   ]
  },
  {
   "cell_type": "code",
   "execution_count": 150,
   "metadata": {},
   "outputs": [
    {
     "data": {
      "image/png": "[encoded data removed]",
      "text/plain": [
       "<Figure size 640x480 with 1 Axes>"
      ]
     },
     "metadata": {},
     "output_type": "display_data"
    }
   ],
   "source": [
    "display_np = np.array(dis_play_list)\n",
    "\n",
    "t = np.linspace(1, 9999, 9999)\n",
    "\n",
    "plt.plot(t, display_np[90000:99999])\n",
    "plt.show() "
   ]
  },
  {
   "cell_type": "code",
   "execution_count": 68,
   "metadata": {},
   "outputs": [
    {
     "data": {
      "image/png": "[encoded data removed]",
      "text/plain": [
       "<Figure size 640x480 with 1 Axes>"
      ]
     },
     "metadata": {},
     "output_type": "display_data"
    }
   ],
   "source": [
    "display_np = np.array(dis_play_list)\n",
    "\n",
    "t = np.linspace(1, len(display_np), len(display_np))\n",
    "\n",
    "plt.plot(t, display_np)\n",
    "plt.show() "
   ]
  },
  {
   "cell_type": "code",
   "execution_count": 131,
   "metadata": {},
   "outputs": [
    {
     "data": {
      "image/png": "[encoded data removed]",
      "text/plain": [
       "<Figure size 640x480 with 1 Axes>"
      ]
     },
     "metadata": {},
     "output_type": "display_data"
    }
   ],
   "source": [
    "display_np = np.array(dis_play_list)\n",
    "\n",
    "t = np.linspace(1, len(agent.training_error), len(agent.training_error))\n",
    "\n",
    "plt.plot(t, agent.training_error)\n",
    "plt.show() "
   ]
  },
  {
   "cell_type": "markdown",
   "metadata": {},
   "source": [
    "#### Save Model"
   ]
  },
  {
   "cell_type": "code",
   "execution_count": null,
   "metadata": {},
   "outputs": [],
   "source": [
    "Q_Learning_Path = os.path.join('Training', 'Save Models', 'Q_Learning_Model_Cartpole')"
   ]
  },
  {
   "cell_type": "code",
   "execution_count": null,
   "metadata": {},
   "outputs": [],
   "source": [
    "agent.save"
   ]
  }
 ],
 "metadata": {
  "kernelspec": {
   "display_name": "Python 3",
   "language": "python",
   "name": "python3"
  },
  "language_info": {
   "codemirror_mode": {
    "name": "ipython",
    "version": 3
   },
   "file_extension": ".py",
   "mimetype": "text/x-python",
   "name": "python",
   "nbconvert_exporter": "python",
   "pygments_lexer": "ipython3",
   "version": "3.11.7"
  }
 },
 "nbformat": 4,
 "nbformat_minor": 2
}
