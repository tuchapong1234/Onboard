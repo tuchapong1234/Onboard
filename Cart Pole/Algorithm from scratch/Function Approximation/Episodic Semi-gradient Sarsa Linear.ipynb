{
 "cells": [
  {
   "cell_type": "code",
   "execution_count": 1,
   "metadata": {},
   "outputs": [],
   "source": [
    "import numpy as np\n",
    "import pandas as pd\n",
    "\n",
    "from tqdm import tqdm\n",
    "import os\n",
    "from hashlib import sha256\n",
    "from itertools import count, product\n",
    "from typing import Tuple, List\n",
    "\n",
    "from __future__ import annotations\n",
    "\n",
    "from collections import defaultdict\n",
    "\n",
    "import matplotlib.pyplot as plt\n",
    "import seaborn as sns\n",
    "from matplotlib.patches import Patch\n",
    "\n",
    "import tensorflow as tf\n",
    "import json\n",
    "import time\n",
    "\n",
    "import gymnasium as gym"
   ]
  },
  {
   "cell_type": "code",
   "execution_count": 2,
   "metadata": {},
   "outputs": [],
   "source": [
    "#initialize\n",
    "action_ls = [0, 1]\n",
    "num_of_action = 2\n",
    "num_of_observation = 4\n",
    "w = np.zeros((num_of_observation, num_of_action))"
   ]
  },
  {
   "cell_type": "code",
   "execution_count": 3,
   "metadata": {},
   "outputs": [],
   "source": [
    "def q(obs, a: int) -> float:\n",
    "        \"\"\"Returns the linearly-estimated Q-value for a given state and action.\"\"\"\n",
    "        # print(w[:, a].dot(obs))\n",
    "        return w[:, a].dot(obs)"
   ]
  },
  {
   "cell_type": "code",
   "execution_count": 4,
   "metadata": {},
   "outputs": [],
   "source": [
    "def select_action(obs):\n",
    "    \"\"\"Selects an action using epsilon-greedy.\"\"\"\n",
    "    if np.random.uniform() < epsilon:\n",
    "        return np.random.choice(action_ls)\n",
    "    else:\n",
    "        return max(action_ls, key=lambda a: q(obs, a))"
   ]
  },
  {
   "cell_type": "code",
   "execution_count": 5,
   "metadata": {},
   "outputs": [],
   "source": [
    "def map_discrete_state(cs):\n",
    "    cs[0] = int(cs[0] * 10)\n",
    "    cs[1] = int(cs[1] * 10)\n",
    "    cs[2] = int(cs[2] * 10)\n",
    "    cs[3] = int(cs[3] * 10)\n",
    "    \n",
    "    ds = tuple(cs)\n",
    "    return ds"
   ]
  },
  {
   "cell_type": "code",
   "execution_count": 6,
   "metadata": {},
   "outputs": [],
   "source": [
    "def reward_function(ds, culmulative_reward, dt, targetAngle, prev_agent_pos, terminated, top_botom_penalty):\n",
    "\n",
    "    angle_fixrate = np.deg2rad(1.0)\n",
    "\n",
    "    if ds[0] < targetAngle:\n",
    "        targetAngle += angle_fixrate * dt\n",
    "    else:\n",
    "        targetAngle -= angle_fixrate * dt\n",
    "\n",
    "    error_cart_pos = abs(ds[0])\n",
    "\n",
    "    error_pole_pos = abs(ds[2])\n",
    "\n",
    "    cart_pos = ds[0]\n",
    "    pole_pos = ds[2]*100\n",
    "    pole_vel = ds[3]*1.2\n",
    "\n",
    "    agent_pos = -(cart_pos**2 + pole_pos**2 + pole_vel**2)  \n",
    "\n",
    "    if error_pole_pos < (90 * 2 * np.pi / 360):\n",
    "        top_botom_penalty = 10000\n",
    "    else:\n",
    "        top_botom_penalty = -10000\n",
    "\n",
    "    delta_agent_pos = agent_pos - prev_agent_pos\n",
    "\n",
    "    # time_reward = (culmulative_reward)/500\n",
    "    # print(\"time_reward\", time_reward)\n",
    "\n",
    "    if terminated:\n",
    "        termination_penalty = -100000000000\n",
    "    else:\n",
    "        termination_penalty = 0\n",
    "\n",
    "    reward = delta_agent_pos  #error_pole_pos  + error_cart_pos/10 \n",
    "\n",
    "    return reward, error_cart_pos, error_pole_pos, agent_pos, top_botom_penalty"
   ]
  },
  {
   "cell_type": "code",
   "execution_count": 7,
   "metadata": {},
   "outputs": [],
   "source": [
    "environment_name = 'CartPole-v1'\n",
    "# env = gym.make(environment_name, render_mode=\"human\")\n",
    "env = gym.make(environment_name)"
   ]
  },
  {
   "cell_type": "code",
   "execution_count": 8,
   "metadata": {},
   "outputs": [],
   "source": [
    "# hyperparameters\n",
    "learning_rate = 0.2 #0.01\n",
    "n_episodes = 10000\n",
    "start_epsilon = 1.0\n",
    "epsilon_decay = start_epsilon / (n_episodes / 2)  # reduce the exploration over time\n",
    "final_epsilon = 0.001\n",
    "discount = 0.95\n",
    "\n",
    "epsilon = start_epsilon\n",
    "\n",
    "# agent = CartPoleAgent(\n",
    "#     learning_rate=learning_rate,\n",
    "#     initial_epsilon=start_epsilon,\n",
    "#     epsilon_decay=epsilon_decay,\n",
    "#     final_epsilon=final_epsilon,\n",
    "# )"
   ]
  },
  {
   "cell_type": "code",
   "execution_count": 9,
   "metadata": {},
   "outputs": [
    {
     "name": "stderr",
     "output_type": "stream",
     "text": [
      "  0%|          | 0/10000 [00:00<?, ?it/s]d:\\anacoda3\\Lib\\site-packages\\gymnasium\\envs\\classic_control\\cartpole.py:215: UserWarning: \u001b[33mWARN: You are calling render method without specifying any render mode. You can specify the render_mode at initialization, e.g. gym.make(\"CartPole-v1\", render_mode=\"rgb_array\")\u001b[0m\n",
      "  gym.logger.warn(\n",
      "100%|██████████| 10000/10000 [00:25<00:00, 399.17it/s]\n"
     ]
    }
   ],
   "source": [
    "env = gym.wrappers.RecordEpisodeStatistics(env, deque_size=n_episodes)\n",
    "\n",
    "dis_play_list =[]\n",
    "\n",
    "for episode in tqdm(range(n_episodes)):\n",
    "    obs, info = env.reset()\n",
    "    done = False\n",
    "\n",
    "    score = 0\n",
    "    discrete_state = (0, 0, 0, 0)\n",
    "    discrete_reward = 0\n",
    "    new_discrete_state = [0, 0, 0, 0]\n",
    "    iteration = 0\n",
    "    \n",
    "    prev_agent_pos = 0\n",
    "\n",
    "    top_botom_penalty = 0\n",
    "\n",
    "    prev_time = 0\n",
    "\n",
    "    targetAngle = 0\n",
    "\n",
    "    # Choose a from s using policy derived from Q\n",
    "    # action = agent.get_action(discrete_state)\n",
    "    action = select_action(obs)\n",
    "\n",
    "    # play one episode\n",
    "    while not done:\n",
    "        env.render()\n",
    "        # action = agent.get_action(discrete_state) #obs\n",
    "        next_obs, reward, terminated, truncated, info = env.step(action)\n",
    "        # print(reward)\n",
    "        # if terminated:\n",
    "        #     reward = - 10\n",
    "\n",
    "        done = terminated or truncated\n",
    "\n",
    "        score += reward\n",
    "\n",
    "        reward, error_cart_pos, error_pole_pos, prev_agent_pos, top_botom_penalty = reward_function(next_obs, score, 0, targetAngle, prev_agent_pos, terminated, top_botom_penalty)\n",
    "\n",
    "        if done:\n",
    "            w[:, action] += (\n",
    "                learning_rate * (reward - q(obs, action)) * obs\n",
    "            )\n",
    "        else:\n",
    "            next_action = select_action(next_obs)\n",
    "            w[:, action] += (\n",
    "                learning_rate * (reward + discount * q(next_obs, next_action) - q(obs, action)) * obs\n",
    "            )\n",
    "\n",
    "            obs = next_obs\n",
    "            action = next_action\n",
    "\n",
    "        \n",
    "\n",
    "    dis_play_list.append(score)\n",
    "\n",
    "    epsilon = max(final_epsilon, epsilon - epsilon_decay)"
   ]
  },
  {
   "cell_type": "code",
   "execution_count": 10,
   "metadata": {},
   "outputs": [],
   "source": [
    "env.close()"
   ]
  },
  {
   "cell_type": "code",
   "execution_count": 11,
   "metadata": {},
   "outputs": [
    {
     "data": {
      "image/png": "[encoded data removed]",
      "text/plain": [
       "<Figure size 640x480 with 1 Axes>"
      ]
     },
     "metadata": {},
     "output_type": "display_data"
    }
   ],
   "source": [
    "display_np = np.array(dis_play_list)\n",
    "\n",
    "t = np.linspace(1, len(display_np), len(display_np))\n",
    "\n",
    "plt.plot(t, display_np)\n",
    "plt.show() "
   ]
  }
 ],
 "metadata": {
  "kernelspec": {
   "display_name": "Python 3",
   "language": "python",
   "name": "python3"
  },
  "language_info": {
   "codemirror_mode": {
    "name": "ipython",
    "version": 3
   },
   "file_extension": ".py",
   "mimetype": "text/x-python",
   "name": "python",
   "nbconvert_exporter": "python",
   "pygments_lexer": "ipython3",
   "version": "3.11.5"
  }
 },
 "nbformat": 4,
 "nbformat_minor": 2
}
