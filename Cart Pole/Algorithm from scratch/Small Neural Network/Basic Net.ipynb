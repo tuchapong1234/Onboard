{
 "cells": [
  {
   "cell_type": "code",
   "execution_count": 1,
   "metadata": {},
   "outputs": [],
   "source": [
    "import numpy as np\n",
    "class BasicNet:\n",
    "    def __init__(self, input_size, hidden_size, output_size):\n",
    "        self.input_layer = np.random.normal(0, 10., size=(input_size, hidden_size))\n",
    "        self.output_layer = np.random.normal(0, 10., size=(hidden_size, output_size))\n",
    "    def __call__(self, data):\n",
    "        hidden = self.relu(np.matmul(data, self.input_layer))\n",
    "        return np.matmul(hidden, self.output_layer)\n",
    "    @staticmethod\n",
    "    def relu(data):\n",
    "        return np.maximum(data, 0, data)"
   ]
  },
  {
   "cell_type": "code",
   "execution_count": 15,
   "metadata": {},
   "outputs": [
    {
     "name": "stdout",
     "output_type": "stream",
     "text": [
      "Achieved the max score after 72 searches\n"
     ]
    }
   ],
   "source": [
    "def play(model, env):\n",
    "    state, info = env.reset()\n",
    "    done = False\n",
    "    score = 0.\n",
    "    while not done:\n",
    "        env.render()\n",
    "        actions = model(state)\n",
    "        action = np.argmax(actions)\n",
    "        state, reward, terminated, truncated, _ = env.step(action)\n",
    "        score += reward\n",
    "        done = terminated or truncated\n",
    "    return score\n",
    "import gymnasium as gym\n",
    "environment_name = 'CartPole-v1'\n",
    "env = gym.make(environment_name)\n",
    "for iteration in range(10000):\n",
    "    model = BasicNet(4, 100, 2)\n",
    "    score = play(model, env)\n",
    "    if score == 500:\n",
    "        print(\"Achieved the max score after {} searches\".format(iteration))\n",
    "        break"
   ]
  },
  {
   "cell_type": "code",
   "execution_count": 18,
   "metadata": {},
   "outputs": [
    {
     "name": "stdout",
     "output_type": "stream",
     "text": [
      "Achieved the max score after 4 searches\n"
     ]
    }
   ],
   "source": [
    "environment_name = 'CartPole-v1'\n",
    "env = gym.make(environment_name, render_mode=\"human\")\n",
    "for iteration in range(10000):\n",
    "    score = play(model, env)\n",
    "    if score == 500:\n",
    "        print(\"Achieved the max score after {} searches\".format(iteration))\n",
    "        break"
   ]
  },
  {
   "cell_type": "code",
   "execution_count": 4,
   "metadata": {},
   "outputs": [],
   "source": [
    "env.close()"
   ]
  },
  {
   "cell_type": "code",
   "execution_count": 5,
   "metadata": {},
   "outputs": [],
   "source": [
    "reward = [0,1,2,3]"
   ]
  },
  {
   "cell_type": "code",
   "execution_count": 6,
   "metadata": {},
   "outputs": [
    {
     "data": {
      "text/plain": [
       "[2, 3]"
      ]
     },
     "execution_count": 6,
     "metadata": {},
     "output_type": "execute_result"
    }
   ],
   "source": [
    "reward[2:]"
   ]
  },
  {
   "cell_type": "code",
   "execution_count": 7,
   "metadata": {},
   "outputs": [],
   "source": [
    "action = [-1, 0, 1]"
   ]
  },
  {
   "cell_type": "code",
   "execution_count": 8,
   "metadata": {},
   "outputs": [
    {
     "ename": "NameError",
     "evalue": "name 'action_a' is not defined",
     "output_type": "error",
     "traceback": [
      "\u001b[1;31m---------------------------------------------------------------------------\u001b[0m",
      "\u001b[1;31mNameError\u001b[0m                                 Traceback (most recent call last)",
      "Cell \u001b[1;32mIn[8], line 1\u001b[0m\n\u001b[1;32m----> 1\u001b[0m np\u001b[38;5;241m.\u001b[39mrandom\u001b[38;5;241m.\u001b[39mchoice(action_a)\n",
      "\u001b[1;31mNameError\u001b[0m: name 'action_a' is not defined"
     ]
    }
   ],
   "source": [
    "np.random.choice(action_a)"
   ]
  },
  {
   "cell_type": "code",
   "execution_count": null,
   "metadata": {},
   "outputs": [
    {
     "ename": "NameError",
     "evalue": "name 'action' is not defined",
     "output_type": "error",
     "traceback": [
      "\u001b[1;31m---------------------------------------------------------------------------\u001b[0m",
      "\u001b[1;31mNameError\u001b[0m                                 Traceback (most recent call last)",
      "Cell \u001b[1;32mIn[9], line 1\u001b[0m\n\u001b[1;32m----> 1\u001b[0m \u001b[38;5;28mmax\u001b[39m(action, key\u001b[38;5;241m=\u001b[39m\u001b[38;5;28;01mlambda\u001b[39;00m a: q(vel, pos, a))\n",
      "\u001b[1;31mNameError\u001b[0m: name 'action' is not defined"
     ]
    }
   ],
   "source": [
    "max(action, key=lambda a: q(vel, pos, a))"
   ]
  }
 ],
 "metadata": {
  "kernelspec": {
   "display_name": "Python 3",
   "language": "python",
   "name": "python3"
  },
  "language_info": {
   "codemirror_mode": {
    "name": "ipython",
    "version": 3
   },
   "file_extension": ".py",
   "mimetype": "text/x-python",
   "name": "python",
   "nbconvert_exporter": "python",
   "pygments_lexer": "ipython3",
   "version": "3.11.5"
  }
 },
 "nbformat": 4,
 "nbformat_minor": 2
}
